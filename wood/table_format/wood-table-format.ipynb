{
 "cells": [
  {
   "cell_type": "code",
   "execution_count": 1,
   "id": "31f92e43",
   "metadata": {},
   "outputs": [],
   "source": [
    "import numpy as np\n",
    "import pandas as pd\n",
    "import json\n",
    "import os\n",
    "import requests\n",
    "\n",
    "import sys\n",
    "sys.path.insert(0, \"/Users/bilyanavencheva/Desktop/Side projects/DataForGood/wood\")\n",
    "\n",
    "from settings import GLOBAL_NAME_DICT, start_urls_dict, dp_name_dict\n",
    "from functions import *\n",
    "import scrapy\n",
    "from datetime import datetime\n",
    "\n",
    "from scrapy.crawler import CrawlerProcess\n",
    "from scrapy.utils.log import configure_logging\n",
    "import logging\n",
    "from imp import reload\n",
    "reload(logging)\n",
    "\n",
    "from selenium import webdriver\n",
    "from selenium.webdriver.support.ui import WebDriverWait\n",
    "from selenium.webdriver.common.by import By\n",
    "from selenium.webdriver.support import expected_conditions as EC\n",
    "\n",
    "from selenium.webdriver.common.action_chains import ActionChains\n",
    "from selenium.webdriver.chrome.options import Options\n",
    "import time\n",
    "\n",
    "#3 to do: checks on clean data: final >>> initial; final<initial; first place but no first price, second place not second price\n",
    "##to do: protocols: how to extract a table, somwhat difficult with regex expression \n",
    "\n",
    "# import tkinter\n",
    "# import camelot\n",
    "# import logging\n",
    "# logger = logging.getLogger()\n",
    "# logger.setLevel(logging.CRITICAL)\n",
    "\n",
    "# name = '/Users/bilyanavencheva/Desktop/Side projects/DataForGood/wood/table_format/exports/protocols/Protokol+8-1-2023.pdf'\n",
    "\n",
    "# abc = camelot.read_pdf(name)   #address of file location\n",
    " \n",
    "# print(abc[0].df)\n",
    "#reads table from pdf file\n",
    "# df = wrapper.read_pdf(name,pages=\"all\") #address of pdf file\n",
    "# print(tabulate(df))\n",
    "#from ctypes.util import find_library\n",
    "#find_library(\"gs\")\n",
    "\n",
    "#---------------------------------------------\n",
    "\n",
    "filename = f'{os.path.join(os.getcwd())}/logging.txt'\n",
    "logging.basicConfig(filename=filename,\n",
    "                    filemode='a',\n",
    "#                     encoding='utf-8',\n",
    "                    format='%(asctime)s,%(msecs)d %(name)s %(levelname)s %(message)s',\n",
    "                    datefmt='%H:%M:%S',\n",
    "                    level=logging.DEBUG)\n",
    "\n",
    "\n",
    "      \n",
    "        "
   ]
  },
  {
   "cell_type": "code",
   "execution_count": 2,
   "id": "0c1eb249",
   "metadata": {},
   "outputs": [],
   "source": [
    "def define_winners(string):\n",
    "    if string=='':\n",
    "        return [np.nan]*4\n",
    "    \n",
    "    elif '1.' in string:\n",
    "        spots=string.split('\\n2.')\n",
    "        win1 = spots[0].split(' - ')\n",
    "        if len(win1)>2:\n",
    "            price1=win1[-1]\n",
    "            win1=win1[0] +' - '+ win1[1]\n",
    "        else:\n",
    "            price1=win1[-1]\n",
    "            win1=win1[0]\n",
    "        try:\n",
    "            win2=spots[1].split(' - ')\n",
    "            if len(win2)>2:\n",
    "                price2=win2[-1]\n",
    "                win2=win2[0] +' - '+ win2[1] \n",
    "            else:\n",
    "                price2=win2[-1]\n",
    "                win2=win2[0]\n",
    "        except:\n",
    "            win2=np.nan\n",
    "            price2=np.nan\n",
    "            \n",
    "        return [win1,price1,win2,price2]\n",
    "\n",
    "def crawler_table_page(url,load_all):\n",
    "    logging.info(f'......Preparing page for crawl: {url}; loading all: {load_all}')\n",
    "    \n",
    "    customOption = Options()\n",
    "    customOption.add_argument(\"--headless\")\n",
    "    driver = webdriver.Chrome(executable_path = r'/users/bilyanavencheva/Applications/chromedriver'\n",
    "                                  , options = customOption)\n",
    "\n",
    "    driver.get(url)\n",
    "    string='//*[@id=\"pub-menu\"]/li[2]/a'\n",
    "    l=driver.find_element(\"xpath\",string)\n",
    "    driver.execute_script(\"arguments[0].click();\", l)\n",
    "    \n",
    "    if load_all is True:\n",
    "        while True:\n",
    "            try:\n",
    "                time.sleep(5)\n",
    "                ActionChains(driver).move_to_element(driver.find_element(By.XPATH,\"//*[@id='more']\")).perform()\n",
    "\n",
    "                if driver.find_element(By.XPATH,\"//*[@id='more']\").is_enabled():\n",
    "                    driver.find_element(By.XPATH,\"//*[@id='more']\").click()\n",
    "                else:\n",
    "                    driver.refresh()\n",
    "            except Exception as e:\n",
    "                print(f'{e}')\n",
    "                break\n",
    "            continue  \n",
    "    else:\n",
    "        pass\n",
    "    \n",
    "    time.sleep(5)\n",
    "    \n",
    "    logging.info(f'......Start of crawl: {url}; loading all: {load_all}')\n",
    "    \n",
    "    x_path='//*[@data-id]'\n",
    "    all_auctions=driver.find_elements(By.XPATH,x_path)\n",
    "    _dict_initial={}\n",
    "    count=1\n",
    "    for auction in all_auctions:\n",
    "        cols = auction.find_elements(By.XPATH, \"./*[name()='th' or name()='td']\")\n",
    "        temp = []\n",
    "        for col in cols:\n",
    "            if \"Детайли\" not in col.text:\n",
    "                temp.append(col.text.strip())\n",
    "            else:\n",
    "                try:\n",
    "                    temp.append(col.find_element(By.XPATH,'./a').get_attribute('href'))\n",
    "                except Exception as e:\n",
    "                    temp.append(e)\n",
    "\n",
    "        _dict_initial[count] = temp\n",
    "        \n",
    "        count+=1\n",
    "    \n",
    "    driver.quit()\n",
    "    \n",
    "    columns=['Tърг№','Вид тръжна процедурa','ДГС/ДЛС','ДП','Обект№','Дървесен вид','Едра',\n",
    "     'Средна', 'Дребна','Дърва за огрев','ОЗМ','Общо','Начална цена','Втора дата','Класиране','url']  #Втора дата - Дата на провеждане\n",
    "    \n",
    "    assert len(columns) == len(_dict_initial[1])\n",
    "    \n",
    "    list_all=[]\n",
    "    for k,v in _dict_initial.items():\n",
    "        _temp = {}\n",
    "        for i, column in enumerate(v):\n",
    "            _temp[columns[i]]=column.strip()\n",
    "            \n",
    "        _temp['ДП']=dp_name_dict[dp_name]\n",
    "        _temp['други коментари'] = np.nan\n",
    "        _temp['Първо място']=define_winners(string=_temp['Класиране'])[0]\n",
    "        _temp['Първа цена']=define_winners(string=_temp['Класиране'])[1]\n",
    "        _temp['Второ място']=define_winners(string=_temp['Класиране'])[2]\n",
    "        _temp['Втора цена']=define_winners(string=_temp['Класиране'])[3]\n",
    "        \n",
    "        list_all.append(_temp)\n",
    "        \n",
    "    #this script creates duplicate entries for some reason, we need to drop them\n",
    "    list_all_new = [dict(t) for t in {tuple(d.items()) for d in list_all}]\n",
    "    \n",
    "    json.dump(list_all, open(f\"exports/archive/export_{GLOBAL_NAME}_{datetime.now()}.json\",\"w\"))\n",
    "    logging.info(f'...... # of auctions crawled: {len(list_all_new)}')\n",
    "    \n",
    "    return list_all_new\n",
    "\n",
    "def combine_all_table_data(PATH,type_,GLOBAL_NAME):\n",
    "    latest_file, data = get_latest_file(PATH=PATH,type_=type_,aux=f'export_{GLOBAL_NAME}')\n",
    "    df=pd.DataFrame(data)\n",
    "    \n",
    "    latest_file,data =get_latest_file(PATH=PATH,type_=type_,aux=f'export_detailed_{GLOBAL_NAME}')\n",
    "    detailed_df=pd.DataFrame(data)\n",
    "    \n",
    "        \n",
    "    for col in ['Tърг№','ДГС/ДЛС','Обект№','url']:\n",
    "        for _df_ in [df,detailed_df]:\n",
    "            _df_[col] = _df_[col].apply(lambda x:x.strip())\n",
    "        \n",
    "    data=df.merge(detailed_df, how='left',on=['Tърг№','ДГС/ДЛС','Обект№','url'])\n",
    "    \n",
    "    data['dumm'] = data['предмет'].apply(lambda x: 0 if x in ['Продажба на прогнозни количества'\n",
    "                                                              ,'Отдаване на дървесина на корен'\n",
    "                                                              ,'Продажба на действително добити количества дървесина от склад'] else 1)\n",
    "    \n",
    "    if len(data[data['dumm']==1]) != 0:\n",
    "        print(\"ERROR: some columns were not matched\")\n",
    "        print(data[data['dumm']==1]['url'])\n",
    "    \n",
    "        \n",
    "    return data\n",
    "\n"
   ]
  },
  {
   "cell_type": "code",
   "execution_count": 3,
   "id": "657937b6",
   "metadata": {},
   "outputs": [],
   "source": [
    "\n",
    "\n",
    "\n",
    "dp_name='sidp'\n",
    "GLOBAL_NAME = GLOBAL_NAME_DICT[dp_name]\n",
    "\n",
    "allowed_domains = ['sale.uslugi.io']\n",
    "start_urls = [start_urls_dict[dp_name]]\n",
    "base_url = start_urls_dict[dp_name]\n",
    "\n",
    "# spider Class\n",
    "class WoodSpider(scrapy.Spider):\n",
    "    name = 'spider'\n",
    "    allowed_domains = allowed_domains\n",
    "    start_urls = start_urls\n",
    "    base_url = base_url\n",
    "    \n",
    "    custom_settings = {\n",
    "        'FEEDS': {\n",
    "            f'exports/archive/export_detailed_{GLOBAL_NAME}_{datetime.now()}.json': {\n",
    "                'format': 'json',\n",
    "                'overwrite': True\n",
    "            }\n",
    "        }\n",
    "    }\n",
    "    \n",
    "    \n",
    "    def parse(self, response):\n",
    "        logging.info(f'Start Spider Crawl for {start_urls}')\n",
    "        print(f'Start Spider Crawl for {start_urls}')\n",
    "        \n",
    "        if len(extracted_urls)>0:\n",
    "            logging.info(f'Extracting data from #: {len(extracted_urls)} files')\n",
    "            \n",
    "            for auction_url in extracted_urls:\n",
    "                yield scrapy.Request(auction_url, callback=self.parse_auction)\n",
    "\n",
    "        else:\n",
    "            pass\n",
    "    \n",
    "    def parse_auction(self,response):\n",
    "        print('Parse auction....', response.url) \n",
    "        logging.info(f'Parse auction.... {response.url}')\n",
    "        _dict = {}\n",
    "        _dict['url'] = response.url\n",
    "        x_path=\"//*[@class='auct-title']/h4/text()\"\n",
    "        contents=response.xpath(x_path).extract()\n",
    "        if len(contents)!=1:\n",
    "            logging.warn(f'Error, invalid input {response}: {x_path} ---> {contents}')\n",
    "            print(f'Error, invalid input {response}: {x_path} ---> {contents}')\n",
    "        \n",
    "        _dict['Tърг№'] = contents[0].split(' - ')[0].split(' ')[-1]\n",
    "        _dict['ДГС/ДЛС'] = contents[0].split(' - ')[-1]\n",
    "        \n",
    "        x_path=\"//*[@class='auct-title']/h5/text()\"\n",
    "        contents=response.xpath(x_path).extract()\n",
    "        \n",
    "        if len(contents)!=1:\n",
    "            logging.warn(f'Error, invalid input {response}: {x_path} ---> {contents}')\n",
    "            print(f'Error, invalid input {response}: {x_path} ---> {contents}')\n",
    "        _dict['Обект№'] = contents[0].split('No.')[-1].strip()\n",
    "        \n",
    "        x_path=\"//*[@class='auct-title']/p/text()\"\n",
    "        contents=response.xpath(x_path).extract()\n",
    "        try:\n",
    "            _dict['Първа дата'] = contents[0].split('Дата на публикуване:')[-1].strip()\n",
    "        except:\n",
    "            _dict['Първа дата'] = np.nan\n",
    "            logging.warning('[Дата на публикуване] CANNOT be extracted')            \n",
    "        \n",
    "        x_path=\"//*[@class='info auct-type']/p/text()\"\n",
    "        contents=response.xpath(x_path).extract()\n",
    "        if len(contents)!=2:\n",
    "            logging.warn(f'Error, invalid input {response}: {x_path} ---> {contents}')\n",
    "            print(f'Error, invalid input {response}: {x_path} ---> {contents}')\n",
    "            \n",
    "        _dict['вид търг'] = contents[0]\n",
    "        try:\n",
    "            _dict['предмет'] = contents[1]\n",
    "        except:\n",
    "            pass\n",
    "        \n",
    "\n",
    "        x_path= \"//*[@class='doc-title col-sm-6']/div/p/a\"\n",
    "        for doc in response.xpath(x_path):\n",
    "            name = doc.xpath('text()').extract()[0].lower()\n",
    "            if 'protokol' in  name or 'protocol' in name or 'протокол' in name:\n",
    "                url=doc.xpath('@href').extract()[0]\n",
    "                _dict['Протокол'] = url\n",
    "                \n",
    "                competitors = extract_competitors_table(url,path = 'exports/protocols')\n",
    "                _dict['брой участници (споменати)'] = competitors[0]\n",
    "                _dict['участници (извлечени)'] = np.nan #str(competitors[1])\n",
    "                _dict['брой участници (извлечени)'] = np.nan #len(competitors[1])\n",
    "                _dict['страници протокол'] = competitors[2]\n",
    "        yield _dict\n"
   ]
  },
  {
   "cell_type": "code",
   "execution_count": 4,
   "id": "0c82c173",
   "metadata": {},
   "outputs": [],
   "source": [
    "# import tkinter\n",
    "# import camelot\n",
    "# import logging\n",
    "# logger = logging.getLogger()\n",
    "# logger.setLevel(logging.CRITICAL)\n",
    "\n",
    "# name = '/Users/bilyanavencheva/Desktop/Side projects/DataForGood/wood/table_format/exports/protocols/Protokol+8-1-2023.pdf'\n",
    "\n",
    "# abc = camelot.read_pdf(name)   #address of file location\n",
    " \n",
    "# print(abc[0].df)\n",
    "#reads table from pdf file\n",
    "# df = wrapper.read_pdf(name,pages=\"all\") #address of pdf file\n",
    "# print(tabulate(df))\n",
    "#from ctypes.util import find_library\n",
    "#find_library(\"gs\")"
   ]
  },
  {
   "cell_type": "code",
   "execution_count": 5,
   "id": "b11b7472",
   "metadata": {
    "scrolled": true
   },
   "outputs": [
    {
     "name": "stderr",
     "output_type": "stream",
     "text": [
      "<ipython-input-2-a1fb0026ea09>:33: DeprecationWarning: executable_path has been deprecated, please pass in a Service object\n",
      "  driver = webdriver.Chrome(executable_path = r'/users/bilyanavencheva/Applications/chromedriver'\n"
     ]
    },
    {
     "name": "stdout",
     "output_type": "stream",
     "text": [
      "Message: element not interactable: https://sale.uslugi.io/sidp# has no size and location\n",
      "  (Session info: headless chrome=108.0.5359.124)\n",
      "Stacktrace:\n",
      "0   chromedriver                        0x00000001051a4f38 chromedriver + 4910904\n",
      "1   chromedriver                        0x0000000105124a03 chromedriver + 4385283\n",
      "2   chromedriver                        0x0000000104d69747 chromedriver + 472903\n",
      "3   chromedriver                        0x0000000104d6dd28 chromedriver + 490792\n",
      "4   chromedriver                        0x0000000104d6d9f6 chromedriver + 489974\n",
      "5   chromedriver                        0x0000000104d6ddfc chromedriver + 491004\n",
      "6   chromedriver                        0x0000000104db6402 chromedriver + 787458\n",
      "7   chromedriver                        0x0000000104db5627 chromedriver + 783911\n",
      "8   chromedriver                        0x0000000104df9ca0 chromedriver + 1064096\n",
      "9   chromedriver                        0x0000000104dd4112 chromedriver + 909586\n",
      "10  chromedriver                        0x0000000104def28e chromedriver + 1020558\n",
      "11  chromedriver                        0x0000000104dd3ee3 chromedriver + 909027\n",
      "12  chromedriver                        0x0000000104d9e30c chromedriver + 688908\n",
      "13  chromedriver                        0x0000000104d9f88e chromedriver + 694414\n",
      "14  chromedriver                        0x00000001051721de chromedriver + 4702686\n",
      "15  chromedriver                        0x0000000105176b19 chromedriver + 4721433\n",
      "16  chromedriver                        0x000000010517e28e chromedriver + 4752014\n",
      "17  chromedriver                        0x000000010517791a chromedriver + 4725018\n",
      "18  chromedriver                        0x000000010514bb02 chromedriver + 4545282\n",
      "19  chromedriver                        0x0000000105196888 chromedriver + 4851848\n",
      "20  chromedriver                        0x0000000105196a05 chromedriver + 4852229\n",
      "21  chromedriver                        0x00000001051ace5f chromedriver + 4943455\n",
      "22  libsystem_pthread.dylib             0x00007ff811297259 _pthread_start + 125\n",
      "23  libsystem_pthread.dylib             0x00007ff811292c7b thread_start + 15\n",
      "\n"
     ]
    },
    {
     "name": "stderr",
     "output_type": "stream",
     "text": [
      "2022-12-22 16:21:21 [py.warnings] WARNING: /opt/anaconda3/lib/python3.8/site-packages/scrapy/utils/request.py:231: ScrapyDeprecationWarning: '2.6' is a deprecated value for the 'REQUEST_FINGERPRINTER_IMPLEMENTATION' setting.\n",
      "\n",
      "It is also the default value. In other words, it is normal to get this warning if you have not defined a value for the 'REQUEST_FINGERPRINTER_IMPLEMENTATION' setting. This is so for backward compatibility reasons, but it will change in a future version of Scrapy.\n",
      "\n",
      "See the documentation of the 'REQUEST_FINGERPRINTER_IMPLEMENTATION' setting for information on how to handle this deprecation.\n",
      "  return cls(crawler)\n",
      "\n",
      "2022-12-22 16:21:21 [scrapy.extensions.telnet] INFO: Telnet Password: ac39af739cfdfafb\n",
      "2022-12-22 16:21:21 [scrapy.extensions.logstats] INFO: Crawled 0 pages (at 0 pages/min), scraped 0 items (at 0 items/min)\n",
      "2022-12-22 16:21:21 [scrapy.extensions.telnet] INFO: Telnet console listening on 127.0.0.1:6023\n",
      "2022-12-22 16:21:23 [filelock] DEBUG: Attempting to acquire lock 140475094833424 on /Users/bilyanavencheva/.cache/python-tldextract/3.8.8.final__anaconda3__afc312__tldextract-3.4.0/publicsuffix.org-tlds/de84b5ca2167d4c83e38fb162f2e8738.tldextract.json.lock\n",
      "2022-12-22 16:21:23 [filelock] INFO: Lock 140475094833424 acquired on /Users/bilyanavencheva/.cache/python-tldextract/3.8.8.final__anaconda3__afc312__tldextract-3.4.0/publicsuffix.org-tlds/de84b5ca2167d4c83e38fb162f2e8738.tldextract.json.lock\n",
      "2022-12-22 16:21:23 [filelock] DEBUG: Attempting to release lock 140475094833424 on /Users/bilyanavencheva/.cache/python-tldextract/3.8.8.final__anaconda3__afc312__tldextract-3.4.0/publicsuffix.org-tlds/de84b5ca2167d4c83e38fb162f2e8738.tldextract.json.lock\n",
      "2022-12-22 16:21:23 [filelock] INFO: Lock 140475094833424 released on /Users/bilyanavencheva/.cache/python-tldextract/3.8.8.final__anaconda3__afc312__tldextract-3.4.0/publicsuffix.org-tlds/de84b5ca2167d4c83e38fb162f2e8738.tldextract.json.lock\n",
      "2022-12-22 16:21:23 [root] INFO: Start Spider Crawl for ['https://sale.uslugi.io/sidp']\n",
      "2022-12-22 16:21:23 [root] INFO: Extracting data from #: 978 files\n",
      "2022-12-22 16:21:23 [root] INFO: Parse auction.... https://sale.uslugi.io/sidp/5279\n"
     ]
    },
    {
     "name": "stdout",
     "output_type": "stream",
     "text": [
      "Start Spider Crawl for ['https://sale.uslugi.io/sidp']\n",
      "Parse auction.... https://sale.uslugi.io/sidp/5279\n"
     ]
    },
    {
     "name": "stderr",
     "output_type": "stream",
     "text": [
      "2022-12-22 16:21:23 [root] INFO: Parse auction.... https://sale.uslugi.io/sidp/5287\n"
     ]
    },
    {
     "name": "stdout",
     "output_type": "stream",
     "text": [
      "Parse auction.... https://sale.uslugi.io/sidp/5287\n"
     ]
    },
    {
     "name": "stderr",
     "output_type": "stream",
     "text": [
      "2022-12-22 16:21:24 [root] INFO: Parse auction.... https://sale.uslugi.io/sidp/5285\n"
     ]
    },
    {
     "name": "stdout",
     "output_type": "stream",
     "text": [
      "Parse auction.... https://sale.uslugi.io/sidp/5285\n"
     ]
    },
    {
     "name": "stderr",
     "output_type": "stream",
     "text": [
      "2022-12-22 16:21:25 [root] INFO: Parse auction.... https://sale.uslugi.io/sidp/5280\n"
     ]
    },
    {
     "name": "stdout",
     "output_type": "stream",
     "text": [
      "Parse auction.... https://sale.uslugi.io/sidp/5280\n"
     ]
    },
    {
     "name": "stderr",
     "output_type": "stream",
     "text": [
      "2022-12-22 16:21:26 [root] INFO: Parse auction.... https://sale.uslugi.io/sidp/5283\n"
     ]
    },
    {
     "name": "stdout",
     "output_type": "stream",
     "text": [
      "Parse auction.... https://sale.uslugi.io/sidp/5283\n"
     ]
    },
    {
     "name": "stderr",
     "output_type": "stream",
     "text": [
      "2022-12-22 16:21:27 [root] INFO: Parse auction.... https://sale.uslugi.io/sidp/5281\n"
     ]
    },
    {
     "name": "stdout",
     "output_type": "stream",
     "text": [
      "Parse auction.... https://sale.uslugi.io/sidp/5281\n"
     ]
    },
    {
     "name": "stderr",
     "output_type": "stream",
     "text": [
      "2022-12-22 16:21:28 [root] INFO: Parse auction.... https://sale.uslugi.io/sidp/5282\n"
     ]
    },
    {
     "name": "stdout",
     "output_type": "stream",
     "text": [
      "Parse auction.... https://sale.uslugi.io/sidp/5282\n"
     ]
    },
    {
     "name": "stderr",
     "output_type": "stream",
     "text": [
      "2022-12-22 16:21:29 [root] INFO: Parse auction.... https://sale.uslugi.io/sidp/5284\n"
     ]
    },
    {
     "name": "stdout",
     "output_type": "stream",
     "text": [
      "Parse auction.... https://sale.uslugi.io/sidp/5284\n"
     ]
    },
    {
     "name": "stderr",
     "output_type": "stream",
     "text": [
      "2022-12-22 16:21:30 [root] INFO: Parse auction.... https://sale.uslugi.io/sidp/5538\n"
     ]
    },
    {
     "name": "stdout",
     "output_type": "stream",
     "text": [
      "Parse auction.... https://sale.uslugi.io/sidp/5538\n"
     ]
    },
    {
     "name": "stderr",
     "output_type": "stream",
     "text": [
      "2022-12-22 16:21:30 [PyPDF2._reader] WARNING: Xref table not zero-indexed. ID numbers for objects will be corrected.\n",
      "2022-12-22 16:21:30 [root] WARNING: Error processing PDFs\n",
      "2022-12-22 16:21:30 [root] INFO: Parse auction.... https://sale.uslugi.io/sidp/4835\n"
     ]
    },
    {
     "name": "stdout",
     "output_type": "stream",
     "text": [
      "Error processing PDFs\n",
      "Parse auction.... https://sale.uslugi.io/sidp/4835\n"
     ]
    },
    {
     "name": "stderr",
     "output_type": "stream",
     "text": [
      "2022-12-22 16:21:30 [root] INFO: Parse auction.... https://sale.uslugi.io/sidp/5539\n"
     ]
    },
    {
     "name": "stdout",
     "output_type": "stream",
     "text": [
      "Parse auction.... https://sale.uslugi.io/sidp/5539\n"
     ]
    },
    {
     "name": "stderr",
     "output_type": "stream",
     "text": [
      "2022-12-22 16:21:31 [PyPDF2._reader] WARNING: Xref table not zero-indexed. ID numbers for objects will be corrected.\n",
      "2022-12-22 16:21:31 [root] WARNING: Error processing PDFs\n",
      "2022-12-22 16:21:31 [root] INFO: Parse auction.... https://sale.uslugi.io/sidp/4838\n"
     ]
    },
    {
     "name": "stdout",
     "output_type": "stream",
     "text": [
      "Error processing PDFs\n",
      "Parse auction.... https://sale.uslugi.io/sidp/4838\n"
     ]
    },
    {
     "name": "stderr",
     "output_type": "stream",
     "text": [
      "2022-12-22 16:21:32 [root] INFO: Parse auction.... https://sale.uslugi.io/sidp/3321\n"
     ]
    },
    {
     "name": "stdout",
     "output_type": "stream",
     "text": [
      "ERROR No pdf file provided\n",
      "Parse auction.... https://sale.uslugi.io/sidp/3321\n"
     ]
    },
    {
     "name": "stderr",
     "output_type": "stream",
     "text": [
      "2022-12-22 16:21:33 [root] INFO: Parse auction.... https://sale.uslugi.io/sidp/801\n",
      "2022-12-22 16:21:33 [root] WARNING: [Дата на публикуване] CANNOT be extracted\n"
     ]
    },
    {
     "name": "stdout",
     "output_type": "stream",
     "text": [
      "Parse auction.... https://sale.uslugi.io/sidp/801\n"
     ]
    },
    {
     "name": "stderr",
     "output_type": "stream",
     "text": [
      "2022-12-22 16:21:33 [root] INFO: Parse auction.... https://sale.uslugi.io/sidp/4836\n",
      "2022-12-22 16:21:34 [root] INFO: Parse auction.... https://sale.uslugi.io/sidp/4834\n"
     ]
    },
    {
     "name": "stdout",
     "output_type": "stream",
     "text": [
      "Parse auction.... https://sale.uslugi.io/sidp/4836\n",
      "Parse auction.... https://sale.uslugi.io/sidp/4834\n"
     ]
    },
    {
     "name": "stderr",
     "output_type": "stream",
     "text": [
      "2022-12-22 16:21:34 [root] INFO: Parse auction.... https://sale.uslugi.io/sidp/172\n",
      "2022-12-22 16:21:34 [root] WARNING: [Дата на публикуване] CANNOT be extracted\n",
      "2022-12-22 16:21:34 [root] INFO: Parse auction.... https://sale.uslugi.io/sidp/5286\n"
     ]
    },
    {
     "name": "stdout",
     "output_type": "stream",
     "text": [
      "Parse auction.... https://sale.uslugi.io/sidp/172\n",
      "Parse auction.... https://sale.uslugi.io/sidp/5286\n"
     ]
    },
    {
     "name": "stderr",
     "output_type": "stream",
     "text": [
      "2022-12-22 16:21:35 [root] INFO: Parse auction.... https://sale.uslugi.io/sidp/5755\n",
      "2022-12-22 16:21:35 [root] INFO: Parse auction.... https://sale.uslugi.io/sidp/2359\n"
     ]
    },
    {
     "name": "stdout",
     "output_type": "stream",
     "text": [
      "Parse auction.... https://sale.uslugi.io/sidp/5755\n",
      "Parse auction.... https://sale.uslugi.io/sidp/2359\n"
     ]
    },
    {
     "name": "stderr",
     "output_type": "stream",
     "text": [
      "2022-12-22 16:21:35 [root] INFO: Parse auction.... https://sale.uslugi.io/sidp/173\n",
      "2022-12-22 16:21:35 [root] WARNING: [Дата на публикуване] CANNOT be extracted\n",
      "2022-12-22 16:21:35 [root] INFO: Parse auction.... https://sale.uslugi.io/sidp/179\n",
      "2022-12-22 16:21:35 [root] WARNING: [Дата на публикуване] CANNOT be extracted\n",
      "2022-12-22 16:21:35 [root] INFO: Parse auction.... https://sale.uslugi.io/sidp/259\n",
      "2022-12-22 16:21:35 [root] WARNING: [Дата на публикуване] CANNOT be extracted\n"
     ]
    },
    {
     "name": "stdout",
     "output_type": "stream",
     "text": [
      "Parse auction.... https://sale.uslugi.io/sidp/173\n",
      "Parse auction.... https://sale.uslugi.io/sidp/179\n",
      "Parse auction.... https://sale.uslugi.io/sidp/259\n"
     ]
    },
    {
     "name": "stderr",
     "output_type": "stream",
     "text": [
      "2022-12-22 16:21:36 [root] INFO: Parse auction.... https://sale.uslugi.io/sidp/260\n",
      "2022-12-22 16:21:36 [root] WARNING: [Дата на публикуване] CANNOT be extracted\n"
     ]
    },
    {
     "name": "stdout",
     "output_type": "stream",
     "text": [
      "ERROR No pdf file provided\n",
      "Parse auction.... https://sale.uslugi.io/sidp/260\n"
     ]
    },
    {
     "name": "stderr",
     "output_type": "stream",
     "text": [
      "2022-12-22 16:21:36 [root] INFO: Parse auction.... https://sale.uslugi.io/sidp/261\n",
      "2022-12-22 16:21:36 [root] WARNING: [Дата на публикуване] CANNOT be extracted\n"
     ]
    },
    {
     "name": "stdout",
     "output_type": "stream",
     "text": [
      "Parse auction.... https://sale.uslugi.io/sidp/261\n"
     ]
    },
    {
     "name": "stderr",
     "output_type": "stream",
     "text": [
      "2022-12-22 16:21:36 [root] INFO: Parse auction.... https://sale.uslugi.io/sidp/177\n",
      "2022-12-22 16:21:36 [root] WARNING: [Дата на публикуване] CANNOT be extracted\n",
      "2022-12-22 16:21:36 [root] INFO: Parse auction.... https://sale.uslugi.io/sidp/262\n",
      "2022-12-22 16:21:36 [root] WARNING: [Дата на публикуване] CANNOT be extracted\n"
     ]
    },
    {
     "name": "stdout",
     "output_type": "stream",
     "text": [
      "Parse auction.... https://sale.uslugi.io/sidp/177\n",
      "Parse auction.... https://sale.uslugi.io/sidp/262\n"
     ]
    },
    {
     "name": "stderr",
     "output_type": "stream",
     "text": [
      "2022-12-22 16:21:37 [root] INFO: Parse auction.... https://sale.uslugi.io/sidp/325\n",
      "2022-12-22 16:21:37 [root] WARNING: [Дата на публикуване] CANNOT be extracted\n"
     ]
    },
    {
     "name": "stdout",
     "output_type": "stream",
     "text": [
      "ERROR No pdf file provided\n",
      "Parse auction.... https://sale.uslugi.io/sidp/325\n"
     ]
    },
    {
     "name": "stderr",
     "output_type": "stream",
     "text": [
      "2022-12-22 16:21:37 [root] INFO: Parse auction.... https://sale.uslugi.io/sidp/326\n",
      "2022-12-22 16:21:37 [root] WARNING: [Дата на публикуване] CANNOT be extracted\n"
     ]
    },
    {
     "name": "stdout",
     "output_type": "stream",
     "text": [
      "ERROR No pdf file provided\n",
      "Parse auction.... https://sale.uslugi.io/sidp/326\n",
      "ERROR No pdf file provided\n"
     ]
    },
    {
     "name": "stderr",
     "output_type": "stream",
     "text": [
      "2022-12-22 16:21:38 [root] INFO: Parse auction.... https://sale.uslugi.io/sidp/436\n",
      "2022-12-22 16:21:38 [root] WARNING: [Дата на публикуване] CANNOT be extracted\n"
     ]
    },
    {
     "name": "stdout",
     "output_type": "stream",
     "text": [
      "Parse auction.... https://sale.uslugi.io/sidp/436\n",
      "ERROR No pdf file provided\n"
     ]
    },
    {
     "name": "stderr",
     "output_type": "stream",
     "text": [
      "2022-12-22 16:21:38 [root] INFO: Parse auction.... https://sale.uslugi.io/sidp/354\n",
      "2022-12-22 16:21:38 [root] WARNING: [Дата на публикуване] CANNOT be extracted\n"
     ]
    },
    {
     "name": "stdout",
     "output_type": "stream",
     "text": [
      "Parse auction.... https://sale.uslugi.io/sidp/354\n"
     ]
    },
    {
     "name": "stderr",
     "output_type": "stream",
     "text": [
      "2022-12-22 16:21:38 [root] INFO: Parse auction.... https://sale.uslugi.io/sidp/327\n",
      "2022-12-22 16:21:38 [root] WARNING: [Дата на публикуване] CANNOT be extracted\n"
     ]
    },
    {
     "name": "stdout",
     "output_type": "stream",
     "text": [
      "ERROR No pdf file provided\n",
      "Parse auction.... https://sale.uslugi.io/sidp/327\n"
     ]
    },
    {
     "name": "stderr",
     "output_type": "stream",
     "text": [
      "2022-12-22 16:21:39 [root] INFO: Parse auction.... https://sale.uslugi.io/sidp/340\n",
      "2022-12-22 16:21:39 [root] WARNING: [Дата на публикуване] CANNOT be extracted\n"
     ]
    },
    {
     "name": "stdout",
     "output_type": "stream",
     "text": [
      "ERROR No pdf file provided\n",
      "Parse auction.... https://sale.uslugi.io/sidp/340\n"
     ]
    },
    {
     "name": "stderr",
     "output_type": "stream",
     "text": [
      "2022-12-22 16:21:39 [root] INFO: Parse auction.... https://sale.uslugi.io/sidp/328\n",
      "2022-12-22 16:21:39 [root] WARNING: [Дата на публикуване] CANNOT be extracted\n"
     ]
    },
    {
     "name": "stdout",
     "output_type": "stream",
     "text": [
      "ERROR No pdf file provided\n",
      "Parse auction.... https://sale.uslugi.io/sidp/328\n"
     ]
    },
    {
     "name": "stderr",
     "output_type": "stream",
     "text": [
      "2022-12-22 16:21:39 [root] INFO: Parse auction.... https://sale.uslugi.io/sidp/464\n",
      "2022-12-22 16:21:40 [root] WARNING: [Дата на публикуване] CANNOT be extracted\n"
     ]
    },
    {
     "name": "stdout",
     "output_type": "stream",
     "text": [
      "ERROR No pdf file provided\n",
      "Parse auction.... https://sale.uslugi.io/sidp/464\n",
      "ERROR No pdf file provided\n",
      "Parse auction...."
     ]
    },
    {
     "name": "stderr",
     "output_type": "stream",
     "text": [
      "2022-12-22 16:21:40 [root] INFO: Parse auction.... https://sale.uslugi.io/sidp/483\n",
      "2022-12-22 16:21:40 [root] WARNING: [Дата на публикуване] CANNOT be extracted\n"
     ]
    },
    {
     "name": "stdout",
     "output_type": "stream",
     "text": [
      " https://sale.uslugi.io/sidp/483\n",
      "ERROR No pdf file provided\n",
      "Parse auction.... https://sale.uslugi.io/sidp/339\n"
     ]
    },
    {
     "name": "stderr",
     "output_type": "stream",
     "text": [
      "2022-12-22 16:21:40 [root] INFO: Parse auction.... https://sale.uslugi.io/sidp/339\n",
      "2022-12-22 16:21:40 [root] WARNING: [Дата на публикуване] CANNOT be extracted\n",
      "2022-12-22 16:21:40 [root] INFO: Parse auction.... https://sale.uslugi.io/sidp/485\n",
      "2022-12-22 16:21:40 [root] WARNING: [Дата на публикуване] CANNOT be extracted\n",
      "2022-12-22 16:21:40 [root] INFO: Parse auction.... https://sale.uslugi.io/sidp/503\n",
      "2022-12-22 16:21:40 [root] WARNING: [Дата на публикуване] CANNOT be extracted\n"
     ]
    },
    {
     "name": "stdout",
     "output_type": "stream",
     "text": [
      "ERROR No pdf file provided\n",
      "Parse auction.... https://sale.uslugi.io/sidp/485\n",
      "ERROR No pdf file provided\n",
      "Parse auction.... https://sale.uslugi.io/sidp/503\n"
     ]
    },
    {
     "name": "stderr",
     "output_type": "stream",
     "text": [
      "2022-12-22 16:21:41 [root] INFO: Parse auction.... https://sale.uslugi.io/sidp/532\n",
      "2022-12-22 16:21:41 [root] WARNING: [Дата на публикуване] CANNOT be extracted\n"
     ]
    },
    {
     "name": "stdout",
     "output_type": "stream",
     "text": [
      "Parse auction.... https://sale.uslugi.io/sidp/532\n"
     ]
    },
    {
     "name": "stderr",
     "output_type": "stream",
     "text": [
      "2022-12-22 16:21:42 [root] INFO: Parse auction.... https://sale.uslugi.io/sidp/561\n",
      "2022-12-22 16:21:42 [root] WARNING: [Дата на публикуване] CANNOT be extracted\n"
     ]
    },
    {
     "name": "stdout",
     "output_type": "stream",
     "text": [
      "Parse auction.... https://sale.uslugi.io/sidp/561\n"
     ]
    },
    {
     "name": "stderr",
     "output_type": "stream",
     "text": [
      "2022-12-22 16:21:42 [root] INFO: Parse auction.... https://sale.uslugi.io/sidp/353\n",
      "2022-12-22 16:21:42 [root] WARNING: [Дата на публикуване] CANNOT be extracted\n"
     ]
    },
    {
     "name": "stdout",
     "output_type": "stream",
     "text": [
      "Parse auction.... https://sale.uslugi.io/sidp/353\n"
     ]
    },
    {
     "name": "stderr",
     "output_type": "stream",
     "text": [
      "2022-12-22 16:21:43 [root] INFO: Parse auction.... https://sale.uslugi.io/sidp/330\n",
      "2022-12-22 16:21:43 [root] WARNING: [Дата на публикуване] CANNOT be extracted\n"
     ]
    },
    {
     "name": "stdout",
     "output_type": "stream",
     "text": [
      "ERROR No pdf file provided\n",
      "Parse auction.... https://sale.uslugi.io/sidp/330\n"
     ]
    },
    {
     "name": "stderr",
     "output_type": "stream",
     "text": [
      "2022-12-22 16:21:43 [root] INFO: Parse auction.... https://sale.uslugi.io/sidp/484\n",
      "2022-12-22 16:21:43 [root] WARNING: [Дата на публикуване] CANNOT be extracted\n",
      "2022-12-22 16:21:43 [root] INFO: Parse auction.... https://sale.uslugi.io/sidp/560\n",
      "2022-12-22 16:21:43 [root] WARNING: [Дата на публикуване] CANNOT be extracted\n"
     ]
    },
    {
     "name": "stdout",
     "output_type": "stream",
     "text": [
      "ERROR No pdf file provided\n",
      "Parse auction.... https://sale.uslugi.io/sidp/484\n",
      "ERROR No pdf file provided\n",
      "Parse auction.... https://sale.uslugi.io/sidp/560\n"
     ]
    },
    {
     "name": "stderr",
     "output_type": "stream",
     "text": [
      "2022-12-22 16:21:44 [root] INFO: Parse auction.... https://sale.uslugi.io/sidp/607\n",
      "2022-12-22 16:21:44 [root] WARNING: [Дата на публикуване] CANNOT be extracted\n"
     ]
    },
    {
     "name": "stdout",
     "output_type": "stream",
     "text": [
      "Parse auction.... https://sale.uslugi.io/sidp/607\n"
     ]
    },
    {
     "name": "stderr",
     "output_type": "stream",
     "text": [
      "2022-12-22 16:21:44 [root] INFO: Parse auction.... https://sale.uslugi.io/sidp/618\n",
      "2022-12-22 16:21:44 [root] WARNING: [Дата на публикуване] CANNOT be extracted\n"
     ]
    },
    {
     "name": "stdout",
     "output_type": "stream",
     "text": [
      "Parse auction.... https://sale.uslugi.io/sidp/618\n"
     ]
    },
    {
     "name": "stderr",
     "output_type": "stream",
     "text": [
      "2022-12-22 16:21:45 [root] INFO: Parse auction.... https://sale.uslugi.io/sidp/650\n",
      "2022-12-22 16:21:45 [root] WARNING: [Дата на публикуване] CANNOT be extracted\n"
     ]
    },
    {
     "name": "stdout",
     "output_type": "stream",
     "text": [
      "Parse auction.... https://sale.uslugi.io/sidp/650\n"
     ]
    },
    {
     "name": "stderr",
     "output_type": "stream",
     "text": [
      "2022-12-22 16:21:46 [root] INFO: Parse auction.... https://sale.uslugi.io/sidp/719\n",
      "2022-12-22 16:21:46 [root] WARNING: [Дата на публикуване] CANNOT be extracted\n"
     ]
    },
    {
     "name": "stdout",
     "output_type": "stream",
     "text": [
      "Parse auction.... https://sale.uslugi.io/sidp/719\n"
     ]
    },
    {
     "name": "stderr",
     "output_type": "stream",
     "text": [
      "2022-12-22 16:21:46 [root] INFO: Parse auction.... https://sale.uslugi.io/sidp/608\n",
      "2022-12-22 16:21:46 [root] WARNING: [Дата на публикуване] CANNOT be extracted\n"
     ]
    },
    {
     "name": "stdout",
     "output_type": "stream",
     "text": [
      "Parse auction.... https://sale.uslugi.io/sidp/608\n"
     ]
    },
    {
     "name": "stderr",
     "output_type": "stream",
     "text": [
      "2022-12-22 16:21:47 [root] INFO: Parse auction.... https://sale.uslugi.io/sidp/717\n",
      "2022-12-22 16:21:47 [root] WARNING: [Дата на публикуване] CANNOT be extracted\n"
     ]
    },
    {
     "name": "stdout",
     "output_type": "stream",
     "text": [
      "Parse auction.... https://sale.uslugi.io/sidp/717\n"
     ]
    },
    {
     "name": "stderr",
     "output_type": "stream",
     "text": [
      "2022-12-22 16:21:47 [root] INFO: Parse auction.... https://sale.uslugi.io/sidp/766\n",
      "2022-12-22 16:21:47 [root] WARNING: [Дата на публикуване] CANNOT be extracted\n"
     ]
    },
    {
     "name": "stdout",
     "output_type": "stream",
     "text": [
      "Parse auction.... https://sale.uslugi.io/sidp/766\n"
     ]
    },
    {
     "name": "stderr",
     "output_type": "stream",
     "text": [
      "2022-12-22 16:21:48 [root] INFO: Parse auction.... https://sale.uslugi.io/sidp/606\n",
      "2022-12-22 16:21:48 [root] WARNING: [Дата на публикуване] CANNOT be extracted\n"
     ]
    },
    {
     "name": "stdout",
     "output_type": "stream",
     "text": [
      "Parse auction.... https://sale.uslugi.io/sidp/606\n"
     ]
    },
    {
     "name": "stderr",
     "output_type": "stream",
     "text": [
      "2022-12-22 16:21:49 [root] INFO: Parse auction.... https://sale.uslugi.io/sidp/589\n",
      "2022-12-22 16:21:49 [root] WARNING: [Дата на публикуване] CANNOT be extracted\n"
     ]
    },
    {
     "name": "stdout",
     "output_type": "stream",
     "text": [
      "Parse auction.... https://sale.uslugi.io/sidp/589\n"
     ]
    },
    {
     "name": "stderr",
     "output_type": "stream",
     "text": [
      "2022-12-22 16:21:49 [root] INFO: Parse auction.... https://sale.uslugi.io/sidp/768\n",
      "2022-12-22 16:21:49 [root] WARNING: [Дата на публикуване] CANNOT be extracted\n"
     ]
    },
    {
     "name": "stdout",
     "output_type": "stream",
     "text": [
      "Parse auction.... https://sale.uslugi.io/sidp/768\n"
     ]
    },
    {
     "name": "stderr",
     "output_type": "stream",
     "text": [
      "2022-12-22 16:21:50 [root] INFO: Parse auction.... https://sale.uslugi.io/sidp/767\n",
      "2022-12-22 16:21:50 [root] WARNING: [Дата на публикуване] CANNOT be extracted\n"
     ]
    },
    {
     "name": "stdout",
     "output_type": "stream",
     "text": [
      "Parse auction.... https://sale.uslugi.io/sidp/767\n"
     ]
    },
    {
     "name": "stderr",
     "output_type": "stream",
     "text": [
      "2022-12-22 16:21:50 [root] INFO: Parse auction.... https://sale.uslugi.io/sidp/765\n",
      "2022-12-22 16:21:50 [root] WARNING: [Дата на публикуване] CANNOT be extracted\n"
     ]
    },
    {
     "name": "stdout",
     "output_type": "stream",
     "text": [
      "Parse auction.... https://sale.uslugi.io/sidp/765\n"
     ]
    },
    {
     "name": "stderr",
     "output_type": "stream",
     "text": [
      "2022-12-22 16:21:51 [root] INFO: Parse auction.... https://sale.uslugi.io/sidp/769\n",
      "2022-12-22 16:21:51 [root] WARNING: [Дата на публикуване] CANNOT be extracted\n"
     ]
    },
    {
     "name": "stdout",
     "output_type": "stream",
     "text": [
      "Parse auction.... https://sale.uslugi.io/sidp/769\n"
     ]
    },
    {
     "name": "stderr",
     "output_type": "stream",
     "text": [
      "2022-12-22 16:21:52 [root] INFO: Parse auction.... https://sale.uslugi.io/sidp/770\n",
      "2022-12-22 16:21:52 [root] WARNING: [Дата на публикуване] CANNOT be extracted\n"
     ]
    },
    {
     "name": "stdout",
     "output_type": "stream",
     "text": [
      "Parse auction.... https://sale.uslugi.io/sidp/770\n"
     ]
    },
    {
     "name": "stderr",
     "output_type": "stream",
     "text": [
      "2022-12-22 16:21:52 [root] INFO: Parse auction.... https://sale.uslugi.io/sidp/771\n",
      "2022-12-22 16:21:52 [root] WARNING: [Дата на публикуване] CANNOT be extracted\n"
     ]
    },
    {
     "name": "stdout",
     "output_type": "stream",
     "text": [
      "Parse auction.... https://sale.uslugi.io/sidp/771\n"
     ]
    },
    {
     "name": "stderr",
     "output_type": "stream",
     "text": [
      "2022-12-22 16:21:53 [root] INFO: Parse auction.... https://sale.uslugi.io/sidp/774\n",
      "2022-12-22 16:21:53 [root] WARNING: [Дата на публикуване] CANNOT be extracted\n"
     ]
    },
    {
     "name": "stdout",
     "output_type": "stream",
     "text": [
      "Parse auction.... https://sale.uslugi.io/sidp/774\n"
     ]
    },
    {
     "name": "stderr",
     "output_type": "stream",
     "text": [
      "2022-12-22 16:21:53 [root] INFO: Parse auction.... https://sale.uslugi.io/sidp/778\n",
      "2022-12-22 16:21:53 [root] WARNING: [Дата на публикуване] CANNOT be extracted\n"
     ]
    },
    {
     "name": "stdout",
     "output_type": "stream",
     "text": [
      "Parse auction.... https://sale.uslugi.io/sidp/778\n"
     ]
    },
    {
     "name": "stderr",
     "output_type": "stream",
     "text": [
      "2022-12-22 16:21:54 [root] INFO: Parse auction.... https://sale.uslugi.io/sidp/798\n",
      "2022-12-22 16:21:54 [root] WARNING: [Дата на публикуване] CANNOT be extracted\n"
     ]
    },
    {
     "name": "stdout",
     "output_type": "stream",
     "text": [
      "Parse auction.... https://sale.uslugi.io/sidp/798\n"
     ]
    },
    {
     "name": "stderr",
     "output_type": "stream",
     "text": [
      "2022-12-22 16:21:55 [root] INFO: Parse auction.... https://sale.uslugi.io/sidp/799\n",
      "2022-12-22 16:21:55 [root] WARNING: [Дата на публикуване] CANNOT be extracted\n"
     ]
    },
    {
     "name": "stdout",
     "output_type": "stream",
     "text": [
      "Parse auction.... https://sale.uslugi.io/sidp/799\n"
     ]
    },
    {
     "name": "stderr",
     "output_type": "stream",
     "text": [
      "2022-12-22 16:21:55 [root] INFO: Parse auction.... https://sale.uslugi.io/sidp/800\n",
      "2022-12-22 16:21:55 [root] WARNING: [Дата на публикуване] CANNOT be extracted\n"
     ]
    },
    {
     "name": "stdout",
     "output_type": "stream",
     "text": [
      "Parse auction.... https://sale.uslugi.io/sidp/800\n"
     ]
    },
    {
     "name": "stderr",
     "output_type": "stream",
     "text": [
      "2022-12-22 16:21:56 [root] INFO: Parse auction.... https://sale.uslugi.io/sidp/802\n",
      "2022-12-22 16:21:56 [root] WARNING: [Дата на публикуване] CANNOT be extracted\n"
     ]
    },
    {
     "name": "stdout",
     "output_type": "stream",
     "text": [
      "Parse auction.... https://sale.uslugi.io/sidp/802\n"
     ]
    },
    {
     "name": "stderr",
     "output_type": "stream",
     "text": [
      "2022-12-22 16:21:57 [root] INFO: Parse auction.... https://sale.uslugi.io/sidp/841\n",
      "2022-12-22 16:21:57 [root] WARNING: [Дата на публикуване] CANNOT be extracted\n"
     ]
    },
    {
     "name": "stdout",
     "output_type": "stream",
     "text": [
      "Parse auction.... https://sale.uslugi.io/sidp/841\n"
     ]
    },
    {
     "name": "stderr",
     "output_type": "stream",
     "text": [
      "2022-12-22 16:21:57 [root] INFO: Parse auction.... https://sale.uslugi.io/sidp/815\n",
      "2022-12-22 16:21:57 [root] WARNING: [Дата на публикуване] CANNOT be extracted\n"
     ]
    },
    {
     "name": "stdout",
     "output_type": "stream",
     "text": [
      "Parse auction.... https://sale.uslugi.io/sidp/815\n"
     ]
    },
    {
     "name": "stderr",
     "output_type": "stream",
     "text": [
      "2022-12-22 16:21:58 [root] INFO: Parse auction.... https://sale.uslugi.io/sidp/814\n",
      "2022-12-22 16:21:58 [root] WARNING: [Дата на публикуване] CANNOT be extracted\n"
     ]
    },
    {
     "name": "stdout",
     "output_type": "stream",
     "text": [
      "Parse auction.... https://sale.uslugi.io/sidp/814\n"
     ]
    },
    {
     "name": "stderr",
     "output_type": "stream",
     "text": [
      "2022-12-22 16:21:58 [root] INFO: Parse auction.... https://sale.uslugi.io/sidp/812\n",
      "2022-12-22 16:21:58 [root] WARNING: [Дата на публикуване] CANNOT be extracted\n"
     ]
    },
    {
     "name": "stdout",
     "output_type": "stream",
     "text": [
      "Parse auction.... https://sale.uslugi.io/sidp/812\n"
     ]
    },
    {
     "name": "stderr",
     "output_type": "stream",
     "text": [
      "2022-12-22 16:21:59 [root] INFO: Parse auction.... https://sale.uslugi.io/sidp/849\n",
      "2022-12-22 16:21:59 [root] WARNING: [Дата на публикуване] CANNOT be extracted\n"
     ]
    },
    {
     "name": "stdout",
     "output_type": "stream",
     "text": [
      "Parse auction.... https://sale.uslugi.io/sidp/849\n"
     ]
    },
    {
     "name": "stderr",
     "output_type": "stream",
     "text": [
      "2022-12-22 16:21:59 [root] INFO: Parse auction.... https://sale.uslugi.io/sidp/843\n",
      "2022-12-22 16:21:59 [root] WARNING: [Дата на публикуване] CANNOT be extracted\n"
     ]
    },
    {
     "name": "stdout",
     "output_type": "stream",
     "text": [
      "Parse auction.... https://sale.uslugi.io/sidp/843\n"
     ]
    },
    {
     "name": "stderr",
     "output_type": "stream",
     "text": [
      "2022-12-22 16:22:00 [root] INFO: Parse auction.... https://sale.uslugi.io/sidp/851\n",
      "2022-12-22 16:22:00 [root] WARNING: [Дата на публикуване] CANNOT be extracted\n",
      "2022-12-22 16:22:00 [root] INFO: Parse auction.... https://sale.uslugi.io/sidp/879\n",
      "2022-12-22 16:22:00 [root] WARNING: [Дата на публикуване] CANNOT be extracted\n",
      "2022-12-22 16:22:00 [root] INFO: Parse auction.... https://sale.uslugi.io/sidp/804\n",
      "2022-12-22 16:22:00 [root] WARNING: [Дата на публикуване] CANNOT be extracted\n"
     ]
    },
    {
     "name": "stdout",
     "output_type": "stream",
     "text": [
      "Parse auction.... https://sale.uslugi.io/sidp/851\n",
      "Parse auction.... https://sale.uslugi.io/sidp/879\n",
      "Parse auction.... https://sale.uslugi.io/sidp/804\n"
     ]
    },
    {
     "name": "stderr",
     "output_type": "stream",
     "text": [
      "2022-12-22 16:22:01 [root] INFO: Parse auction.... https://sale.uslugi.io/sidp/874\n",
      "2022-12-22 16:22:01 [root] WARNING: [Дата на публикуване] CANNOT be extracted\n"
     ]
    },
    {
     "name": "stdout",
     "output_type": "stream",
     "text": [
      "Parse auction.... https://sale.uslugi.io/sidp/874\n"
     ]
    },
    {
     "name": "stderr",
     "output_type": "stream",
     "text": [
      "2022-12-22 16:22:01 [root] INFO: Parse auction.... https://sale.uslugi.io/sidp/850\n",
      "2022-12-22 16:22:01 [root] WARNING: [Дата на публикуване] CANNOT be extracted\n"
     ]
    },
    {
     "name": "stdout",
     "output_type": "stream",
     "text": [
      "Parse auction.... https://sale.uslugi.io/sidp/850\n"
     ]
    },
    {
     "name": "stderr",
     "output_type": "stream",
     "text": [
      "2022-12-22 16:22:02 [root] INFO: Parse auction.... https://sale.uslugi.io/sidp/853\n",
      "2022-12-22 16:22:02 [root] WARNING: [Дата на публикуване] CANNOT be extracted\n"
     ]
    },
    {
     "name": "stdout",
     "output_type": "stream",
     "text": [
      "Parse auction.... https://sale.uslugi.io/sidp/853\n"
     ]
    },
    {
     "name": "stderr",
     "output_type": "stream",
     "text": [
      "2022-12-22 16:22:02 [root] INFO: Parse auction.... https://sale.uslugi.io/sidp/876\n",
      "2022-12-22 16:22:02 [root] WARNING: [Дата на публикуване] CANNOT be extracted\n",
      "2022-12-22 16:22:02 [root] INFO: Parse auction.... https://sale.uslugi.io/sidp/882\n",
      "2022-12-22 16:22:02 [root] WARNING: [Дата на публикуване] CANNOT be extracted\n",
      "2022-12-22 16:22:02 [root] INFO: Parse auction.... https://sale.uslugi.io/sidp/816\n",
      "2022-12-22 16:22:02 [root] WARNING: [Дата на публикуване] CANNOT be extracted\n"
     ]
    },
    {
     "name": "stdout",
     "output_type": "stream",
     "text": [
      "Parse auction.... https://sale.uslugi.io/sidp/876\n",
      "Parse auction.... https://sale.uslugi.io/sidp/882\n",
      "Parse auction.... https://sale.uslugi.io/sidp/816\n"
     ]
    },
    {
     "name": "stderr",
     "output_type": "stream",
     "text": [
      "2022-12-22 16:22:03 [root] INFO: Parse auction.... https://sale.uslugi.io/sidp/883\n",
      "2022-12-22 16:22:03 [root] WARNING: [Дата на публикуване] CANNOT be extracted\n",
      "2022-12-22 16:22:03 [root] INFO: Parse auction.... https://sale.uslugi.io/sidp/884\n",
      "2022-12-22 16:22:03 [root] WARNING: [Дата на публикуване] CANNOT be extracted\n"
     ]
    },
    {
     "name": "stdout",
     "output_type": "stream",
     "text": [
      "Parse auction.... https://sale.uslugi.io/sidp/883\n",
      "Parse auction.... https://sale.uslugi.io/sidp/884\n"
     ]
    },
    {
     "name": "stderr",
     "output_type": "stream",
     "text": [
      "2022-12-22 16:22:04 [root] INFO: Parse auction.... https://sale.uslugi.io/sidp/881\n",
      "2022-12-22 16:22:04 [root] WARNING: [Дата на публикуване] CANNOT be extracted\n",
      "2022-12-22 16:22:04 [root] INFO: Parse auction.... https://sale.uslugi.io/sidp/888\n",
      "2022-12-22 16:22:04 [root] WARNING: [Дата на публикуване] CANNOT be extracted\n"
     ]
    },
    {
     "name": "stdout",
     "output_type": "stream",
     "text": [
      "Parse auction.... https://sale.uslugi.io/sidp/881\n",
      "Parse auction.... https://sale.uslugi.io/sidp/888\n"
     ]
    },
    {
     "name": "stderr",
     "output_type": "stream",
     "text": [
      "2022-12-22 16:22:04 [root] INFO: Parse auction.... https://sale.uslugi.io/sidp/890\n",
      "2022-12-22 16:22:04 [root] WARNING: [Дата на публикуване] CANNOT be extracted\n"
     ]
    },
    {
     "name": "stdout",
     "output_type": "stream",
     "text": [
      "Parse auction.... https://sale.uslugi.io/sidp/890\n"
     ]
    },
    {
     "name": "stderr",
     "output_type": "stream",
     "text": [
      "2022-12-22 16:22:05 [root] INFO: Parse auction.... https://sale.uslugi.io/sidp/885\n",
      "2022-12-22 16:22:05 [root] WARNING: [Дата на публикуване] CANNOT be extracted\n"
     ]
    },
    {
     "name": "stdout",
     "output_type": "stream",
     "text": [
      "Parse auction.... https://sale.uslugi.io/sidp/885\n"
     ]
    },
    {
     "name": "stderr",
     "output_type": "stream",
     "text": [
      "2022-12-22 16:22:06 [root] INFO: Parse auction.... https://sale.uslugi.io/sidp/880\n",
      "2022-12-22 16:22:06 [root] WARNING: [Дата на публикуване] CANNOT be extracted\n",
      "2022-12-22 16:22:06 [root] INFO: Parse auction.... https://sale.uslugi.io/sidp/889\n",
      "2022-12-22 16:22:06 [root] WARNING: [Дата на публикуване] CANNOT be extracted\n"
     ]
    },
    {
     "name": "stdout",
     "output_type": "stream",
     "text": [
      "Parse auction.... https://sale.uslugi.io/sidp/880\n",
      "Parse auction.... https://sale.uslugi.io/sidp/889\n"
     ]
    },
    {
     "name": "stderr",
     "output_type": "stream",
     "text": [
      "2022-12-22 16:22:06 [root] INFO: Parse auction.... https://sale.uslugi.io/sidp/886\n",
      "2022-12-22 16:22:06 [root] WARNING: [Дата на публикуване] CANNOT be extracted\n"
     ]
    },
    {
     "name": "stdout",
     "output_type": "stream",
     "text": [
      "Parse auction.... https://sale.uslugi.io/sidp/886\n"
     ]
    },
    {
     "name": "stderr",
     "output_type": "stream",
     "text": [
      "2022-12-22 16:22:07 [root] INFO: Parse auction.... https://sale.uslugi.io/sidp/875\n",
      "2022-12-22 16:22:07 [root] WARNING: [Дата на публикуване] CANNOT be extracted\n"
     ]
    },
    {
     "name": "stdout",
     "output_type": "stream",
     "text": [
      "Parse auction.... https://sale.uslugi.io/sidp/875\n"
     ]
    },
    {
     "name": "stderr",
     "output_type": "stream",
     "text": [
      "2022-12-22 16:22:07 [root] INFO: Parse auction.... https://sale.uslugi.io/sidp/893\n",
      "2022-12-22 16:22:07 [root] WARNING: [Дата на публикуване] CANNOT be extracted\n"
     ]
    },
    {
     "name": "stdout",
     "output_type": "stream",
     "text": [
      "Parse auction.... https://sale.uslugi.io/sidp/893\n"
     ]
    },
    {
     "name": "stderr",
     "output_type": "stream",
     "text": [
      "2022-12-22 16:22:08 [root] INFO: Parse auction.... https://sale.uslugi.io/sidp/900\n",
      "2022-12-22 16:22:08 [root] WARNING: [Дата на публикуване] CANNOT be extracted\n"
     ]
    },
    {
     "name": "stdout",
     "output_type": "stream",
     "text": [
      "Parse auction.... https://sale.uslugi.io/sidp/900\n"
     ]
    },
    {
     "name": "stderr",
     "output_type": "stream",
     "text": [
      "2022-12-22 16:22:09 [root] INFO: Parse auction.... https://sale.uslugi.io/sidp/1043\n",
      "2022-12-22 16:22:09 [root] WARNING: [Дата на публикуване] CANNOT be extracted\n"
     ]
    },
    {
     "name": "stdout",
     "output_type": "stream",
     "text": [
      "Parse auction.... https://sale.uslugi.io/sidp/1043\n"
     ]
    },
    {
     "name": "stderr",
     "output_type": "stream",
     "text": [
      "2022-12-22 16:22:09 [root] INFO: Parse auction.... https://sale.uslugi.io/sidp/1044\n",
      "2022-12-22 16:22:09 [root] WARNING: [Дата на публикуване] CANNOT be extracted\n"
     ]
    },
    {
     "name": "stdout",
     "output_type": "stream",
     "text": [
      "Parse auction.... https://sale.uslugi.io/sidp/1044\n"
     ]
    },
    {
     "name": "stderr",
     "output_type": "stream",
     "text": [
      "2022-12-22 16:22:10 [root] INFO: Parse auction.... https://sale.uslugi.io/sidp/891\n",
      "2022-12-22 16:22:10 [root] WARNING: [Дата на публикуване] CANNOT be extracted\n"
     ]
    },
    {
     "name": "stdout",
     "output_type": "stream",
     "text": [
      "Parse auction.... https://sale.uslugi.io/sidp/891\n"
     ]
    },
    {
     "name": "stderr",
     "output_type": "stream",
     "text": [
      "2022-12-22 16:22:10 [root] INFO: Parse auction.... https://sale.uslugi.io/sidp/1045\n",
      "2022-12-22 16:22:10 [root] WARNING: [Дата на публикуване] CANNOT be extracted\n"
     ]
    },
    {
     "name": "stdout",
     "output_type": "stream",
     "text": [
      "Parse auction.... https://sale.uslugi.io/sidp/1045\n"
     ]
    },
    {
     "name": "stderr",
     "output_type": "stream",
     "text": [
      "2022-12-22 16:22:11 [root] INFO: Parse auction.... https://sale.uslugi.io/sidp/1046\n",
      "2022-12-22 16:22:11 [root] WARNING: [Дата на публикуване] CANNOT be extracted\n"
     ]
    },
    {
     "name": "stdout",
     "output_type": "stream",
     "text": [
      "Parse auction.... https://sale.uslugi.io/sidp/1046\n"
     ]
    },
    {
     "name": "stderr",
     "output_type": "stream",
     "text": [
      "2022-12-22 16:22:12 [root] INFO: Parse auction.... https://sale.uslugi.io/sidp/1060\n",
      "2022-12-22 16:22:12 [root] WARNING: [Дата на публикуване] CANNOT be extracted\n"
     ]
    },
    {
     "name": "stdout",
     "output_type": "stream",
     "text": [
      "Parse auction.... https://sale.uslugi.io/sidp/1060\n"
     ]
    },
    {
     "name": "stderr",
     "output_type": "stream",
     "text": [
      "2022-12-22 16:22:12 [root] INFO: Parse auction.... https://sale.uslugi.io/sidp/1152\n",
      "2022-12-22 16:22:12 [root] WARNING: [Дата на публикуване] CANNOT be extracted\n"
     ]
    },
    {
     "name": "stdout",
     "output_type": "stream",
     "text": [
      "Parse auction.... https://sale.uslugi.io/sidp/1152\n"
     ]
    },
    {
     "name": "stderr",
     "output_type": "stream",
     "text": [
      "2022-12-22 16:22:13 [root] INFO: Parse auction.... https://sale.uslugi.io/sidp/1153\n",
      "2022-12-22 16:22:13 [root] WARNING: [Дата на публикуване] CANNOT be extracted\n"
     ]
    },
    {
     "name": "stdout",
     "output_type": "stream",
     "text": [
      "Parse auction.... https://sale.uslugi.io/sidp/1153\n"
     ]
    },
    {
     "name": "stderr",
     "output_type": "stream",
     "text": [
      "2022-12-22 16:22:14 [root] INFO: Parse auction.... https://sale.uslugi.io/sidp/1155\n",
      "2022-12-22 16:22:14 [root] WARNING: [Дата на публикуване] CANNOT be extracted\n"
     ]
    },
    {
     "name": "stdout",
     "output_type": "stream",
     "text": [
      "Parse auction.... https://sale.uslugi.io/sidp/1155\n"
     ]
    },
    {
     "name": "stderr",
     "output_type": "stream",
     "text": [
      "2022-12-22 16:22:14 [root] INFO: Parse auction.... https://sale.uslugi.io/sidp/1166\n",
      "2022-12-22 16:22:14 [root] WARNING: [Дата на публикуване] CANNOT be extracted\n"
     ]
    },
    {
     "name": "stdout",
     "output_type": "stream",
     "text": [
      "Parse auction.... https://sale.uslugi.io/sidp/1166\n"
     ]
    },
    {
     "name": "stderr",
     "output_type": "stream",
     "text": [
      "2022-12-22 16:22:15 [root] INFO: Parse auction.... https://sale.uslugi.io/sidp/1168\n",
      "2022-12-22 16:22:15 [root] WARNING: [Дата на публикуване] CANNOT be extracted\n"
     ]
    },
    {
     "name": "stdout",
     "output_type": "stream",
     "text": [
      "Parse auction.... https://sale.uslugi.io/sidp/1168\n"
     ]
    },
    {
     "name": "stderr",
     "output_type": "stream",
     "text": [
      "2022-12-22 16:22:15 [root] INFO: Parse auction.... https://sale.uslugi.io/sidp/1169\n",
      "2022-12-22 16:22:15 [root] WARNING: [Дата на публикуване] CANNOT be extracted\n"
     ]
    },
    {
     "name": "stdout",
     "output_type": "stream",
     "text": [
      "Parse auction.... https://sale.uslugi.io/sidp/1169\n"
     ]
    },
    {
     "name": "stderr",
     "output_type": "stream",
     "text": [
      "2022-12-22 16:22:16 [root] INFO: Parse auction.... https://sale.uslugi.io/sidp/1154\n",
      "2022-12-22 16:22:16 [root] WARNING: [Дата на публикуване] CANNOT be extracted\n"
     ]
    },
    {
     "name": "stdout",
     "output_type": "stream",
     "text": [
      "Parse auction.... https://sale.uslugi.io/sidp/1154\n"
     ]
    },
    {
     "name": "stderr",
     "output_type": "stream",
     "text": [
      "2022-12-22 16:22:16 [root] INFO: Parse auction.... https://sale.uslugi.io/sidp/1170\n",
      "2022-12-22 16:22:16 [root] WARNING: [Дата на публикуване] CANNOT be extracted\n"
     ]
    },
    {
     "name": "stdout",
     "output_type": "stream",
     "text": [
      "Parse auction.... https://sale.uslugi.io/sidp/1170\n"
     ]
    },
    {
     "name": "stderr",
     "output_type": "stream",
     "text": [
      "2022-12-22 16:22:17 [root] INFO: Parse auction.... https://sale.uslugi.io/sidp/1165\n",
      "2022-12-22 16:22:17 [root] WARNING: [Дата на публикуване] CANNOT be extracted\n"
     ]
    },
    {
     "name": "stdout",
     "output_type": "stream",
     "text": [
      "Parse auction.... https://sale.uslugi.io/sidp/1165\n"
     ]
    },
    {
     "name": "stderr",
     "output_type": "stream",
     "text": [
      "2022-12-22 16:22:18 [root] INFO: Parse auction.... https://sale.uslugi.io/sidp/1273\n"
     ]
    },
    {
     "name": "stdout",
     "output_type": "stream",
     "text": [
      "Parse auction.... https://sale.uslugi.io/sidp/1273\n"
     ]
    },
    {
     "name": "stderr",
     "output_type": "stream",
     "text": [
      "2022-12-22 16:22:18 [root] INFO: Parse auction.... https://sale.uslugi.io/sidp/1289\n"
     ]
    },
    {
     "name": "stdout",
     "output_type": "stream",
     "text": [
      "Parse auction.... https://sale.uslugi.io/sidp/1289\n"
     ]
    },
    {
     "name": "stderr",
     "output_type": "stream",
     "text": [
      "2022-12-22 16:22:19 [root] INFO: Parse auction.... https://sale.uslugi.io/sidp/1300\n"
     ]
    },
    {
     "name": "stdout",
     "output_type": "stream",
     "text": [
      "Parse auction.... https://sale.uslugi.io/sidp/1300\n"
     ]
    },
    {
     "name": "stderr",
     "output_type": "stream",
     "text": [
      "2022-12-22 16:22:19 [root] INFO: Parse auction.... https://sale.uslugi.io/sidp/1301\n"
     ]
    },
    {
     "name": "stdout",
     "output_type": "stream",
     "text": [
      "Parse auction.... https://sale.uslugi.io/sidp/1301\n"
     ]
    },
    {
     "name": "stderr",
     "output_type": "stream",
     "text": [
      "2022-12-22 16:22:20 [root] INFO: Parse auction.... https://sale.uslugi.io/sidp/1272\n"
     ]
    },
    {
     "name": "stdout",
     "output_type": "stream",
     "text": [
      "Parse auction.... https://sale.uslugi.io/sidp/1272\n"
     ]
    },
    {
     "name": "stderr",
     "output_type": "stream",
     "text": [
      "2022-12-22 16:22:21 [root] INFO: Parse auction.... https://sale.uslugi.io/sidp/1302\n"
     ]
    },
    {
     "name": "stdout",
     "output_type": "stream",
     "text": [
      "Parse auction.... https://sale.uslugi.io/sidp/1302\n"
     ]
    },
    {
     "name": "stderr",
     "output_type": "stream",
     "text": [
      "2022-12-22 16:22:21 [root] INFO: Parse auction.... https://sale.uslugi.io/sidp/1303\n"
     ]
    },
    {
     "name": "stdout",
     "output_type": "stream",
     "text": [
      "Parse auction.... https://sale.uslugi.io/sidp/1303\n"
     ]
    },
    {
     "name": "stderr",
     "output_type": "stream",
     "text": [
      "2022-12-22 16:22:22 [root] INFO: Parse auction.... https://sale.uslugi.io/sidp/1274\n"
     ]
    },
    {
     "name": "stdout",
     "output_type": "stream",
     "text": [
      "Parse auction.... https://sale.uslugi.io/sidp/1274\n"
     ]
    },
    {
     "name": "stderr",
     "output_type": "stream",
     "text": [
      "2022-12-22 16:22:23 [root] INFO: Parse auction.... https://sale.uslugi.io/sidp/1167\n",
      "2022-12-22 16:22:23 [root] WARNING: [Дата на публикуване] CANNOT be extracted\n"
     ]
    },
    {
     "name": "stdout",
     "output_type": "stream",
     "text": [
      "Parse auction.... https://sale.uslugi.io/sidp/1167\n"
     ]
    },
    {
     "name": "stderr",
     "output_type": "stream",
     "text": [
      "2022-12-22 16:22:23 [root] INFO: Parse auction.... https://sale.uslugi.io/sidp/1304\n"
     ]
    },
    {
     "name": "stdout",
     "output_type": "stream",
     "text": [
      "Parse auction.... https://sale.uslugi.io/sidp/1304\n"
     ]
    },
    {
     "name": "stderr",
     "output_type": "stream",
     "text": [
      "2022-12-22 16:22:24 [root] INFO: Parse auction.... https://sale.uslugi.io/sidp/1305\n"
     ]
    },
    {
     "name": "stdout",
     "output_type": "stream",
     "text": [
      "Parse auction.... https://sale.uslugi.io/sidp/1305\n"
     ]
    },
    {
     "name": "stderr",
     "output_type": "stream",
     "text": [
      "2022-12-22 16:22:24 [scrapy.extensions.logstats] INFO: Crawled 136 pages (at 136 pages/min), scraped 119 items (at 119 items/min)\n",
      "2022-12-22 16:22:24 [root] INFO: Parse auction.... https://sale.uslugi.io/sidp/1298\n"
     ]
    },
    {
     "name": "stdout",
     "output_type": "stream",
     "text": [
      "Parse auction.... https://sale.uslugi.io/sidp/1298\n"
     ]
    },
    {
     "name": "stderr",
     "output_type": "stream",
     "text": [
      "2022-12-22 16:22:25 [root] INFO: Parse auction.... https://sale.uslugi.io/sidp/1312\n"
     ]
    },
    {
     "name": "stdout",
     "output_type": "stream",
     "text": [
      "Parse auction.... https://sale.uslugi.io/sidp/1312\n"
     ]
    },
    {
     "name": "stderr",
     "output_type": "stream",
     "text": [
      "2022-12-22 16:22:26 [root] INFO: Parse auction.... https://sale.uslugi.io/sidp/1316\n"
     ]
    },
    {
     "name": "stdout",
     "output_type": "stream",
     "text": [
      "Parse auction.... https://sale.uslugi.io/sidp/1316\n"
     ]
    },
    {
     "name": "stderr",
     "output_type": "stream",
     "text": [
      "2022-12-22 16:22:26 [root] INFO: Parse auction.... https://sale.uslugi.io/sidp/1306\n"
     ]
    },
    {
     "name": "stdout",
     "output_type": "stream",
     "text": [
      "Parse auction.... https://sale.uslugi.io/sidp/1306\n"
     ]
    },
    {
     "name": "stderr",
     "output_type": "stream",
     "text": [
      "2022-12-22 16:22:27 [root] INFO: Parse auction.... https://sale.uslugi.io/sidp/1314\n"
     ]
    },
    {
     "name": "stdout",
     "output_type": "stream",
     "text": [
      "Parse auction.... https://sale.uslugi.io/sidp/1314\n"
     ]
    },
    {
     "name": "stderr",
     "output_type": "stream",
     "text": [
      "2022-12-22 16:22:27 [root] INFO: Parse auction.... https://sale.uslugi.io/sidp/1315\n"
     ]
    },
    {
     "name": "stdout",
     "output_type": "stream",
     "text": [
      "Parse auction.... https://sale.uslugi.io/sidp/1315\n"
     ]
    },
    {
     "name": "stderr",
     "output_type": "stream",
     "text": [
      "2022-12-22 16:22:28 [root] INFO: Parse auction.... https://sale.uslugi.io/sidp/1299\n"
     ]
    },
    {
     "name": "stdout",
     "output_type": "stream",
     "text": [
      "Parse auction.... https://sale.uslugi.io/sidp/1299\n"
     ]
    },
    {
     "name": "stderr",
     "output_type": "stream",
     "text": [
      "2022-12-22 16:22:29 [root] INFO: Parse auction.... https://sale.uslugi.io/sidp/1313\n"
     ]
    },
    {
     "name": "stdout",
     "output_type": "stream",
     "text": [
      "Parse auction.... https://sale.uslugi.io/sidp/1313\n"
     ]
    },
    {
     "name": "stderr",
     "output_type": "stream",
     "text": [
      "2022-12-22 16:22:29 [root] INFO: Parse auction.... https://sale.uslugi.io/sidp/1317\n"
     ]
    },
    {
     "name": "stdout",
     "output_type": "stream",
     "text": [
      "Parse auction.... https://sale.uslugi.io/sidp/1317\n"
     ]
    },
    {
     "name": "stderr",
     "output_type": "stream",
     "text": [
      "2022-12-22 16:22:30 [root] INFO: Parse auction.... https://sale.uslugi.io/sidp/1318\n"
     ]
    },
    {
     "name": "stdout",
     "output_type": "stream",
     "text": [
      "Parse auction.... https://sale.uslugi.io/sidp/1318\n"
     ]
    },
    {
     "name": "stderr",
     "output_type": "stream",
     "text": [
      "2022-12-22 16:22:30 [root] INFO: Parse auction.... https://sale.uslugi.io/sidp/1319\n"
     ]
    },
    {
     "name": "stdout",
     "output_type": "stream",
     "text": [
      "Parse auction.... https://sale.uslugi.io/sidp/1319\n"
     ]
    },
    {
     "name": "stderr",
     "output_type": "stream",
     "text": [
      "2022-12-22 16:22:31 [root] INFO: Parse auction.... https://sale.uslugi.io/sidp/1320\n"
     ]
    },
    {
     "name": "stdout",
     "output_type": "stream",
     "text": [
      "Parse auction.... https://sale.uslugi.io/sidp/1320\n"
     ]
    },
    {
     "name": "stderr",
     "output_type": "stream",
     "text": [
      "2022-12-22 16:22:32 [root] INFO: Parse auction.... https://sale.uslugi.io/sidp/1321\n"
     ]
    },
    {
     "name": "stdout",
     "output_type": "stream",
     "text": [
      "Parse auction.... https://sale.uslugi.io/sidp/1321\n"
     ]
    },
    {
     "name": "stderr",
     "output_type": "stream",
     "text": [
      "2022-12-22 16:22:32 [root] INFO: Parse auction.... https://sale.uslugi.io/sidp/1345\n",
      "2022-12-22 16:22:32 [root] INFO: Parse auction.... https://sale.uslugi.io/sidp/1342\n"
     ]
    },
    {
     "name": "stdout",
     "output_type": "stream",
     "text": [
      "Parse auction.... https://sale.uslugi.io/sidp/1345\n",
      "Parse auction.... https://sale.uslugi.io/sidp/1342\n"
     ]
    },
    {
     "name": "stderr",
     "output_type": "stream",
     "text": [
      "2022-12-22 16:22:33 [root] INFO: Parse auction.... https://sale.uslugi.io/sidp/1343\n"
     ]
    },
    {
     "name": "stdout",
     "output_type": "stream",
     "text": [
      "Parse auction.... https://sale.uslugi.io/sidp/1343\n"
     ]
    },
    {
     "name": "stderr",
     "output_type": "stream",
     "text": [
      "2022-12-22 16:22:33 [root] INFO: Parse auction.... https://sale.uslugi.io/sidp/1344\n",
      "2022-12-22 16:22:34 [root] INFO: Parse auction.... https://sale.uslugi.io/sidp/1496\n"
     ]
    },
    {
     "name": "stdout",
     "output_type": "stream",
     "text": [
      "Parse auction.... https://sale.uslugi.io/sidp/1344\n",
      "Parse auction.... https://sale.uslugi.io/sidp/1496\n"
     ]
    },
    {
     "name": "stderr",
     "output_type": "stream",
     "text": [
      "2022-12-22 16:22:34 [root] INFO: Parse auction.... https://sale.uslugi.io/sidp/1416\n"
     ]
    },
    {
     "name": "stdout",
     "output_type": "stream",
     "text": [
      "Parse auction.... https://sale.uslugi.io/sidp/1416\n"
     ]
    },
    {
     "name": "stderr",
     "output_type": "stream",
     "text": [
      "2022-12-22 16:22:35 [root] INFO: Parse auction.... https://sale.uslugi.io/sidp/1495\n"
     ]
    },
    {
     "name": "stdout",
     "output_type": "stream",
     "text": [
      "Parse auction.... https://sale.uslugi.io/sidp/1495\n"
     ]
    },
    {
     "name": "stderr",
     "output_type": "stream",
     "text": [
      "2022-12-22 16:22:35 [root] INFO: Parse auction.... https://sale.uslugi.io/sidp/1494\n"
     ]
    },
    {
     "name": "stdout",
     "output_type": "stream",
     "text": [
      "Parse auction.... https://sale.uslugi.io/sidp/1494\n"
     ]
    },
    {
     "name": "stderr",
     "output_type": "stream",
     "text": [
      "2022-12-22 16:22:36 [root] INFO: Parse auction.... https://sale.uslugi.io/sidp/1498\n"
     ]
    },
    {
     "name": "stdout",
     "output_type": "stream",
     "text": [
      "Parse auction.... https://sale.uslugi.io/sidp/1498\n"
     ]
    },
    {
     "name": "stderr",
     "output_type": "stream",
     "text": [
      "2022-12-22 16:22:37 [root] INFO: Parse auction.... https://sale.uslugi.io/sidp/1485\n"
     ]
    },
    {
     "name": "stdout",
     "output_type": "stream",
     "text": [
      "Parse auction.... https://sale.uslugi.io/sidp/1485\n"
     ]
    },
    {
     "name": "stderr",
     "output_type": "stream",
     "text": [
      "2022-12-22 16:22:37 [root] INFO: Parse auction.... https://sale.uslugi.io/sidp/1499\n"
     ]
    },
    {
     "name": "stdout",
     "output_type": "stream",
     "text": [
      "Parse auction.... https://sale.uslugi.io/sidp/1499\n"
     ]
    },
    {
     "name": "stderr",
     "output_type": "stream",
     "text": [
      "2022-12-22 16:22:38 [root] INFO: Parse auction.... https://sale.uslugi.io/sidp/1414\n"
     ]
    },
    {
     "name": "stdout",
     "output_type": "stream",
     "text": [
      "Parse auction.... https://sale.uslugi.io/sidp/1414\n"
     ]
    },
    {
     "name": "stderr",
     "output_type": "stream",
     "text": [
      "2022-12-22 16:22:39 [root] INFO: Parse auction.... https://sale.uslugi.io/sidp/1497\n"
     ]
    },
    {
     "name": "stdout",
     "output_type": "stream",
     "text": [
      "Parse auction.... https://sale.uslugi.io/sidp/1497\n"
     ]
    },
    {
     "name": "stderr",
     "output_type": "stream",
     "text": [
      "2022-12-22 16:22:39 [root] INFO: Parse auction.... https://sale.uslugi.io/sidp/1501\n"
     ]
    },
    {
     "name": "stdout",
     "output_type": "stream",
     "text": [
      "Parse auction.... https://sale.uslugi.io/sidp/1501\n"
     ]
    },
    {
     "name": "stderr",
     "output_type": "stream",
     "text": [
      "2022-12-22 16:22:40 [root] INFO: Parse auction.... https://sale.uslugi.io/sidp/1415\n"
     ]
    },
    {
     "name": "stdout",
     "output_type": "stream",
     "text": [
      "Parse auction.... https://sale.uslugi.io/sidp/1415\n"
     ]
    },
    {
     "name": "stderr",
     "output_type": "stream",
     "text": [
      "2022-12-22 16:22:40 [root] INFO: Parse auction.... https://sale.uslugi.io/sidp/1504\n"
     ]
    },
    {
     "name": "stdout",
     "output_type": "stream",
     "text": [
      "Parse auction.... https://sale.uslugi.io/sidp/1504\n"
     ]
    },
    {
     "name": "stderr",
     "output_type": "stream",
     "text": [
      "2022-12-22 16:22:41 [root] INFO: Parse auction.... https://sale.uslugi.io/sidp/1505\n"
     ]
    },
    {
     "name": "stdout",
     "output_type": "stream",
     "text": [
      "Parse auction.... https://sale.uslugi.io/sidp/1505\n"
     ]
    },
    {
     "name": "stderr",
     "output_type": "stream",
     "text": [
      "2022-12-22 16:22:41 [root] INFO: Parse auction.... https://sale.uslugi.io/sidp/1503\n"
     ]
    },
    {
     "name": "stdout",
     "output_type": "stream",
     "text": [
      "Parse auction.... https://sale.uslugi.io/sidp/1503\n"
     ]
    },
    {
     "name": "stderr",
     "output_type": "stream",
     "text": [
      "2022-12-22 16:22:42 [root] INFO: Parse auction.... https://sale.uslugi.io/sidp/1500\n"
     ]
    },
    {
     "name": "stdout",
     "output_type": "stream",
     "text": [
      "Parse auction.... https://sale.uslugi.io/sidp/1500\n"
     ]
    },
    {
     "name": "stderr",
     "output_type": "stream",
     "text": [
      "2022-12-22 16:22:43 [root] INFO: Parse auction.... https://sale.uslugi.io/sidp/1506\n",
      "2022-12-22 16:22:43 [root] INFO: Parse auction.... https://sale.uslugi.io/sidp/1509\n",
      "2022-12-22 16:22:43 [root] INFO: Parse auction.... https://sale.uslugi.io/sidp/1507\n",
      "2022-12-22 16:22:43 [root] INFO: Parse auction.... https://sale.uslugi.io/sidp/1511\n"
     ]
    },
    {
     "name": "stdout",
     "output_type": "stream",
     "text": [
      "Parse auction.... https://sale.uslugi.io/sidp/1506\n",
      "Parse auction.... https://sale.uslugi.io/sidp/1509\n",
      "Parse auction.... https://sale.uslugi.io/sidp/1507\n",
      "Parse auction.... https://sale.uslugi.io/sidp/1511\n"
     ]
    },
    {
     "name": "stderr",
     "output_type": "stream",
     "text": [
      "2022-12-22 16:22:44 [root] INFO: Parse auction.... https://sale.uslugi.io/sidp/1543\n"
     ]
    },
    {
     "name": "stdout",
     "output_type": "stream",
     "text": [
      "Parse auction.... https://sale.uslugi.io/sidp/1543\n"
     ]
    },
    {
     "name": "stderr",
     "output_type": "stream",
     "text": [
      "2022-12-22 16:22:44 [root] INFO: Parse auction.... https://sale.uslugi.io/sidp/1512\n"
     ]
    },
    {
     "name": "stdout",
     "output_type": "stream",
     "text": [
      "Parse auction.... https://sale.uslugi.io/sidp/1512\n"
     ]
    },
    {
     "name": "stderr",
     "output_type": "stream",
     "text": [
      "2022-12-22 16:22:45 [root] INFO: Parse auction.... https://sale.uslugi.io/sidp/1508\n",
      "2022-12-22 16:22:45 [root] INFO: Parse auction.... https://sale.uslugi.io/sidp/1513\n"
     ]
    },
    {
     "name": "stdout",
     "output_type": "stream",
     "text": [
      "Parse auction.... https://sale.uslugi.io/sidp/1508\n",
      "Parse auction.... https://sale.uslugi.io/sidp/1513\n"
     ]
    },
    {
     "name": "stderr",
     "output_type": "stream",
     "text": [
      "2022-12-22 16:22:45 [root] INFO: Parse auction.... https://sale.uslugi.io/sidp/1510\n"
     ]
    },
    {
     "name": "stdout",
     "output_type": "stream",
     "text": [
      "Parse auction.... https://sale.uslugi.io/sidp/1510\n"
     ]
    },
    {
     "name": "stderr",
     "output_type": "stream",
     "text": [
      "2022-12-22 16:22:46 [root] INFO: Parse auction.... https://sale.uslugi.io/sidp/1537\n"
     ]
    },
    {
     "name": "stdout",
     "output_type": "stream",
     "text": [
      "Parse auction.... https://sale.uslugi.io/sidp/1537\n"
     ]
    },
    {
     "name": "stderr",
     "output_type": "stream",
     "text": [
      "2022-12-22 16:22:47 [root] INFO: Parse auction.... https://sale.uslugi.io/sidp/1502\n"
     ]
    },
    {
     "name": "stdout",
     "output_type": "stream",
     "text": [
      "Parse auction.... https://sale.uslugi.io/sidp/1502\n"
     ]
    },
    {
     "name": "stderr",
     "output_type": "stream",
     "text": [
      "2022-12-22 16:22:48 [root] INFO: Parse auction.... https://sale.uslugi.io/sidp/1539\n"
     ]
    },
    {
     "name": "stdout",
     "output_type": "stream",
     "text": [
      "Parse auction.... https://sale.uslugi.io/sidp/1539\n"
     ]
    },
    {
     "name": "stderr",
     "output_type": "stream",
     "text": [
      "2022-12-22 16:22:48 [root] INFO: Parse auction.... https://sale.uslugi.io/sidp/1540\n"
     ]
    },
    {
     "name": "stdout",
     "output_type": "stream",
     "text": [
      "Parse auction.... https://sale.uslugi.io/sidp/1540\n"
     ]
    },
    {
     "name": "stderr",
     "output_type": "stream",
     "text": [
      "2022-12-22 16:22:49 [root] INFO: Parse auction.... https://sale.uslugi.io/sidp/1538\n"
     ]
    },
    {
     "name": "stdout",
     "output_type": "stream",
     "text": [
      "Parse auction.... https://sale.uslugi.io/sidp/1538\n"
     ]
    },
    {
     "name": "stderr",
     "output_type": "stream",
     "text": [
      "2022-12-22 16:22:50 [root] INFO: Parse auction.... https://sale.uslugi.io/sidp/1542\n"
     ]
    },
    {
     "name": "stdout",
     "output_type": "stream",
     "text": [
      "Parse auction.... https://sale.uslugi.io/sidp/1542\n"
     ]
    },
    {
     "name": "stderr",
     "output_type": "stream",
     "text": [
      "2022-12-22 16:22:50 [root] INFO: Parse auction.... https://sale.uslugi.io/sidp/1544\n",
      "2022-12-22 16:22:50 [root] INFO: Parse auction.... https://sale.uslugi.io/sidp/1545\n",
      "2022-12-22 16:22:50 [root] INFO: Parse auction.... https://sale.uslugi.io/sidp/1546\n",
      "2022-12-22 16:22:50 [root] INFO: Parse auction.... https://sale.uslugi.io/sidp/1547\n",
      "2022-12-22 16:22:50 [root] INFO: Parse auction.... https://sale.uslugi.io/sidp/1602\n"
     ]
    },
    {
     "name": "stdout",
     "output_type": "stream",
     "text": [
      "Parse auction.... https://sale.uslugi.io/sidp/1544\n",
      "Parse auction.... https://sale.uslugi.io/sidp/1545\n",
      "Parse auction.... https://sale.uslugi.io/sidp/1546\n",
      "Parse auction.... https://sale.uslugi.io/sidp/1547\n",
      "Parse auction.... https://sale.uslugi.io/sidp/1602\n"
     ]
    },
    {
     "name": "stderr",
     "output_type": "stream",
     "text": [
      "2022-12-22 16:22:51 [root] INFO: Parse auction.... https://sale.uslugi.io/sidp/1548\n",
      "2022-12-22 16:22:51 [root] INFO: Parse auction.... https://sale.uslugi.io/sidp/1624\n"
     ]
    },
    {
     "name": "stdout",
     "output_type": "stream",
     "text": [
      "Parse auction.... https://sale.uslugi.io/sidp/1548\n",
      "Parse auction.... https://sale.uslugi.io/sidp/1624\n"
     ]
    },
    {
     "name": "stderr",
     "output_type": "stream",
     "text": [
      "2022-12-22 16:22:52 [root] INFO: Parse auction.... https://sale.uslugi.io/sidp/1585\n"
     ]
    },
    {
     "name": "stdout",
     "output_type": "stream",
     "text": [
      "Parse auction.... https://sale.uslugi.io/sidp/1585\n"
     ]
    },
    {
     "name": "stderr",
     "output_type": "stream",
     "text": [
      "2022-12-22 16:22:52 [root] INFO: Parse auction.... https://sale.uslugi.io/sidp/1555\n"
     ]
    },
    {
     "name": "stdout",
     "output_type": "stream",
     "text": [
      "Parse auction.... https://sale.uslugi.io/sidp/1555\n"
     ]
    },
    {
     "name": "stderr",
     "output_type": "stream",
     "text": [
      "2022-12-22 16:22:53 [root] INFO: Parse auction.... https://sale.uslugi.io/sidp/1606\n"
     ]
    },
    {
     "name": "stdout",
     "output_type": "stream",
     "text": [
      "Parse auction.... https://sale.uslugi.io/sidp/1606\n"
     ]
    },
    {
     "name": "stderr",
     "output_type": "stream",
     "text": [
      "2022-12-22 16:22:53 [root] INFO: Parse auction.... https://sale.uslugi.io/sidp/1587\n"
     ]
    },
    {
     "name": "stdout",
     "output_type": "stream",
     "text": [
      "Parse auction.... https://sale.uslugi.io/sidp/1587\n"
     ]
    },
    {
     "name": "stderr",
     "output_type": "stream",
     "text": [
      "2022-12-22 16:22:54 [root] INFO: Parse auction.... https://sale.uslugi.io/sidp/1627\n"
     ]
    },
    {
     "name": "stdout",
     "output_type": "stream",
     "text": [
      "Parse auction.... https://sale.uslugi.io/sidp/1627\n"
     ]
    },
    {
     "name": "stderr",
     "output_type": "stream",
     "text": [
      "2022-12-22 16:22:55 [root] INFO: Parse auction.... https://sale.uslugi.io/sidp/1586\n"
     ]
    },
    {
     "name": "stdout",
     "output_type": "stream",
     "text": [
      "Parse auction.... https://sale.uslugi.io/sidp/1586\n"
     ]
    },
    {
     "name": "stderr",
     "output_type": "stream",
     "text": [
      "2022-12-22 16:22:55 [root] INFO: Parse auction.... https://sale.uslugi.io/sidp/1638\n"
     ]
    },
    {
     "name": "stdout",
     "output_type": "stream",
     "text": [
      "Parse auction.... https://sale.uslugi.io/sidp/1638\n"
     ]
    },
    {
     "name": "stderr",
     "output_type": "stream",
     "text": [
      "2022-12-22 16:22:56 [root] INFO: Parse auction.... https://sale.uslugi.io/sidp/1623\n"
     ]
    },
    {
     "name": "stdout",
     "output_type": "stream",
     "text": [
      "Parse auction.... https://sale.uslugi.io/sidp/1623\n"
     ]
    },
    {
     "name": "stderr",
     "output_type": "stream",
     "text": [
      "2022-12-22 16:22:56 [root] INFO: Parse auction.... https://sale.uslugi.io/sidp/1653\n"
     ]
    },
    {
     "name": "stdout",
     "output_type": "stream",
     "text": [
      "Parse auction.... https://sale.uslugi.io/sidp/1653\n"
     ]
    },
    {
     "name": "stderr",
     "output_type": "stream",
     "text": [
      "2022-12-22 16:22:57 [root] INFO: Parse auction.... https://sale.uslugi.io/sidp/1656\n",
      "2022-12-22 16:22:57 [root] INFO: Parse auction.... https://sale.uslugi.io/sidp/1629\n"
     ]
    },
    {
     "name": "stdout",
     "output_type": "stream",
     "text": [
      "Parse auction.... https://sale.uslugi.io/sidp/1656\n",
      "Parse auction.... https://sale.uslugi.io/sidp/1629\n"
     ]
    },
    {
     "name": "stderr",
     "output_type": "stream",
     "text": [
      "2022-12-22 16:22:57 [root] INFO: Parse auction.... https://sale.uslugi.io/sidp/1626\n"
     ]
    },
    {
     "name": "stdout",
     "output_type": "stream",
     "text": [
      "Parse auction.... https://sale.uslugi.io/sidp/1626\n"
     ]
    },
    {
     "name": "stderr",
     "output_type": "stream",
     "text": [
      "2022-12-22 16:22:58 [root] INFO: Parse auction.... https://sale.uslugi.io/sidp/1628\n"
     ]
    },
    {
     "name": "stdout",
     "output_type": "stream",
     "text": [
      "Parse auction.... https://sale.uslugi.io/sidp/1628\n"
     ]
    },
    {
     "name": "stderr",
     "output_type": "stream",
     "text": [
      "2022-12-22 16:22:59 [root] INFO: Parse auction.... https://sale.uslugi.io/sidp/1660\n"
     ]
    },
    {
     "name": "stdout",
     "output_type": "stream",
     "text": [
      "Parse auction.... https://sale.uslugi.io/sidp/1660\n"
     ]
    },
    {
     "name": "stderr",
     "output_type": "stream",
     "text": [
      "2022-12-22 16:22:59 [root] INFO: Parse auction.... https://sale.uslugi.io/sidp/1652\n"
     ]
    },
    {
     "name": "stdout",
     "output_type": "stream",
     "text": [
      "Parse auction.... https://sale.uslugi.io/sidp/1652\n"
     ]
    },
    {
     "name": "stderr",
     "output_type": "stream",
     "text": [
      "2022-12-22 16:23:00 [root] INFO: Parse auction.... https://sale.uslugi.io/sidp/1661\n"
     ]
    },
    {
     "name": "stdout",
     "output_type": "stream",
     "text": [
      "Parse auction.... https://sale.uslugi.io/sidp/1661\n"
     ]
    },
    {
     "name": "stderr",
     "output_type": "stream",
     "text": [
      "2022-12-22 16:23:00 [root] INFO: Parse auction.... https://sale.uslugi.io/sidp/1703\n"
     ]
    },
    {
     "name": "stdout",
     "output_type": "stream",
     "text": [
      "Parse auction.... https://sale.uslugi.io/sidp/1703\n"
     ]
    },
    {
     "name": "stderr",
     "output_type": "stream",
     "text": [
      "2022-12-22 16:23:01 [root] INFO: Parse auction.... https://sale.uslugi.io/sidp/1704\n"
     ]
    },
    {
     "name": "stdout",
     "output_type": "stream",
     "text": [
      "Parse auction.... https://sale.uslugi.io/sidp/1704\n"
     ]
    },
    {
     "name": "stderr",
     "output_type": "stream",
     "text": [
      "2022-12-22 16:23:02 [root] INFO: Parse auction.... https://sale.uslugi.io/sidp/1625\n"
     ]
    },
    {
     "name": "stdout",
     "output_type": "stream",
     "text": [
      "Parse auction.... https://sale.uslugi.io/sidp/1625\n"
     ]
    },
    {
     "name": "stderr",
     "output_type": "stream",
     "text": [
      "2022-12-22 16:23:02 [root] INFO: Parse auction.... https://sale.uslugi.io/sidp/1706\n"
     ]
    },
    {
     "name": "stdout",
     "output_type": "stream",
     "text": [
      "Parse auction.... https://sale.uslugi.io/sidp/1706\n"
     ]
    },
    {
     "name": "stderr",
     "output_type": "stream",
     "text": [
      "2022-12-22 16:23:03 [root] INFO: Parse auction.... https://sale.uslugi.io/sidp/1657\n",
      "2022-12-22 16:23:03 [root] INFO: Parse auction.... https://sale.uslugi.io/sidp/1705\n"
     ]
    },
    {
     "name": "stdout",
     "output_type": "stream",
     "text": [
      "Parse auction.... https://sale.uslugi.io/sidp/1657\n",
      "Parse auction.... https://sale.uslugi.io/sidp/1705\n"
     ]
    },
    {
     "name": "stderr",
     "output_type": "stream",
     "text": [
      "2022-12-22 16:23:03 [root] INFO: Parse auction.... https://sale.uslugi.io/sidp/1669\n"
     ]
    },
    {
     "name": "stdout",
     "output_type": "stream",
     "text": [
      "Parse auction.... https://sale.uslugi.io/sidp/1669\n"
     ]
    },
    {
     "name": "stderr",
     "output_type": "stream",
     "text": [
      "2022-12-22 16:23:04 [root] INFO: Parse auction.... https://sale.uslugi.io/sidp/1708\n"
     ]
    },
    {
     "name": "stdout",
     "output_type": "stream",
     "text": [
      "Parse auction.... https://sale.uslugi.io/sidp/1708\n"
     ]
    },
    {
     "name": "stderr",
     "output_type": "stream",
     "text": [
      "2022-12-22 16:23:05 [root] INFO: Parse auction.... https://sale.uslugi.io/sidp/1707\n"
     ]
    },
    {
     "name": "stdout",
     "output_type": "stream",
     "text": [
      "Parse auction.... https://sale.uslugi.io/sidp/1707\n"
     ]
    },
    {
     "name": "stderr",
     "output_type": "stream",
     "text": [
      "2022-12-22 16:23:05 [root] INFO: Parse auction.... https://sale.uslugi.io/sidp/1711\n"
     ]
    },
    {
     "name": "stdout",
     "output_type": "stream",
     "text": [
      "Parse auction.... https://sale.uslugi.io/sidp/1711\n"
     ]
    },
    {
     "name": "stderr",
     "output_type": "stream",
     "text": [
      "2022-12-22 16:23:06 [root] INFO: Parse auction.... https://sale.uslugi.io/sidp/1712\n"
     ]
    },
    {
     "name": "stdout",
     "output_type": "stream",
     "text": [
      "Parse auction.... https://sale.uslugi.io/sidp/1712\n"
     ]
    },
    {
     "name": "stderr",
     "output_type": "stream",
     "text": [
      "2022-12-22 16:23:06 [root] INFO: Parse auction.... https://sale.uslugi.io/sidp/1713\n"
     ]
    },
    {
     "name": "stdout",
     "output_type": "stream",
     "text": [
      "Parse auction.... https://sale.uslugi.io/sidp/1713\n"
     ]
    },
    {
     "name": "stderr",
     "output_type": "stream",
     "text": [
      "2022-12-22 16:23:07 [root] INFO: Parse auction.... https://sale.uslugi.io/sidp/1714\n"
     ]
    },
    {
     "name": "stdout",
     "output_type": "stream",
     "text": [
      "Parse auction.... https://sale.uslugi.io/sidp/1714\n"
     ]
    },
    {
     "name": "stderr",
     "output_type": "stream",
     "text": [
      "2022-12-22 16:23:08 [root] INFO: Parse auction.... https://sale.uslugi.io/sidp/1715\n",
      "2022-12-22 16:23:08 [root] INFO: Parse auction.... https://sale.uslugi.io/sidp/1716\n",
      "2022-12-22 16:23:08 [root] INFO: Parse auction.... https://sale.uslugi.io/sidp/1717\n",
      "2022-12-22 16:23:08 [root] INFO: Parse auction.... https://sale.uslugi.io/sidp/1719\n",
      "2022-12-22 16:23:08 [root] INFO: Parse auction.... https://sale.uslugi.io/sidp/1718\n",
      "2022-12-22 16:23:08 [root] INFO: Parse auction.... https://sale.uslugi.io/sidp/1724\n"
     ]
    },
    {
     "name": "stdout",
     "output_type": "stream",
     "text": [
      "Parse auction.... https://sale.uslugi.io/sidp/1715\n",
      "Parse auction.... https://sale.uslugi.io/sidp/1716\n",
      "Parse auction.... https://sale.uslugi.io/sidp/1717\n",
      "Parse auction.... https://sale.uslugi.io/sidp/1719\n",
      "Parse auction.... https://sale.uslugi.io/sidp/1718\n",
      "Parse auction.... https://sale.uslugi.io/sidp/1724\n"
     ]
    },
    {
     "name": "stderr",
     "output_type": "stream",
     "text": [
      "2022-12-22 16:23:08 [root] INFO: Parse auction.... https://sale.uslugi.io/sidp/1728\n"
     ]
    },
    {
     "name": "stdout",
     "output_type": "stream",
     "text": [
      "Parse auction.... https://sale.uslugi.io/sidp/1728\n"
     ]
    },
    {
     "name": "stderr",
     "output_type": "stream",
     "text": [
      "2022-12-22 16:23:09 [root] INFO: Parse auction.... https://sale.uslugi.io/sidp/1729\n"
     ]
    },
    {
     "name": "stdout",
     "output_type": "stream",
     "text": [
      "Parse auction.... https://sale.uslugi.io/sidp/1729\n"
     ]
    },
    {
     "name": "stderr",
     "output_type": "stream",
     "text": [
      "2022-12-22 16:23:10 [root] INFO: Parse auction.... https://sale.uslugi.io/sidp/1725\n"
     ]
    },
    {
     "name": "stdout",
     "output_type": "stream",
     "text": [
      "Parse auction.... https://sale.uslugi.io/sidp/1725\n"
     ]
    },
    {
     "name": "stderr",
     "output_type": "stream",
     "text": [
      "2022-12-22 16:23:10 [root] INFO: Parse auction.... https://sale.uslugi.io/sidp/1747\n"
     ]
    },
    {
     "name": "stdout",
     "output_type": "stream",
     "text": [
      "Parse auction.... https://sale.uslugi.io/sidp/1747\n"
     ]
    },
    {
     "name": "stderr",
     "output_type": "stream",
     "text": [
      "2022-12-22 16:23:11 [root] INFO: Parse auction.... https://sale.uslugi.io/sidp/1730\n"
     ]
    },
    {
     "name": "stdout",
     "output_type": "stream",
     "text": [
      "Parse auction.... https://sale.uslugi.io/sidp/1730\n"
     ]
    },
    {
     "name": "stderr",
     "output_type": "stream",
     "text": [
      "2022-12-22 16:23:11 [root] INFO: Parse auction.... https://sale.uslugi.io/sidp/1748\n"
     ]
    },
    {
     "name": "stdout",
     "output_type": "stream",
     "text": [
      "Parse auction.... https://sale.uslugi.io/sidp/1748\n"
     ]
    },
    {
     "name": "stderr",
     "output_type": "stream",
     "text": [
      "2022-12-22 16:23:12 [root] INFO: Parse auction.... https://sale.uslugi.io/sidp/1745\n"
     ]
    },
    {
     "name": "stdout",
     "output_type": "stream",
     "text": [
      "Parse auction.... https://sale.uslugi.io/sidp/1745\n"
     ]
    },
    {
     "name": "stderr",
     "output_type": "stream",
     "text": [
      "2022-12-22 16:23:13 [root] INFO: Parse auction.... https://sale.uslugi.io/sidp/1727\n"
     ]
    },
    {
     "name": "stdout",
     "output_type": "stream",
     "text": [
      "Parse auction.... https://sale.uslugi.io/sidp/1727\n"
     ]
    },
    {
     "name": "stderr",
     "output_type": "stream",
     "text": [
      "2022-12-22 16:23:13 [root] INFO: Parse auction.... https://sale.uslugi.io/sidp/1749\n"
     ]
    },
    {
     "name": "stdout",
     "output_type": "stream",
     "text": [
      "Parse auction.... https://sale.uslugi.io/sidp/1749\n"
     ]
    },
    {
     "name": "stderr",
     "output_type": "stream",
     "text": [
      "2022-12-22 16:23:14 [root] INFO: Parse auction.... https://sale.uslugi.io/sidp/1756\n"
     ]
    },
    {
     "name": "stdout",
     "output_type": "stream",
     "text": [
      "Parse auction.... https://sale.uslugi.io/sidp/1756\n"
     ]
    },
    {
     "name": "stderr",
     "output_type": "stream",
     "text": [
      "2022-12-22 16:23:14 [root] INFO: Parse auction.... https://sale.uslugi.io/sidp/1726\n"
     ]
    },
    {
     "name": "stdout",
     "output_type": "stream",
     "text": [
      "Parse auction.... https://sale.uslugi.io/sidp/1726\n"
     ]
    },
    {
     "name": "stderr",
     "output_type": "stream",
     "text": [
      "2022-12-22 16:23:15 [root] INFO: Parse auction.... https://sale.uslugi.io/sidp/1751\n"
     ]
    },
    {
     "name": "stdout",
     "output_type": "stream",
     "text": [
      "Parse auction.... https://sale.uslugi.io/sidp/1751\n"
     ]
    },
    {
     "name": "stderr",
     "output_type": "stream",
     "text": [
      "2022-12-22 16:23:15 [root] INFO: Parse auction.... https://sale.uslugi.io/sidp/1750\n"
     ]
    },
    {
     "name": "stdout",
     "output_type": "stream",
     "text": [
      "Parse auction.... https://sale.uslugi.io/sidp/1750\n"
     ]
    },
    {
     "name": "stderr",
     "output_type": "stream",
     "text": [
      "2022-12-22 16:23:16 [root] INFO: Parse auction.... https://sale.uslugi.io/sidp/1752\n"
     ]
    },
    {
     "name": "stdout",
     "output_type": "stream",
     "text": [
      "Parse auction.... https://sale.uslugi.io/sidp/1752\n"
     ]
    },
    {
     "name": "stderr",
     "output_type": "stream",
     "text": [
      "2022-12-22 16:23:17 [root] INFO: Parse auction.... https://sale.uslugi.io/sidp/1755\n"
     ]
    },
    {
     "name": "stdout",
     "output_type": "stream",
     "text": [
      "Parse auction.... https://sale.uslugi.io/sidp/1755\n"
     ]
    },
    {
     "name": "stderr",
     "output_type": "stream",
     "text": [
      "2022-12-22 16:23:17 [root] INFO: Parse auction.... https://sale.uslugi.io/sidp/1746\n"
     ]
    },
    {
     "name": "stdout",
     "output_type": "stream",
     "text": [
      "Parse auction.... https://sale.uslugi.io/sidp/1746\n"
     ]
    },
    {
     "name": "stderr",
     "output_type": "stream",
     "text": [
      "2022-12-22 16:23:18 [root] INFO: Parse auction.... https://sale.uslugi.io/sidp/1758\n"
     ]
    },
    {
     "name": "stdout",
     "output_type": "stream",
     "text": [
      "Parse auction.... https://sale.uslugi.io/sidp/1758\n"
     ]
    },
    {
     "name": "stderr",
     "output_type": "stream",
     "text": [
      "2022-12-22 16:23:18 [root] INFO: Parse auction.... https://sale.uslugi.io/sidp/1759\n"
     ]
    },
    {
     "name": "stdout",
     "output_type": "stream",
     "text": [
      "Parse auction.... https://sale.uslugi.io/sidp/1759\n"
     ]
    },
    {
     "name": "stderr",
     "output_type": "stream",
     "text": [
      "2022-12-22 16:23:19 [root] INFO: Parse auction.... https://sale.uslugi.io/sidp/1760\n"
     ]
    },
    {
     "name": "stdout",
     "output_type": "stream",
     "text": [
      "Parse auction.... https://sale.uslugi.io/sidp/1760\n"
     ]
    },
    {
     "name": "stderr",
     "output_type": "stream",
     "text": [
      "2022-12-22 16:23:20 [root] INFO: Parse auction.... https://sale.uslugi.io/sidp/1757\n"
     ]
    },
    {
     "name": "stdout",
     "output_type": "stream",
     "text": [
      "Parse auction.... https://sale.uslugi.io/sidp/1757\n"
     ]
    },
    {
     "name": "stderr",
     "output_type": "stream",
     "text": [
      "2022-12-22 16:23:20 [root] INFO: Parse auction.... https://sale.uslugi.io/sidp/1753\n"
     ]
    },
    {
     "name": "stdout",
     "output_type": "stream",
     "text": [
      "Parse auction.... https://sale.uslugi.io/sidp/1753\n"
     ]
    },
    {
     "name": "stderr",
     "output_type": "stream",
     "text": [
      "2022-12-22 16:23:21 [root] INFO: Parse auction.... https://sale.uslugi.io/sidp/1754\n"
     ]
    },
    {
     "name": "stdout",
     "output_type": "stream",
     "text": [
      "Parse auction.... https://sale.uslugi.io/sidp/1754\n"
     ]
    },
    {
     "name": "stderr",
     "output_type": "stream",
     "text": [
      "2022-12-22 16:23:21 [root] INFO: Parse auction.... https://sale.uslugi.io/sidp/1761\n"
     ]
    },
    {
     "name": "stdout",
     "output_type": "stream",
     "text": [
      "Parse auction.... https://sale.uslugi.io/sidp/1761\n"
     ]
    },
    {
     "name": "stderr",
     "output_type": "stream",
     "text": [
      "2022-12-22 16:23:22 [root] INFO: Parse auction.... https://sale.uslugi.io/sidp/1763\n"
     ]
    },
    {
     "name": "stdout",
     "output_type": "stream",
     "text": [
      "Parse auction.... https://sale.uslugi.io/sidp/1763\n"
     ]
    },
    {
     "name": "stderr",
     "output_type": "stream",
     "text": [
      "2022-12-22 16:23:23 [root] INFO: Parse auction.... https://sale.uslugi.io/sidp/1762\n"
     ]
    },
    {
     "name": "stdout",
     "output_type": "stream",
     "text": [
      "Parse auction.... https://sale.uslugi.io/sidp/1762\n"
     ]
    },
    {
     "name": "stderr",
     "output_type": "stream",
     "text": [
      "2022-12-22 16:23:23 [scrapy.extensions.logstats] INFO: Crawled 242 pages (at 106 pages/min), scraped 233 items (at 114 items/min)\n",
      "2022-12-22 16:23:23 [root] INFO: Parse auction.... https://sale.uslugi.io/sidp/1765\n"
     ]
    },
    {
     "name": "stdout",
     "output_type": "stream",
     "text": [
      "Parse auction.... https://sale.uslugi.io/sidp/1765\n"
     ]
    },
    {
     "name": "stderr",
     "output_type": "stream",
     "text": [
      "2022-12-22 16:23:24 [root] INFO: Parse auction.... https://sale.uslugi.io/sidp/1766\n"
     ]
    },
    {
     "name": "stdout",
     "output_type": "stream",
     "text": [
      "Parse auction.... https://sale.uslugi.io/sidp/1766\n"
     ]
    },
    {
     "name": "stderr",
     "output_type": "stream",
     "text": [
      "2022-12-22 16:23:24 [root] INFO: Parse auction.... https://sale.uslugi.io/sidp/1769\n"
     ]
    },
    {
     "name": "stdout",
     "output_type": "stream",
     "text": [
      "Parse auction.... https://sale.uslugi.io/sidp/1769\n"
     ]
    },
    {
     "name": "stderr",
     "output_type": "stream",
     "text": [
      "2022-12-22 16:23:25 [root] INFO: Parse auction.... https://sale.uslugi.io/sidp/1770\n"
     ]
    },
    {
     "name": "stdout",
     "output_type": "stream",
     "text": [
      "Parse auction.... https://sale.uslugi.io/sidp/1770\n"
     ]
    },
    {
     "name": "stderr",
     "output_type": "stream",
     "text": [
      "2022-12-22 16:23:26 [root] INFO: Parse auction.... https://sale.uslugi.io/sidp/1764\n"
     ]
    },
    {
     "name": "stdout",
     "output_type": "stream",
     "text": [
      "Parse auction.... https://sale.uslugi.io/sidp/1764\n"
     ]
    },
    {
     "name": "stderr",
     "output_type": "stream",
     "text": [
      "2022-12-22 16:23:26 [root] INFO: Parse auction.... https://sale.uslugi.io/sidp/1771\n"
     ]
    },
    {
     "name": "stdout",
     "output_type": "stream",
     "text": [
      "Parse auction.... https://sale.uslugi.io/sidp/1771\n"
     ]
    },
    {
     "name": "stderr",
     "output_type": "stream",
     "text": [
      "2022-12-22 16:23:27 [root] INFO: Parse auction.... https://sale.uslugi.io/sidp/1772\n"
     ]
    },
    {
     "name": "stdout",
     "output_type": "stream",
     "text": [
      "Parse auction.... https://sale.uslugi.io/sidp/1772\n"
     ]
    },
    {
     "name": "stderr",
     "output_type": "stream",
     "text": [
      "2022-12-22 16:23:27 [root] INFO: Parse auction.... https://sale.uslugi.io/sidp/1776\n"
     ]
    },
    {
     "name": "stdout",
     "output_type": "stream",
     "text": [
      "Parse auction.... https://sale.uslugi.io/sidp/1776\n"
     ]
    },
    {
     "name": "stderr",
     "output_type": "stream",
     "text": [
      "2022-12-22 16:23:28 [root] INFO: Parse auction.... https://sale.uslugi.io/sidp/1817\n"
     ]
    },
    {
     "name": "stdout",
     "output_type": "stream",
     "text": [
      "Parse auction.... https://sale.uslugi.io/sidp/1817\n"
     ]
    },
    {
     "name": "stderr",
     "output_type": "stream",
     "text": [
      "2022-12-22 16:23:28 [root] INFO: Parse auction.... https://sale.uslugi.io/sidp/1811\n"
     ]
    },
    {
     "name": "stdout",
     "output_type": "stream",
     "text": [
      "ERROR No pdf file provided\n",
      "Parse auction.... https://sale.uslugi.io/sidp/1811\n"
     ]
    },
    {
     "name": "stderr",
     "output_type": "stream",
     "text": [
      "2022-12-22 16:23:29 [root] INFO: Parse auction.... https://sale.uslugi.io/sidp/1815\n"
     ]
    },
    {
     "name": "stdout",
     "output_type": "stream",
     "text": [
      "Parse auction.... https://sale.uslugi.io/sidp/1815\n"
     ]
    },
    {
     "name": "stderr",
     "output_type": "stream",
     "text": [
      "2022-12-22 16:23:29 [root] INFO: Parse auction.... https://sale.uslugi.io/sidp/1825\n"
     ]
    },
    {
     "name": "stdout",
     "output_type": "stream",
     "text": [
      "ERROR No pdf file provided\n",
      "Parse auction.... https://sale.uslugi.io/sidp/1825\n"
     ]
    },
    {
     "name": "stderr",
     "output_type": "stream",
     "text": [
      "2022-12-22 16:23:30 [root] INFO: Parse auction.... https://sale.uslugi.io/sidp/1813\n"
     ]
    },
    {
     "name": "stdout",
     "output_type": "stream",
     "text": [
      "Parse auction.... https://sale.uslugi.io/sidp/1813\n"
     ]
    },
    {
     "name": "stderr",
     "output_type": "stream",
     "text": [
      "2022-12-22 16:23:30 [root] INFO: Parse auction.... https://sale.uslugi.io/sidp/1812\n"
     ]
    },
    {
     "name": "stdout",
     "output_type": "stream",
     "text": [
      "ERROR No pdf file provided\n",
      "Parse auction.... https://sale.uslugi.io/sidp/1812\n"
     ]
    },
    {
     "name": "stderr",
     "output_type": "stream",
     "text": [
      "2022-12-22 16:23:31 [root] INFO: Parse auction.... https://sale.uslugi.io/sidp/1819\n"
     ]
    },
    {
     "name": "stdout",
     "output_type": "stream",
     "text": [
      "Parse auction.... https://sale.uslugi.io/sidp/1819\n"
     ]
    },
    {
     "name": "stderr",
     "output_type": "stream",
     "text": [
      "2022-12-22 16:23:31 [root] INFO: Parse auction.... https://sale.uslugi.io/sidp/1816\n"
     ]
    },
    {
     "name": "stdout",
     "output_type": "stream",
     "text": [
      "ERROR No pdf file provided\n",
      "Parse auction.... https://sale.uslugi.io/sidp/1816\n"
     ]
    },
    {
     "name": "stderr",
     "output_type": "stream",
     "text": [
      "2022-12-22 16:23:31 [root] INFO: Parse auction.... https://sale.uslugi.io/sidp/1814\n"
     ]
    },
    {
     "name": "stdout",
     "output_type": "stream",
     "text": [
      "ERROR No pdf file provided\n",
      "Parse auction.... https://sale.uslugi.io/sidp/1814\n"
     ]
    },
    {
     "name": "stderr",
     "output_type": "stream",
     "text": [
      "2022-12-22 16:23:31 [root] INFO: Parse auction.... https://sale.uslugi.io/sidp/1820\n"
     ]
    },
    {
     "name": "stdout",
     "output_type": "stream",
     "text": [
      "ERROR No pdf file provided\n",
      "Parse auction.... https://sale.uslugi.io/sidp/1820\n"
     ]
    },
    {
     "name": "stderr",
     "output_type": "stream",
     "text": [
      "2022-12-22 16:23:32 [root] INFO: Parse auction.... https://sale.uslugi.io/sidp/1838\n"
     ]
    },
    {
     "name": "stdout",
     "output_type": "stream",
     "text": [
      "ERROR No pdf file provided\n",
      "Parse auction.... https://sale.uslugi.io/sidp/1838\n"
     ]
    },
    {
     "name": "stderr",
     "output_type": "stream",
     "text": [
      "2022-12-22 16:23:33 [root] INFO: Parse auction.... https://sale.uslugi.io/sidp/1833\n"
     ]
    },
    {
     "name": "stdout",
     "output_type": "stream",
     "text": [
      "Parse auction.... https://sale.uslugi.io/sidp/1833\n"
     ]
    },
    {
     "name": "stderr",
     "output_type": "stream",
     "text": [
      "2022-12-22 16:23:33 [root] INFO: Parse auction.... https://sale.uslugi.io/sidp/1842\n"
     ]
    },
    {
     "name": "stdout",
     "output_type": "stream",
     "text": [
      "Parse auction.... https://sale.uslugi.io/sidp/1842\n"
     ]
    },
    {
     "name": "stderr",
     "output_type": "stream",
     "text": [
      "2022-12-22 16:23:34 [root] INFO: Parse auction.... https://sale.uslugi.io/sidp/1837\n"
     ]
    },
    {
     "name": "stdout",
     "output_type": "stream",
     "text": [
      "Parse auction.... https://sale.uslugi.io/sidp/1837\n"
     ]
    },
    {
     "name": "stderr",
     "output_type": "stream",
     "text": [
      "2022-12-22 16:23:35 [root] INFO: Parse auction.... https://sale.uslugi.io/sidp/1840\n"
     ]
    },
    {
     "name": "stdout",
     "output_type": "stream",
     "text": [
      "Parse auction.... https://sale.uslugi.io/sidp/1840\n"
     ]
    },
    {
     "name": "stderr",
     "output_type": "stream",
     "text": [
      "2022-12-22 16:23:35 [root] INFO: Parse auction.... https://sale.uslugi.io/sidp/1818\n"
     ]
    },
    {
     "name": "stdout",
     "output_type": "stream",
     "text": [
      "Parse auction.... https://sale.uslugi.io/sidp/1818\n",
      "ERROR No pdf file provided\n"
     ]
    },
    {
     "name": "stderr",
     "output_type": "stream",
     "text": [
      "2022-12-22 16:23:36 [root] INFO: Parse auction.... https://sale.uslugi.io/sidp/1843\n"
     ]
    },
    {
     "name": "stdout",
     "output_type": "stream",
     "text": [
      "Parse auction.... https://sale.uslugi.io/sidp/1843\n"
     ]
    },
    {
     "name": "stderr",
     "output_type": "stream",
     "text": [
      "2022-12-22 16:23:36 [root] INFO: Parse auction.... https://sale.uslugi.io/sidp/1841\n"
     ]
    },
    {
     "name": "stdout",
     "output_type": "stream",
     "text": [
      "Parse auction.... https://sale.uslugi.io/sidp/1841\n"
     ]
    },
    {
     "name": "stderr",
     "output_type": "stream",
     "text": [
      "2022-12-22 16:23:37 [root] INFO: Parse auction.... https://sale.uslugi.io/sidp/1851\n"
     ]
    },
    {
     "name": "stdout",
     "output_type": "stream",
     "text": [
      "Parse auction.... https://sale.uslugi.io/sidp/1851\n"
     ]
    },
    {
     "name": "stderr",
     "output_type": "stream",
     "text": [
      "2022-12-22 16:23:37 [root] INFO: Parse auction.... https://sale.uslugi.io/sidp/1844\n"
     ]
    },
    {
     "name": "stdout",
     "output_type": "stream",
     "text": [
      "Parse auction.... https://sale.uslugi.io/sidp/1844\n"
     ]
    },
    {
     "name": "stderr",
     "output_type": "stream",
     "text": [
      "2022-12-22 16:23:38 [root] INFO: Parse auction.... https://sale.uslugi.io/sidp/1855\n",
      "2022-12-22 16:23:38 [root] INFO: Parse auction.... https://sale.uslugi.io/sidp/1853\n"
     ]
    },
    {
     "name": "stdout",
     "output_type": "stream",
     "text": [
      "Parse auction.... https://sale.uslugi.io/sidp/1855\n",
      "Parse auction.... https://sale.uslugi.io/sidp/1853\n"
     ]
    },
    {
     "name": "stderr",
     "output_type": "stream",
     "text": [
      "2022-12-22 16:23:39 [root] INFO: Parse auction.... https://sale.uslugi.io/sidp/1880\n"
     ]
    },
    {
     "name": "stdout",
     "output_type": "stream",
     "text": [
      "Parse auction.... https://sale.uslugi.io/sidp/1880\n"
     ]
    },
    {
     "name": "stderr",
     "output_type": "stream",
     "text": [
      "2022-12-22 16:23:39 [root] INFO: Parse auction.... https://sale.uslugi.io/sidp/1839\n"
     ]
    },
    {
     "name": "stdout",
     "output_type": "stream",
     "text": [
      "Parse auction.... https://sale.uslugi.io/sidp/1839\n"
     ]
    },
    {
     "name": "stderr",
     "output_type": "stream",
     "text": [
      "2022-12-22 16:23:40 [root] INFO: Parse auction.... https://sale.uslugi.io/sidp/1852\n"
     ]
    },
    {
     "name": "stdout",
     "output_type": "stream",
     "text": [
      "Parse auction.... https://sale.uslugi.io/sidp/1852\n"
     ]
    },
    {
     "name": "stderr",
     "output_type": "stream",
     "text": [
      "2022-12-22 16:23:40 [root] INFO: Parse auction.... https://sale.uslugi.io/sidp/1862\n"
     ]
    },
    {
     "name": "stdout",
     "output_type": "stream",
     "text": [
      "Parse auction.... https://sale.uslugi.io/sidp/1862\n"
     ]
    },
    {
     "name": "stderr",
     "output_type": "stream",
     "text": [
      "2022-12-22 16:23:41 [root] INFO: Parse auction.... https://sale.uslugi.io/sidp/1859\n"
     ]
    },
    {
     "name": "stdout",
     "output_type": "stream",
     "text": [
      "Parse auction.... https://sale.uslugi.io/sidp/1859\n"
     ]
    },
    {
     "name": "stderr",
     "output_type": "stream",
     "text": [
      "2022-12-22 16:23:42 [root] INFO: Parse auction.... https://sale.uslugi.io/sidp/1860\n"
     ]
    },
    {
     "name": "stdout",
     "output_type": "stream",
     "text": [
      "Parse auction.... https://sale.uslugi.io/sidp/1860\n"
     ]
    },
    {
     "name": "stderr",
     "output_type": "stream",
     "text": [
      "2022-12-22 16:23:42 [root] INFO: Parse auction.... https://sale.uslugi.io/sidp/1854\n"
     ]
    },
    {
     "name": "stdout",
     "output_type": "stream",
     "text": [
      "Parse auction.... https://sale.uslugi.io/sidp/1854\n"
     ]
    },
    {
     "name": "stderr",
     "output_type": "stream",
     "text": [
      "2022-12-22 16:23:43 [root] INFO: Parse auction.... https://sale.uslugi.io/sidp/1885\n"
     ]
    },
    {
     "name": "stdout",
     "output_type": "stream",
     "text": [
      "Parse auction.... https://sale.uslugi.io/sidp/1885\n"
     ]
    },
    {
     "name": "stderr",
     "output_type": "stream",
     "text": [
      "2022-12-22 16:23:43 [root] INFO: Parse auction.... https://sale.uslugi.io/sidp/2011\n"
     ]
    },
    {
     "name": "stdout",
     "output_type": "stream",
     "text": [
      "Parse auction.... https://sale.uslugi.io/sidp/2011\n"
     ]
    },
    {
     "name": "stderr",
     "output_type": "stream",
     "text": [
      "2022-12-22 16:23:44 [root] INFO: Parse auction.... https://sale.uslugi.io/sidp/2028\n"
     ]
    },
    {
     "name": "stdout",
     "output_type": "stream",
     "text": [
      "Parse auction.... https://sale.uslugi.io/sidp/2028\n"
     ]
    },
    {
     "name": "stderr",
     "output_type": "stream",
     "text": [
      "2022-12-22 16:23:45 [root] INFO: Parse auction.... https://sale.uslugi.io/sidp/2087\n"
     ]
    },
    {
     "name": "stdout",
     "output_type": "stream",
     "text": [
      "Parse auction.... https://sale.uslugi.io/sidp/2087\n"
     ]
    },
    {
     "name": "stderr",
     "output_type": "stream",
     "text": [
      "2022-12-22 16:23:45 [root] INFO: Parse auction.... https://sale.uslugi.io/sidp/2034\n"
     ]
    },
    {
     "name": "stdout",
     "output_type": "stream",
     "text": [
      "Parse auction.... https://sale.uslugi.io/sidp/2034\n"
     ]
    },
    {
     "name": "stderr",
     "output_type": "stream",
     "text": [
      "2022-12-22 16:23:46 [root] INFO: Parse auction.... https://sale.uslugi.io/sidp/2029\n",
      "2022-12-22 16:23:46 [root] INFO: Parse auction.... https://sale.uslugi.io/sidp/2030\n"
     ]
    },
    {
     "name": "stdout",
     "output_type": "stream",
     "text": [
      "Parse auction.... https://sale.uslugi.io/sidp/2029\n",
      "Parse auction.... https://sale.uslugi.io/sidp/2030\n"
     ]
    },
    {
     "name": "stderr",
     "output_type": "stream",
     "text": [
      "2022-12-22 16:23:46 [root] INFO: Parse auction.... https://sale.uslugi.io/sidp/2031\n",
      "2022-12-22 16:23:46 [root] INFO: Parse auction.... https://sale.uslugi.io/sidp/2094\n"
     ]
    },
    {
     "name": "stdout",
     "output_type": "stream",
     "text": [
      "Parse auction.... https://sale.uslugi.io/sidp/2031\n",
      "Parse auction.... https://sale.uslugi.io/sidp/2094\n"
     ]
    },
    {
     "name": "stderr",
     "output_type": "stream",
     "text": [
      "2022-12-22 16:23:47 [root] INFO: Parse auction.... https://sale.uslugi.io/sidp/2092\n",
      "2022-12-22 16:23:47 [root] INFO: Parse auction.... https://sale.uslugi.io/sidp/2033\n"
     ]
    },
    {
     "name": "stdout",
     "output_type": "stream",
     "text": [
      "Parse auction.... https://sale.uslugi.io/sidp/2092\n",
      "ERROR No pdf file provided\n",
      "Parse auction.... https://sale.uslugi.io/sidp/2033\n"
     ]
    },
    {
     "name": "stderr",
     "output_type": "stream",
     "text": [
      "2022-12-22 16:23:48 [root] INFO: Parse auction.... https://sale.uslugi.io/sidp/2089\n"
     ]
    },
    {
     "name": "stdout",
     "output_type": "stream",
     "text": [
      "Parse auction.... https://sale.uslugi.io/sidp/2089\n"
     ]
    },
    {
     "name": "stderr",
     "output_type": "stream",
     "text": [
      "2022-12-22 16:23:48 [root] INFO: Parse auction.... https://sale.uslugi.io/sidp/2090\n"
     ]
    },
    {
     "name": "stdout",
     "output_type": "stream",
     "text": [
      "ERROR No pdf file provided\n",
      "Parse auction.... https://sale.uslugi.io/sidp/2090\n"
     ]
    },
    {
     "name": "stderr",
     "output_type": "stream",
     "text": [
      "2022-12-22 16:23:48 [root] INFO: Parse auction.... https://sale.uslugi.io/sidp/2095\n"
     ]
    },
    {
     "name": "stdout",
     "output_type": "stream",
     "text": [
      "ERROR No pdf file provided\n",
      "Parse auction.... https://sale.uslugi.io/sidp/2095\n"
     ]
    },
    {
     "name": "stderr",
     "output_type": "stream",
     "text": [
      "2022-12-22 16:23:49 [root] INFO: Parse auction.... https://sale.uslugi.io/sidp/2093\n"
     ]
    },
    {
     "name": "stdout",
     "output_type": "stream",
     "text": [
      "Parse auction.... https://sale.uslugi.io/sidp/2093\n"
     ]
    },
    {
     "name": "stderr",
     "output_type": "stream",
     "text": [
      "2022-12-22 16:23:49 [root] INFO: Parse auction.... https://sale.uslugi.io/sidp/2032\n"
     ]
    },
    {
     "name": "stdout",
     "output_type": "stream",
     "text": [
      "ERROR No pdf file provided\n",
      "Parse auction.... https://sale.uslugi.io/sidp/2032\n"
     ]
    },
    {
     "name": "stderr",
     "output_type": "stream",
     "text": [
      "2022-12-22 16:23:50 [root] INFO: Parse auction.... https://sale.uslugi.io/sidp/2098\n"
     ]
    },
    {
     "name": "stdout",
     "output_type": "stream",
     "text": [
      "Parse auction.... https://sale.uslugi.io/sidp/2098\n"
     ]
    },
    {
     "name": "stderr",
     "output_type": "stream",
     "text": [
      "2022-12-22 16:23:51 [root] INFO: Parse auction.... https://sale.uslugi.io/sidp/2091\n"
     ]
    },
    {
     "name": "stdout",
     "output_type": "stream",
     "text": [
      "Parse auction.... https://sale.uslugi.io/sidp/2091\n"
     ]
    },
    {
     "name": "stderr",
     "output_type": "stream",
     "text": [
      "2022-12-22 16:23:51 [root] INFO: Parse auction.... https://sale.uslugi.io/sidp/2088\n"
     ]
    },
    {
     "name": "stdout",
     "output_type": "stream",
     "text": [
      "ERROR No pdf file provided\n",
      "Parse auction.... https://sale.uslugi.io/sidp/2088\n"
     ]
    },
    {
     "name": "stderr",
     "output_type": "stream",
     "text": [
      "2022-12-22 16:23:51 [root] INFO: Parse auction.... https://sale.uslugi.io/sidp/2111\n"
     ]
    },
    {
     "name": "stdout",
     "output_type": "stream",
     "text": [
      "ERROR No pdf file provided\n",
      "Parse auction.... https://sale.uslugi.io/sidp/2111\n"
     ]
    },
    {
     "name": "stderr",
     "output_type": "stream",
     "text": [
      "2022-12-22 16:23:51 [root] INFO: Parse auction.... https://sale.uslugi.io/sidp/2110\n"
     ]
    },
    {
     "name": "stdout",
     "output_type": "stream",
     "text": [
      "ERROR No pdf file provided\n",
      "Parse auction.... https://sale.uslugi.io/sidp/2110\n"
     ]
    },
    {
     "name": "stderr",
     "output_type": "stream",
     "text": [
      "2022-12-22 16:23:51 [root] INFO: Parse auction.... https://sale.uslugi.io/sidp/2099\n"
     ]
    },
    {
     "name": "stdout",
     "output_type": "stream",
     "text": [
      "ERROR No pdf file provided\n",
      "Parse auction.... https://sale.uslugi.io/sidp/2099\n"
     ]
    },
    {
     "name": "stderr",
     "output_type": "stream",
     "text": [
      "2022-12-22 16:23:52 [root] INFO: Parse auction.... https://sale.uslugi.io/sidp/2097\n"
     ]
    },
    {
     "name": "stdout",
     "output_type": "stream",
     "text": [
      "Parse auction.... https://sale.uslugi.io/sidp/2097\n"
     ]
    },
    {
     "name": "stderr",
     "output_type": "stream",
     "text": [
      "2022-12-22 16:23:53 [root] INFO: Parse auction.... https://sale.uslugi.io/sidp/2113\n"
     ]
    },
    {
     "name": "stdout",
     "output_type": "stream",
     "text": [
      "Parse auction.... https://sale.uslugi.io/sidp/2113\n"
     ]
    },
    {
     "name": "stderr",
     "output_type": "stream",
     "text": [
      "2022-12-22 16:23:53 [root] INFO: Parse auction.... https://sale.uslugi.io/sidp/2100\n"
     ]
    },
    {
     "name": "stdout",
     "output_type": "stream",
     "text": [
      "Parse auction.... https://sale.uslugi.io/sidp/2100\n"
     ]
    },
    {
     "name": "stderr",
     "output_type": "stream",
     "text": [
      "2022-12-22 16:23:54 [root] INFO: Parse auction.... https://sale.uslugi.io/sidp/2103\n",
      "2022-12-22 16:23:54 [root] INFO: Parse auction.... https://sale.uslugi.io/sidp/2101\n",
      "2022-12-22 16:23:54 [root] INFO: Parse auction.... https://sale.uslugi.io/sidp/2112\n"
     ]
    },
    {
     "name": "stdout",
     "output_type": "stream",
     "text": [
      "Parse auction.... https://sale.uslugi.io/sidp/2103\n",
      "Parse auction.... https://sale.uslugi.io/sidp/2101\n",
      "Parse auction.... https://sale.uslugi.io/sidp/2112\n"
     ]
    },
    {
     "name": "stderr",
     "output_type": "stream",
     "text": [
      "2022-12-22 16:23:55 [root] INFO: Parse auction.... https://sale.uslugi.io/sidp/2105\n",
      "2022-12-22 16:23:55 [root] INFO: Parse auction.... https://sale.uslugi.io/sidp/2107\n",
      "2022-12-22 16:23:55 [root] INFO: Parse auction.... https://sale.uslugi.io/sidp/2108\n",
      "2022-12-22 16:23:55 [root] INFO: Parse auction.... https://sale.uslugi.io/sidp/2106\n",
      "2022-12-22 16:23:55 [root] INFO: Parse auction.... https://sale.uslugi.io/sidp/2102\n",
      "2022-12-22 16:23:55 [root] INFO: Parse auction.... https://sale.uslugi.io/sidp/2096\n"
     ]
    },
    {
     "name": "stdout",
     "output_type": "stream",
     "text": [
      "Parse auction.... https://sale.uslugi.io/sidp/2105\n",
      "Parse auction.... https://sale.uslugi.io/sidp/2107\n",
      "Parse auction.... https://sale.uslugi.io/sidp/2108\n",
      "Parse auction.... https://sale.uslugi.io/sidp/2106\n",
      "Parse auction.... https://sale.uslugi.io/sidp/2102\n",
      "Parse auction.... https://sale.uslugi.io/sidp/2096\n"
     ]
    },
    {
     "name": "stderr",
     "output_type": "stream",
     "text": [
      "2022-12-22 16:23:55 [root] INFO: Parse auction.... https://sale.uslugi.io/sidp/2104\n",
      "2022-12-22 16:23:55 [root] INFO: Parse auction.... https://sale.uslugi.io/sidp/2109\n",
      "2022-12-22 16:23:55 [root] INFO: Parse auction.... https://sale.uslugi.io/sidp/2171\n"
     ]
    },
    {
     "name": "stdout",
     "output_type": "stream",
     "text": [
      "Parse auction.... https://sale.uslugi.io/sidp/2104\n",
      "Parse auction.... https://sale.uslugi.io/sidp/2109\n",
      "Parse auction.... https://sale.uslugi.io/sidp/2171\n"
     ]
    },
    {
     "name": "stderr",
     "output_type": "stream",
     "text": [
      "2022-12-22 16:23:55 [root] INFO: Parse auction.... https://sale.uslugi.io/sidp/2172\n"
     ]
    },
    {
     "name": "stdout",
     "output_type": "stream",
     "text": [
      "Parse auction.... https://sale.uslugi.io/sidp/2172\n"
     ]
    },
    {
     "name": "stderr",
     "output_type": "stream",
     "text": [
      "2022-12-22 16:23:56 [root] INFO: Parse auction.... https://sale.uslugi.io/sidp/2173\n"
     ]
    },
    {
     "name": "stdout",
     "output_type": "stream",
     "text": [
      "Parse auction.... https://sale.uslugi.io/sidp/2173\n"
     ]
    },
    {
     "name": "stderr",
     "output_type": "stream",
     "text": [
      "2022-12-22 16:23:56 [root] INFO: Parse auction.... https://sale.uslugi.io/sidp/2174\n"
     ]
    },
    {
     "name": "stdout",
     "output_type": "stream",
     "text": [
      "Parse auction.... https://sale.uslugi.io/sidp/2174\n"
     ]
    },
    {
     "name": "stderr",
     "output_type": "stream",
     "text": [
      "2022-12-22 16:23:56 [root] INFO: Parse auction.... https://sale.uslugi.io/sidp/2169\n"
     ]
    },
    {
     "name": "stdout",
     "output_type": "stream",
     "text": [
      "Parse auction.... https://sale.uslugi.io/sidp/2169\n"
     ]
    },
    {
     "name": "stderr",
     "output_type": "stream",
     "text": [
      "2022-12-22 16:23:57 [root] INFO: Parse auction.... https://sale.uslugi.io/sidp/2170\n"
     ]
    },
    {
     "name": "stdout",
     "output_type": "stream",
     "text": [
      "Parse auction.... https://sale.uslugi.io/sidp/2170\n"
     ]
    },
    {
     "name": "stderr",
     "output_type": "stream",
     "text": [
      "2022-12-22 16:23:57 [root] INFO: Parse auction.... https://sale.uslugi.io/sidp/2165\n"
     ]
    },
    {
     "name": "stdout",
     "output_type": "stream",
     "text": [
      "Parse auction.... https://sale.uslugi.io/sidp/2165\n"
     ]
    },
    {
     "name": "stderr",
     "output_type": "stream",
     "text": [
      "2022-12-22 16:23:57 [root] INFO: Parse auction.... https://sale.uslugi.io/sidp/2166\n"
     ]
    },
    {
     "name": "stdout",
     "output_type": "stream",
     "text": [
      "Parse auction.... https://sale.uslugi.io/sidp/2166\n"
     ]
    },
    {
     "name": "stderr",
     "output_type": "stream",
     "text": [
      "2022-12-22 16:23:57 [root] INFO: Parse auction.... https://sale.uslugi.io/sidp/2215\n"
     ]
    },
    {
     "name": "stdout",
     "output_type": "stream",
     "text": [
      "Parse auction.... https://sale.uslugi.io/sidp/2215\n"
     ]
    },
    {
     "name": "stderr",
     "output_type": "stream",
     "text": [
      "2022-12-22 16:23:58 [root] INFO: Parse auction.... https://sale.uslugi.io/sidp/2214\n"
     ]
    },
    {
     "name": "stdout",
     "output_type": "stream",
     "text": [
      "Parse auction.... https://sale.uslugi.io/sidp/2214\n"
     ]
    },
    {
     "name": "stderr",
     "output_type": "stream",
     "text": [
      "2022-12-22 16:23:58 [root] INFO: Parse auction.... https://sale.uslugi.io/sidp/2167\n",
      "2022-12-22 16:23:59 [root] INFO: Parse auction.... https://sale.uslugi.io/sidp/2216\n"
     ]
    },
    {
     "name": "stdout",
     "output_type": "stream",
     "text": [
      "Parse auction.... https://sale.uslugi.io/sidp/2167\n",
      "Parse auction.... https://sale.uslugi.io/sidp/2216\n"
     ]
    },
    {
     "name": "stderr",
     "output_type": "stream",
     "text": [
      "2022-12-22 16:23:59 [root] INFO: Parse auction.... https://sale.uslugi.io/sidp/2232\n"
     ]
    },
    {
     "name": "stdout",
     "output_type": "stream",
     "text": [
      "Parse auction.... https://sale.uslugi.io/sidp/2232\n"
     ]
    },
    {
     "name": "stderr",
     "output_type": "stream",
     "text": [
      "2022-12-22 16:24:00 [root] INFO: Parse auction.... https://sale.uslugi.io/sidp/2217\n"
     ]
    },
    {
     "name": "stdout",
     "output_type": "stream",
     "text": [
      "Parse auction.... https://sale.uslugi.io/sidp/2217\n"
     ]
    },
    {
     "name": "stderr",
     "output_type": "stream",
     "text": [
      "2022-12-22 16:24:00 [root] INFO: Parse auction.... https://sale.uslugi.io/sidp/2218\n"
     ]
    },
    {
     "name": "stdout",
     "output_type": "stream",
     "text": [
      "Parse auction.... https://sale.uslugi.io/sidp/2218\n",
      "ERROR No pdf file provided\n"
     ]
    },
    {
     "name": "stderr",
     "output_type": "stream",
     "text": [
      "2022-12-22 16:24:00 [root] INFO: Parse auction.... https://sale.uslugi.io/sidp/2168\n",
      "2022-12-22 16:24:00 [root] INFO: Parse auction.... https://sale.uslugi.io/sidp/2237\n"
     ]
    },
    {
     "name": "stdout",
     "output_type": "stream",
     "text": [
      "Parse auction.... https://sale.uslugi.io/sidp/2168\n",
      "Parse auction.... https://sale.uslugi.io/sidp/2237\n"
     ]
    },
    {
     "name": "stderr",
     "output_type": "stream",
     "text": [
      "2022-12-22 16:24:01 [root] WARNING: Error processing PDFs\n",
      "2022-12-22 16:24:01 [root] INFO: Parse auction.... https://sale.uslugi.io/sidp/2238\n"
     ]
    },
    {
     "name": "stdout",
     "output_type": "stream",
     "text": [
      "Error processing PDFs\n",
      "Parse auction.... https://sale.uslugi.io/sidp/2238\n"
     ]
    },
    {
     "name": "stderr",
     "output_type": "stream",
     "text": [
      "2022-12-22 16:24:01 [root] INFO: Parse auction.... https://sale.uslugi.io/sidp/2234\n"
     ]
    },
    {
     "name": "stdout",
     "output_type": "stream",
     "text": [
      "Parse auction.... https://sale.uslugi.io/sidp/2234\n"
     ]
    },
    {
     "name": "stderr",
     "output_type": "stream",
     "text": [
      "2022-12-22 16:24:02 [root] WARNING: Error processing PDFs\n",
      "2022-12-22 16:24:02 [root] INFO: Parse auction.... https://sale.uslugi.io/sidp/2236\n"
     ]
    },
    {
     "name": "stdout",
     "output_type": "stream",
     "text": [
      "Error processing PDFs\n",
      "Parse auction.... https://sale.uslugi.io/sidp/2236\n"
     ]
    },
    {
     "name": "stderr",
     "output_type": "stream",
     "text": [
      "2022-12-22 16:24:02 [root] WARNING: Error processing PDFs\n",
      "2022-12-22 16:24:02 [root] INFO: Parse auction.... https://sale.uslugi.io/sidp/2250\n"
     ]
    },
    {
     "name": "stdout",
     "output_type": "stream",
     "text": [
      "Error processing PDFs\n",
      "Parse auction.... https://sale.uslugi.io/sidp/2250\n"
     ]
    },
    {
     "name": "stderr",
     "output_type": "stream",
     "text": [
      "2022-12-22 16:24:03 [root] INFO: Parse auction.... https://sale.uslugi.io/sidp/2248\n"
     ]
    },
    {
     "name": "stdout",
     "output_type": "stream",
     "text": [
      "Parse auction.... https://sale.uslugi.io/sidp/2248\n"
     ]
    },
    {
     "name": "stderr",
     "output_type": "stream",
     "text": [
      "2022-12-22 16:24:03 [root] INFO: Parse auction.... https://sale.uslugi.io/sidp/2235\n"
     ]
    },
    {
     "name": "stdout",
     "output_type": "stream",
     "text": [
      "Parse auction.... https://sale.uslugi.io/sidp/2235\n"
     ]
    },
    {
     "name": "stderr",
     "output_type": "stream",
     "text": [
      "2022-12-22 16:24:04 [root] WARNING: Error processing PDFs\n",
      "2022-12-22 16:24:04 [root] INFO: Parse auction.... https://sale.uslugi.io/sidp/2249\n"
     ]
    },
    {
     "name": "stdout",
     "output_type": "stream",
     "text": [
      "Error processing PDFs\n",
      "Parse auction.... https://sale.uslugi.io/sidp/2249\n"
     ]
    },
    {
     "name": "stderr",
     "output_type": "stream",
     "text": [
      "2022-12-22 16:24:04 [root] INFO: Parse auction.... https://sale.uslugi.io/sidp/2252\n"
     ]
    },
    {
     "name": "stdout",
     "output_type": "stream",
     "text": [
      "Parse auction.... https://sale.uslugi.io/sidp/2252\n"
     ]
    },
    {
     "name": "stderr",
     "output_type": "stream",
     "text": [
      "2022-12-22 16:24:05 [root] INFO: Parse auction.... https://sale.uslugi.io/sidp/2251\n"
     ]
    },
    {
     "name": "stdout",
     "output_type": "stream",
     "text": [
      "Parse auction.... https://sale.uslugi.io/sidp/2251\n"
     ]
    },
    {
     "name": "stderr",
     "output_type": "stream",
     "text": [
      "2022-12-22 16:24:05 [root] INFO: Parse auction.... https://sale.uslugi.io/sidp/2254\n"
     ]
    },
    {
     "name": "stdout",
     "output_type": "stream",
     "text": [
      "Parse auction.... https://sale.uslugi.io/sidp/2254\n"
     ]
    },
    {
     "name": "stderr",
     "output_type": "stream",
     "text": [
      "2022-12-22 16:24:06 [root] INFO: Parse auction.... https://sale.uslugi.io/sidp/2261\n"
     ]
    },
    {
     "name": "stdout",
     "output_type": "stream",
     "text": [
      "Parse auction.... https://sale.uslugi.io/sidp/2261\n"
     ]
    },
    {
     "name": "stderr",
     "output_type": "stream",
     "text": [
      "2022-12-22 16:24:06 [root] INFO: Parse auction.... https://sale.uslugi.io/sidp/2265\n"
     ]
    },
    {
     "name": "stdout",
     "output_type": "stream",
     "text": [
      "Parse auction.... https://sale.uslugi.io/sidp/2265\n"
     ]
    },
    {
     "name": "stderr",
     "output_type": "stream",
     "text": [
      "2022-12-22 16:24:07 [PyPDF2._reader] WARNING: Xref table not zero-indexed. ID numbers for objects will be corrected.\n",
      "2022-12-22 16:24:07 [PyPDF2._reader] WARNING: Xref table not zero-indexed. ID numbers for objects will be corrected.\n",
      "2022-12-22 16:24:07 [PyPDF2._reader] WARNING: Xref table not zero-indexed. ID numbers for objects will be corrected.\n",
      "2022-12-22 16:24:07 [root] INFO: Parse auction.... https://sale.uslugi.io/sidp/2258\n",
      "2022-12-22 16:24:07 [PyPDF2._reader] WARNING: Xref table not zero-indexed. ID numbers for objects will be corrected.\n",
      "2022-12-22 16:24:07 [PyPDF2._reader] WARNING: Xref table not zero-indexed. ID numbers for objects will be corrected.\n",
      "2022-12-22 16:24:07 [PyPDF2._reader] WARNING: Xref table not zero-indexed. ID numbers for objects will be corrected.\n",
      "2022-12-22 16:24:07 [PyPDF2._reader] WARNING: Xref table not zero-indexed. ID numbers for objects will be corrected.\n",
      "2022-12-22 16:24:07 [root] INFO: Parse auction.... https://sale.uslugi.io/sidp/2257\n"
     ]
    },
    {
     "name": "stdout",
     "output_type": "stream",
     "text": [
      "Parse auction.... https://sale.uslugi.io/sidp/2258\n",
      "Parse auction.... https://sale.uslugi.io/sidp/2257\n"
     ]
    },
    {
     "name": "stderr",
     "output_type": "stream",
     "text": [
      "2022-12-22 16:24:07 [root] INFO: Parse auction.... https://sale.uslugi.io/sidp/2253\n"
     ]
    },
    {
     "name": "stdout",
     "output_type": "stream",
     "text": [
      "Parse auction.... https://sale.uslugi.io/sidp/2253\n"
     ]
    },
    {
     "name": "stderr",
     "output_type": "stream",
     "text": [
      "2022-12-22 16:24:08 [root] INFO: Parse auction.... https://sale.uslugi.io/sidp/2262\n"
     ]
    },
    {
     "name": "stdout",
     "output_type": "stream",
     "text": [
      "Parse auction.... https://sale.uslugi.io/sidp/2262\n"
     ]
    },
    {
     "name": "stderr",
     "output_type": "stream",
     "text": [
      "2022-12-22 16:24:08 [root] INFO: Parse auction.... https://sale.uslugi.io/sidp/2260\n"
     ]
    },
    {
     "name": "stdout",
     "output_type": "stream",
     "text": [
      "Parse auction.... https://sale.uslugi.io/sidp/2260\n"
     ]
    },
    {
     "name": "stderr",
     "output_type": "stream",
     "text": [
      "2022-12-22 16:24:09 [root] INFO: Parse auction.... https://sale.uslugi.io/sidp/2259\n",
      "2022-12-22 16:24:09 [PyPDF2._reader] WARNING: Xref table not zero-indexed. ID numbers for objects will be corrected.\n",
      "2022-12-22 16:24:09 [PyPDF2._reader] WARNING: Xref table not zero-indexed. ID numbers for objects will be corrected.\n",
      "2022-12-22 16:24:09 [PyPDF2._reader] WARNING: Xref table not zero-indexed. ID numbers for objects will be corrected.\n",
      "2022-12-22 16:24:09 [PyPDF2._reader] WARNING: Xref table not zero-indexed. ID numbers for objects will be corrected.\n",
      "2022-12-22 16:24:09 [root] INFO: Parse auction.... https://sale.uslugi.io/sidp/2267\n"
     ]
    },
    {
     "name": "stdout",
     "output_type": "stream",
     "text": [
      "Parse auction.... https://sale.uslugi.io/sidp/2259\n",
      "Parse auction.... https://sale.uslugi.io/sidp/2267\n"
     ]
    },
    {
     "name": "stderr",
     "output_type": "stream",
     "text": [
      "2022-12-22 16:24:09 [PyPDF2._reader] WARNING: Xref table not zero-indexed. ID numbers for objects will be corrected.\n",
      "2022-12-22 16:24:09 [PyPDF2._reader] WARNING: Xref table not zero-indexed. ID numbers for objects will be corrected.\n",
      "2022-12-22 16:24:09 [PyPDF2._reader] WARNING: Xref table not zero-indexed. ID numbers for objects will be corrected.\n",
      "2022-12-22 16:24:09 [root] INFO: Parse auction.... https://sale.uslugi.io/sidp/2269\n"
     ]
    },
    {
     "name": "stdout",
     "output_type": "stream",
     "text": [
      "Parse auction.... https://sale.uslugi.io/sidp/2269\n"
     ]
    },
    {
     "name": "stderr",
     "output_type": "stream",
     "text": [
      "2022-12-22 16:24:09 [PyPDF2._reader] WARNING: Xref table not zero-indexed. ID numbers for objects will be corrected.\n",
      "2022-12-22 16:24:09 [PyPDF2._reader] WARNING: Xref table not zero-indexed. ID numbers for objects will be corrected.\n",
      "2022-12-22 16:24:09 [PyPDF2._reader] WARNING: Xref table not zero-indexed. ID numbers for objects will be corrected.\n",
      "2022-12-22 16:24:09 [root] INFO: Parse auction.... https://sale.uslugi.io/sidp/2280\n"
     ]
    },
    {
     "name": "stdout",
     "output_type": "stream",
     "text": [
      "Parse auction.... https://sale.uslugi.io/sidp/2280\n"
     ]
    },
    {
     "name": "stderr",
     "output_type": "stream",
     "text": [
      "2022-12-22 16:24:10 [root] INFO: Parse auction.... https://sale.uslugi.io/sidp/2281\n"
     ]
    },
    {
     "name": "stdout",
     "output_type": "stream",
     "text": [
      "Parse auction.... https://sale.uslugi.io/sidp/2281\n"
     ]
    },
    {
     "name": "stderr",
     "output_type": "stream",
     "text": [
      "2022-12-22 16:24:11 [root] INFO: Parse auction.... https://sale.uslugi.io/sidp/2298\n"
     ]
    },
    {
     "name": "stdout",
     "output_type": "stream",
     "text": [
      "Parse auction.... https://sale.uslugi.io/sidp/2298\n"
     ]
    },
    {
     "name": "stderr",
     "output_type": "stream",
     "text": [
      "2022-12-22 16:24:11 [root] INFO: Parse auction.... https://sale.uslugi.io/sidp/2311\n"
     ]
    },
    {
     "name": "stdout",
     "output_type": "stream",
     "text": [
      "Parse auction.... https://sale.uslugi.io/sidp/2311\n"
     ]
    },
    {
     "name": "stderr",
     "output_type": "stream",
     "text": [
      "2022-12-22 16:24:12 [root] INFO: Parse auction.... https://sale.uslugi.io/sidp/2312\n"
     ]
    },
    {
     "name": "stdout",
     "output_type": "stream",
     "text": [
      "Parse auction.... https://sale.uslugi.io/sidp/2312\n"
     ]
    },
    {
     "name": "stderr",
     "output_type": "stream",
     "text": [
      "2022-12-22 16:24:12 [root] INFO: Parse auction.... https://sale.uslugi.io/sidp/2313\n"
     ]
    },
    {
     "name": "stdout",
     "output_type": "stream",
     "text": [
      "Parse auction.... https://sale.uslugi.io/sidp/2313\n"
     ]
    },
    {
     "name": "stderr",
     "output_type": "stream",
     "text": [
      "2022-12-22 16:24:13 [root] INFO: Parse auction.... https://sale.uslugi.io/sidp/2320\n"
     ]
    },
    {
     "name": "stdout",
     "output_type": "stream",
     "text": [
      "Parse auction.... https://sale.uslugi.io/sidp/2320\n"
     ]
    },
    {
     "name": "stderr",
     "output_type": "stream",
     "text": [
      "2022-12-22 16:24:13 [root] WARNING: Error processing PDFs\n",
      "2022-12-22 16:24:13 [root] INFO: Parse auction.... https://sale.uslugi.io/sidp/2319\n"
     ]
    },
    {
     "name": "stdout",
     "output_type": "stream",
     "text": [
      "Error processing PDFs\n",
      "Parse auction.... https://sale.uslugi.io/sidp/2319\n"
     ]
    },
    {
     "name": "stderr",
     "output_type": "stream",
     "text": [
      "2022-12-22 16:24:14 [root] INFO: Parse auction.... https://sale.uslugi.io/sidp/2316\n"
     ]
    },
    {
     "name": "stdout",
     "output_type": "stream",
     "text": [
      "Parse auction.... https://sale.uslugi.io/sidp/2316\n"
     ]
    },
    {
     "name": "stderr",
     "output_type": "stream",
     "text": [
      "2022-12-22 16:24:14 [root] INFO: Parse auction.... https://sale.uslugi.io/sidp/2317\n"
     ]
    },
    {
     "name": "stdout",
     "output_type": "stream",
     "text": [
      "Parse auction.... https://sale.uslugi.io/sidp/2317\n"
     ]
    },
    {
     "name": "stderr",
     "output_type": "stream",
     "text": [
      "2022-12-22 16:24:15 [root] INFO: Parse auction.... https://sale.uslugi.io/sidp/2315\n"
     ]
    },
    {
     "name": "stdout",
     "output_type": "stream",
     "text": [
      "Parse auction.... https://sale.uslugi.io/sidp/2315\n"
     ]
    },
    {
     "name": "stderr",
     "output_type": "stream",
     "text": [
      "2022-12-22 16:24:16 [root] INFO: Parse auction.... https://sale.uslugi.io/sidp/2327\n"
     ]
    },
    {
     "name": "stdout",
     "output_type": "stream",
     "text": [
      "Parse auction.... https://sale.uslugi.io/sidp/2327\n"
     ]
    },
    {
     "name": "stderr",
     "output_type": "stream",
     "text": [
      "2022-12-22 16:24:16 [PyPDF2._reader] WARNING: Xref table not zero-indexed. ID numbers for objects will be corrected.\n",
      "2022-12-22 16:24:16 [PyPDF2._reader] WARNING: Xref table not zero-indexed. ID numbers for objects will be corrected.\n",
      "2022-12-22 16:24:16 [PyPDF2._reader] WARNING: Xref table not zero-indexed. ID numbers for objects will be corrected.\n",
      "2022-12-22 16:24:16 [root] INFO: Parse auction.... https://sale.uslugi.io/sidp/2328\n"
     ]
    },
    {
     "name": "stdout",
     "output_type": "stream",
     "text": [
      "Parse auction.... https://sale.uslugi.io/sidp/2328\n"
     ]
    },
    {
     "name": "stderr",
     "output_type": "stream",
     "text": [
      "2022-12-22 16:24:16 [PyPDF2._reader] WARNING: Xref table not zero-indexed. ID numbers for objects will be corrected.\n",
      "2022-12-22 16:24:16 [PyPDF2._reader] WARNING: Xref table not zero-indexed. ID numbers for objects will be corrected.\n",
      "2022-12-22 16:24:16 [PyPDF2._reader] WARNING: Xref table not zero-indexed. ID numbers for objects will be corrected.\n",
      "2022-12-22 16:24:16 [root] INFO: Parse auction.... https://sale.uslugi.io/sidp/2330\n"
     ]
    },
    {
     "name": "stdout",
     "output_type": "stream",
     "text": [
      "Parse auction.... https://sale.uslugi.io/sidp/2330\n"
     ]
    },
    {
     "name": "stderr",
     "output_type": "stream",
     "text": [
      "2022-12-22 16:24:16 [root] INFO: Parse auction.... https://sale.uslugi.io/sidp/2326\n"
     ]
    },
    {
     "name": "stdout",
     "output_type": "stream",
     "text": [
      "Parse auction.... https://sale.uslugi.io/sidp/2326\n"
     ]
    },
    {
     "name": "stderr",
     "output_type": "stream",
     "text": [
      "2022-12-22 16:24:17 [PyPDF2._reader] WARNING: Xref table not zero-indexed. ID numbers for objects will be corrected.\n",
      "2022-12-22 16:24:17 [PyPDF2._reader] WARNING: Xref table not zero-indexed. ID numbers for objects will be corrected.\n",
      "2022-12-22 16:24:17 [PyPDF2._reader] WARNING: Xref table not zero-indexed. ID numbers for objects will be corrected.\n",
      "2022-12-22 16:24:17 [root] INFO: Parse auction.... https://sale.uslugi.io/sidp/2318\n"
     ]
    },
    {
     "name": "stdout",
     "output_type": "stream",
     "text": [
      "Parse auction.... https://sale.uslugi.io/sidp/2318\n"
     ]
    },
    {
     "name": "stderr",
     "output_type": "stream",
     "text": [
      "2022-12-22 16:24:17 [root] INFO: Parse auction.... https://sale.uslugi.io/sidp/2314\n"
     ]
    },
    {
     "name": "stdout",
     "output_type": "stream",
     "text": [
      "Parse auction.... https://sale.uslugi.io/sidp/2314\n"
     ]
    },
    {
     "name": "stderr",
     "output_type": "stream",
     "text": [
      "2022-12-22 16:24:18 [root] INFO: Parse auction.... https://sale.uslugi.io/sidp/2321\n",
      "2022-12-22 16:24:18 [PyPDF2._reader] WARNING: Xref table not zero-indexed. ID numbers for objects will be corrected.\n",
      "2022-12-22 16:24:18 [PyPDF2._reader] WARNING: Xref table not zero-indexed. ID numbers for objects will be corrected.\n",
      "2022-12-22 16:24:18 [root] INFO: Parse auction.... https://sale.uslugi.io/sidp/2332\n"
     ]
    },
    {
     "name": "stdout",
     "output_type": "stream",
     "text": [
      "Parse auction.... https://sale.uslugi.io/sidp/2321\n",
      "Parse auction.... https://sale.uslugi.io/sidp/2332\n"
     ]
    },
    {
     "name": "stderr",
     "output_type": "stream",
     "text": [
      "2022-12-22 16:24:18 [root] INFO: Parse auction.... https://sale.uslugi.io/sidp/2336\n",
      "2022-12-22 16:24:18 [root] INFO: Parse auction.... https://sale.uslugi.io/sidp/2334\n"
     ]
    },
    {
     "name": "stdout",
     "output_type": "stream",
     "text": [
      "Parse auction.... https://sale.uslugi.io/sidp/2336\n",
      "Parse auction.... https://sale.uslugi.io/sidp/2334\n"
     ]
    },
    {
     "name": "stderr",
     "output_type": "stream",
     "text": [
      "2022-12-22 16:24:18 [root] INFO: Parse auction.... https://sale.uslugi.io/sidp/2335\n",
      "2022-12-22 16:24:19 [root] INFO: Parse auction.... https://sale.uslugi.io/sidp/2338\n",
      "2022-12-22 16:24:19 [root] INFO: Parse auction.... https://sale.uslugi.io/sidp/2339\n",
      "2022-12-22 16:24:19 [root] INFO: Parse auction.... https://sale.uslugi.io/sidp/2340\n",
      "2022-12-22 16:24:19 [root] INFO: Parse auction.... https://sale.uslugi.io/sidp/2341\n",
      "2022-12-22 16:24:19 [root] INFO: Parse auction.... https://sale.uslugi.io/sidp/2355\n"
     ]
    },
    {
     "name": "stdout",
     "output_type": "stream",
     "text": [
      "Parse auction.... https://sale.uslugi.io/sidp/2335\n",
      "Parse auction.... https://sale.uslugi.io/sidp/2338\n",
      "Parse auction.... https://sale.uslugi.io/sidp/2339\n",
      "Parse auction.... https://sale.uslugi.io/sidp/2340\n",
      "Parse auction.... https://sale.uslugi.io/sidp/2341\n",
      "Parse auction.... https://sale.uslugi.io/sidp/2355\n"
     ]
    },
    {
     "name": "stderr",
     "output_type": "stream",
     "text": [
      "2022-12-22 16:24:19 [root] INFO: Parse auction.... https://sale.uslugi.io/sidp/2354\n"
     ]
    },
    {
     "name": "stdout",
     "output_type": "stream",
     "text": [
      "Parse auction.... https://sale.uslugi.io/sidp/2354\n"
     ]
    },
    {
     "name": "stderr",
     "output_type": "stream",
     "text": [
      "2022-12-22 16:24:20 [root] INFO: Parse auction.... https://sale.uslugi.io/sidp/2344\n",
      "2022-12-22 16:24:20 [root] INFO: Parse auction.... https://sale.uslugi.io/sidp/2345\n",
      "2022-12-22 16:24:20 [root] INFO: Parse auction.... https://sale.uslugi.io/sidp/2343\n",
      "2022-12-22 16:24:20 [root] INFO: Parse auction.... https://sale.uslugi.io/sidp/2331\n",
      "2022-12-22 16:24:20 [root] INFO: Parse auction.... https://sale.uslugi.io/sidp/2333\n"
     ]
    },
    {
     "name": "stdout",
     "output_type": "stream",
     "text": [
      "Parse auction.... https://sale.uslugi.io/sidp/2344\n",
      "Parse auction.... https://sale.uslugi.io/sidp/2345\n",
      "Parse auction.... https://sale.uslugi.io/sidp/2343\n",
      "Parse auction.... https://sale.uslugi.io/sidp/2331\n",
      "Parse auction.... https://sale.uslugi.io/sidp/2333\n"
     ]
    },
    {
     "name": "stderr",
     "output_type": "stream",
     "text": [
      "2022-12-22 16:24:20 [root] INFO: Parse auction.... https://sale.uslugi.io/sidp/2342\n",
      "2022-12-22 16:24:20 [root] INFO: Parse auction.... https://sale.uslugi.io/sidp/2356\n"
     ]
    },
    {
     "name": "stdout",
     "output_type": "stream",
     "text": [
      "Parse auction.... https://sale.uslugi.io/sidp/2342\n",
      "Parse auction.... https://sale.uslugi.io/sidp/2356\n"
     ]
    },
    {
     "name": "stderr",
     "output_type": "stream",
     "text": [
      "2022-12-22 16:24:21 [root] INFO: Parse auction.... https://sale.uslugi.io/sidp/2357\n"
     ]
    },
    {
     "name": "stdout",
     "output_type": "stream",
     "text": [
      "Parse auction.... https://sale.uslugi.io/sidp/2357\n"
     ]
    },
    {
     "name": "stderr",
     "output_type": "stream",
     "text": [
      "2022-12-22 16:24:21 [root] INFO: Parse auction.... https://sale.uslugi.io/sidp/2358\n"
     ]
    },
    {
     "name": "stdout",
     "output_type": "stream",
     "text": [
      "Parse auction.... https://sale.uslugi.io/sidp/2358\n"
     ]
    },
    {
     "name": "stderr",
     "output_type": "stream",
     "text": [
      "2022-12-22 16:24:22 [root] INFO: Parse auction.... https://sale.uslugi.io/sidp/2360\n"
     ]
    },
    {
     "name": "stdout",
     "output_type": "stream",
     "text": [
      "Parse auction.... https://sale.uslugi.io/sidp/2360\n"
     ]
    },
    {
     "name": "stderr",
     "output_type": "stream",
     "text": [
      "2022-12-22 16:24:22 [root] INFO: Parse auction.... https://sale.uslugi.io/sidp/2361\n"
     ]
    },
    {
     "name": "stdout",
     "output_type": "stream",
     "text": [
      "Parse auction.... https://sale.uslugi.io/sidp/2361\n"
     ]
    },
    {
     "name": "stderr",
     "output_type": "stream",
     "text": [
      "2022-12-22 16:24:23 [root] INFO: Parse auction.... https://sale.uslugi.io/sidp/2362\n"
     ]
    },
    {
     "name": "stdout",
     "output_type": "stream",
     "text": [
      "Parse auction.... https://sale.uslugi.io/sidp/2362\n"
     ]
    },
    {
     "name": "stderr",
     "output_type": "stream",
     "text": [
      "2022-12-22 16:24:24 [root] INFO: Parse auction.... https://sale.uslugi.io/sidp/2353\n"
     ]
    },
    {
     "name": "stdout",
     "output_type": "stream",
     "text": [
      "Parse auction.... https://sale.uslugi.io/sidp/2353\n"
     ]
    },
    {
     "name": "stderr",
     "output_type": "stream",
     "text": [
      "2022-12-22 16:24:24 [root] INFO: Parse auction.... https://sale.uslugi.io/sidp/2392\n"
     ]
    },
    {
     "name": "stdout",
     "output_type": "stream",
     "text": [
      "Parse auction.... https://sale.uslugi.io/sidp/2392\n"
     ]
    },
    {
     "name": "stderr",
     "output_type": "stream",
     "text": [
      "2022-12-22 16:24:24 [scrapy.extensions.logstats] INFO: Crawled 386 pages (at 144 pages/min), scraped 385 items (at 152 items/min)\n",
      "2022-12-22 16:24:24 [root] INFO: Parse auction.... https://sale.uslugi.io/sidp/2379\n"
     ]
    },
    {
     "name": "stdout",
     "output_type": "stream",
     "text": [
      "Parse auction.... https://sale.uslugi.io/sidp/2379\n"
     ]
    },
    {
     "name": "stderr",
     "output_type": "stream",
     "text": [
      "2022-12-22 16:24:25 [root] INFO: Parse auction.... https://sale.uslugi.io/sidp/2386\n"
     ]
    },
    {
     "name": "stdout",
     "output_type": "stream",
     "text": [
      "Parse auction.... https://sale.uslugi.io/sidp/2386\n"
     ]
    },
    {
     "name": "stderr",
     "output_type": "stream",
     "text": [
      "2022-12-22 16:24:26 [root] INFO: Parse auction.... https://sale.uslugi.io/sidp/2385\n"
     ]
    },
    {
     "name": "stdout",
     "output_type": "stream",
     "text": [
      "Parse auction.... https://sale.uslugi.io/sidp/2385\n"
     ]
    },
    {
     "name": "stderr",
     "output_type": "stream",
     "text": [
      "2022-12-22 16:24:26 [root] INFO: Parse auction.... https://sale.uslugi.io/sidp/2381\n"
     ]
    },
    {
     "name": "stdout",
     "output_type": "stream",
     "text": [
      "Parse auction.... https://sale.uslugi.io/sidp/2381\n"
     ]
    },
    {
     "name": "stderr",
     "output_type": "stream",
     "text": [
      "2022-12-22 16:24:27 [root] INFO: Parse auction.... https://sale.uslugi.io/sidp/2387\n"
     ]
    },
    {
     "name": "stdout",
     "output_type": "stream",
     "text": [
      "Parse auction.... https://sale.uslugi.io/sidp/2387\n"
     ]
    },
    {
     "name": "stderr",
     "output_type": "stream",
     "text": [
      "2022-12-22 16:24:27 [root] INFO: Parse auction.... https://sale.uslugi.io/sidp/2380\n"
     ]
    },
    {
     "name": "stdout",
     "output_type": "stream",
     "text": [
      "Parse auction.... https://sale.uslugi.io/sidp/2380\n"
     ]
    },
    {
     "name": "stderr",
     "output_type": "stream",
     "text": [
      "2022-12-22 16:24:28 [root] INFO: Parse auction.... https://sale.uslugi.io/sidp/2382\n"
     ]
    },
    {
     "name": "stdout",
     "output_type": "stream",
     "text": [
      "Parse auction.... https://sale.uslugi.io/sidp/2382\n"
     ]
    },
    {
     "name": "stderr",
     "output_type": "stream",
     "text": [
      "2022-12-22 16:24:29 [root] INFO: Parse auction.... https://sale.uslugi.io/sidp/2400\n",
      "2022-12-22 16:24:29 [root] INFO: Parse auction.... https://sale.uslugi.io/sidp/2383\n"
     ]
    },
    {
     "name": "stdout",
     "output_type": "stream",
     "text": [
      "Parse auction.... https://sale.uslugi.io/sidp/2400\n",
      "Parse auction.... https://sale.uslugi.io/sidp/2383\n"
     ]
    },
    {
     "name": "stderr",
     "output_type": "stream",
     "text": [
      "2022-12-22 16:24:29 [root] INFO: Parse auction.... https://sale.uslugi.io/sidp/2433\n",
      "2022-12-22 16:24:29 [root] INFO: Parse auction.... https://sale.uslugi.io/sidp/2384\n"
     ]
    },
    {
     "name": "stdout",
     "output_type": "stream",
     "text": [
      "Parse auction.... https://sale.uslugi.io/sidp/2433\n",
      "Parse auction.... https://sale.uslugi.io/sidp/2384\n"
     ]
    },
    {
     "name": "stderr",
     "output_type": "stream",
     "text": [
      "2022-12-22 16:24:30 [root] INFO: Parse auction.... https://sale.uslugi.io/sidp/2435\n",
      "2022-12-22 16:24:30 [root] INFO: Parse auction.... https://sale.uslugi.io/sidp/2436\n"
     ]
    },
    {
     "name": "stdout",
     "output_type": "stream",
     "text": [
      "Parse auction.... https://sale.uslugi.io/sidp/2435\n",
      "Parse auction.... https://sale.uslugi.io/sidp/2436\n"
     ]
    },
    {
     "name": "stderr",
     "output_type": "stream",
     "text": [
      "2022-12-22 16:24:30 [root] INFO: Parse auction.... https://sale.uslugi.io/sidp/2437\n"
     ]
    },
    {
     "name": "stdout",
     "output_type": "stream",
     "text": [
      "Parse auction.... https://sale.uslugi.io/sidp/2437\n"
     ]
    },
    {
     "name": "stderr",
     "output_type": "stream",
     "text": [
      "2022-12-22 16:24:31 [root] INFO: Parse auction.... https://sale.uslugi.io/sidp/2459\n"
     ]
    },
    {
     "name": "stdout",
     "output_type": "stream",
     "text": [
      "Parse auction.... https://sale.uslugi.io/sidp/2459\n"
     ]
    },
    {
     "name": "stderr",
     "output_type": "stream",
     "text": [
      "2022-12-22 16:24:32 [root] INFO: Parse auction.... https://sale.uslugi.io/sidp/2438\n"
     ]
    },
    {
     "name": "stdout",
     "output_type": "stream",
     "text": [
      "Parse auction.... https://sale.uslugi.io/sidp/2438\n"
     ]
    },
    {
     "name": "stderr",
     "output_type": "stream",
     "text": [
      "2022-12-22 16:24:32 [root] INFO: Parse auction.... https://sale.uslugi.io/sidp/2388\n"
     ]
    },
    {
     "name": "stdout",
     "output_type": "stream",
     "text": [
      "Parse auction.... https://sale.uslugi.io/sidp/2388\n"
     ]
    },
    {
     "name": "stderr",
     "output_type": "stream",
     "text": [
      "2022-12-22 16:24:33 [root] INFO: Parse auction.... https://sale.uslugi.io/sidp/2434\n",
      "2022-12-22 16:24:33 [root] INFO: Parse auction.... https://sale.uslugi.io/sidp/2629\n"
     ]
    },
    {
     "name": "stdout",
     "output_type": "stream",
     "text": [
      "Parse auction.... https://sale.uslugi.io/sidp/2434\n",
      "Parse auction.... https://sale.uslugi.io/sidp/2629\n"
     ]
    },
    {
     "name": "stderr",
     "output_type": "stream",
     "text": [
      "2022-12-22 16:24:33 [root] INFO: Parse auction.... https://sale.uslugi.io/sidp/2630\n"
     ]
    },
    {
     "name": "stdout",
     "output_type": "stream",
     "text": [
      "Parse auction.... https://sale.uslugi.io/sidp/2630\n"
     ]
    },
    {
     "name": "stderr",
     "output_type": "stream",
     "text": [
      "2022-12-22 16:24:34 [root] INFO: Parse auction.... https://sale.uslugi.io/sidp/2627\n"
     ]
    },
    {
     "name": "stdout",
     "output_type": "stream",
     "text": [
      "Parse auction.... https://sale.uslugi.io/sidp/2627\n"
     ]
    },
    {
     "name": "stderr",
     "output_type": "stream",
     "text": [
      "2022-12-22 16:24:35 [root] INFO: Parse auction.... https://sale.uslugi.io/sidp/2457\n"
     ]
    },
    {
     "name": "stdout",
     "output_type": "stream",
     "text": [
      "Parse auction.... https://sale.uslugi.io/sidp/2457\n"
     ]
    },
    {
     "name": "stderr",
     "output_type": "stream",
     "text": [
      "2022-12-22 16:24:35 [root] INFO: Parse auction.... https://sale.uslugi.io/sidp/2389\n"
     ]
    },
    {
     "name": "stdout",
     "output_type": "stream",
     "text": [
      "Parse auction.... https://sale.uslugi.io/sidp/2389\n"
     ]
    },
    {
     "name": "stderr",
     "output_type": "stream",
     "text": [
      "2022-12-22 16:24:36 [root] INFO: Parse auction.... https://sale.uslugi.io/sidp/2626\n"
     ]
    },
    {
     "name": "stdout",
     "output_type": "stream",
     "text": [
      "Parse auction.... https://sale.uslugi.io/sidp/2626\n"
     ]
    },
    {
     "name": "stderr",
     "output_type": "stream",
     "text": [
      "2022-12-22 16:24:37 [root] INFO: Parse auction.... https://sale.uslugi.io/sidp/2628\n"
     ]
    },
    {
     "name": "stdout",
     "output_type": "stream",
     "text": [
      "Parse auction.... https://sale.uslugi.io/sidp/2628\n"
     ]
    },
    {
     "name": "stderr",
     "output_type": "stream",
     "text": [
      "2022-12-22 16:24:38 [root] INFO: Parse auction.... https://sale.uslugi.io/sidp/2625\n"
     ]
    },
    {
     "name": "stdout",
     "output_type": "stream",
     "text": [
      "Parse auction.... https://sale.uslugi.io/sidp/2625\n"
     ]
    },
    {
     "name": "stderr",
     "output_type": "stream",
     "text": [
      "2022-12-22 16:24:38 [root] INFO: Parse auction.... https://sale.uslugi.io/sidp/2631\n"
     ]
    },
    {
     "name": "stdout",
     "output_type": "stream",
     "text": [
      "Parse auction.... https://sale.uslugi.io/sidp/2631\n"
     ]
    },
    {
     "name": "stderr",
     "output_type": "stream",
     "text": [
      "2022-12-22 16:24:39 [root] INFO: Parse auction.... https://sale.uslugi.io/sidp/2632\n"
     ]
    },
    {
     "name": "stdout",
     "output_type": "stream",
     "text": [
      "Parse auction.... https://sale.uslugi.io/sidp/2632\n"
     ]
    },
    {
     "name": "stderr",
     "output_type": "stream",
     "text": [
      "2022-12-22 16:24:39 [root] INFO: Parse auction.... https://sale.uslugi.io/sidp/2633\n",
      "2022-12-22 16:24:39 [root] INFO: Parse auction.... https://sale.uslugi.io/sidp/2634\n"
     ]
    },
    {
     "name": "stdout",
     "output_type": "stream",
     "text": [
      "Parse auction.... https://sale.uslugi.io/sidp/2633\n",
      "Parse auction.... https://sale.uslugi.io/sidp/2634\n"
     ]
    },
    {
     "name": "stderr",
     "output_type": "stream",
     "text": [
      "2022-12-22 16:24:39 [root] INFO: Parse auction.... https://sale.uslugi.io/sidp/2635\n"
     ]
    },
    {
     "name": "stdout",
     "output_type": "stream",
     "text": [
      "Parse auction.... https://sale.uslugi.io/sidp/2635\n"
     ]
    },
    {
     "name": "stderr",
     "output_type": "stream",
     "text": [
      "2022-12-22 16:24:40 [root] INFO: Parse auction.... https://sale.uslugi.io/sidp/2636\n",
      "2022-12-22 16:24:40 [root] INFO: Parse auction.... https://sale.uslugi.io/sidp/2637\n"
     ]
    },
    {
     "name": "stdout",
     "output_type": "stream",
     "text": [
      "Parse auction.... https://sale.uslugi.io/sidp/2636\n",
      "Parse auction.... https://sale.uslugi.io/sidp/2637\n"
     ]
    },
    {
     "name": "stderr",
     "output_type": "stream",
     "text": [
      "2022-12-22 16:24:40 [root] INFO: Parse auction.... https://sale.uslugi.io/sidp/2638\n"
     ]
    },
    {
     "name": "stdout",
     "output_type": "stream",
     "text": [
      "Parse auction.... https://sale.uslugi.io/sidp/2638\n"
     ]
    },
    {
     "name": "stderr",
     "output_type": "stream",
     "text": [
      "2022-12-22 16:24:41 [root] INFO: Parse auction.... https://sale.uslugi.io/sidp/2641\n"
     ]
    },
    {
     "name": "stdout",
     "output_type": "stream",
     "text": [
      "Parse auction.... https://sale.uslugi.io/sidp/2641\n"
     ]
    },
    {
     "name": "stderr",
     "output_type": "stream",
     "text": [
      "2022-12-22 16:24:41 [root] INFO: Parse auction.... https://sale.uslugi.io/sidp/2644\n"
     ]
    },
    {
     "name": "stdout",
     "output_type": "stream",
     "text": [
      "Parse auction.... https://sale.uslugi.io/sidp/2644\n"
     ]
    },
    {
     "name": "stderr",
     "output_type": "stream",
     "text": [
      "2022-12-22 16:24:42 [root] INFO: Parse auction.... https://sale.uslugi.io/sidp/2639\n"
     ]
    },
    {
     "name": "stdout",
     "output_type": "stream",
     "text": [
      "Parse auction.... https://sale.uslugi.io/sidp/2639\n"
     ]
    },
    {
     "name": "stderr",
     "output_type": "stream",
     "text": [
      "2022-12-22 16:24:42 [root] INFO: Parse auction.... https://sale.uslugi.io/sidp/2645\n"
     ]
    },
    {
     "name": "stdout",
     "output_type": "stream",
     "text": [
      "Parse auction.... https://sale.uslugi.io/sidp/2645\n"
     ]
    },
    {
     "name": "stderr",
     "output_type": "stream",
     "text": [
      "2022-12-22 16:24:43 [root] INFO: Parse auction.... https://sale.uslugi.io/sidp/2643\n"
     ]
    },
    {
     "name": "stdout",
     "output_type": "stream",
     "text": [
      "Parse auction.... https://sale.uslugi.io/sidp/2643\n"
     ]
    },
    {
     "name": "stderr",
     "output_type": "stream",
     "text": [
      "2022-12-22 16:24:43 [root] INFO: Parse auction.... https://sale.uslugi.io/sidp/2646\n"
     ]
    },
    {
     "name": "stdout",
     "output_type": "stream",
     "text": [
      "Parse auction.... https://sale.uslugi.io/sidp/2646\n"
     ]
    },
    {
     "name": "stderr",
     "output_type": "stream",
     "text": [
      "2022-12-22 16:24:44 [root] INFO: Parse auction.... https://sale.uslugi.io/sidp/2647\n"
     ]
    },
    {
     "name": "stdout",
     "output_type": "stream",
     "text": [
      "Parse auction.... https://sale.uslugi.io/sidp/2647\n"
     ]
    },
    {
     "name": "stderr",
     "output_type": "stream",
     "text": [
      "2022-12-22 16:24:45 [root] INFO: Parse auction.... https://sale.uslugi.io/sidp/2658\n"
     ]
    },
    {
     "name": "stdout",
     "output_type": "stream",
     "text": [
      "Parse auction.... https://sale.uslugi.io/sidp/2658\n"
     ]
    },
    {
     "name": "stderr",
     "output_type": "stream",
     "text": [
      "2022-12-22 16:24:46 [root] INFO: Parse auction.... https://sale.uslugi.io/sidp/2659\n"
     ]
    },
    {
     "name": "stdout",
     "output_type": "stream",
     "text": [
      "Parse auction.... https://sale.uslugi.io/sidp/2659\n"
     ]
    },
    {
     "name": "stderr",
     "output_type": "stream",
     "text": [
      "2022-12-22 16:24:46 [root] WARNING: Error processing PDFs\n",
      "2022-12-22 16:24:46 [root] INFO: Parse auction.... https://sale.uslugi.io/sidp/2660\n"
     ]
    },
    {
     "name": "stdout",
     "output_type": "stream",
     "text": [
      "Error processing PDFs\n",
      "Parse auction.... https://sale.uslugi.io/sidp/2660\n"
     ]
    },
    {
     "name": "stderr",
     "output_type": "stream",
     "text": [
      "2022-12-22 16:24:47 [root] INFO: Parse auction.... https://sale.uslugi.io/sidp/2648\n"
     ]
    },
    {
     "name": "stdout",
     "output_type": "stream",
     "text": [
      "Parse auction.... https://sale.uslugi.io/sidp/2648\n"
     ]
    },
    {
     "name": "stderr",
     "output_type": "stream",
     "text": [
      "2022-12-22 16:24:48 [root] INFO: Parse auction.... https://sale.uslugi.io/sidp/2662\n"
     ]
    },
    {
     "name": "stdout",
     "output_type": "stream",
     "text": [
      "Parse auction.... https://sale.uslugi.io/sidp/2662\n"
     ]
    },
    {
     "name": "stderr",
     "output_type": "stream",
     "text": [
      "2022-12-22 16:24:48 [root] INFO: Parse auction.... https://sale.uslugi.io/sidp/2663\n"
     ]
    },
    {
     "name": "stdout",
     "output_type": "stream",
     "text": [
      "Parse auction.... https://sale.uslugi.io/sidp/2663\n"
     ]
    },
    {
     "name": "stderr",
     "output_type": "stream",
     "text": [
      "2022-12-22 16:24:49 [root] INFO: Parse auction.... https://sale.uslugi.io/sidp/2661\n"
     ]
    },
    {
     "name": "stdout",
     "output_type": "stream",
     "text": [
      "Parse auction.... https://sale.uslugi.io/sidp/2661\n"
     ]
    },
    {
     "name": "stderr",
     "output_type": "stream",
     "text": [
      "2022-12-22 16:24:50 [root] INFO: Parse auction.... https://sale.uslugi.io/sidp/2664\n"
     ]
    },
    {
     "name": "stdout",
     "output_type": "stream",
     "text": [
      "Parse auction.... https://sale.uslugi.io/sidp/2664\n"
     ]
    },
    {
     "name": "stderr",
     "output_type": "stream",
     "text": [
      "2022-12-22 16:24:51 [root] INFO: Parse auction.... https://sale.uslugi.io/sidp/2640\n"
     ]
    },
    {
     "name": "stdout",
     "output_type": "stream",
     "text": [
      "Parse auction.... https://sale.uslugi.io/sidp/2640\n"
     ]
    },
    {
     "name": "stderr",
     "output_type": "stream",
     "text": [
      "2022-12-22 16:24:52 [root] INFO: Parse auction.... https://sale.uslugi.io/sidp/2671\n"
     ]
    },
    {
     "name": "stdout",
     "output_type": "stream",
     "text": [
      "Parse auction.... https://sale.uslugi.io/sidp/2671\n"
     ]
    },
    {
     "name": "stderr",
     "output_type": "stream",
     "text": [
      "2022-12-22 16:24:53 [root] INFO: Parse auction.... https://sale.uslugi.io/sidp/2669\n"
     ]
    },
    {
     "name": "stdout",
     "output_type": "stream",
     "text": [
      "Parse auction.... https://sale.uslugi.io/sidp/2669\n"
     ]
    },
    {
     "name": "stderr",
     "output_type": "stream",
     "text": [
      "2022-12-22 16:24:54 [root] INFO: Parse auction.... https://sale.uslugi.io/sidp/2670\n"
     ]
    },
    {
     "name": "stdout",
     "output_type": "stream",
     "text": [
      "Parse auction.... https://sale.uslugi.io/sidp/2670\n"
     ]
    },
    {
     "name": "stderr",
     "output_type": "stream",
     "text": [
      "2022-12-22 16:24:54 [root] INFO: Parse auction.... https://sale.uslugi.io/sidp/2642\n"
     ]
    },
    {
     "name": "stdout",
     "output_type": "stream",
     "text": [
      "Parse auction.... https://sale.uslugi.io/sidp/2642\n"
     ]
    },
    {
     "name": "stderr",
     "output_type": "stream",
     "text": [
      "2022-12-22 16:24:55 [root] INFO: Parse auction.... https://sale.uslugi.io/sidp/2672\n"
     ]
    },
    {
     "name": "stdout",
     "output_type": "stream",
     "text": [
      "Parse auction.... https://sale.uslugi.io/sidp/2672\n"
     ]
    },
    {
     "name": "stderr",
     "output_type": "stream",
     "text": [
      "2022-12-22 16:24:56 [root] INFO: Parse auction.... https://sale.uslugi.io/sidp/2667\n"
     ]
    },
    {
     "name": "stdout",
     "output_type": "stream",
     "text": [
      "Parse auction.... https://sale.uslugi.io/sidp/2667\n"
     ]
    },
    {
     "name": "stderr",
     "output_type": "stream",
     "text": [
      "2022-12-22 16:24:56 [root] INFO: Parse auction.... https://sale.uslugi.io/sidp/2668\n"
     ]
    },
    {
     "name": "stdout",
     "output_type": "stream",
     "text": [
      "Parse auction.... https://sale.uslugi.io/sidp/2668\n"
     ]
    },
    {
     "name": "stderr",
     "output_type": "stream",
     "text": [
      "2022-12-22 16:24:57 [root] INFO: Parse auction.... https://sale.uslugi.io/sidp/2649\n"
     ]
    },
    {
     "name": "stdout",
     "output_type": "stream",
     "text": [
      "Parse auction.... https://sale.uslugi.io/sidp/2649\n"
     ]
    },
    {
     "name": "stderr",
     "output_type": "stream",
     "text": [
      "2022-12-22 16:24:58 [root] INFO: Parse auction.... https://sale.uslugi.io/sidp/2673\n"
     ]
    },
    {
     "name": "stdout",
     "output_type": "stream",
     "text": [
      "Parse auction.... https://sale.uslugi.io/sidp/2673\n"
     ]
    },
    {
     "name": "stderr",
     "output_type": "stream",
     "text": [
      "2022-12-22 16:24:59 [root] INFO: Parse auction.... https://sale.uslugi.io/sidp/2674\n"
     ]
    },
    {
     "name": "stdout",
     "output_type": "stream",
     "text": [
      "Parse auction.... https://sale.uslugi.io/sidp/2674\n"
     ]
    },
    {
     "name": "stderr",
     "output_type": "stream",
     "text": [
      "2022-12-22 16:24:59 [root] INFO: Parse auction.... https://sale.uslugi.io/sidp/2675\n"
     ]
    },
    {
     "name": "stdout",
     "output_type": "stream",
     "text": [
      "Parse auction.... https://sale.uslugi.io/sidp/2675\n"
     ]
    },
    {
     "name": "stderr",
     "output_type": "stream",
     "text": [
      "2022-12-22 16:25:00 [root] INFO: Parse auction.... https://sale.uslugi.io/sidp/2676\n"
     ]
    },
    {
     "name": "stdout",
     "output_type": "stream",
     "text": [
      "Parse auction.... https://sale.uslugi.io/sidp/2676\n"
     ]
    },
    {
     "name": "stderr",
     "output_type": "stream",
     "text": [
      "2022-12-22 16:25:01 [root] INFO: Parse auction.... https://sale.uslugi.io/sidp/2677\n"
     ]
    },
    {
     "name": "stdout",
     "output_type": "stream",
     "text": [
      "Parse auction.... https://sale.uslugi.io/sidp/2677\n"
     ]
    },
    {
     "name": "stderr",
     "output_type": "stream",
     "text": [
      "2022-12-22 16:25:01 [root] INFO: Parse auction.... https://sale.uslugi.io/sidp/2678\n"
     ]
    },
    {
     "name": "stdout",
     "output_type": "stream",
     "text": [
      "Parse auction.... https://sale.uslugi.io/sidp/2678\n"
     ]
    },
    {
     "name": "stderr",
     "output_type": "stream",
     "text": [
      "2022-12-22 16:25:02 [root] INFO: Parse auction.... https://sale.uslugi.io/sidp/2679\n"
     ]
    },
    {
     "name": "stdout",
     "output_type": "stream",
     "text": [
      "Parse auction.... https://sale.uslugi.io/sidp/2679\n"
     ]
    },
    {
     "name": "stderr",
     "output_type": "stream",
     "text": [
      "2022-12-22 16:25:03 [root] INFO: Parse auction.... https://sale.uslugi.io/sidp/2680\n"
     ]
    },
    {
     "name": "stdout",
     "output_type": "stream",
     "text": [
      "Parse auction.... https://sale.uslugi.io/sidp/2680\n"
     ]
    },
    {
     "name": "stderr",
     "output_type": "stream",
     "text": [
      "2022-12-22 16:25:03 [root] INFO: Parse auction.... https://sale.uslugi.io/sidp/2698\n"
     ]
    },
    {
     "name": "stdout",
     "output_type": "stream",
     "text": [
      "Parse auction.... https://sale.uslugi.io/sidp/2698\n"
     ]
    },
    {
     "name": "stderr",
     "output_type": "stream",
     "text": [
      "2022-12-22 16:25:04 [root] INFO: Parse auction.... https://sale.uslugi.io/sidp/2697\n"
     ]
    },
    {
     "name": "stdout",
     "output_type": "stream",
     "text": [
      "Parse auction.... https://sale.uslugi.io/sidp/2697\n"
     ]
    },
    {
     "name": "stderr",
     "output_type": "stream",
     "text": [
      "2022-12-22 16:25:05 [root] INFO: Parse auction.... https://sale.uslugi.io/sidp/2686\n"
     ]
    },
    {
     "name": "stdout",
     "output_type": "stream",
     "text": [
      "Parse auction.... https://sale.uslugi.io/sidp/2686\n"
     ]
    },
    {
     "name": "stderr",
     "output_type": "stream",
     "text": [
      "2022-12-22 16:25:06 [root] INFO: Parse auction.... https://sale.uslugi.io/sidp/2684\n"
     ]
    },
    {
     "name": "stdout",
     "output_type": "stream",
     "text": [
      "Parse auction.... https://sale.uslugi.io/sidp/2684\n"
     ]
    },
    {
     "name": "stderr",
     "output_type": "stream",
     "text": [
      "2022-12-22 16:25:06 [root] INFO: Parse auction.... https://sale.uslugi.io/sidp/2695\n"
     ]
    },
    {
     "name": "stdout",
     "output_type": "stream",
     "text": [
      "Parse auction.... https://sale.uslugi.io/sidp/2695\n"
     ]
    },
    {
     "name": "stderr",
     "output_type": "stream",
     "text": [
      "2022-12-22 16:25:07 [root] INFO: Parse auction.... https://sale.uslugi.io/sidp/2699\n"
     ]
    },
    {
     "name": "stdout",
     "output_type": "stream",
     "text": [
      "Parse auction.... https://sale.uslugi.io/sidp/2699\n"
     ]
    },
    {
     "name": "stderr",
     "output_type": "stream",
     "text": [
      "2022-12-22 16:25:08 [root] INFO: Parse auction.... https://sale.uslugi.io/sidp/2769\n"
     ]
    },
    {
     "name": "stdout",
     "output_type": "stream",
     "text": [
      "Parse auction.... https://sale.uslugi.io/sidp/2769\n"
     ]
    },
    {
     "name": "stderr",
     "output_type": "stream",
     "text": [
      "2022-12-22 16:25:08 [root] INFO: Parse auction.... https://sale.uslugi.io/sidp/2696\n"
     ]
    },
    {
     "name": "stdout",
     "output_type": "stream",
     "text": [
      "Parse auction.... https://sale.uslugi.io/sidp/2696\n"
     ]
    },
    {
     "name": "stderr",
     "output_type": "stream",
     "text": [
      "2022-12-22 16:25:09 [root] INFO: Parse auction.... https://sale.uslugi.io/sidp/2768\n"
     ]
    },
    {
     "name": "stdout",
     "output_type": "stream",
     "text": [
      "Parse auction.... https://sale.uslugi.io/sidp/2768\n"
     ]
    },
    {
     "name": "stderr",
     "output_type": "stream",
     "text": [
      "2022-12-22 16:25:09 [root] INFO: Parse auction.... https://sale.uslugi.io/sidp/2770\n"
     ]
    },
    {
     "name": "stdout",
     "output_type": "stream",
     "text": [
      "Parse auction.... https://sale.uslugi.io/sidp/2770\n"
     ]
    },
    {
     "name": "stderr",
     "output_type": "stream",
     "text": [
      "2022-12-22 16:25:10 [root] INFO: Parse auction.... https://sale.uslugi.io/sidp/2771\n"
     ]
    },
    {
     "name": "stdout",
     "output_type": "stream",
     "text": [
      "Parse auction.... https://sale.uslugi.io/sidp/2771\n"
     ]
    },
    {
     "name": "stderr",
     "output_type": "stream",
     "text": [
      "2022-12-22 16:25:10 [root] INFO: Parse auction.... https://sale.uslugi.io/sidp/2844\n"
     ]
    },
    {
     "name": "stdout",
     "output_type": "stream",
     "text": [
      "Parse auction.... https://sale.uslugi.io/sidp/2844\n"
     ]
    },
    {
     "name": "stderr",
     "output_type": "stream",
     "text": [
      "2022-12-22 16:25:11 [root] INFO: Parse auction.... https://sale.uslugi.io/sidp/2700\n"
     ]
    },
    {
     "name": "stdout",
     "output_type": "stream",
     "text": [
      "Parse auction.... https://sale.uslugi.io/sidp/2700\n"
     ]
    },
    {
     "name": "stderr",
     "output_type": "stream",
     "text": [
      "2022-12-22 16:25:12 [root] INFO: Parse auction.... https://sale.uslugi.io/sidp/2772\n"
     ]
    },
    {
     "name": "stdout",
     "output_type": "stream",
     "text": [
      "Parse auction.... https://sale.uslugi.io/sidp/2772\n"
     ]
    },
    {
     "name": "stderr",
     "output_type": "stream",
     "text": [
      "2022-12-22 16:25:12 [root] INFO: Parse auction.... https://sale.uslugi.io/sidp/2694\n"
     ]
    },
    {
     "name": "stdout",
     "output_type": "stream",
     "text": [
      "Parse auction.... https://sale.uslugi.io/sidp/2694\n"
     ]
    },
    {
     "name": "stderr",
     "output_type": "stream",
     "text": [
      "2022-12-22 16:25:13 [root] INFO: Parse auction.... https://sale.uslugi.io/sidp/2845\n"
     ]
    },
    {
     "name": "stdout",
     "output_type": "stream",
     "text": [
      "Parse auction.... https://sale.uslugi.io/sidp/2845\n"
     ]
    },
    {
     "name": "stderr",
     "output_type": "stream",
     "text": [
      "2022-12-22 16:25:13 [root] INFO: Parse auction.... https://sale.uslugi.io/sidp/2856\n"
     ]
    },
    {
     "name": "stdout",
     "output_type": "stream",
     "text": [
      "Parse auction.... https://sale.uslugi.io/sidp/2856\n"
     ]
    },
    {
     "name": "stderr",
     "output_type": "stream",
     "text": [
      "2022-12-22 16:25:13 [root] INFO: Parse auction.... https://sale.uslugi.io/sidp/2859\n"
     ]
    },
    {
     "name": "stdout",
     "output_type": "stream",
     "text": [
      "Parse auction.... https://sale.uslugi.io/sidp/2859\n"
     ]
    },
    {
     "name": "stderr",
     "output_type": "stream",
     "text": [
      "2022-12-22 16:25:14 [root] INFO: Parse auction.... https://sale.uslugi.io/sidp/2860\n"
     ]
    },
    {
     "name": "stdout",
     "output_type": "stream",
     "text": [
      "Parse auction.... https://sale.uslugi.io/sidp/2860\n"
     ]
    },
    {
     "name": "stderr",
     "output_type": "stream",
     "text": [
      "2022-12-22 16:25:14 [root] INFO: Parse auction.... https://sale.uslugi.io/sidp/2862\n"
     ]
    },
    {
     "name": "stdout",
     "output_type": "stream",
     "text": [
      "Parse auction.... https://sale.uslugi.io/sidp/2862\n"
     ]
    },
    {
     "name": "stderr",
     "output_type": "stream",
     "text": [
      "2022-12-22 16:25:15 [root] INFO: Parse auction.... https://sale.uslugi.io/sidp/2861\n"
     ]
    },
    {
     "name": "stdout",
     "output_type": "stream",
     "text": [
      "Parse auction.... https://sale.uslugi.io/sidp/2861\n"
     ]
    },
    {
     "name": "stderr",
     "output_type": "stream",
     "text": [
      "2022-12-22 16:25:16 [root] INFO: Parse auction.... https://sale.uslugi.io/sidp/2855\n"
     ]
    },
    {
     "name": "stdout",
     "output_type": "stream",
     "text": [
      "Parse auction.... https://sale.uslugi.io/sidp/2855\n"
     ]
    },
    {
     "name": "stderr",
     "output_type": "stream",
     "text": [
      "2022-12-22 16:25:16 [root] INFO: Parse auction.... https://sale.uslugi.io/sidp/2858\n"
     ]
    },
    {
     "name": "stdout",
     "output_type": "stream",
     "text": [
      "Parse auction.... https://sale.uslugi.io/sidp/2858\n"
     ]
    },
    {
     "name": "stderr",
     "output_type": "stream",
     "text": [
      "2022-12-22 16:25:17 [root] INFO: Parse auction.... https://sale.uslugi.io/sidp/2863\n"
     ]
    },
    {
     "name": "stdout",
     "output_type": "stream",
     "text": [
      "Parse auction.... https://sale.uslugi.io/sidp/2863\n"
     ]
    },
    {
     "name": "stderr",
     "output_type": "stream",
     "text": [
      "2022-12-22 16:25:17 [root] INFO: Parse auction.... https://sale.uslugi.io/sidp/2865\n"
     ]
    },
    {
     "name": "stdout",
     "output_type": "stream",
     "text": [
      "Parse auction.... https://sale.uslugi.io/sidp/2865\n"
     ]
    },
    {
     "name": "stderr",
     "output_type": "stream",
     "text": [
      "2022-12-22 16:25:18 [root] INFO: Parse auction.... https://sale.uslugi.io/sidp/2875\n"
     ]
    },
    {
     "name": "stdout",
     "output_type": "stream",
     "text": [
      "Parse auction.... https://sale.uslugi.io/sidp/2875\n"
     ]
    },
    {
     "name": "stderr",
     "output_type": "stream",
     "text": [
      "2022-12-22 16:25:18 [root] INFO: Parse auction.... https://sale.uslugi.io/sidp/2864\n"
     ]
    },
    {
     "name": "stdout",
     "output_type": "stream",
     "text": [
      "Parse auction.... https://sale.uslugi.io/sidp/2864\n"
     ]
    },
    {
     "name": "stderr",
     "output_type": "stream",
     "text": [
      "2022-12-22 16:25:19 [root] INFO: Parse auction.... https://sale.uslugi.io/sidp/2877\n"
     ]
    },
    {
     "name": "stdout",
     "output_type": "stream",
     "text": [
      "Parse auction.... https://sale.uslugi.io/sidp/2877\n"
     ]
    },
    {
     "name": "stderr",
     "output_type": "stream",
     "text": [
      "2022-12-22 16:25:19 [root] INFO: Parse auction.... https://sale.uslugi.io/sidp/2876\n"
     ]
    },
    {
     "name": "stdout",
     "output_type": "stream",
     "text": [
      "Parse auction.... https://sale.uslugi.io/sidp/2876\n"
     ]
    },
    {
     "name": "stderr",
     "output_type": "stream",
     "text": [
      "2022-12-22 16:25:19 [root] INFO: Parse auction.... https://sale.uslugi.io/sidp/2878\n"
     ]
    },
    {
     "name": "stdout",
     "output_type": "stream",
     "text": [
      "Parse auction.... https://sale.uslugi.io/sidp/2878\n"
     ]
    },
    {
     "name": "stderr",
     "output_type": "stream",
     "text": [
      "2022-12-22 16:25:20 [root] INFO: Parse auction.... https://sale.uslugi.io/sidp/2879\n"
     ]
    },
    {
     "name": "stdout",
     "output_type": "stream",
     "text": [
      "Parse auction.... https://sale.uslugi.io/sidp/2879\n"
     ]
    },
    {
     "name": "stderr",
     "output_type": "stream",
     "text": [
      "2022-12-22 16:25:20 [root] INFO: Parse auction.... https://sale.uslugi.io/sidp/2880\n"
     ]
    },
    {
     "name": "stdout",
     "output_type": "stream",
     "text": [
      "Parse auction.... https://sale.uslugi.io/sidp/2880\n"
     ]
    },
    {
     "name": "stderr",
     "output_type": "stream",
     "text": [
      "2022-12-22 16:25:20 [root] INFO: Parse auction.... https://sale.uslugi.io/sidp/2881\n"
     ]
    },
    {
     "name": "stdout",
     "output_type": "stream",
     "text": [
      "Parse auction.... https://sale.uslugi.io/sidp/2881\n"
     ]
    },
    {
     "name": "stderr",
     "output_type": "stream",
     "text": [
      "2022-12-22 16:25:21 [root] INFO: Parse auction.... https://sale.uslugi.io/sidp/2882\n"
     ]
    },
    {
     "name": "stdout",
     "output_type": "stream",
     "text": [
      "Parse auction.... https://sale.uslugi.io/sidp/2882\n"
     ]
    },
    {
     "name": "stderr",
     "output_type": "stream",
     "text": [
      "2022-12-22 16:25:21 [root] INFO: Parse auction.... https://sale.uslugi.io/sidp/2883\n"
     ]
    },
    {
     "name": "stdout",
     "output_type": "stream",
     "text": [
      "Parse auction.... https://sale.uslugi.io/sidp/2883\n"
     ]
    },
    {
     "name": "stderr",
     "output_type": "stream",
     "text": [
      "2022-12-22 16:25:22 [root] INFO: Parse auction.... https://sale.uslugi.io/sidp/2884\n"
     ]
    },
    {
     "name": "stdout",
     "output_type": "stream",
     "text": [
      "Parse auction.... https://sale.uslugi.io/sidp/2884\n"
     ]
    },
    {
     "name": "stderr",
     "output_type": "stream",
     "text": [
      "2022-12-22 16:25:22 [root] INFO: Parse auction.... https://sale.uslugi.io/sidp/2885\n"
     ]
    },
    {
     "name": "stdout",
     "output_type": "stream",
     "text": [
      "Parse auction.... https://sale.uslugi.io/sidp/2885\n"
     ]
    },
    {
     "name": "stderr",
     "output_type": "stream",
     "text": [
      "2022-12-22 16:25:23 [scrapy.extensions.logstats] INFO: Crawled 489 pages (at 103 pages/min), scraped 488 items (at 103 items/min)\n",
      "2022-12-22 16:25:23 [root] INFO: Parse auction.... https://sale.uslugi.io/sidp/2886\n"
     ]
    },
    {
     "name": "stdout",
     "output_type": "stream",
     "text": [
      "Parse auction.... https://sale.uslugi.io/sidp/2886\n"
     ]
    },
    {
     "name": "stderr",
     "output_type": "stream",
     "text": [
      "2022-12-22 16:25:23 [root] INFO: Parse auction.... https://sale.uslugi.io/sidp/2893\n"
     ]
    },
    {
     "name": "stdout",
     "output_type": "stream",
     "text": [
      "Parse auction.... https://sale.uslugi.io/sidp/2893\n"
     ]
    },
    {
     "name": "stderr",
     "output_type": "stream",
     "text": [
      "2022-12-22 16:25:24 [root] INFO: Parse auction.... https://sale.uslugi.io/sidp/2891\n"
     ]
    },
    {
     "name": "stdout",
     "output_type": "stream",
     "text": [
      "Parse auction.... https://sale.uslugi.io/sidp/2891\n"
     ]
    },
    {
     "name": "stderr",
     "output_type": "stream",
     "text": [
      "2022-12-22 16:25:25 [root] INFO: Parse auction.... https://sale.uslugi.io/sidp/2897\n"
     ]
    },
    {
     "name": "stdout",
     "output_type": "stream",
     "text": [
      "Parse auction.... https://sale.uslugi.io/sidp/2897\n"
     ]
    },
    {
     "name": "stderr",
     "output_type": "stream",
     "text": [
      "2022-12-22 16:25:25 [root] INFO: Parse auction.... https://sale.uslugi.io/sidp/2895\n"
     ]
    },
    {
     "name": "stdout",
     "output_type": "stream",
     "text": [
      "Parse auction.... https://sale.uslugi.io/sidp/2895\n"
     ]
    },
    {
     "name": "stderr",
     "output_type": "stream",
     "text": [
      "2022-12-22 16:25:26 [root] INFO: Parse auction.... https://sale.uslugi.io/sidp/2896\n"
     ]
    },
    {
     "name": "stdout",
     "output_type": "stream",
     "text": [
      "Parse auction.... https://sale.uslugi.io/sidp/2896\n"
     ]
    },
    {
     "name": "stderr",
     "output_type": "stream",
     "text": [
      "2022-12-22 16:25:26 [root] INFO: Parse auction.... https://sale.uslugi.io/sidp/2899\n"
     ]
    },
    {
     "name": "stdout",
     "output_type": "stream",
     "text": [
      "Parse auction.... https://sale.uslugi.io/sidp/2899\n"
     ]
    },
    {
     "name": "stderr",
     "output_type": "stream",
     "text": [
      "2022-12-22 16:25:26 [root] INFO: Parse auction.... https://sale.uslugi.io/sidp/2894\n"
     ]
    },
    {
     "name": "stdout",
     "output_type": "stream",
     "text": [
      "Parse auction.... https://sale.uslugi.io/sidp/2894\n"
     ]
    },
    {
     "name": "stderr",
     "output_type": "stream",
     "text": [
      "2022-12-22 16:25:27 [root] INFO: Parse auction.... https://sale.uslugi.io/sidp/3029\n"
     ]
    },
    {
     "name": "stdout",
     "output_type": "stream",
     "text": [
      "Parse auction.... https://sale.uslugi.io/sidp/3029\n"
     ]
    },
    {
     "name": "stderr",
     "output_type": "stream",
     "text": [
      "2022-12-22 16:25:28 [root] INFO: Parse auction.... https://sale.uslugi.io/sidp/3031\n"
     ]
    },
    {
     "name": "stdout",
     "output_type": "stream",
     "text": [
      "Parse auction.... https://sale.uslugi.io/sidp/3031\n"
     ]
    },
    {
     "name": "stderr",
     "output_type": "stream",
     "text": [
      "2022-12-22 16:25:28 [root] INFO: Parse auction.... https://sale.uslugi.io/sidp/3030\n"
     ]
    },
    {
     "name": "stdout",
     "output_type": "stream",
     "text": [
      "Parse auction.... https://sale.uslugi.io/sidp/3030\n"
     ]
    },
    {
     "name": "stderr",
     "output_type": "stream",
     "text": [
      "2022-12-22 16:25:29 [root] INFO: Parse auction.... https://sale.uslugi.io/sidp/3033\n",
      "2022-12-22 16:25:29 [root] INFO: Parse auction.... https://sale.uslugi.io/sidp/2892\n"
     ]
    },
    {
     "name": "stdout",
     "output_type": "stream",
     "text": [
      "Parse auction.... https://sale.uslugi.io/sidp/3033\n",
      "Parse auction.... https://sale.uslugi.io/sidp/2892\n"
     ]
    },
    {
     "name": "stderr",
     "output_type": "stream",
     "text": [
      "2022-12-22 16:25:30 [root] INFO: Parse auction.... https://sale.uslugi.io/sidp/3046\n"
     ]
    },
    {
     "name": "stdout",
     "output_type": "stream",
     "text": [
      "Parse auction.... https://sale.uslugi.io/sidp/3046\n"
     ]
    },
    {
     "name": "stderr",
     "output_type": "stream",
     "text": [
      "2022-12-22 16:25:31 [root] INFO: Parse auction.... https://sale.uslugi.io/sidp/3035\n"
     ]
    },
    {
     "name": "stdout",
     "output_type": "stream",
     "text": [
      "Parse auction.... https://sale.uslugi.io/sidp/3035\n"
     ]
    },
    {
     "name": "stderr",
     "output_type": "stream",
     "text": [
      "2022-12-22 16:25:32 [root] INFO: Parse auction.... https://sale.uslugi.io/sidp/2898\n"
     ]
    },
    {
     "name": "stdout",
     "output_type": "stream",
     "text": [
      "Parse auction.... https://sale.uslugi.io/sidp/2898\n"
     ]
    },
    {
     "name": "stderr",
     "output_type": "stream",
     "text": [
      "2022-12-22 16:25:32 [root] INFO: Parse auction.... https://sale.uslugi.io/sidp/3032\n",
      "2022-12-22 16:25:32 [root] INFO: Parse auction.... https://sale.uslugi.io/sidp/3055\n"
     ]
    },
    {
     "name": "stdout",
     "output_type": "stream",
     "text": [
      "Parse auction.... https://sale.uslugi.io/sidp/3032\n",
      "Parse auction.... https://sale.uslugi.io/sidp/3055\n"
     ]
    },
    {
     "name": "stderr",
     "output_type": "stream",
     "text": [
      "2022-12-22 16:25:33 [root] INFO: Parse auction.... https://sale.uslugi.io/sidp/3047\n"
     ]
    },
    {
     "name": "stdout",
     "output_type": "stream",
     "text": [
      "Parse auction.... https://sale.uslugi.io/sidp/3047\n"
     ]
    },
    {
     "name": "stderr",
     "output_type": "stream",
     "text": [
      "2022-12-22 16:25:34 [root] INFO: Parse auction.... https://sale.uslugi.io/sidp/3049\n"
     ]
    },
    {
     "name": "stdout",
     "output_type": "stream",
     "text": [
      "Parse auction.... https://sale.uslugi.io/sidp/3049\n"
     ]
    },
    {
     "name": "stderr",
     "output_type": "stream",
     "text": [
      "2022-12-22 16:25:35 [root] INFO: Parse auction.... https://sale.uslugi.io/sidp/3050\n"
     ]
    },
    {
     "name": "stdout",
     "output_type": "stream",
     "text": [
      "Parse auction.... https://sale.uslugi.io/sidp/3050\n"
     ]
    },
    {
     "name": "stderr",
     "output_type": "stream",
     "text": [
      "2022-12-22 16:25:35 [root] INFO: Parse auction.... https://sale.uslugi.io/sidp/3053\n"
     ]
    },
    {
     "name": "stdout",
     "output_type": "stream",
     "text": [
      "Parse auction.... https://sale.uslugi.io/sidp/3053\n"
     ]
    },
    {
     "name": "stderr",
     "output_type": "stream",
     "text": [
      "2022-12-22 16:25:36 [root] INFO: Parse auction.... https://sale.uslugi.io/sidp/3051\n"
     ]
    },
    {
     "name": "stdout",
     "output_type": "stream",
     "text": [
      "Parse auction.... https://sale.uslugi.io/sidp/3051\n"
     ]
    },
    {
     "name": "stderr",
     "output_type": "stream",
     "text": [
      "2022-12-22 16:25:37 [root] INFO: Parse auction.... https://sale.uslugi.io/sidp/3056\n"
     ]
    },
    {
     "name": "stdout",
     "output_type": "stream",
     "text": [
      "Parse auction.... https://sale.uslugi.io/sidp/3056\n"
     ]
    },
    {
     "name": "stderr",
     "output_type": "stream",
     "text": [
      "2022-12-22 16:25:38 [root] INFO: Parse auction.... https://sale.uslugi.io/sidp/3054\n"
     ]
    },
    {
     "name": "stdout",
     "output_type": "stream",
     "text": [
      "Parse auction.... https://sale.uslugi.io/sidp/3054\n"
     ]
    },
    {
     "name": "stderr",
     "output_type": "stream",
     "text": [
      "2022-12-22 16:25:39 [root] INFO: Parse auction.... https://sale.uslugi.io/sidp/3048\n"
     ]
    },
    {
     "name": "stdout",
     "output_type": "stream",
     "text": [
      "Parse auction.... https://sale.uslugi.io/sidp/3048\n"
     ]
    },
    {
     "name": "stderr",
     "output_type": "stream",
     "text": [
      "2022-12-22 16:25:40 [root] INFO: Parse auction.... https://sale.uslugi.io/sidp/3052\n"
     ]
    },
    {
     "name": "stdout",
     "output_type": "stream",
     "text": [
      "Parse auction.... https://sale.uslugi.io/sidp/3052\n"
     ]
    },
    {
     "name": "stderr",
     "output_type": "stream",
     "text": [
      "2022-12-22 16:25:40 [root] INFO: Parse auction.... https://sale.uslugi.io/sidp/2900\n"
     ]
    },
    {
     "name": "stdout",
     "output_type": "stream",
     "text": [
      "Parse auction.... https://sale.uslugi.io/sidp/2900\n"
     ]
    },
    {
     "name": "stderr",
     "output_type": "stream",
     "text": [
      "2022-12-22 16:25:41 [root] INFO: Parse auction.... https://sale.uslugi.io/sidp/3057\n"
     ]
    },
    {
     "name": "stdout",
     "output_type": "stream",
     "text": [
      "Parse auction.... https://sale.uslugi.io/sidp/3057\n"
     ]
    },
    {
     "name": "stderr",
     "output_type": "stream",
     "text": [
      "2022-12-22 16:25:42 [root] INFO: Parse auction.... https://sale.uslugi.io/sidp/3058\n"
     ]
    },
    {
     "name": "stdout",
     "output_type": "stream",
     "text": [
      "Parse auction.... https://sale.uslugi.io/sidp/3058\n"
     ]
    },
    {
     "name": "stderr",
     "output_type": "stream",
     "text": [
      "2022-12-22 16:25:42 [root] INFO: Parse auction.... https://sale.uslugi.io/sidp/3059\n"
     ]
    },
    {
     "name": "stdout",
     "output_type": "stream",
     "text": [
      "Parse auction.... https://sale.uslugi.io/sidp/3059\n"
     ]
    },
    {
     "name": "stderr",
     "output_type": "stream",
     "text": [
      "2022-12-22 16:25:43 [root] INFO: Parse auction.... https://sale.uslugi.io/sidp/3060\n"
     ]
    },
    {
     "name": "stdout",
     "output_type": "stream",
     "text": [
      "Parse auction.... https://sale.uslugi.io/sidp/3060\n"
     ]
    },
    {
     "name": "stderr",
     "output_type": "stream",
     "text": [
      "2022-12-22 16:25:44 [root] INFO: Parse auction.... https://sale.uslugi.io/sidp/3062\n"
     ]
    },
    {
     "name": "stdout",
     "output_type": "stream",
     "text": [
      "Parse auction.... https://sale.uslugi.io/sidp/3062\n"
     ]
    },
    {
     "name": "stderr",
     "output_type": "stream",
     "text": [
      "2022-12-22 16:25:45 [root] INFO: Parse auction.... https://sale.uslugi.io/sidp/3063\n"
     ]
    },
    {
     "name": "stdout",
     "output_type": "stream",
     "text": [
      "Parse auction.... https://sale.uslugi.io/sidp/3063\n"
     ]
    },
    {
     "name": "stderr",
     "output_type": "stream",
     "text": [
      "2022-12-22 16:25:45 [root] INFO: Parse auction.... https://sale.uslugi.io/sidp/3065\n"
     ]
    },
    {
     "name": "stdout",
     "output_type": "stream",
     "text": [
      "Parse auction.... https://sale.uslugi.io/sidp/3065\n"
     ]
    },
    {
     "name": "stderr",
     "output_type": "stream",
     "text": [
      "2022-12-22 16:25:46 [root] INFO: Parse auction.... https://sale.uslugi.io/sidp/3061\n"
     ]
    },
    {
     "name": "stdout",
     "output_type": "stream",
     "text": [
      "Parse auction.... https://sale.uslugi.io/sidp/3061\n"
     ]
    },
    {
     "name": "stderr",
     "output_type": "stream",
     "text": [
      "2022-12-22 16:25:46 [root] INFO: Parse auction.... https://sale.uslugi.io/sidp/3073\n"
     ]
    },
    {
     "name": "stdout",
     "output_type": "stream",
     "text": [
      "Parse auction.... https://sale.uslugi.io/sidp/3073\n"
     ]
    },
    {
     "name": "stderr",
     "output_type": "stream",
     "text": [
      "2022-12-22 16:25:48 [root] INFO: Parse auction.... https://sale.uslugi.io/sidp/3067\n"
     ]
    },
    {
     "name": "stdout",
     "output_type": "stream",
     "text": [
      "Parse auction.... https://sale.uslugi.io/sidp/3067\n"
     ]
    },
    {
     "name": "stderr",
     "output_type": "stream",
     "text": [
      "2022-12-22 16:25:49 [root] INFO: Parse auction.... https://sale.uslugi.io/sidp/3069\n"
     ]
    },
    {
     "name": "stdout",
     "output_type": "stream",
     "text": [
      "Parse auction.... https://sale.uslugi.io/sidp/3069\n"
     ]
    },
    {
     "name": "stderr",
     "output_type": "stream",
     "text": [
      "2022-12-22 16:25:49 [root] INFO: Parse auction.... https://sale.uslugi.io/sidp/3071\n"
     ]
    },
    {
     "name": "stdout",
     "output_type": "stream",
     "text": [
      "Parse auction.... https://sale.uslugi.io/sidp/3071\n"
     ]
    },
    {
     "name": "stderr",
     "output_type": "stream",
     "text": [
      "2022-12-22 16:25:50 [root] INFO: Parse auction.... https://sale.uslugi.io/sidp/3070\n"
     ]
    },
    {
     "name": "stdout",
     "output_type": "stream",
     "text": [
      "Parse auction.... https://sale.uslugi.io/sidp/3070\n"
     ]
    },
    {
     "name": "stderr",
     "output_type": "stream",
     "text": [
      "2022-12-22 16:25:51 [root] INFO: Parse auction.... https://sale.uslugi.io/sidp/3068\n"
     ]
    },
    {
     "name": "stdout",
     "output_type": "stream",
     "text": [
      "Parse auction.... https://sale.uslugi.io/sidp/3068\n"
     ]
    },
    {
     "name": "stderr",
     "output_type": "stream",
     "text": [
      "2022-12-22 16:25:52 [root] INFO: Parse auction.... https://sale.uslugi.io/sidp/3074\n"
     ]
    },
    {
     "name": "stdout",
     "output_type": "stream",
     "text": [
      "Parse auction.... https://sale.uslugi.io/sidp/3074\n"
     ]
    },
    {
     "name": "stderr",
     "output_type": "stream",
     "text": [
      "2022-12-22 16:25:52 [root] INFO: Parse auction.... https://sale.uslugi.io/sidp/3099\n"
     ]
    },
    {
     "name": "stdout",
     "output_type": "stream",
     "text": [
      "Parse auction.... https://sale.uslugi.io/sidp/3099\n"
     ]
    },
    {
     "name": "stderr",
     "output_type": "stream",
     "text": [
      "2022-12-22 16:25:53 [root] INFO: Parse auction.... https://sale.uslugi.io/sidp/3075\n"
     ]
    },
    {
     "name": "stdout",
     "output_type": "stream",
     "text": [
      "Parse auction.... https://sale.uslugi.io/sidp/3075\n"
     ]
    },
    {
     "name": "stderr",
     "output_type": "stream",
     "text": [
      "2022-12-22 16:25:53 [root] INFO: Parse auction.... https://sale.uslugi.io/sidp/3066\n"
     ]
    },
    {
     "name": "stdout",
     "output_type": "stream",
     "text": [
      "Parse auction.... https://sale.uslugi.io/sidp/3066\n"
     ]
    },
    {
     "name": "stderr",
     "output_type": "stream",
     "text": [
      "2022-12-22 16:25:54 [root] INFO: Parse auction.... https://sale.uslugi.io/sidp/3077\n"
     ]
    },
    {
     "name": "stdout",
     "output_type": "stream",
     "text": [
      "Parse auction.... https://sale.uslugi.io/sidp/3077\n"
     ]
    },
    {
     "name": "stderr",
     "output_type": "stream",
     "text": [
      "2022-12-22 16:25:55 [root] INFO: Parse auction.... https://sale.uslugi.io/sidp/3072\n"
     ]
    },
    {
     "name": "stdout",
     "output_type": "stream",
     "text": [
      "Parse auction.... https://sale.uslugi.io/sidp/3072\n"
     ]
    },
    {
     "name": "stderr",
     "output_type": "stream",
     "text": [
      "2022-12-22 16:25:56 [root] INFO: Parse auction.... https://sale.uslugi.io/sidp/3116\n"
     ]
    },
    {
     "name": "stdout",
     "output_type": "stream",
     "text": [
      "Parse auction.... https://sale.uslugi.io/sidp/3116\n"
     ]
    },
    {
     "name": "stderr",
     "output_type": "stream",
     "text": [
      "2022-12-22 16:25:57 [root] INFO: Parse auction.... https://sale.uslugi.io/sidp/3119\n"
     ]
    },
    {
     "name": "stdout",
     "output_type": "stream",
     "text": [
      "Parse auction.... https://sale.uslugi.io/sidp/3119\n"
     ]
    },
    {
     "name": "stderr",
     "output_type": "stream",
     "text": [
      "2022-12-22 16:25:58 [root] INFO: Parse auction.... https://sale.uslugi.io/sidp/3076\n"
     ]
    },
    {
     "name": "stdout",
     "output_type": "stream",
     "text": [
      "Parse auction.... https://sale.uslugi.io/sidp/3076\n"
     ]
    },
    {
     "name": "stderr",
     "output_type": "stream",
     "text": [
      "2022-12-22 16:25:58 [root] INFO: Parse auction.... https://sale.uslugi.io/sidp/3120\n"
     ]
    },
    {
     "name": "stdout",
     "output_type": "stream",
     "text": [
      "Parse auction.... https://sale.uslugi.io/sidp/3120\n"
     ]
    },
    {
     "name": "stderr",
     "output_type": "stream",
     "text": [
      "2022-12-22 16:25:59 [root] INFO: Parse auction.... https://sale.uslugi.io/sidp/3121\n"
     ]
    },
    {
     "name": "stdout",
     "output_type": "stream",
     "text": [
      "Parse auction.... https://sale.uslugi.io/sidp/3121\n"
     ]
    },
    {
     "name": "stderr",
     "output_type": "stream",
     "text": [
      "2022-12-22 16:25:59 [root] INFO: Parse auction.... https://sale.uslugi.io/sidp/3115\n"
     ]
    },
    {
     "name": "stdout",
     "output_type": "stream",
     "text": [
      "Parse auction.... https://sale.uslugi.io/sidp/3115\n"
     ]
    },
    {
     "name": "stderr",
     "output_type": "stream",
     "text": [
      "2022-12-22 16:26:00 [root] INFO: Parse auction.... https://sale.uslugi.io/sidp/3126\n"
     ]
    },
    {
     "name": "stdout",
     "output_type": "stream",
     "text": [
      "Parse auction.... https://sale.uslugi.io/sidp/3126\n"
     ]
    },
    {
     "name": "stderr",
     "output_type": "stream",
     "text": [
      "2022-12-22 16:26:01 [root] INFO: Parse auction.... https://sale.uslugi.io/sidp/3124\n"
     ]
    },
    {
     "name": "stdout",
     "output_type": "stream",
     "text": [
      "Parse auction.... https://sale.uslugi.io/sidp/3124\n"
     ]
    },
    {
     "name": "stderr",
     "output_type": "stream",
     "text": [
      "2022-12-22 16:26:02 [root] INFO: Parse auction.... https://sale.uslugi.io/sidp/3104\n"
     ]
    },
    {
     "name": "stdout",
     "output_type": "stream",
     "text": [
      "Parse auction.... https://sale.uslugi.io/sidp/3104\n"
     ]
    },
    {
     "name": "stderr",
     "output_type": "stream",
     "text": [
      "2022-12-22 16:26:02 [root] INFO: Parse auction.... https://sale.uslugi.io/sidp/3122\n"
     ]
    },
    {
     "name": "stdout",
     "output_type": "stream",
     "text": [
      "Parse auction.... https://sale.uslugi.io/sidp/3122\n"
     ]
    },
    {
     "name": "stderr",
     "output_type": "stream",
     "text": [
      "2022-12-22 16:26:03 [root] INFO: Parse auction.... https://sale.uslugi.io/sidp/3117\n"
     ]
    },
    {
     "name": "stdout",
     "output_type": "stream",
     "text": [
      "Parse auction.... https://sale.uslugi.io/sidp/3117\n"
     ]
    },
    {
     "name": "stderr",
     "output_type": "stream",
     "text": [
      "2022-12-22 16:26:03 [root] INFO: Parse auction.... https://sale.uslugi.io/sidp/3125\n"
     ]
    },
    {
     "name": "stdout",
     "output_type": "stream",
     "text": [
      "Parse auction.... https://sale.uslugi.io/sidp/3125\n"
     ]
    },
    {
     "name": "stderr",
     "output_type": "stream",
     "text": [
      "2022-12-22 16:26:04 [root] INFO: Parse auction.... https://sale.uslugi.io/sidp/3123\n"
     ]
    },
    {
     "name": "stdout",
     "output_type": "stream",
     "text": [
      "Parse auction.... https://sale.uslugi.io/sidp/3123\n"
     ]
    },
    {
     "name": "stderr",
     "output_type": "stream",
     "text": [
      "2022-12-22 16:26:05 [root] INFO: Parse auction.... https://sale.uslugi.io/sidp/3118\n"
     ]
    },
    {
     "name": "stdout",
     "output_type": "stream",
     "text": [
      "Parse auction.... https://sale.uslugi.io/sidp/3118\n"
     ]
    },
    {
     "name": "stderr",
     "output_type": "stream",
     "text": [
      "2022-12-22 16:26:06 [root] INFO: Parse auction.... https://sale.uslugi.io/sidp/3127\n"
     ]
    },
    {
     "name": "stdout",
     "output_type": "stream",
     "text": [
      "Parse auction.... https://sale.uslugi.io/sidp/3127\n"
     ]
    },
    {
     "name": "stderr",
     "output_type": "stream",
     "text": [
      "2022-12-22 16:26:06 [root] INFO: Parse auction.... https://sale.uslugi.io/sidp/3128\n"
     ]
    },
    {
     "name": "stdout",
     "output_type": "stream",
     "text": [
      "Parse auction.... https://sale.uslugi.io/sidp/3128\n"
     ]
    },
    {
     "name": "stderr",
     "output_type": "stream",
     "text": [
      "2022-12-22 16:26:07 [root] INFO: Parse auction.... https://sale.uslugi.io/sidp/3129\n"
     ]
    },
    {
     "name": "stdout",
     "output_type": "stream",
     "text": [
      "Parse auction.... https://sale.uslugi.io/sidp/3129\n"
     ]
    },
    {
     "name": "stderr",
     "output_type": "stream",
     "text": [
      "2022-12-22 16:26:08 [root] INFO: Parse auction.... https://sale.uslugi.io/sidp/3130\n"
     ]
    },
    {
     "name": "stdout",
     "output_type": "stream",
     "text": [
      "Parse auction.... https://sale.uslugi.io/sidp/3130\n"
     ]
    },
    {
     "name": "stderr",
     "output_type": "stream",
     "text": [
      "2022-12-22 16:26:09 [root] INFO: Parse auction.... https://sale.uslugi.io/sidp/3131\n"
     ]
    },
    {
     "name": "stdout",
     "output_type": "stream",
     "text": [
      "Parse auction.... https://sale.uslugi.io/sidp/3131\n"
     ]
    },
    {
     "name": "stderr",
     "output_type": "stream",
     "text": [
      "2022-12-22 16:26:10 [root] INFO: Parse auction.... https://sale.uslugi.io/sidp/3132\n"
     ]
    },
    {
     "name": "stdout",
     "output_type": "stream",
     "text": [
      "Parse auction.... https://sale.uslugi.io/sidp/3132\n"
     ]
    },
    {
     "name": "stderr",
     "output_type": "stream",
     "text": [
      "2022-12-22 16:26:10 [root] INFO: Parse auction.... https://sale.uslugi.io/sidp/3133\n"
     ]
    },
    {
     "name": "stdout",
     "output_type": "stream",
     "text": [
      "Parse auction.... https://sale.uslugi.io/sidp/3133\n"
     ]
    },
    {
     "name": "stderr",
     "output_type": "stream",
     "text": [
      "2022-12-22 16:26:11 [root] INFO: Parse auction.... https://sale.uslugi.io/sidp/3134\n"
     ]
    },
    {
     "name": "stdout",
     "output_type": "stream",
     "text": [
      "Parse auction.... https://sale.uslugi.io/sidp/3134\n"
     ]
    },
    {
     "name": "stderr",
     "output_type": "stream",
     "text": [
      "2022-12-22 16:26:12 [root] INFO: Parse auction.... https://sale.uslugi.io/sidp/3138\n"
     ]
    },
    {
     "name": "stdout",
     "output_type": "stream",
     "text": [
      "Parse auction.... https://sale.uslugi.io/sidp/3138\n"
     ]
    },
    {
     "name": "stderr",
     "output_type": "stream",
     "text": [
      "2022-12-22 16:26:12 [root] INFO: Parse auction.... https://sale.uslugi.io/sidp/3135\n"
     ]
    },
    {
     "name": "stdout",
     "output_type": "stream",
     "text": [
      "Parse auction.... https://sale.uslugi.io/sidp/3135\n"
     ]
    },
    {
     "name": "stderr",
     "output_type": "stream",
     "text": [
      "2022-12-22 16:26:13 [root] INFO: Parse auction.... https://sale.uslugi.io/sidp/3139\n"
     ]
    },
    {
     "name": "stdout",
     "output_type": "stream",
     "text": [
      "Parse auction.... https://sale.uslugi.io/sidp/3139\n"
     ]
    },
    {
     "name": "stderr",
     "output_type": "stream",
     "text": [
      "2022-12-22 16:26:13 [root] INFO: Parse auction.... https://sale.uslugi.io/sidp/3158\n"
     ]
    },
    {
     "name": "stdout",
     "output_type": "stream",
     "text": [
      "Parse auction.... https://sale.uslugi.io/sidp/3158\n"
     ]
    },
    {
     "name": "stderr",
     "output_type": "stream",
     "text": [
      "2022-12-22 16:26:14 [root] INFO: Parse auction.... https://sale.uslugi.io/sidp/3137\n"
     ]
    },
    {
     "name": "stdout",
     "output_type": "stream",
     "text": [
      "Parse auction.... https://sale.uslugi.io/sidp/3137\n"
     ]
    },
    {
     "name": "stderr",
     "output_type": "stream",
     "text": [
      "2022-12-22 16:26:15 [root] INFO: Parse auction.... https://sale.uslugi.io/sidp/3161\n"
     ]
    },
    {
     "name": "stdout",
     "output_type": "stream",
     "text": [
      "Parse auction.... https://sale.uslugi.io/sidp/3161\n"
     ]
    },
    {
     "name": "stderr",
     "output_type": "stream",
     "text": [
      "2022-12-22 16:26:15 [root] INFO: Parse auction.... https://sale.uslugi.io/sidp/3160\n"
     ]
    },
    {
     "name": "stdout",
     "output_type": "stream",
     "text": [
      "Parse auction.... https://sale.uslugi.io/sidp/3160\n"
     ]
    },
    {
     "name": "stderr",
     "output_type": "stream",
     "text": [
      "2022-12-22 16:26:16 [root] INFO: Parse auction.... https://sale.uslugi.io/sidp/3157\n",
      "2022-12-22 16:26:16 [root] INFO: Parse auction.... https://sale.uslugi.io/sidp/3170\n"
     ]
    },
    {
     "name": "stdout",
     "output_type": "stream",
     "text": [
      "Parse auction.... https://sale.uslugi.io/sidp/3157\n",
      "Parse auction.... https://sale.uslugi.io/sidp/3170\n"
     ]
    },
    {
     "name": "stderr",
     "output_type": "stream",
     "text": [
      "2022-12-22 16:26:16 [root] INFO: Parse auction.... https://sale.uslugi.io/sidp/3169\n"
     ]
    },
    {
     "name": "stdout",
     "output_type": "stream",
     "text": [
      "Parse auction.... https://sale.uslugi.io/sidp/3169\n"
     ]
    },
    {
     "name": "stderr",
     "output_type": "stream",
     "text": [
      "2022-12-22 16:26:17 [root] INFO: Parse auction.... https://sale.uslugi.io/sidp/3172\n"
     ]
    },
    {
     "name": "stdout",
     "output_type": "stream",
     "text": [
      "Parse auction.... https://sale.uslugi.io/sidp/3172\n"
     ]
    },
    {
     "name": "stderr",
     "output_type": "stream",
     "text": [
      "2022-12-22 16:26:18 [root] INFO: Parse auction.... https://sale.uslugi.io/sidp/3173\n"
     ]
    },
    {
     "name": "stdout",
     "output_type": "stream",
     "text": [
      "Parse auction.... https://sale.uslugi.io/sidp/3173\n"
     ]
    },
    {
     "name": "stderr",
     "output_type": "stream",
     "text": [
      "2022-12-22 16:26:19 [root] INFO: Parse auction.... https://sale.uslugi.io/sidp/3171\n"
     ]
    },
    {
     "name": "stdout",
     "output_type": "stream",
     "text": [
      "Parse auction.... https://sale.uslugi.io/sidp/3171\n"
     ]
    },
    {
     "name": "stderr",
     "output_type": "stream",
     "text": [
      "2022-12-22 16:26:19 [root] INFO: Parse auction.... https://sale.uslugi.io/sidp/3159\n"
     ]
    },
    {
     "name": "stdout",
     "output_type": "stream",
     "text": [
      "Parse auction.... https://sale.uslugi.io/sidp/3159\n"
     ]
    },
    {
     "name": "stderr",
     "output_type": "stream",
     "text": [
      "2022-12-22 16:26:20 [root] INFO: Parse auction.... https://sale.uslugi.io/sidp/3136\n"
     ]
    },
    {
     "name": "stdout",
     "output_type": "stream",
     "text": [
      "Parse auction.... https://sale.uslugi.io/sidp/3136\n"
     ]
    },
    {
     "name": "stderr",
     "output_type": "stream",
     "text": [
      "2022-12-22 16:26:20 [root] INFO: Parse auction.... https://sale.uslugi.io/sidp/3174\n"
     ]
    },
    {
     "name": "stdout",
     "output_type": "stream",
     "text": [
      "Parse auction.... https://sale.uslugi.io/sidp/3174\n"
     ]
    },
    {
     "name": "stderr",
     "output_type": "stream",
     "text": [
      "2022-12-22 16:26:21 [root] INFO: Parse auction.... https://sale.uslugi.io/sidp/3177\n"
     ]
    },
    {
     "name": "stdout",
     "output_type": "stream",
     "text": [
      "Parse auction.... https://sale.uslugi.io/sidp/3177\n"
     ]
    },
    {
     "name": "stderr",
     "output_type": "stream",
     "text": [
      "2022-12-22 16:26:22 [root] INFO: Parse auction.... https://sale.uslugi.io/sidp/3179\n"
     ]
    },
    {
     "name": "stdout",
     "output_type": "stream",
     "text": [
      "Parse auction.... https://sale.uslugi.io/sidp/3179\n"
     ]
    },
    {
     "name": "stderr",
     "output_type": "stream",
     "text": [
      "2022-12-22 16:26:23 [root] INFO: Parse auction.... https://sale.uslugi.io/sidp/3176\n"
     ]
    },
    {
     "name": "stdout",
     "output_type": "stream",
     "text": [
      "Parse auction.... https://sale.uslugi.io/sidp/3176\n"
     ]
    },
    {
     "name": "stderr",
     "output_type": "stream",
     "text": [
      "2022-12-22 16:26:23 [root] INFO: Parse auction.... https://sale.uslugi.io/sidp/3184\n"
     ]
    },
    {
     "name": "stdout",
     "output_type": "stream",
     "text": [
      "Parse auction.... https://sale.uslugi.io/sidp/3184\n"
     ]
    },
    {
     "name": "stderr",
     "output_type": "stream",
     "text": [
      "2022-12-22 16:26:24 [root] INFO: Parse auction.... https://sale.uslugi.io/sidp/3183\n"
     ]
    },
    {
     "name": "stdout",
     "output_type": "stream",
     "text": [
      "Parse auction.... https://sale.uslugi.io/sidp/3183\n"
     ]
    },
    {
     "name": "stderr",
     "output_type": "stream",
     "text": [
      "2022-12-22 16:26:25 [root] INFO: Parse auction.... https://sale.uslugi.io/sidp/3185\n"
     ]
    },
    {
     "name": "stdout",
     "output_type": "stream",
     "text": [
      "Parse auction.... https://sale.uslugi.io/sidp/3185\n"
     ]
    },
    {
     "name": "stderr",
     "output_type": "stream",
     "text": [
      "2022-12-22 16:26:26 [root] INFO: Parse auction.... https://sale.uslugi.io/sidp/3182\n"
     ]
    },
    {
     "name": "stdout",
     "output_type": "stream",
     "text": [
      "Parse auction.... https://sale.uslugi.io/sidp/3182\n"
     ]
    },
    {
     "name": "stderr",
     "output_type": "stream",
     "text": [
      "2022-12-22 16:26:27 [root] INFO: Parse auction.... https://sale.uslugi.io/sidp/3178\n"
     ]
    },
    {
     "name": "stdout",
     "output_type": "stream",
     "text": [
      "Parse auction.... https://sale.uslugi.io/sidp/3178\n"
     ]
    },
    {
     "name": "stderr",
     "output_type": "stream",
     "text": [
      "2022-12-22 16:26:27 [root] INFO: Parse auction.... https://sale.uslugi.io/sidp/3190\n"
     ]
    },
    {
     "name": "stdout",
     "output_type": "stream",
     "text": [
      "Parse auction.... https://sale.uslugi.io/sidp/3190\n"
     ]
    },
    {
     "name": "stderr",
     "output_type": "stream",
     "text": [
      "2022-12-22 16:26:28 [root] INFO: Parse auction.... https://sale.uslugi.io/sidp/3175\n"
     ]
    },
    {
     "name": "stdout",
     "output_type": "stream",
     "text": [
      "Parse auction.... https://sale.uslugi.io/sidp/3175\n"
     ]
    },
    {
     "name": "stderr",
     "output_type": "stream",
     "text": [
      "2022-12-22 16:26:29 [root] INFO: Parse auction.... https://sale.uslugi.io/sidp/3192\n"
     ]
    },
    {
     "name": "stdout",
     "output_type": "stream",
     "text": [
      "Parse auction.... https://sale.uslugi.io/sidp/3192\n"
     ]
    },
    {
     "name": "stderr",
     "output_type": "stream",
     "text": [
      "2022-12-22 16:26:29 [root] INFO: Parse auction.... https://sale.uslugi.io/sidp/3191\n"
     ]
    },
    {
     "name": "stdout",
     "output_type": "stream",
     "text": [
      "Parse auction.... https://sale.uslugi.io/sidp/3191\n"
     ]
    },
    {
     "name": "stderr",
     "output_type": "stream",
     "text": [
      "2022-12-22 16:26:29 [scrapy.extensions.logstats] INFO: Crawled 595 pages (at 106 pages/min), scraped 586 items (at 98 items/min)\n",
      "2022-12-22 16:26:29 [root] INFO: Parse auction.... https://sale.uslugi.io/sidp/3193\n"
     ]
    },
    {
     "name": "stdout",
     "output_type": "stream",
     "text": [
      "Parse auction.... https://sale.uslugi.io/sidp/3193\n"
     ]
    },
    {
     "name": "stderr",
     "output_type": "stream",
     "text": [
      "2022-12-22 16:26:30 [root] INFO: Parse auction.... https://sale.uslugi.io/sidp/3194\n"
     ]
    },
    {
     "name": "stdout",
     "output_type": "stream",
     "text": [
      "Parse auction.... https://sale.uslugi.io/sidp/3194\n"
     ]
    },
    {
     "name": "stderr",
     "output_type": "stream",
     "text": [
      "2022-12-22 16:26:31 [root] INFO: Parse auction.... https://sale.uslugi.io/sidp/3195\n"
     ]
    },
    {
     "name": "stdout",
     "output_type": "stream",
     "text": [
      "Parse auction.... https://sale.uslugi.io/sidp/3195\n"
     ]
    },
    {
     "name": "stderr",
     "output_type": "stream",
     "text": [
      "2022-12-22 16:26:32 [root] INFO: Parse auction.... https://sale.uslugi.io/sidp/3196\n"
     ]
    },
    {
     "name": "stdout",
     "output_type": "stream",
     "text": [
      "Parse auction.... https://sale.uslugi.io/sidp/3196\n"
     ]
    },
    {
     "name": "stderr",
     "output_type": "stream",
     "text": [
      "2022-12-22 16:26:33 [root] INFO: Parse auction.... https://sale.uslugi.io/sidp/3197\n"
     ]
    },
    {
     "name": "stdout",
     "output_type": "stream",
     "text": [
      "Parse auction.... https://sale.uslugi.io/sidp/3197\n"
     ]
    },
    {
     "name": "stderr",
     "output_type": "stream",
     "text": [
      "2022-12-22 16:26:34 [root] INFO: Parse auction.... https://sale.uslugi.io/sidp/3198\n"
     ]
    },
    {
     "name": "stdout",
     "output_type": "stream",
     "text": [
      "Parse auction.... https://sale.uslugi.io/sidp/3198\n"
     ]
    },
    {
     "name": "stderr",
     "output_type": "stream",
     "text": [
      "2022-12-22 16:26:34 [root] INFO: Parse auction.... https://sale.uslugi.io/sidp/3199\n"
     ]
    },
    {
     "name": "stdout",
     "output_type": "stream",
     "text": [
      "Parse auction.... https://sale.uslugi.io/sidp/3199\n"
     ]
    },
    {
     "name": "stderr",
     "output_type": "stream",
     "text": [
      "2022-12-22 16:26:35 [root] INFO: Parse auction.... https://sale.uslugi.io/sidp/3200\n"
     ]
    },
    {
     "name": "stdout",
     "output_type": "stream",
     "text": [
      "Parse auction.... https://sale.uslugi.io/sidp/3200\n"
     ]
    },
    {
     "name": "stderr",
     "output_type": "stream",
     "text": [
      "2022-12-22 16:26:36 [root] INFO: Parse auction.... https://sale.uslugi.io/sidp/3201\n"
     ]
    },
    {
     "name": "stdout",
     "output_type": "stream",
     "text": [
      "Parse auction.... https://sale.uslugi.io/sidp/3201\n"
     ]
    },
    {
     "name": "stderr",
     "output_type": "stream",
     "text": [
      "2022-12-22 16:26:37 [root] INFO: Parse auction.... https://sale.uslugi.io/sidp/3209\n"
     ]
    },
    {
     "name": "stdout",
     "output_type": "stream",
     "text": [
      "Parse auction.... https://sale.uslugi.io/sidp/3209\n"
     ]
    },
    {
     "name": "stderr",
     "output_type": "stream",
     "text": [
      "2022-12-22 16:26:38 [root] INFO: Parse auction.... https://sale.uslugi.io/sidp/3206\n"
     ]
    },
    {
     "name": "stdout",
     "output_type": "stream",
     "text": [
      "Parse auction.... https://sale.uslugi.io/sidp/3206\n"
     ]
    },
    {
     "name": "stderr",
     "output_type": "stream",
     "text": [
      "2022-12-22 16:26:39 [root] INFO: Parse auction.... https://sale.uslugi.io/sidp/3203\n"
     ]
    },
    {
     "name": "stdout",
     "output_type": "stream",
     "text": [
      "Parse auction.... https://sale.uslugi.io/sidp/3203\n"
     ]
    },
    {
     "name": "stderr",
     "output_type": "stream",
     "text": [
      "2022-12-22 16:26:40 [root] INFO: Parse auction.... https://sale.uslugi.io/sidp/3207\n"
     ]
    },
    {
     "name": "stdout",
     "output_type": "stream",
     "text": [
      "Parse auction.... https://sale.uslugi.io/sidp/3207\n"
     ]
    },
    {
     "name": "stderr",
     "output_type": "stream",
     "text": [
      "2022-12-22 16:26:41 [root] INFO: Parse auction.... https://sale.uslugi.io/sidp/3210\n"
     ]
    },
    {
     "name": "stdout",
     "output_type": "stream",
     "text": [
      "Parse auction.... https://sale.uslugi.io/sidp/3210\n"
     ]
    },
    {
     "name": "stderr",
     "output_type": "stream",
     "text": [
      "2022-12-22 16:26:42 [root] INFO: Parse auction.... https://sale.uslugi.io/sidp/3216\n"
     ]
    },
    {
     "name": "stdout",
     "output_type": "stream",
     "text": [
      "Parse auction.... https://sale.uslugi.io/sidp/3216\n"
     ]
    },
    {
     "name": "stderr",
     "output_type": "stream",
     "text": [
      "2022-12-22 16:26:43 [root] INFO: Parse auction.... https://sale.uslugi.io/sidp/3217\n"
     ]
    },
    {
     "name": "stdout",
     "output_type": "stream",
     "text": [
      "Parse auction.... https://sale.uslugi.io/sidp/3217\n"
     ]
    },
    {
     "name": "stderr",
     "output_type": "stream",
     "text": [
      "2022-12-22 16:26:43 [root] INFO: Parse auction.... https://sale.uslugi.io/sidp/3211\n"
     ]
    },
    {
     "name": "stdout",
     "output_type": "stream",
     "text": [
      "Parse auction.... https://sale.uslugi.io/sidp/3211\n"
     ]
    },
    {
     "name": "stderr",
     "output_type": "stream",
     "text": [
      "2022-12-22 16:26:44 [root] INFO: Parse auction.... https://sale.uslugi.io/sidp/3220\n",
      "2022-12-22 16:26:44 [root] INFO: Parse auction.... https://sale.uslugi.io/sidp/3218\n"
     ]
    },
    {
     "name": "stdout",
     "output_type": "stream",
     "text": [
      "Parse auction.... https://sale.uslugi.io/sidp/3220\n",
      "Parse auction.... https://sale.uslugi.io/sidp/3218\n"
     ]
    },
    {
     "name": "stderr",
     "output_type": "stream",
     "text": [
      "2022-12-22 16:26:45 [root] INFO: Parse auction.... https://sale.uslugi.io/sidp/3215\n"
     ]
    },
    {
     "name": "stdout",
     "output_type": "stream",
     "text": [
      "Parse auction.... https://sale.uslugi.io/sidp/3215\n"
     ]
    },
    {
     "name": "stderr",
     "output_type": "stream",
     "text": [
      "2022-12-22 16:26:46 [root] INFO: Parse auction.... https://sale.uslugi.io/sidp/3231\n"
     ]
    },
    {
     "name": "stdout",
     "output_type": "stream",
     "text": [
      "Parse auction.... https://sale.uslugi.io/sidp/3231\n"
     ]
    },
    {
     "name": "stderr",
     "output_type": "stream",
     "text": [
      "2022-12-22 16:26:47 [root] INFO: Parse auction.... https://sale.uslugi.io/sidp/3219\n",
      "2022-12-22 16:26:47 [root] INFO: Parse auction.... https://sale.uslugi.io/sidp/3221\n",
      "2022-12-22 16:26:47 [root] INFO: Parse auction.... https://sale.uslugi.io/sidp/3224\n"
     ]
    },
    {
     "name": "stdout",
     "output_type": "stream",
     "text": [
      "Parse auction.... https://sale.uslugi.io/sidp/3219\n",
      "Parse auction.... https://sale.uslugi.io/sidp/3221\n",
      "Parse auction.... https://sale.uslugi.io/sidp/3224\n"
     ]
    },
    {
     "name": "stderr",
     "output_type": "stream",
     "text": [
      "2022-12-22 16:26:47 [root] INFO: Parse auction.... https://sale.uslugi.io/sidp/3222\n",
      "2022-12-22 16:26:47 [root] INFO: Parse auction.... https://sale.uslugi.io/sidp/3232\n"
     ]
    },
    {
     "name": "stdout",
     "output_type": "stream",
     "text": [
      "Parse auction.... https://sale.uslugi.io/sidp/3222\n",
      "Parse auction.... https://sale.uslugi.io/sidp/3232\n"
     ]
    },
    {
     "name": "stderr",
     "output_type": "stream",
     "text": [
      "2022-12-22 16:26:48 [root] INFO: Parse auction.... https://sale.uslugi.io/sidp/3205\n"
     ]
    },
    {
     "name": "stdout",
     "output_type": "stream",
     "text": [
      "Parse auction.... https://sale.uslugi.io/sidp/3205\n"
     ]
    },
    {
     "name": "stderr",
     "output_type": "stream",
     "text": [
      "2022-12-22 16:26:49 [root] INFO: Parse auction.... https://sale.uslugi.io/sidp/3227\n"
     ]
    },
    {
     "name": "stdout",
     "output_type": "stream",
     "text": [
      "Parse auction.... https://sale.uslugi.io/sidp/3227\n"
     ]
    },
    {
     "name": "stderr",
     "output_type": "stream",
     "text": [
      "2022-12-22 16:26:50 [root] INFO: Parse auction.... https://sale.uslugi.io/sidp/3229\n"
     ]
    },
    {
     "name": "stdout",
     "output_type": "stream",
     "text": [
      "Parse auction.... https://sale.uslugi.io/sidp/3229\n"
     ]
    },
    {
     "name": "stderr",
     "output_type": "stream",
     "text": [
      "2022-12-22 16:26:50 [root] INFO: Parse auction.... https://sale.uslugi.io/sidp/3214\n"
     ]
    },
    {
     "name": "stdout",
     "output_type": "stream",
     "text": [
      "Parse auction.... https://sale.uslugi.io/sidp/3214\n"
     ]
    },
    {
     "name": "stderr",
     "output_type": "stream",
     "text": [
      "2022-12-22 16:26:51 [root] INFO: Parse auction.... https://sale.uslugi.io/sidp/3233\n"
     ]
    },
    {
     "name": "stdout",
     "output_type": "stream",
     "text": [
      "Parse auction.... https://sale.uslugi.io/sidp/3233\n"
     ]
    },
    {
     "name": "stderr",
     "output_type": "stream",
     "text": [
      "2022-12-22 16:26:52 [root] INFO: Parse auction.... https://sale.uslugi.io/sidp/3228\n"
     ]
    },
    {
     "name": "stdout",
     "output_type": "stream",
     "text": [
      "Parse auction.... https://sale.uslugi.io/sidp/3228\n"
     ]
    },
    {
     "name": "stderr",
     "output_type": "stream",
     "text": [
      "2022-12-22 16:26:53 [root] INFO: Parse auction.... https://sale.uslugi.io/sidp/3230\n"
     ]
    },
    {
     "name": "stdout",
     "output_type": "stream",
     "text": [
      "Parse auction.... https://sale.uslugi.io/sidp/3230\n"
     ]
    },
    {
     "name": "stderr",
     "output_type": "stream",
     "text": [
      "2022-12-22 16:26:54 [root] INFO: Parse auction.... https://sale.uslugi.io/sidp/3226\n"
     ]
    },
    {
     "name": "stdout",
     "output_type": "stream",
     "text": [
      "Parse auction.... https://sale.uslugi.io/sidp/3226\n"
     ]
    },
    {
     "name": "stderr",
     "output_type": "stream",
     "text": [
      "2022-12-22 16:26:54 [root] INFO: Parse auction.... https://sale.uslugi.io/sidp/3223\n",
      "2022-12-22 16:26:54 [root] INFO: Parse auction.... https://sale.uslugi.io/sidp/3234\n",
      "2022-12-22 16:26:55 [root] INFO: Parse auction.... https://sale.uslugi.io/sidp/3235\n"
     ]
    },
    {
     "name": "stdout",
     "output_type": "stream",
     "text": [
      "Parse auction.... https://sale.uslugi.io/sidp/3223\n",
      "Parse auction.... https://sale.uslugi.io/sidp/3234\n",
      "Parse auction.... https://sale.uslugi.io/sidp/3235\n"
     ]
    },
    {
     "name": "stderr",
     "output_type": "stream",
     "text": [
      "2022-12-22 16:26:55 [root] INFO: Parse auction.... https://sale.uslugi.io/sidp/3236\n"
     ]
    },
    {
     "name": "stdout",
     "output_type": "stream",
     "text": [
      "Parse auction.... https://sale.uslugi.io/sidp/3236\n"
     ]
    },
    {
     "name": "stderr",
     "output_type": "stream",
     "text": [
      "2022-12-22 16:26:55 [root] INFO: Parse auction.... https://sale.uslugi.io/sidp/3238\n"
     ]
    },
    {
     "name": "stdout",
     "output_type": "stream",
     "text": [
      "Parse auction.... https://sale.uslugi.io/sidp/3238\n"
     ]
    },
    {
     "name": "stderr",
     "output_type": "stream",
     "text": [
      "2022-12-22 16:26:56 [root] INFO: Parse auction.... https://sale.uslugi.io/sidp/3239\n"
     ]
    },
    {
     "name": "stdout",
     "output_type": "stream",
     "text": [
      "Parse auction.... https://sale.uslugi.io/sidp/3239\n"
     ]
    },
    {
     "name": "stderr",
     "output_type": "stream",
     "text": [
      "2022-12-22 16:26:57 [root] INFO: Parse auction.... https://sale.uslugi.io/sidp/3240\n"
     ]
    },
    {
     "name": "stdout",
     "output_type": "stream",
     "text": [
      "Parse auction.... https://sale.uslugi.io/sidp/3240\n"
     ]
    },
    {
     "name": "stderr",
     "output_type": "stream",
     "text": [
      "2022-12-22 16:26:58 [root] INFO: Parse auction.... https://sale.uslugi.io/sidp/3241\n"
     ]
    },
    {
     "name": "stdout",
     "output_type": "stream",
     "text": [
      "Parse auction.... https://sale.uslugi.io/sidp/3241\n"
     ]
    },
    {
     "name": "stderr",
     "output_type": "stream",
     "text": [
      "2022-12-22 16:26:59 [root] INFO: Parse auction.... https://sale.uslugi.io/sidp/3243\n"
     ]
    },
    {
     "name": "stdout",
     "output_type": "stream",
     "text": [
      "Parse auction.... https://sale.uslugi.io/sidp/3243\n"
     ]
    },
    {
     "name": "stderr",
     "output_type": "stream",
     "text": [
      "2022-12-22 16:27:00 [root] INFO: Parse auction.... https://sale.uslugi.io/sidp/3245\n"
     ]
    },
    {
     "name": "stdout",
     "output_type": "stream",
     "text": [
      "Parse auction.... https://sale.uslugi.io/sidp/3245\n"
     ]
    },
    {
     "name": "stderr",
     "output_type": "stream",
     "text": [
      "2022-12-22 16:27:02 [root] INFO: Parse auction.... https://sale.uslugi.io/sidp/3252\n"
     ]
    },
    {
     "name": "stdout",
     "output_type": "stream",
     "text": [
      "Parse auction.... https://sale.uslugi.io/sidp/3252\n"
     ]
    },
    {
     "name": "stderr",
     "output_type": "stream",
     "text": [
      "2022-12-22 16:27:03 [root] INFO: Parse auction.... https://sale.uslugi.io/sidp/3250\n"
     ]
    },
    {
     "name": "stdout",
     "output_type": "stream",
     "text": [
      "Parse auction.... https://sale.uslugi.io/sidp/3250\n"
     ]
    },
    {
     "name": "stderr",
     "output_type": "stream",
     "text": [
      "2022-12-22 16:27:04 [root] INFO: Parse auction.... https://sale.uslugi.io/sidp/3253\n"
     ]
    },
    {
     "name": "stdout",
     "output_type": "stream",
     "text": [
      "Parse auction.... https://sale.uslugi.io/sidp/3253\n"
     ]
    },
    {
     "name": "stderr",
     "output_type": "stream",
     "text": [
      "2022-12-22 16:27:05 [root] INFO: Parse auction.... https://sale.uslugi.io/sidp/3247\n"
     ]
    },
    {
     "name": "stdout",
     "output_type": "stream",
     "text": [
      "Parse auction.... https://sale.uslugi.io/sidp/3247\n"
     ]
    },
    {
     "name": "stderr",
     "output_type": "stream",
     "text": [
      "2022-12-22 16:27:07 [root] INFO: Parse auction.... https://sale.uslugi.io/sidp/3255\n"
     ]
    },
    {
     "name": "stdout",
     "output_type": "stream",
     "text": [
      "Parse auction.... https://sale.uslugi.io/sidp/3255\n"
     ]
    },
    {
     "name": "stderr",
     "output_type": "stream",
     "text": [
      "2022-12-22 16:27:08 [root] INFO: Parse auction.... https://sale.uslugi.io/sidp/3246\n"
     ]
    },
    {
     "name": "stdout",
     "output_type": "stream",
     "text": [
      "Parse auction.... https://sale.uslugi.io/sidp/3246\n"
     ]
    },
    {
     "name": "stderr",
     "output_type": "stream",
     "text": [
      "2022-12-22 16:27:10 [root] INFO: Parse auction.... https://sale.uslugi.io/sidp/3251\n"
     ]
    },
    {
     "name": "stdout",
     "output_type": "stream",
     "text": [
      "Parse auction.... https://sale.uslugi.io/sidp/3251\n"
     ]
    },
    {
     "name": "stderr",
     "output_type": "stream",
     "text": [
      "2022-12-22 16:27:11 [root] INFO: Parse auction.... https://sale.uslugi.io/sidp/3254\n"
     ]
    },
    {
     "name": "stdout",
     "output_type": "stream",
     "text": [
      "Parse auction.... https://sale.uslugi.io/sidp/3254\n"
     ]
    },
    {
     "name": "stderr",
     "output_type": "stream",
     "text": [
      "2022-12-22 16:27:12 [root] INFO: Parse auction.... https://sale.uslugi.io/sidp/3257\n"
     ]
    },
    {
     "name": "stdout",
     "output_type": "stream",
     "text": [
      "Parse auction.... https://sale.uslugi.io/sidp/3257\n"
     ]
    },
    {
     "name": "stderr",
     "output_type": "stream",
     "text": [
      "2022-12-22 16:27:12 [root] INFO: Parse auction.... https://sale.uslugi.io/sidp/3266\n"
     ]
    },
    {
     "name": "stdout",
     "output_type": "stream",
     "text": [
      "Parse auction.... https://sale.uslugi.io/sidp/3266\n"
     ]
    },
    {
     "name": "stderr",
     "output_type": "stream",
     "text": [
      "2022-12-22 16:27:13 [root] INFO: Parse auction.... https://sale.uslugi.io/sidp/3249\n"
     ]
    },
    {
     "name": "stdout",
     "output_type": "stream",
     "text": [
      "Parse auction.... https://sale.uslugi.io/sidp/3249\n"
     ]
    },
    {
     "name": "stderr",
     "output_type": "stream",
     "text": [
      "2022-12-22 16:27:14 [root] INFO: Parse auction.... https://sale.uslugi.io/sidp/3248\n"
     ]
    },
    {
     "name": "stdout",
     "output_type": "stream",
     "text": [
      "Parse auction.... https://sale.uslugi.io/sidp/3248\n"
     ]
    },
    {
     "name": "stderr",
     "output_type": "stream",
     "text": [
      "2022-12-22 16:27:16 [root] INFO: Parse auction.... https://sale.uslugi.io/sidp/3258\n"
     ]
    },
    {
     "name": "stdout",
     "output_type": "stream",
     "text": [
      "Parse auction.... https://sale.uslugi.io/sidp/3258\n"
     ]
    },
    {
     "name": "stderr",
     "output_type": "stream",
     "text": [
      "2022-12-22 16:27:18 [root] INFO: Parse auction.... https://sale.uslugi.io/sidp/3256\n"
     ]
    },
    {
     "name": "stdout",
     "output_type": "stream",
     "text": [
      "Parse auction.... https://sale.uslugi.io/sidp/3256\n"
     ]
    },
    {
     "name": "stderr",
     "output_type": "stream",
     "text": [
      "2022-12-22 16:27:19 [root] INFO: Parse auction.... https://sale.uslugi.io/sidp/3265\n"
     ]
    },
    {
     "name": "stdout",
     "output_type": "stream",
     "text": [
      "Parse auction.... https://sale.uslugi.io/sidp/3265\n"
     ]
    },
    {
     "name": "stderr",
     "output_type": "stream",
     "text": [
      "2022-12-22 16:27:20 [root] INFO: Parse auction.... https://sale.uslugi.io/sidp/3268\n"
     ]
    },
    {
     "name": "stdout",
     "output_type": "stream",
     "text": [
      "Parse auction.... https://sale.uslugi.io/sidp/3268\n"
     ]
    },
    {
     "name": "stderr",
     "output_type": "stream",
     "text": [
      "2022-12-22 16:27:21 [root] INFO: Parse auction.... https://sale.uslugi.io/sidp/3270\n"
     ]
    },
    {
     "name": "stdout",
     "output_type": "stream",
     "text": [
      "Parse auction.... https://sale.uslugi.io/sidp/3270\n"
     ]
    },
    {
     "name": "stderr",
     "output_type": "stream",
     "text": [
      "2022-12-22 16:27:22 [root] INFO: Parse auction.... https://sale.uslugi.io/sidp/3260\n"
     ]
    },
    {
     "name": "stdout",
     "output_type": "stream",
     "text": [
      "Parse auction.... https://sale.uslugi.io/sidp/3260\n"
     ]
    },
    {
     "name": "stderr",
     "output_type": "stream",
     "text": [
      "2022-12-22 16:27:23 [root] INFO: Parse auction.... https://sale.uslugi.io/sidp/3259\n"
     ]
    },
    {
     "name": "stdout",
     "output_type": "stream",
     "text": [
      "Parse auction.... https://sale.uslugi.io/sidp/3259\n"
     ]
    },
    {
     "name": "stderr",
     "output_type": "stream",
     "text": [
      "2022-12-22 16:27:23 [root] INFO: Parse auction.... https://sale.uslugi.io/sidp/3263\n"
     ]
    },
    {
     "name": "stdout",
     "output_type": "stream",
     "text": [
      "Parse auction.... https://sale.uslugi.io/sidp/3263\n"
     ]
    },
    {
     "name": "stderr",
     "output_type": "stream",
     "text": [
      "2022-12-22 16:27:25 [root] INFO: Parse auction.... https://sale.uslugi.io/sidp/3262\n"
     ]
    },
    {
     "name": "stdout",
     "output_type": "stream",
     "text": [
      "Parse auction.... https://sale.uslugi.io/sidp/3262\n"
     ]
    },
    {
     "name": "stderr",
     "output_type": "stream",
     "text": [
      "2022-12-22 16:27:26 [root] INFO: Parse auction.... https://sale.uslugi.io/sidp/3267\n"
     ]
    },
    {
     "name": "stdout",
     "output_type": "stream",
     "text": [
      "Parse auction.... https://sale.uslugi.io/sidp/3267\n"
     ]
    },
    {
     "name": "stderr",
     "output_type": "stream",
     "text": [
      "2022-12-22 16:27:28 [root] INFO: Parse auction.... https://sale.uslugi.io/sidp/3261\n"
     ]
    },
    {
     "name": "stdout",
     "output_type": "stream",
     "text": [
      "Parse auction.... https://sale.uslugi.io/sidp/3261\n"
     ]
    },
    {
     "name": "stderr",
     "output_type": "stream",
     "text": [
      "2022-12-22 16:27:29 [root] INFO: Parse auction.... https://sale.uslugi.io/sidp/3269\n"
     ]
    },
    {
     "name": "stdout",
     "output_type": "stream",
     "text": [
      "Parse auction.... https://sale.uslugi.io/sidp/3269\n"
     ]
    },
    {
     "name": "stderr",
     "output_type": "stream",
     "text": [
      "2022-12-22 16:27:30 [scrapy.extensions.logstats] INFO: Crawled 663 pages (at 68 pages/min), scraped 654 items (at 68 items/min)\n",
      "2022-12-22 16:27:30 [root] INFO: Parse auction.... https://sale.uslugi.io/sidp/3271\n"
     ]
    },
    {
     "name": "stdout",
     "output_type": "stream",
     "text": [
      "Parse auction.... https://sale.uslugi.io/sidp/3271\n"
     ]
    },
    {
     "name": "stderr",
     "output_type": "stream",
     "text": [
      "2022-12-22 16:27:31 [root] INFO: Parse auction.... https://sale.uslugi.io/sidp/3264\n"
     ]
    },
    {
     "name": "stdout",
     "output_type": "stream",
     "text": [
      "Parse auction.... https://sale.uslugi.io/sidp/3264\n"
     ]
    },
    {
     "name": "stderr",
     "output_type": "stream",
     "text": [
      "2022-12-22 16:27:32 [root] INFO: Parse auction.... https://sale.uslugi.io/sidp/3272\n"
     ]
    },
    {
     "name": "stdout",
     "output_type": "stream",
     "text": [
      "Parse auction.... https://sale.uslugi.io/sidp/3272\n"
     ]
    },
    {
     "name": "stderr",
     "output_type": "stream",
     "text": [
      "2022-12-22 16:27:33 [root] INFO: Parse auction.... https://sale.uslugi.io/sidp/3273\n"
     ]
    },
    {
     "name": "stdout",
     "output_type": "stream",
     "text": [
      "Parse auction.... https://sale.uslugi.io/sidp/3273\n"
     ]
    },
    {
     "name": "stderr",
     "output_type": "stream",
     "text": [
      "2022-12-22 16:27:34 [root] INFO: Parse auction.... https://sale.uslugi.io/sidp/3275\n"
     ]
    },
    {
     "name": "stdout",
     "output_type": "stream",
     "text": [
      "Parse auction.... https://sale.uslugi.io/sidp/3275\n"
     ]
    },
    {
     "name": "stderr",
     "output_type": "stream",
     "text": [
      "2022-12-22 16:27:35 [root] INFO: Parse auction.... https://sale.uslugi.io/sidp/3281\n"
     ]
    },
    {
     "name": "stdout",
     "output_type": "stream",
     "text": [
      "Parse auction.... https://sale.uslugi.io/sidp/3281\n"
     ]
    },
    {
     "name": "stderr",
     "output_type": "stream",
     "text": [
      "2022-12-22 16:27:36 [root] INFO: Parse auction.... https://sale.uslugi.io/sidp/3274\n"
     ]
    },
    {
     "name": "stdout",
     "output_type": "stream",
     "text": [
      "Parse auction.... https://sale.uslugi.io/sidp/3274\n"
     ]
    },
    {
     "name": "stderr",
     "output_type": "stream",
     "text": [
      "2022-12-22 16:27:37 [root] INFO: Parse auction.... https://sale.uslugi.io/sidp/3282\n"
     ]
    },
    {
     "name": "stdout",
     "output_type": "stream",
     "text": [
      "Parse auction.... https://sale.uslugi.io/sidp/3282\n"
     ]
    },
    {
     "name": "stderr",
     "output_type": "stream",
     "text": [
      "2022-12-22 16:27:39 [root] INFO: Parse auction.... https://sale.uslugi.io/sidp/3286\n"
     ]
    },
    {
     "name": "stdout",
     "output_type": "stream",
     "text": [
      "Parse auction.... https://sale.uslugi.io/sidp/3286\n"
     ]
    },
    {
     "name": "stderr",
     "output_type": "stream",
     "text": [
      "2022-12-22 16:27:41 [root] INFO: Parse auction.... https://sale.uslugi.io/sidp/3285\n"
     ]
    },
    {
     "name": "stdout",
     "output_type": "stream",
     "text": [
      "Parse auction.... https://sale.uslugi.io/sidp/3285\n"
     ]
    },
    {
     "name": "stderr",
     "output_type": "stream",
     "text": [
      "2022-12-22 16:27:41 [root] INFO: Parse auction.... https://sale.uslugi.io/sidp/3277\n"
     ]
    },
    {
     "name": "stdout",
     "output_type": "stream",
     "text": [
      "Parse auction.... https://sale.uslugi.io/sidp/3277\n"
     ]
    },
    {
     "name": "stderr",
     "output_type": "stream",
     "text": [
      "2022-12-22 16:27:42 [root] INFO: Parse auction.... https://sale.uslugi.io/sidp/3278\n"
     ]
    },
    {
     "name": "stdout",
     "output_type": "stream",
     "text": [
      "Parse auction.... https://sale.uslugi.io/sidp/3278\n"
     ]
    },
    {
     "name": "stderr",
     "output_type": "stream",
     "text": [
      "2022-12-22 16:27:42 [root] INFO: Parse auction.... https://sale.uslugi.io/sidp/3276\n"
     ]
    },
    {
     "name": "stdout",
     "output_type": "stream",
     "text": [
      "Parse auction.... https://sale.uslugi.io/sidp/3276\n"
     ]
    },
    {
     "name": "stderr",
     "output_type": "stream",
     "text": [
      "2022-12-22 16:27:43 [root] INFO: Parse auction.... https://sale.uslugi.io/sidp/3283\n"
     ]
    },
    {
     "name": "stdout",
     "output_type": "stream",
     "text": [
      "Parse auction.... https://sale.uslugi.io/sidp/3283\n"
     ]
    },
    {
     "name": "stderr",
     "output_type": "stream",
     "text": [
      "2022-12-22 16:27:43 [root] INFO: Parse auction.... https://sale.uslugi.io/sidp/3289\n"
     ]
    },
    {
     "name": "stdout",
     "output_type": "stream",
     "text": [
      "Parse auction.... https://sale.uslugi.io/sidp/3289\n"
     ]
    },
    {
     "name": "stderr",
     "output_type": "stream",
     "text": [
      "2022-12-22 16:27:44 [root] INFO: Parse auction.... https://sale.uslugi.io/sidp/3288\n"
     ]
    },
    {
     "name": "stdout",
     "output_type": "stream",
     "text": [
      "Parse auction.... https://sale.uslugi.io/sidp/3288\n"
     ]
    },
    {
     "name": "stderr",
     "output_type": "stream",
     "text": [
      "2022-12-22 16:27:45 [root] INFO: Parse auction.... https://sale.uslugi.io/sidp/3279\n"
     ]
    },
    {
     "name": "stdout",
     "output_type": "stream",
     "text": [
      "Parse auction.... https://sale.uslugi.io/sidp/3279\n"
     ]
    },
    {
     "name": "stderr",
     "output_type": "stream",
     "text": [
      "2022-12-22 16:27:46 [root] INFO: Parse auction.... https://sale.uslugi.io/sidp/3290\n"
     ]
    },
    {
     "name": "stdout",
     "output_type": "stream",
     "text": [
      "Parse auction.... https://sale.uslugi.io/sidp/3290\n"
     ]
    },
    {
     "name": "stderr",
     "output_type": "stream",
     "text": [
      "2022-12-22 16:27:47 [root] INFO: Parse auction.... https://sale.uslugi.io/sidp/3295\n"
     ]
    },
    {
     "name": "stdout",
     "output_type": "stream",
     "text": [
      "Parse auction.... https://sale.uslugi.io/sidp/3295\n"
     ]
    },
    {
     "name": "stderr",
     "output_type": "stream",
     "text": [
      "2022-12-22 16:27:48 [root] INFO: Parse auction.... https://sale.uslugi.io/sidp/3291\n"
     ]
    },
    {
     "name": "stdout",
     "output_type": "stream",
     "text": [
      "Parse auction.... https://sale.uslugi.io/sidp/3291\n"
     ]
    },
    {
     "name": "stderr",
     "output_type": "stream",
     "text": [
      "2022-12-22 16:27:50 [root] INFO: Parse auction.... https://sale.uslugi.io/sidp/3294\n"
     ]
    },
    {
     "name": "stdout",
     "output_type": "stream",
     "text": [
      "Parse auction.... https://sale.uslugi.io/sidp/3294\n"
     ]
    },
    {
     "name": "stderr",
     "output_type": "stream",
     "text": [
      "2022-12-22 16:27:51 [root] INFO: Parse auction.... https://sale.uslugi.io/sidp/3292\n"
     ]
    },
    {
     "name": "stdout",
     "output_type": "stream",
     "text": [
      "Parse auction.... https://sale.uslugi.io/sidp/3292\n"
     ]
    },
    {
     "name": "stderr",
     "output_type": "stream",
     "text": [
      "2022-12-22 16:27:52 [root] INFO: Parse auction.... https://sale.uslugi.io/sidp/3297\n"
     ]
    },
    {
     "name": "stdout",
     "output_type": "stream",
     "text": [
      "Parse auction.... https://sale.uslugi.io/sidp/3297\n"
     ]
    },
    {
     "name": "stderr",
     "output_type": "stream",
     "text": [
      "2022-12-22 16:27:53 [root] INFO: Parse auction.... https://sale.uslugi.io/sidp/3298\n"
     ]
    },
    {
     "name": "stdout",
     "output_type": "stream",
     "text": [
      "Parse auction.... https://sale.uslugi.io/sidp/3298\n"
     ]
    },
    {
     "name": "stderr",
     "output_type": "stream",
     "text": [
      "2022-12-22 16:27:53 [root] INFO: Parse auction.... https://sale.uslugi.io/sidp/3307\n"
     ]
    },
    {
     "name": "stdout",
     "output_type": "stream",
     "text": [
      "Parse auction.... https://sale.uslugi.io/sidp/3307\n"
     ]
    },
    {
     "name": "stderr",
     "output_type": "stream",
     "text": [
      "2022-12-22 16:27:55 [root] INFO: Parse auction.... https://sale.uslugi.io/sidp/3296\n"
     ]
    },
    {
     "name": "stdout",
     "output_type": "stream",
     "text": [
      "Parse auction.... https://sale.uslugi.io/sidp/3296\n"
     ]
    },
    {
     "name": "stderr",
     "output_type": "stream",
     "text": [
      "2022-12-22 16:27:56 [root] INFO: Parse auction.... https://sale.uslugi.io/sidp/3293\n"
     ]
    },
    {
     "name": "stdout",
     "output_type": "stream",
     "text": [
      "Parse auction.... https://sale.uslugi.io/sidp/3293\n"
     ]
    },
    {
     "name": "stderr",
     "output_type": "stream",
     "text": [
      "2022-12-22 16:27:57 [root] INFO: Parse auction.... https://sale.uslugi.io/sidp/3308\n"
     ]
    },
    {
     "name": "stdout",
     "output_type": "stream",
     "text": [
      "Parse auction.... https://sale.uslugi.io/sidp/3308\n"
     ]
    },
    {
     "name": "stderr",
     "output_type": "stream",
     "text": [
      "2022-12-22 16:27:58 [root] INFO: Parse auction.... https://sale.uslugi.io/sidp/3299\n"
     ]
    },
    {
     "name": "stdout",
     "output_type": "stream",
     "text": [
      "Parse auction.... https://sale.uslugi.io/sidp/3299\n"
     ]
    },
    {
     "name": "stderr",
     "output_type": "stream",
     "text": [
      "2022-12-22 16:27:58 [root] INFO: Parse auction.... https://sale.uslugi.io/sidp/3287\n"
     ]
    },
    {
     "name": "stdout",
     "output_type": "stream",
     "text": [
      "Parse auction.... https://sale.uslugi.io/sidp/3287\n"
     ]
    },
    {
     "name": "stderr",
     "output_type": "stream",
     "text": [
      "2022-12-22 16:27:59 [root] INFO: Parse auction.... https://sale.uslugi.io/sidp/3303\n"
     ]
    },
    {
     "name": "stdout",
     "output_type": "stream",
     "text": [
      "Parse auction.... https://sale.uslugi.io/sidp/3303\n"
     ]
    },
    {
     "name": "stderr",
     "output_type": "stream",
     "text": [
      "2022-12-22 16:28:00 [root] INFO: Parse auction.... https://sale.uslugi.io/sidp/3280\n"
     ]
    },
    {
     "name": "stdout",
     "output_type": "stream",
     "text": [
      "Parse auction.... https://sale.uslugi.io/sidp/3280\n"
     ]
    },
    {
     "name": "stderr",
     "output_type": "stream",
     "text": [
      "2022-12-22 16:28:00 [root] INFO: Parse auction.... https://sale.uslugi.io/sidp/3309\n"
     ]
    },
    {
     "name": "stdout",
     "output_type": "stream",
     "text": [
      "Parse auction.... https://sale.uslugi.io/sidp/3309\n"
     ]
    },
    {
     "name": "stderr",
     "output_type": "stream",
     "text": [
      "2022-12-22 16:28:01 [root] INFO: Parse auction.... https://sale.uslugi.io/sidp/3304\n"
     ]
    },
    {
     "name": "stdout",
     "output_type": "stream",
     "text": [
      "Parse auction.... https://sale.uslugi.io/sidp/3304\n"
     ]
    },
    {
     "name": "stderr",
     "output_type": "stream",
     "text": [
      "2022-12-22 16:28:02 [root] INFO: Parse auction.... https://sale.uslugi.io/sidp/3305\n"
     ]
    },
    {
     "name": "stdout",
     "output_type": "stream",
     "text": [
      "Parse auction.... https://sale.uslugi.io/sidp/3305\n"
     ]
    },
    {
     "name": "stderr",
     "output_type": "stream",
     "text": [
      "2022-12-22 16:28:03 [root] INFO: Parse auction.... https://sale.uslugi.io/sidp/3306\n"
     ]
    },
    {
     "name": "stdout",
     "output_type": "stream",
     "text": [
      "Parse auction.... https://sale.uslugi.io/sidp/3306\n"
     ]
    },
    {
     "name": "stderr",
     "output_type": "stream",
     "text": [
      "2022-12-22 16:28:04 [root] INFO: Parse auction.... https://sale.uslugi.io/sidp/3310\n"
     ]
    },
    {
     "name": "stdout",
     "output_type": "stream",
     "text": [
      "Parse auction.... https://sale.uslugi.io/sidp/3310\n",
      "ERROR No pdf file provided\n"
     ]
    },
    {
     "name": "stderr",
     "output_type": "stream",
     "text": [
      "2022-12-22 16:28:05 [root] INFO: Parse auction.... https://sale.uslugi.io/sidp/3311\n"
     ]
    },
    {
     "name": "stdout",
     "output_type": "stream",
     "text": [
      "ERROR No pdf file provided\n",
      "Parse auction.... https://sale.uslugi.io/sidp/3311\n"
     ]
    },
    {
     "name": "stderr",
     "output_type": "stream",
     "text": [
      "2022-12-22 16:28:07 [root] INFO: Parse auction.... https://sale.uslugi.io/sidp/3312\n"
     ]
    },
    {
     "name": "stdout",
     "output_type": "stream",
     "text": [
      "Parse auction.... https://sale.uslugi.io/sidp/3312\n"
     ]
    },
    {
     "name": "stderr",
     "output_type": "stream",
     "text": [
      "2022-12-22 16:28:09 [root] INFO: Parse auction.... https://sale.uslugi.io/sidp/3313\n"
     ]
    },
    {
     "name": "stdout",
     "output_type": "stream",
     "text": [
      "Parse auction.... https://sale.uslugi.io/sidp/3313\n"
     ]
    },
    {
     "name": "stderr",
     "output_type": "stream",
     "text": [
      "2022-12-22 16:28:11 [root] INFO: Parse auction.... https://sale.uslugi.io/sidp/3317\n"
     ]
    },
    {
     "name": "stdout",
     "output_type": "stream",
     "text": [
      "Parse auction.... https://sale.uslugi.io/sidp/3317\n"
     ]
    },
    {
     "name": "stderr",
     "output_type": "stream",
     "text": [
      "2022-12-22 16:28:13 [root] INFO: Parse auction.... https://sale.uslugi.io/sidp/3314\n"
     ]
    },
    {
     "name": "stdout",
     "output_type": "stream",
     "text": [
      "Parse auction.... https://sale.uslugi.io/sidp/3314\n"
     ]
    },
    {
     "name": "stderr",
     "output_type": "stream",
     "text": [
      "2022-12-22 16:28:14 [root] INFO: Parse auction.... https://sale.uslugi.io/sidp/3320\n"
     ]
    },
    {
     "name": "stdout",
     "output_type": "stream",
     "text": [
      "Parse auction.... https://sale.uslugi.io/sidp/3320\n"
     ]
    },
    {
     "name": "stderr",
     "output_type": "stream",
     "text": [
      "2022-12-22 16:28:15 [root] INFO: Parse auction.... https://sale.uslugi.io/sidp/3318\n"
     ]
    },
    {
     "name": "stdout",
     "output_type": "stream",
     "text": [
      "Parse auction.... https://sale.uslugi.io/sidp/3318\n"
     ]
    },
    {
     "name": "stderr",
     "output_type": "stream",
     "text": [
      "2022-12-22 16:28:17 [root] INFO: Parse auction.... https://sale.uslugi.io/sidp/3315\n"
     ]
    },
    {
     "name": "stdout",
     "output_type": "stream",
     "text": [
      "Parse auction.... https://sale.uslugi.io/sidp/3315\n"
     ]
    },
    {
     "name": "stderr",
     "output_type": "stream",
     "text": [
      "2022-12-22 16:28:18 [root] INFO: Parse auction.... https://sale.uslugi.io/sidp/3326\n"
     ]
    },
    {
     "name": "stdout",
     "output_type": "stream",
     "text": [
      "Parse auction.... https://sale.uslugi.io/sidp/3326\n"
     ]
    },
    {
     "name": "stderr",
     "output_type": "stream",
     "text": [
      "2022-12-22 16:28:19 [root] INFO: Parse auction.... https://sale.uslugi.io/sidp/3327\n",
      "2022-12-22 16:28:19 [root] INFO: Parse auction.... https://sale.uslugi.io/sidp/3319\n"
     ]
    },
    {
     "name": "stdout",
     "output_type": "stream",
     "text": [
      "Parse auction.... https://sale.uslugi.io/sidp/3327\n",
      "Parse auction.... https://sale.uslugi.io/sidp/3319\n"
     ]
    },
    {
     "name": "stderr",
     "output_type": "stream",
     "text": [
      "2022-12-22 16:28:21 [root] INFO: Parse auction.... https://sale.uslugi.io/sidp/3316\n"
     ]
    },
    {
     "name": "stdout",
     "output_type": "stream",
     "text": [
      "Parse auction.... https://sale.uslugi.io/sidp/3316\n"
     ]
    },
    {
     "name": "stderr",
     "output_type": "stream",
     "text": [
      "2022-12-22 16:28:22 [root] INFO: Parse auction.... https://sale.uslugi.io/sidp/3561\n"
     ]
    },
    {
     "name": "stdout",
     "output_type": "stream",
     "text": [
      "Parse auction.... https://sale.uslugi.io/sidp/3561\n"
     ]
    },
    {
     "name": "stderr",
     "output_type": "stream",
     "text": [
      "2022-12-22 16:28:23 [root] INFO: Parse auction.... https://sale.uslugi.io/sidp/3557\n"
     ]
    },
    {
     "name": "stdout",
     "output_type": "stream",
     "text": [
      "Parse auction.... https://sale.uslugi.io/sidp/3557\n"
     ]
    },
    {
     "name": "stderr",
     "output_type": "stream",
     "text": [
      "2022-12-22 16:28:24 [root] INFO: Parse auction.... https://sale.uslugi.io/sidp/3322\n"
     ]
    },
    {
     "name": "stdout",
     "output_type": "stream",
     "text": [
      "Parse auction.... https://sale.uslugi.io/sidp/3322\n"
     ]
    },
    {
     "name": "stderr",
     "output_type": "stream",
     "text": [
      "2022-12-22 16:28:25 [root] INFO: Parse auction.... https://sale.uslugi.io/sidp/3562\n"
     ]
    },
    {
     "name": "stdout",
     "output_type": "stream",
     "text": [
      "Parse auction.... https://sale.uslugi.io/sidp/3562\n"
     ]
    },
    {
     "name": "stderr",
     "output_type": "stream",
     "text": [
      "2022-12-22 16:28:25 [root] INFO: Parse auction.... https://sale.uslugi.io/sidp/3564\n"
     ]
    },
    {
     "name": "stdout",
     "output_type": "stream",
     "text": [
      "Parse auction.... https://sale.uslugi.io/sidp/3564\n"
     ]
    },
    {
     "name": "stderr",
     "output_type": "stream",
     "text": [
      "2022-12-22 16:28:26 [root] INFO: Parse auction.... https://sale.uslugi.io/sidp/3565\n"
     ]
    },
    {
     "name": "stdout",
     "output_type": "stream",
     "text": [
      "Parse auction.... https://sale.uslugi.io/sidp/3565\n"
     ]
    },
    {
     "name": "stderr",
     "output_type": "stream",
     "text": [
      "2022-12-22 16:28:27 [root] INFO: Parse auction.... https://sale.uslugi.io/sidp/3563\n"
     ]
    },
    {
     "name": "stdout",
     "output_type": "stream",
     "text": [
      "Parse auction.... https://sale.uslugi.io/sidp/3563\n"
     ]
    },
    {
     "name": "stderr",
     "output_type": "stream",
     "text": [
      "2022-12-22 16:28:28 [root] INFO: Parse auction.... https://sale.uslugi.io/sidp/3566\n"
     ]
    },
    {
     "name": "stdout",
     "output_type": "stream",
     "text": [
      "Parse auction.... https://sale.uslugi.io/sidp/3566\n"
     ]
    },
    {
     "name": "stderr",
     "output_type": "stream",
     "text": [
      "2022-12-22 16:28:29 [root] INFO: Parse auction.... https://sale.uslugi.io/sidp/3325\n"
     ]
    },
    {
     "name": "stdout",
     "output_type": "stream",
     "text": [
      "Parse auction.... https://sale.uslugi.io/sidp/3325\n"
     ]
    },
    {
     "name": "stderr",
     "output_type": "stream",
     "text": [
      "2022-12-22 16:28:30 [root] INFO: Parse auction.... https://sale.uslugi.io/sidp/3584\n"
     ]
    },
    {
     "name": "stdout",
     "output_type": "stream",
     "text": [
      "Parse auction.... https://sale.uslugi.io/sidp/3584\n"
     ]
    },
    {
     "name": "stderr",
     "output_type": "stream",
     "text": [
      "2022-12-22 16:28:30 [scrapy.extensions.logstats] INFO: Crawled 730 pages (at 67 pages/min), scraped 713 items (at 59 items/min)\n",
      "2022-12-22 16:28:30 [root] INFO: Parse auction.... https://sale.uslugi.io/sidp/3569\n"
     ]
    },
    {
     "name": "stdout",
     "output_type": "stream",
     "text": [
      "Parse auction.... https://sale.uslugi.io/sidp/3569\n"
     ]
    },
    {
     "name": "stderr",
     "output_type": "stream",
     "text": [
      "2022-12-22 16:28:31 [root] INFO: Parse auction.... https://sale.uslugi.io/sidp/3486\n"
     ]
    },
    {
     "name": "stdout",
     "output_type": "stream",
     "text": [
      "Parse auction.... https://sale.uslugi.io/sidp/3486\n"
     ]
    },
    {
     "name": "stderr",
     "output_type": "stream",
     "text": [
      "2022-12-22 16:28:32 [root] INFO: Parse auction.... https://sale.uslugi.io/sidp/3558\n"
     ]
    },
    {
     "name": "stdout",
     "output_type": "stream",
     "text": [
      "Parse auction.... https://sale.uslugi.io/sidp/3558\n"
     ]
    },
    {
     "name": "stderr",
     "output_type": "stream",
     "text": [
      "2022-12-22 16:28:32 [root] INFO: Parse auction.... https://sale.uslugi.io/sidp/3570\n"
     ]
    },
    {
     "name": "stdout",
     "output_type": "stream",
     "text": [
      "Parse auction.... https://sale.uslugi.io/sidp/3570\n"
     ]
    },
    {
     "name": "stderr",
     "output_type": "stream",
     "text": [
      "2022-12-22 16:28:33 [root] INFO: Parse auction.... https://sale.uslugi.io/sidp/3574\n"
     ]
    },
    {
     "name": "stdout",
     "output_type": "stream",
     "text": [
      "Parse auction.... https://sale.uslugi.io/sidp/3574\n"
     ]
    },
    {
     "name": "stderr",
     "output_type": "stream",
     "text": [
      "2022-12-22 16:28:34 [root] INFO: Parse auction.... https://sale.uslugi.io/sidp/3568\n"
     ]
    },
    {
     "name": "stdout",
     "output_type": "stream",
     "text": [
      "Parse auction.... https://sale.uslugi.io/sidp/3568\n"
     ]
    },
    {
     "name": "stderr",
     "output_type": "stream",
     "text": [
      "2022-12-22 16:28:35 [root] INFO: Parse auction.... https://sale.uslugi.io/sidp/3575\n"
     ]
    },
    {
     "name": "stdout",
     "output_type": "stream",
     "text": [
      "Parse auction.... https://sale.uslugi.io/sidp/3575\n"
     ]
    },
    {
     "name": "stderr",
     "output_type": "stream",
     "text": [
      "2022-12-22 16:28:36 [root] INFO: Parse auction.... https://sale.uslugi.io/sidp/3573\n"
     ]
    },
    {
     "name": "stdout",
     "output_type": "stream",
     "text": [
      "Parse auction.... https://sale.uslugi.io/sidp/3573\n"
     ]
    },
    {
     "name": "stderr",
     "output_type": "stream",
     "text": [
      "2022-12-22 16:28:37 [root] INFO: Parse auction.... https://sale.uslugi.io/sidp/3576\n"
     ]
    },
    {
     "name": "stdout",
     "output_type": "stream",
     "text": [
      "Parse auction.... https://sale.uslugi.io/sidp/3576\n"
     ]
    },
    {
     "name": "stderr",
     "output_type": "stream",
     "text": [
      "2022-12-22 16:28:37 [root] INFO: Parse auction.... https://sale.uslugi.io/sidp/3571\n"
     ]
    },
    {
     "name": "stdout",
     "output_type": "stream",
     "text": [
      "Parse auction.... https://sale.uslugi.io/sidp/3571\n"
     ]
    },
    {
     "name": "stderr",
     "output_type": "stream",
     "text": [
      "2022-12-22 16:28:38 [root] INFO: Parse auction.... https://sale.uslugi.io/sidp/3577\n"
     ]
    },
    {
     "name": "stdout",
     "output_type": "stream",
     "text": [
      "Parse auction.... https://sale.uslugi.io/sidp/3577\n"
     ]
    },
    {
     "name": "stderr",
     "output_type": "stream",
     "text": [
      "2022-12-22 16:28:39 [root] INFO: Parse auction.... https://sale.uslugi.io/sidp/3572\n"
     ]
    },
    {
     "name": "stdout",
     "output_type": "stream",
     "text": [
      "Parse auction.... https://sale.uslugi.io/sidp/3572\n"
     ]
    },
    {
     "name": "stderr",
     "output_type": "stream",
     "text": [
      "2022-12-22 16:28:40 [root] INFO: Parse auction.... https://sale.uslugi.io/sidp/3578\n"
     ]
    },
    {
     "name": "stdout",
     "output_type": "stream",
     "text": [
      "Parse auction.... https://sale.uslugi.io/sidp/3578\n"
     ]
    },
    {
     "name": "stderr",
     "output_type": "stream",
     "text": [
      "2022-12-22 16:28:41 [root] INFO: Parse auction.... https://sale.uslugi.io/sidp/3579\n"
     ]
    },
    {
     "name": "stdout",
     "output_type": "stream",
     "text": [
      "Parse auction.... https://sale.uslugi.io/sidp/3579\n"
     ]
    },
    {
     "name": "stderr",
     "output_type": "stream",
     "text": [
      "2022-12-22 16:28:42 [root] INFO: Parse auction.... https://sale.uslugi.io/sidp/3580\n"
     ]
    },
    {
     "name": "stdout",
     "output_type": "stream",
     "text": [
      "Parse auction.... https://sale.uslugi.io/sidp/3580\n"
     ]
    },
    {
     "name": "stderr",
     "output_type": "stream",
     "text": [
      "2022-12-22 16:28:43 [root] INFO: Parse auction.... https://sale.uslugi.io/sidp/3581\n"
     ]
    },
    {
     "name": "stdout",
     "output_type": "stream",
     "text": [
      "Parse auction.... https://sale.uslugi.io/sidp/3581\n"
     ]
    },
    {
     "name": "stderr",
     "output_type": "stream",
     "text": [
      "2022-12-22 16:28:44 [root] INFO: Parse auction.... https://sale.uslugi.io/sidp/3614\n"
     ]
    },
    {
     "name": "stdout",
     "output_type": "stream",
     "text": [
      "Parse auction.... https://sale.uslugi.io/sidp/3614\n"
     ]
    },
    {
     "name": "stderr",
     "output_type": "stream",
     "text": [
      "2022-12-22 16:28:45 [root] INFO: Parse auction.... https://sale.uslugi.io/sidp/3617\n"
     ]
    },
    {
     "name": "stdout",
     "output_type": "stream",
     "text": [
      "Parse auction.... https://sale.uslugi.io/sidp/3617\n"
     ]
    },
    {
     "name": "stderr",
     "output_type": "stream",
     "text": [
      "2022-12-22 16:28:45 [root] INFO: Parse auction.... https://sale.uslugi.io/sidp/3612\n"
     ]
    },
    {
     "name": "stdout",
     "output_type": "stream",
     "text": [
      "Parse auction.... https://sale.uslugi.io/sidp/3612\n"
     ]
    },
    {
     "name": "stderr",
     "output_type": "stream",
     "text": [
      "2022-12-22 16:28:46 [root] INFO: Parse auction.... https://sale.uslugi.io/sidp/3616\n"
     ]
    },
    {
     "name": "stdout",
     "output_type": "stream",
     "text": [
      "Parse auction.... https://sale.uslugi.io/sidp/3616\n"
     ]
    },
    {
     "name": "stderr",
     "output_type": "stream",
     "text": [
      "2022-12-22 16:28:47 [root] INFO: Parse auction.... https://sale.uslugi.io/sidp/3618\n"
     ]
    },
    {
     "name": "stdout",
     "output_type": "stream",
     "text": [
      "Parse auction.... https://sale.uslugi.io/sidp/3618\n"
     ]
    },
    {
     "name": "stderr",
     "output_type": "stream",
     "text": [
      "2022-12-22 16:28:48 [root] INFO: Parse auction.... https://sale.uslugi.io/sidp/3619\n"
     ]
    },
    {
     "name": "stdout",
     "output_type": "stream",
     "text": [
      "Parse auction.... https://sale.uslugi.io/sidp/3619\n"
     ]
    },
    {
     "name": "stderr",
     "output_type": "stream",
     "text": [
      "2022-12-22 16:28:49 [root] INFO: Parse auction.... https://sale.uslugi.io/sidp/3615\n"
     ]
    },
    {
     "name": "stdout",
     "output_type": "stream",
     "text": [
      "Parse auction.... https://sale.uslugi.io/sidp/3615\n"
     ]
    },
    {
     "name": "stderr",
     "output_type": "stream",
     "text": [
      "2022-12-22 16:28:49 [root] INFO: Parse auction.... https://sale.uslugi.io/sidp/3583\n"
     ]
    },
    {
     "name": "stdout",
     "output_type": "stream",
     "text": [
      "Parse auction.... https://sale.uslugi.io/sidp/3583\n"
     ]
    },
    {
     "name": "stderr",
     "output_type": "stream",
     "text": [
      "2022-12-22 16:28:50 [root] INFO: Parse auction.... https://sale.uslugi.io/sidp/3582\n"
     ]
    },
    {
     "name": "stdout",
     "output_type": "stream",
     "text": [
      "Parse auction.... https://sale.uslugi.io/sidp/3582\n"
     ]
    },
    {
     "name": "stderr",
     "output_type": "stream",
     "text": [
      "2022-12-22 16:28:52 [root] INFO: Parse auction.... https://sale.uslugi.io/sidp/3620\n"
     ]
    },
    {
     "name": "stdout",
     "output_type": "stream",
     "text": [
      "Parse auction.... https://sale.uslugi.io/sidp/3620\n"
     ]
    },
    {
     "name": "stderr",
     "output_type": "stream",
     "text": [
      "2022-12-22 16:28:53 [root] INFO: Parse auction.... https://sale.uslugi.io/sidp/3622\n"
     ]
    },
    {
     "name": "stdout",
     "output_type": "stream",
     "text": [
      "Parse auction.... https://sale.uslugi.io/sidp/3622\n"
     ]
    },
    {
     "name": "stderr",
     "output_type": "stream",
     "text": [
      "2022-12-22 16:28:54 [root] INFO: Parse auction.... https://sale.uslugi.io/sidp/3613\n"
     ]
    },
    {
     "name": "stdout",
     "output_type": "stream",
     "text": [
      "Parse auction.... https://sale.uslugi.io/sidp/3613\n"
     ]
    },
    {
     "name": "stderr",
     "output_type": "stream",
     "text": [
      "2022-12-22 16:28:55 [root] INFO: Parse auction.... https://sale.uslugi.io/sidp/3624\n"
     ]
    },
    {
     "name": "stdout",
     "output_type": "stream",
     "text": [
      "Parse auction.... https://sale.uslugi.io/sidp/3624\n"
     ]
    },
    {
     "name": "stderr",
     "output_type": "stream",
     "text": [
      "2022-12-22 16:28:56 [root] INFO: Parse auction.... https://sale.uslugi.io/sidp/3623\n"
     ]
    },
    {
     "name": "stdout",
     "output_type": "stream",
     "text": [
      "Parse auction.... https://sale.uslugi.io/sidp/3623\n"
     ]
    },
    {
     "name": "stderr",
     "output_type": "stream",
     "text": [
      "2022-12-22 16:28:56 [root] INFO: Parse auction.... https://sale.uslugi.io/sidp/3627\n"
     ]
    },
    {
     "name": "stdout",
     "output_type": "stream",
     "text": [
      "Parse auction.... https://sale.uslugi.io/sidp/3627\n"
     ]
    },
    {
     "name": "stderr",
     "output_type": "stream",
     "text": [
      "2022-12-22 16:28:58 [root] INFO: Parse auction.... https://sale.uslugi.io/sidp/3626\n"
     ]
    },
    {
     "name": "stdout",
     "output_type": "stream",
     "text": [
      "Parse auction.... https://sale.uslugi.io/sidp/3626\n"
     ]
    },
    {
     "name": "stderr",
     "output_type": "stream",
     "text": [
      "2022-12-22 16:29:00 [root] INFO: Parse auction.... https://sale.uslugi.io/sidp/3634\n"
     ]
    },
    {
     "name": "stdout",
     "output_type": "stream",
     "text": [
      "Parse auction.... https://sale.uslugi.io/sidp/3634\n"
     ]
    },
    {
     "name": "stderr",
     "output_type": "stream",
     "text": [
      "2022-12-22 16:29:01 [root] INFO: Parse auction.... https://sale.uslugi.io/sidp/3631\n"
     ]
    },
    {
     "name": "stdout",
     "output_type": "stream",
     "text": [
      "Parse auction.... https://sale.uslugi.io/sidp/3631\n"
     ]
    },
    {
     "name": "stderr",
     "output_type": "stream",
     "text": [
      "2022-12-22 16:29:02 [root] INFO: Parse auction.... https://sale.uslugi.io/sidp/3629\n"
     ]
    },
    {
     "name": "stdout",
     "output_type": "stream",
     "text": [
      "Parse auction.... https://sale.uslugi.io/sidp/3629\n"
     ]
    },
    {
     "name": "stderr",
     "output_type": "stream",
     "text": [
      "2022-12-22 16:29:04 [root] INFO: Parse auction.... https://sale.uslugi.io/sidp/3621\n"
     ]
    },
    {
     "name": "stdout",
     "output_type": "stream",
     "text": [
      "Parse auction.... https://sale.uslugi.io/sidp/3621\n"
     ]
    },
    {
     "name": "stderr",
     "output_type": "stream",
     "text": [
      "2022-12-22 16:29:04 [root] INFO: Parse auction.... https://sale.uslugi.io/sidp/3625\n"
     ]
    },
    {
     "name": "stdout",
     "output_type": "stream",
     "text": [
      "Parse auction.... https://sale.uslugi.io/sidp/3625\n"
     ]
    },
    {
     "name": "stderr",
     "output_type": "stream",
     "text": [
      "2022-12-22 16:29:05 [root] INFO: Parse auction.... https://sale.uslugi.io/sidp/3630\n"
     ]
    },
    {
     "name": "stdout",
     "output_type": "stream",
     "text": [
      "Parse auction.... https://sale.uslugi.io/sidp/3630\n"
     ]
    },
    {
     "name": "stderr",
     "output_type": "stream",
     "text": [
      "2022-12-22 16:29:06 [root] INFO: Parse auction.... https://sale.uslugi.io/sidp/3632\n"
     ]
    },
    {
     "name": "stdout",
     "output_type": "stream",
     "text": [
      "Parse auction.... https://sale.uslugi.io/sidp/3632\n"
     ]
    },
    {
     "name": "stderr",
     "output_type": "stream",
     "text": [
      "2022-12-22 16:29:07 [root] INFO: Parse auction.... https://sale.uslugi.io/sidp/3628\n"
     ]
    },
    {
     "name": "stdout",
     "output_type": "stream",
     "text": [
      "Parse auction.... https://sale.uslugi.io/sidp/3628\n"
     ]
    },
    {
     "name": "stderr",
     "output_type": "stream",
     "text": [
      "2022-12-22 16:29:09 [root] INFO: Parse auction.... https://sale.uslugi.io/sidp/3633\n"
     ]
    },
    {
     "name": "stdout",
     "output_type": "stream",
     "text": [
      "Parse auction.... https://sale.uslugi.io/sidp/3633\n"
     ]
    },
    {
     "name": "stderr",
     "output_type": "stream",
     "text": [
      "2022-12-22 16:29:10 [root] INFO: Parse auction.... https://sale.uslugi.io/sidp/3635\n"
     ]
    },
    {
     "name": "stdout",
     "output_type": "stream",
     "text": [
      "Parse auction.... https://sale.uslugi.io/sidp/3635\n"
     ]
    },
    {
     "name": "stderr",
     "output_type": "stream",
     "text": [
      "2022-12-22 16:29:11 [root] INFO: Parse auction.... https://sale.uslugi.io/sidp/3636\n"
     ]
    },
    {
     "name": "stdout",
     "output_type": "stream",
     "text": [
      "Parse auction.... https://sale.uslugi.io/sidp/3636\n"
     ]
    },
    {
     "name": "stderr",
     "output_type": "stream",
     "text": [
      "2022-12-22 16:29:11 [root] INFO: Parse auction.... https://sale.uslugi.io/sidp/3637\n"
     ]
    },
    {
     "name": "stdout",
     "output_type": "stream",
     "text": [
      "Parse auction.... https://sale.uslugi.io/sidp/3637\n"
     ]
    },
    {
     "name": "stderr",
     "output_type": "stream",
     "text": [
      "2022-12-22 16:29:12 [root] INFO: Parse auction.... https://sale.uslugi.io/sidp/3638\n"
     ]
    },
    {
     "name": "stdout",
     "output_type": "stream",
     "text": [
      "Parse auction.... https://sale.uslugi.io/sidp/3638\n"
     ]
    },
    {
     "name": "stderr",
     "output_type": "stream",
     "text": [
      "2022-12-22 16:29:13 [root] INFO: Parse auction.... https://sale.uslugi.io/sidp/3639\n"
     ]
    },
    {
     "name": "stdout",
     "output_type": "stream",
     "text": [
      "Parse auction.... https://sale.uslugi.io/sidp/3639\n"
     ]
    },
    {
     "name": "stderr",
     "output_type": "stream",
     "text": [
      "2022-12-22 16:29:14 [root] INFO: Parse auction.... https://sale.uslugi.io/sidp/3640\n"
     ]
    },
    {
     "name": "stdout",
     "output_type": "stream",
     "text": [
      "Parse auction.... https://sale.uslugi.io/sidp/3640\n"
     ]
    },
    {
     "name": "stderr",
     "output_type": "stream",
     "text": [
      "2022-12-22 16:29:15 [root] INFO: Parse auction.... https://sale.uslugi.io/sidp/3641\n"
     ]
    },
    {
     "name": "stdout",
     "output_type": "stream",
     "text": [
      "Parse auction.... https://sale.uslugi.io/sidp/3641\n"
     ]
    },
    {
     "name": "stderr",
     "output_type": "stream",
     "text": [
      "2022-12-22 16:29:16 [root] INFO: Parse auction.... https://sale.uslugi.io/sidp/3642\n"
     ]
    },
    {
     "name": "stdout",
     "output_type": "stream",
     "text": [
      "Parse auction.... https://sale.uslugi.io/sidp/3642\n"
     ]
    },
    {
     "name": "stderr",
     "output_type": "stream",
     "text": [
      "2022-12-22 16:29:17 [root] INFO: Parse auction.... https://sale.uslugi.io/sidp/3647\n"
     ]
    },
    {
     "name": "stdout",
     "output_type": "stream",
     "text": [
      "Parse auction.... https://sale.uslugi.io/sidp/3647\n"
     ]
    },
    {
     "name": "stderr",
     "output_type": "stream",
     "text": [
      "2022-12-22 16:29:18 [root] INFO: Parse auction.... https://sale.uslugi.io/sidp/3645\n"
     ]
    },
    {
     "name": "stdout",
     "output_type": "stream",
     "text": [
      "Parse auction.... https://sale.uslugi.io/sidp/3645\n"
     ]
    },
    {
     "name": "stderr",
     "output_type": "stream",
     "text": [
      "2022-12-22 16:29:18 [root] INFO: Parse auction.... https://sale.uslugi.io/sidp/3643\n"
     ]
    },
    {
     "name": "stdout",
     "output_type": "stream",
     "text": [
      "Parse auction.... https://sale.uslugi.io/sidp/3643\n"
     ]
    },
    {
     "name": "stderr",
     "output_type": "stream",
     "text": [
      "2022-12-22 16:29:19 [root] INFO: Parse auction.... https://sale.uslugi.io/sidp/3644\n"
     ]
    },
    {
     "name": "stdout",
     "output_type": "stream",
     "text": [
      "Parse auction.... https://sale.uslugi.io/sidp/3644\n"
     ]
    },
    {
     "name": "stderr",
     "output_type": "stream",
     "text": [
      "2022-12-22 16:29:20 [root] INFO: Parse auction.... https://sale.uslugi.io/sidp/3648\n"
     ]
    },
    {
     "name": "stdout",
     "output_type": "stream",
     "text": [
      "Parse auction.... https://sale.uslugi.io/sidp/3648\n"
     ]
    },
    {
     "name": "stderr",
     "output_type": "stream",
     "text": [
      "2022-12-22 16:29:21 [root] INFO: Parse auction.... https://sale.uslugi.io/sidp/3661\n"
     ]
    },
    {
     "name": "stdout",
     "output_type": "stream",
     "text": [
      "Parse auction.... https://sale.uslugi.io/sidp/3661\n"
     ]
    },
    {
     "name": "stderr",
     "output_type": "stream",
     "text": [
      "2022-12-22 16:29:22 [root] INFO: Parse auction.... https://sale.uslugi.io/sidp/3662\n"
     ]
    },
    {
     "name": "stdout",
     "output_type": "stream",
     "text": [
      "ERROR No pdf file provided\n",
      "Parse auction.... https://sale.uslugi.io/sidp/3662\n"
     ]
    },
    {
     "name": "stderr",
     "output_type": "stream",
     "text": [
      "2022-12-22 16:29:23 [root] INFO: Parse auction.... https://sale.uslugi.io/sidp/3664\n"
     ]
    },
    {
     "name": "stdout",
     "output_type": "stream",
     "text": [
      "ERROR No pdf file provided\n",
      "Parse auction.... https://sale.uslugi.io/sidp/3664\n"
     ]
    },
    {
     "name": "stderr",
     "output_type": "stream",
     "text": [
      "2022-12-22 16:29:24 [root] INFO: Parse auction.... https://sale.uslugi.io/sidp/3646\n"
     ]
    },
    {
     "name": "stdout",
     "output_type": "stream",
     "text": [
      "Parse auction.... https://sale.uslugi.io/sidp/3646\n"
     ]
    },
    {
     "name": "stderr",
     "output_type": "stream",
     "text": [
      "2022-12-22 16:29:25 [root] INFO: Parse auction.... https://sale.uslugi.io/sidp/3665\n"
     ]
    },
    {
     "name": "stdout",
     "output_type": "stream",
     "text": [
      "Parse auction.... https://sale.uslugi.io/sidp/3665\n"
     ]
    },
    {
     "name": "stderr",
     "output_type": "stream",
     "text": [
      "2022-12-22 16:29:26 [root] INFO: Parse auction.... https://sale.uslugi.io/sidp/3649\n"
     ]
    },
    {
     "name": "stdout",
     "output_type": "stream",
     "text": [
      "Parse auction.... https://sale.uslugi.io/sidp/3649\n"
     ]
    },
    {
     "name": "stderr",
     "output_type": "stream",
     "text": [
      "2022-12-22 16:29:26 [root] INFO: Parse auction.... https://sale.uslugi.io/sidp/3666\n"
     ]
    },
    {
     "name": "stdout",
     "output_type": "stream",
     "text": [
      "Parse auction.... https://sale.uslugi.io/sidp/3666\n"
     ]
    },
    {
     "name": "stderr",
     "output_type": "stream",
     "text": [
      "2022-12-22 16:29:27 [root] INFO: Parse auction.... https://sale.uslugi.io/sidp/3669\n"
     ]
    },
    {
     "name": "stdout",
     "output_type": "stream",
     "text": [
      "Parse auction.... https://sale.uslugi.io/sidp/3669\n"
     ]
    },
    {
     "name": "stderr",
     "output_type": "stream",
     "text": [
      "2022-12-22 16:29:28 [root] INFO: Parse auction.... https://sale.uslugi.io/sidp/3663\n"
     ]
    },
    {
     "name": "stdout",
     "output_type": "stream",
     "text": [
      "Parse auction.... https://sale.uslugi.io/sidp/3663\n"
     ]
    },
    {
     "name": "stderr",
     "output_type": "stream",
     "text": [
      "2022-12-22 16:29:29 [root] INFO: Parse auction.... https://sale.uslugi.io/sidp/3667\n"
     ]
    },
    {
     "name": "stdout",
     "output_type": "stream",
     "text": [
      "Parse auction.... https://sale.uslugi.io/sidp/3667\n"
     ]
    },
    {
     "name": "stderr",
     "output_type": "stream",
     "text": [
      "2022-12-22 16:29:30 [root] INFO: Parse auction.... https://sale.uslugi.io/sidp/3671\n"
     ]
    },
    {
     "name": "stdout",
     "output_type": "stream",
     "text": [
      "Parse auction.... https://sale.uslugi.io/sidp/3671\n"
     ]
    },
    {
     "name": "stderr",
     "output_type": "stream",
     "text": [
      "2022-12-22 16:29:31 [scrapy.extensions.logstats] INFO: Crawled 795 pages (at 65 pages/min), scraped 778 items (at 65 items/min)\n",
      "2022-12-22 16:29:31 [root] INFO: Parse auction.... https://sale.uslugi.io/sidp/3668\n"
     ]
    },
    {
     "name": "stdout",
     "output_type": "stream",
     "text": [
      "Parse auction.... https://sale.uslugi.io/sidp/3668\n"
     ]
    },
    {
     "name": "stderr",
     "output_type": "stream",
     "text": [
      "2022-12-22 16:29:32 [root] INFO: Parse auction.... https://sale.uslugi.io/sidp/3674\n"
     ]
    },
    {
     "name": "stdout",
     "output_type": "stream",
     "text": [
      "Parse auction.... https://sale.uslugi.io/sidp/3674\n"
     ]
    },
    {
     "name": "stderr",
     "output_type": "stream",
     "text": [
      "2022-12-22 16:29:33 [root] INFO: Parse auction.... https://sale.uslugi.io/sidp/3675\n"
     ]
    },
    {
     "name": "stdout",
     "output_type": "stream",
     "text": [
      "Parse auction.... https://sale.uslugi.io/sidp/3675\n"
     ]
    },
    {
     "name": "stderr",
     "output_type": "stream",
     "text": [
      "2022-12-22 16:29:34 [root] INFO: Parse auction.... https://sale.uslugi.io/sidp/3673\n"
     ]
    },
    {
     "name": "stdout",
     "output_type": "stream",
     "text": [
      "Parse auction.... https://sale.uslugi.io/sidp/3673\n"
     ]
    },
    {
     "name": "stderr",
     "output_type": "stream",
     "text": [
      "2022-12-22 16:29:34 [PyPDF2._reader] WARNING: Superfluous whitespace found in object header b'1' b'0'\n",
      "2022-12-22 16:29:34 [PyPDF2._reader] WARNING: Superfluous whitespace found in object header b'2' b'0'\n",
      "2022-12-22 16:29:34 [PyPDF2._reader] WARNING: Superfluous whitespace found in object header b'3' b'0'\n",
      "2022-12-22 16:29:34 [PyPDF2._reader] WARNING: Superfluous whitespace found in object header b'52' b'0'\n",
      "2022-12-22 16:29:34 [PyPDF2._reader] WARNING: Superfluous whitespace found in object header b'101' b'0'\n",
      "2022-12-22 16:29:34 [PyPDF2._reader] WARNING: Superfluous whitespace found in object header b'150' b'0'\n",
      "2022-12-22 16:29:34 [PyPDF2._reader] WARNING: Superfluous whitespace found in object header b'199' b'0'\n",
      "2022-12-22 16:29:34 [PyPDF2._reader] WARNING: Superfluous whitespace found in object header b'248' b'0'\n",
      "2022-12-22 16:29:34 [PyPDF2._reader] WARNING: Superfluous whitespace found in object header b'297' b'0'\n",
      "2022-12-22 16:29:34 [PyPDF2._reader] WARNING: Superfluous whitespace found in object header b'346' b'0'\n",
      "2022-12-22 16:29:34 [PyPDF2._reader] WARNING: Superfluous whitespace found in object header b'395' b'0'\n",
      "2022-12-22 16:29:34 [PyPDF2._reader] WARNING: Superfluous whitespace found in object header b'444' b'0'\n",
      "2022-12-22 16:29:34 [PyPDF2._reader] WARNING: Superfluous whitespace found in object header b'51' b'0'\n",
      "2022-12-22 16:29:34 [PyPDF2._reader] WARNING: Superfluous whitespace found in object header b'50' b'0'\n",
      "2022-12-22 16:29:34 [PyPDF2._reader] WARNING: Superfluous whitespace found in object header b'4' b'0'\n",
      "2022-12-22 16:29:34 [PyPDF2._reader] WARNING: Superfluous whitespace found in object header b'5' b'0'\n",
      "2022-12-22 16:29:34 [PyPDF2._reader] WARNING: Superfluous whitespace found in object header b'6' b'0'\n",
      "2022-12-22 16:29:34 [PyPDF2._reader] WARNING: Superfluous whitespace found in object header b'7' b'0'\n",
      "2022-12-22 16:29:34 [PyPDF2._reader] WARNING: Superfluous whitespace found in object header b'8' b'0'\n",
      "2022-12-22 16:29:34 [PyPDF2._reader] WARNING: Superfluous whitespace found in object header b'9' b'0'\n",
      "2022-12-22 16:29:34 [PyPDF2._reader] WARNING: Superfluous whitespace found in object header b'10' b'0'\n",
      "2022-12-22 16:29:34 [PyPDF2._reader] WARNING: Superfluous whitespace found in object header b'11' b'0'\n",
      "2022-12-22 16:29:34 [PyPDF2._reader] WARNING: Superfluous whitespace found in object header b'12' b'0'\n",
      "2022-12-22 16:29:34 [PyPDF2._reader] WARNING: Superfluous whitespace found in object header b'13' b'0'\n",
      "2022-12-22 16:29:34 [PyPDF2._reader] WARNING: Superfluous whitespace found in object header b'14' b'0'\n",
      "2022-12-22 16:29:34 [PyPDF2._reader] WARNING: Superfluous whitespace found in object header b'15' b'0'\n",
      "2022-12-22 16:29:34 [PyPDF2._reader] WARNING: Superfluous whitespace found in object header b'16' b'0'\n",
      "2022-12-22 16:29:34 [PyPDF2._reader] WARNING: Superfluous whitespace found in object header b'17' b'0'\n",
      "2022-12-22 16:29:34 [PyPDF2._reader] WARNING: Superfluous whitespace found in object header b'18' b'0'\n",
      "2022-12-22 16:29:34 [PyPDF2._reader] WARNING: Superfluous whitespace found in object header b'19' b'0'\n",
      "2022-12-22 16:29:34 [PyPDF2._reader] WARNING: Superfluous whitespace found in object header b'20' b'0'\n",
      "2022-12-22 16:29:34 [PyPDF2._reader] WARNING: Superfluous whitespace found in object header b'21' b'0'\n",
      "2022-12-22 16:29:34 [PyPDF2._reader] WARNING: Superfluous whitespace found in object header b'22' b'0'\n",
      "2022-12-22 16:29:34 [PyPDF2._reader] WARNING: Superfluous whitespace found in object header b'23' b'0'\n",
      "2022-12-22 16:29:34 [PyPDF2._reader] WARNING: Superfluous whitespace found in object header b'24' b'0'\n",
      "2022-12-22 16:29:34 [PyPDF2._reader] WARNING: Superfluous whitespace found in object header b'25' b'0'\n",
      "2022-12-22 16:29:34 [PyPDF2._reader] WARNING: Superfluous whitespace found in object header b'26' b'0'\n",
      "2022-12-22 16:29:34 [PyPDF2._reader] WARNING: Superfluous whitespace found in object header b'27' b'0'\n",
      "2022-12-22 16:29:34 [PyPDF2._reader] WARNING: Superfluous whitespace found in object header b'28' b'0'\n",
      "2022-12-22 16:29:34 [PyPDF2._reader] WARNING: Superfluous whitespace found in object header b'29' b'0'\n",
      "2022-12-22 16:29:34 [PyPDF2._reader] WARNING: Superfluous whitespace found in object header b'30' b'0'\n",
      "2022-12-22 16:29:34 [PyPDF2._reader] WARNING: Superfluous whitespace found in object header b'31' b'0'\n",
      "2022-12-22 16:29:34 [PyPDF2._reader] WARNING: Superfluous whitespace found in object header b'32' b'0'\n",
      "2022-12-22 16:29:34 [PyPDF2._reader] WARNING: Superfluous whitespace found in object header b'33' b'0'\n",
      "2022-12-22 16:29:34 [PyPDF2._reader] WARNING: Superfluous whitespace found in object header b'34' b'0'\n",
      "2022-12-22 16:29:34 [PyPDF2._reader] WARNING: Superfluous whitespace found in object header b'35' b'0'\n",
      "2022-12-22 16:29:34 [PyPDF2._reader] WARNING: Superfluous whitespace found in object header b'36' b'0'\n",
      "2022-12-22 16:29:34 [PyPDF2._reader] WARNING: Superfluous whitespace found in object header b'37' b'0'\n",
      "2022-12-22 16:29:34 [PyPDF2._reader] WARNING: Superfluous whitespace found in object header b'38' b'0'\n",
      "2022-12-22 16:29:34 [PyPDF2._reader] WARNING: Superfluous whitespace found in object header b'39' b'0'\n",
      "2022-12-22 16:29:34 [PyPDF2._reader] WARNING: Superfluous whitespace found in object header b'40' b'0'\n",
      "2022-12-22 16:29:34 [PyPDF2._reader] WARNING: Superfluous whitespace found in object header b'41' b'0'\n",
      "2022-12-22 16:29:34 [PyPDF2._reader] WARNING: Superfluous whitespace found in object header b'42' b'0'\n",
      "2022-12-22 16:29:34 [PyPDF2._reader] WARNING: Superfluous whitespace found in object header b'43' b'0'\n",
      "2022-12-22 16:29:34 [PyPDF2._reader] WARNING: Superfluous whitespace found in object header b'44' b'0'\n",
      "2022-12-22 16:29:34 [PyPDF2._reader] WARNING: Superfluous whitespace found in object header b'45' b'0'\n",
      "2022-12-22 16:29:34 [PyPDF2._reader] WARNING: Superfluous whitespace found in object header b'46' b'0'\n",
      "2022-12-22 16:29:34 [PyPDF2._reader] WARNING: Superfluous whitespace found in object header b'47' b'0'\n",
      "2022-12-22 16:29:34 [PyPDF2._reader] WARNING: Superfluous whitespace found in object header b'48' b'0'\n",
      "2022-12-22 16:29:34 [PyPDF2._reader] WARNING: Superfluous whitespace found in object header b'49' b'0'\n",
      "2022-12-22 16:29:34 [PyPDF2._reader] WARNING: Superfluous whitespace found in object header b'100' b'0'\n",
      "2022-12-22 16:29:34 [PyPDF2._reader] WARNING: Superfluous whitespace found in object header b'99' b'0'\n",
      "2022-12-22 16:29:34 [PyPDF2._reader] WARNING: Superfluous whitespace found in object header b'53' b'0'\n",
      "2022-12-22 16:29:34 [PyPDF2._reader] WARNING: Superfluous whitespace found in object header b'54' b'0'\n",
      "2022-12-22 16:29:34 [PyPDF2._reader] WARNING: Superfluous whitespace found in object header b'55' b'0'\n",
      "2022-12-22 16:29:34 [PyPDF2._reader] WARNING: Superfluous whitespace found in object header b'56' b'0'\n",
      "2022-12-22 16:29:34 [PyPDF2._reader] WARNING: Superfluous whitespace found in object header b'57' b'0'\n",
      "2022-12-22 16:29:34 [PyPDF2._reader] WARNING: Superfluous whitespace found in object header b'58' b'0'\n",
      "2022-12-22 16:29:34 [PyPDF2._reader] WARNING: Superfluous whitespace found in object header b'59' b'0'\n",
      "2022-12-22 16:29:34 [PyPDF2._reader] WARNING: Superfluous whitespace found in object header b'60' b'0'\n",
      "2022-12-22 16:29:34 [PyPDF2._reader] WARNING: Superfluous whitespace found in object header b'61' b'0'\n",
      "2022-12-22 16:29:34 [PyPDF2._reader] WARNING: Superfluous whitespace found in object header b'62' b'0'\n",
      "2022-12-22 16:29:34 [PyPDF2._reader] WARNING: Superfluous whitespace found in object header b'63' b'0'\n",
      "2022-12-22 16:29:34 [PyPDF2._reader] WARNING: Superfluous whitespace found in object header b'64' b'0'\n",
      "2022-12-22 16:29:34 [PyPDF2._reader] WARNING: Superfluous whitespace found in object header b'65' b'0'\n",
      "2022-12-22 16:29:34 [PyPDF2._reader] WARNING: Superfluous whitespace found in object header b'66' b'0'\n",
      "2022-12-22 16:29:34 [PyPDF2._reader] WARNING: Superfluous whitespace found in object header b'67' b'0'\n",
      "2022-12-22 16:29:34 [PyPDF2._reader] WARNING: Superfluous whitespace found in object header b'68' b'0'\n",
      "2022-12-22 16:29:34 [PyPDF2._reader] WARNING: Superfluous whitespace found in object header b'69' b'0'\n",
      "2022-12-22 16:29:34 [PyPDF2._reader] WARNING: Superfluous whitespace found in object header b'70' b'0'\n"
     ]
    },
    {
     "name": "stderr",
     "output_type": "stream",
     "text": [
      "2022-12-22 16:29:34 [PyPDF2._reader] WARNING: Superfluous whitespace found in object header b'71' b'0'\n",
      "2022-12-22 16:29:34 [PyPDF2._reader] WARNING: Superfluous whitespace found in object header b'72' b'0'\n",
      "2022-12-22 16:29:34 [PyPDF2._reader] WARNING: Superfluous whitespace found in object header b'73' b'0'\n",
      "2022-12-22 16:29:34 [PyPDF2._reader] WARNING: Superfluous whitespace found in object header b'74' b'0'\n",
      "2022-12-22 16:29:34 [PyPDF2._reader] WARNING: Superfluous whitespace found in object header b'75' b'0'\n",
      "2022-12-22 16:29:34 [PyPDF2._reader] WARNING: Superfluous whitespace found in object header b'76' b'0'\n",
      "2022-12-22 16:29:34 [PyPDF2._reader] WARNING: Superfluous whitespace found in object header b'77' b'0'\n",
      "2022-12-22 16:29:34 [PyPDF2._reader] WARNING: Superfluous whitespace found in object header b'78' b'0'\n",
      "2022-12-22 16:29:34 [PyPDF2._reader] WARNING: Superfluous whitespace found in object header b'79' b'0'\n",
      "2022-12-22 16:29:34 [PyPDF2._reader] WARNING: Superfluous whitespace found in object header b'80' b'0'\n",
      "2022-12-22 16:29:34 [PyPDF2._reader] WARNING: Superfluous whitespace found in object header b'81' b'0'\n",
      "2022-12-22 16:29:34 [PyPDF2._reader] WARNING: Superfluous whitespace found in object header b'82' b'0'\n",
      "2022-12-22 16:29:34 [PyPDF2._reader] WARNING: Superfluous whitespace found in object header b'83' b'0'\n",
      "2022-12-22 16:29:34 [PyPDF2._reader] WARNING: Superfluous whitespace found in object header b'84' b'0'\n",
      "2022-12-22 16:29:34 [PyPDF2._reader] WARNING: Superfluous whitespace found in object header b'85' b'0'\n",
      "2022-12-22 16:29:34 [PyPDF2._reader] WARNING: Superfluous whitespace found in object header b'86' b'0'\n",
      "2022-12-22 16:29:34 [PyPDF2._reader] WARNING: Superfluous whitespace found in object header b'87' b'0'\n",
      "2022-12-22 16:29:34 [PyPDF2._reader] WARNING: Superfluous whitespace found in object header b'88' b'0'\n",
      "2022-12-22 16:29:34 [PyPDF2._reader] WARNING: Superfluous whitespace found in object header b'89' b'0'\n",
      "2022-12-22 16:29:34 [PyPDF2._reader] WARNING: Superfluous whitespace found in object header b'90' b'0'\n",
      "2022-12-22 16:29:34 [PyPDF2._reader] WARNING: Superfluous whitespace found in object header b'91' b'0'\n",
      "2022-12-22 16:29:34 [PyPDF2._reader] WARNING: Superfluous whitespace found in object header b'92' b'0'\n",
      "2022-12-22 16:29:34 [PyPDF2._reader] WARNING: Superfluous whitespace found in object header b'93' b'0'\n",
      "2022-12-22 16:29:34 [PyPDF2._reader] WARNING: Superfluous whitespace found in object header b'94' b'0'\n",
      "2022-12-22 16:29:34 [PyPDF2._reader] WARNING: Superfluous whitespace found in object header b'95' b'0'\n",
      "2022-12-22 16:29:34 [PyPDF2._reader] WARNING: Superfluous whitespace found in object header b'96' b'0'\n",
      "2022-12-22 16:29:34 [PyPDF2._reader] WARNING: Superfluous whitespace found in object header b'97' b'0'\n",
      "2022-12-22 16:29:34 [PyPDF2._reader] WARNING: Superfluous whitespace found in object header b'98' b'0'\n",
      "2022-12-22 16:29:34 [PyPDF2._reader] WARNING: Superfluous whitespace found in object header b'149' b'0'\n",
      "2022-12-22 16:29:34 [PyPDF2._reader] WARNING: Superfluous whitespace found in object header b'148' b'0'\n",
      "2022-12-22 16:29:34 [PyPDF2._reader] WARNING: Superfluous whitespace found in object header b'102' b'0'\n",
      "2022-12-22 16:29:34 [PyPDF2._reader] WARNING: Superfluous whitespace found in object header b'103' b'0'\n",
      "2022-12-22 16:29:34 [PyPDF2._reader] WARNING: Superfluous whitespace found in object header b'104' b'0'\n",
      "2022-12-22 16:29:34 [PyPDF2._reader] WARNING: Superfluous whitespace found in object header b'105' b'0'\n",
      "2022-12-22 16:29:34 [PyPDF2._reader] WARNING: Superfluous whitespace found in object header b'106' b'0'\n",
      "2022-12-22 16:29:34 [PyPDF2._reader] WARNING: Superfluous whitespace found in object header b'107' b'0'\n",
      "2022-12-22 16:29:34 [PyPDF2._reader] WARNING: Superfluous whitespace found in object header b'108' b'0'\n",
      "2022-12-22 16:29:34 [PyPDF2._reader] WARNING: Superfluous whitespace found in object header b'109' b'0'\n",
      "2022-12-22 16:29:34 [PyPDF2._reader] WARNING: Superfluous whitespace found in object header b'110' b'0'\n",
      "2022-12-22 16:29:34 [PyPDF2._reader] WARNING: Superfluous whitespace found in object header b'111' b'0'\n",
      "2022-12-22 16:29:34 [PyPDF2._reader] WARNING: Superfluous whitespace found in object header b'112' b'0'\n",
      "2022-12-22 16:29:34 [PyPDF2._reader] WARNING: Superfluous whitespace found in object header b'113' b'0'\n",
      "2022-12-22 16:29:34 [PyPDF2._reader] WARNING: Superfluous whitespace found in object header b'114' b'0'\n",
      "2022-12-22 16:29:34 [PyPDF2._reader] WARNING: Superfluous whitespace found in object header b'115' b'0'\n",
      "2022-12-22 16:29:34 [PyPDF2._reader] WARNING: Superfluous whitespace found in object header b'116' b'0'\n",
      "2022-12-22 16:29:34 [PyPDF2._reader] WARNING: Superfluous whitespace found in object header b'117' b'0'\n",
      "2022-12-22 16:29:34 [PyPDF2._reader] WARNING: Superfluous whitespace found in object header b'118' b'0'\n",
      "2022-12-22 16:29:34 [PyPDF2._reader] WARNING: Superfluous whitespace found in object header b'119' b'0'\n",
      "2022-12-22 16:29:34 [PyPDF2._reader] WARNING: Superfluous whitespace found in object header b'120' b'0'\n",
      "2022-12-22 16:29:34 [PyPDF2._reader] WARNING: Superfluous whitespace found in object header b'121' b'0'\n",
      "2022-12-22 16:29:34 [PyPDF2._reader] WARNING: Superfluous whitespace found in object header b'122' b'0'\n",
      "2022-12-22 16:29:34 [PyPDF2._reader] WARNING: Superfluous whitespace found in object header b'123' b'0'\n",
      "2022-12-22 16:29:34 [PyPDF2._reader] WARNING: Superfluous whitespace found in object header b'124' b'0'\n",
      "2022-12-22 16:29:34 [PyPDF2._reader] WARNING: Superfluous whitespace found in object header b'125' b'0'\n",
      "2022-12-22 16:29:34 [PyPDF2._reader] WARNING: Superfluous whitespace found in object header b'126' b'0'\n",
      "2022-12-22 16:29:34 [PyPDF2._reader] WARNING: Superfluous whitespace found in object header b'127' b'0'\n",
      "2022-12-22 16:29:34 [PyPDF2._reader] WARNING: Superfluous whitespace found in object header b'128' b'0'\n",
      "2022-12-22 16:29:34 [PyPDF2._reader] WARNING: Superfluous whitespace found in object header b'129' b'0'\n",
      "2022-12-22 16:29:34 [PyPDF2._reader] WARNING: Superfluous whitespace found in object header b'130' b'0'\n",
      "2022-12-22 16:29:34 [PyPDF2._reader] WARNING: Superfluous whitespace found in object header b'131' b'0'\n",
      "2022-12-22 16:29:34 [PyPDF2._reader] WARNING: Superfluous whitespace found in object header b'132' b'0'\n",
      "2022-12-22 16:29:34 [PyPDF2._reader] WARNING: Superfluous whitespace found in object header b'133' b'0'\n",
      "2022-12-22 16:29:34 [PyPDF2._reader] WARNING: Superfluous whitespace found in object header b'134' b'0'\n",
      "2022-12-22 16:29:34 [PyPDF2._reader] WARNING: Superfluous whitespace found in object header b'135' b'0'\n",
      "2022-12-22 16:29:34 [PyPDF2._reader] WARNING: Superfluous whitespace found in object header b'136' b'0'\n",
      "2022-12-22 16:29:34 [PyPDF2._reader] WARNING: Superfluous whitespace found in object header b'137' b'0'\n",
      "2022-12-22 16:29:34 [PyPDF2._reader] WARNING: Superfluous whitespace found in object header b'138' b'0'\n",
      "2022-12-22 16:29:34 [PyPDF2._reader] WARNING: Superfluous whitespace found in object header b'139' b'0'\n",
      "2022-12-22 16:29:34 [PyPDF2._reader] WARNING: Superfluous whitespace found in object header b'140' b'0'\n",
      "2022-12-22 16:29:34 [PyPDF2._reader] WARNING: Superfluous whitespace found in object header b'141' b'0'\n",
      "2022-12-22 16:29:34 [PyPDF2._reader] WARNING: Superfluous whitespace found in object header b'142' b'0'\n",
      "2022-12-22 16:29:34 [PyPDF2._reader] WARNING: Superfluous whitespace found in object header b'143' b'0'\n",
      "2022-12-22 16:29:34 [PyPDF2._reader] WARNING: Superfluous whitespace found in object header b'144' b'0'\n",
      "2022-12-22 16:29:34 [PyPDF2._reader] WARNING: Superfluous whitespace found in object header b'145' b'0'\n",
      "2022-12-22 16:29:34 [PyPDF2._reader] WARNING: Superfluous whitespace found in object header b'146' b'0'\n",
      "2022-12-22 16:29:34 [PyPDF2._reader] WARNING: Superfluous whitespace found in object header b'147' b'0'\n",
      "2022-12-22 16:29:34 [PyPDF2._reader] WARNING: Superfluous whitespace found in object header b'198' b'0'\n",
      "2022-12-22 16:29:34 [PyPDF2._reader] WARNING: Superfluous whitespace found in object header b'197' b'0'\n",
      "2022-12-22 16:29:34 [PyPDF2._reader] WARNING: Superfluous whitespace found in object header b'151' b'0'\n",
      "2022-12-22 16:29:34 [PyPDF2._reader] WARNING: Superfluous whitespace found in object header b'152' b'0'\n"
     ]
    },
    {
     "name": "stderr",
     "output_type": "stream",
     "text": [
      "2022-12-22 16:29:34 [PyPDF2._reader] WARNING: Superfluous whitespace found in object header b'153' b'0'\n",
      "2022-12-22 16:29:34 [PyPDF2._reader] WARNING: Superfluous whitespace found in object header b'154' b'0'\n",
      "2022-12-22 16:29:34 [PyPDF2._reader] WARNING: Superfluous whitespace found in object header b'155' b'0'\n",
      "2022-12-22 16:29:34 [PyPDF2._reader] WARNING: Superfluous whitespace found in object header b'156' b'0'\n",
      "2022-12-22 16:29:34 [PyPDF2._reader] WARNING: Superfluous whitespace found in object header b'157' b'0'\n",
      "2022-12-22 16:29:34 [PyPDF2._reader] WARNING: Superfluous whitespace found in object header b'158' b'0'\n",
      "2022-12-22 16:29:34 [PyPDF2._reader] WARNING: Superfluous whitespace found in object header b'159' b'0'\n",
      "2022-12-22 16:29:34 [PyPDF2._reader] WARNING: Superfluous whitespace found in object header b'160' b'0'\n",
      "2022-12-22 16:29:34 [PyPDF2._reader] WARNING: Superfluous whitespace found in object header b'161' b'0'\n",
      "2022-12-22 16:29:34 [PyPDF2._reader] WARNING: Superfluous whitespace found in object header b'162' b'0'\n",
      "2022-12-22 16:29:34 [PyPDF2._reader] WARNING: Superfluous whitespace found in object header b'163' b'0'\n",
      "2022-12-22 16:29:34 [PyPDF2._reader] WARNING: Superfluous whitespace found in object header b'164' b'0'\n",
      "2022-12-22 16:29:34 [PyPDF2._reader] WARNING: Superfluous whitespace found in object header b'165' b'0'\n",
      "2022-12-22 16:29:34 [PyPDF2._reader] WARNING: Superfluous whitespace found in object header b'166' b'0'\n",
      "2022-12-22 16:29:34 [PyPDF2._reader] WARNING: Superfluous whitespace found in object header b'167' b'0'\n",
      "2022-12-22 16:29:34 [PyPDF2._reader] WARNING: Superfluous whitespace found in object header b'168' b'0'\n",
      "2022-12-22 16:29:34 [PyPDF2._reader] WARNING: Superfluous whitespace found in object header b'169' b'0'\n",
      "2022-12-22 16:29:34 [PyPDF2._reader] WARNING: Superfluous whitespace found in object header b'170' b'0'\n",
      "2022-12-22 16:29:34 [PyPDF2._reader] WARNING: Superfluous whitespace found in object header b'171' b'0'\n",
      "2022-12-22 16:29:34 [PyPDF2._reader] WARNING: Superfluous whitespace found in object header b'172' b'0'\n",
      "2022-12-22 16:29:34 [PyPDF2._reader] WARNING: Superfluous whitespace found in object header b'173' b'0'\n",
      "2022-12-22 16:29:34 [PyPDF2._reader] WARNING: Superfluous whitespace found in object header b'174' b'0'\n",
      "2022-12-22 16:29:34 [PyPDF2._reader] WARNING: Superfluous whitespace found in object header b'175' b'0'\n",
      "2022-12-22 16:29:34 [PyPDF2._reader] WARNING: Superfluous whitespace found in object header b'176' b'0'\n",
      "2022-12-22 16:29:34 [PyPDF2._reader] WARNING: Superfluous whitespace found in object header b'177' b'0'\n",
      "2022-12-22 16:29:34 [PyPDF2._reader] WARNING: Superfluous whitespace found in object header b'178' b'0'\n",
      "2022-12-22 16:29:34 [PyPDF2._reader] WARNING: Superfluous whitespace found in object header b'179' b'0'\n",
      "2022-12-22 16:29:34 [PyPDF2._reader] WARNING: Superfluous whitespace found in object header b'180' b'0'\n",
      "2022-12-22 16:29:34 [PyPDF2._reader] WARNING: Superfluous whitespace found in object header b'181' b'0'\n",
      "2022-12-22 16:29:34 [PyPDF2._reader] WARNING: Superfluous whitespace found in object header b'182' b'0'\n",
      "2022-12-22 16:29:34 [PyPDF2._reader] WARNING: Superfluous whitespace found in object header b'183' b'0'\n",
      "2022-12-22 16:29:34 [PyPDF2._reader] WARNING: Superfluous whitespace found in object header b'184' b'0'\n",
      "2022-12-22 16:29:34 [PyPDF2._reader] WARNING: Superfluous whitespace found in object header b'185' b'0'\n",
      "2022-12-22 16:29:34 [PyPDF2._reader] WARNING: Superfluous whitespace found in object header b'186' b'0'\n",
      "2022-12-22 16:29:34 [PyPDF2._reader] WARNING: Superfluous whitespace found in object header b'187' b'0'\n",
      "2022-12-22 16:29:34 [PyPDF2._reader] WARNING: Superfluous whitespace found in object header b'188' b'0'\n",
      "2022-12-22 16:29:34 [PyPDF2._reader] WARNING: Superfluous whitespace found in object header b'189' b'0'\n",
      "2022-12-22 16:29:34 [PyPDF2._reader] WARNING: Superfluous whitespace found in object header b'190' b'0'\n",
      "2022-12-22 16:29:34 [PyPDF2._reader] WARNING: Superfluous whitespace found in object header b'191' b'0'\n",
      "2022-12-22 16:29:34 [PyPDF2._reader] WARNING: Superfluous whitespace found in object header b'192' b'0'\n",
      "2022-12-22 16:29:34 [PyPDF2._reader] WARNING: Superfluous whitespace found in object header b'193' b'0'\n",
      "2022-12-22 16:29:34 [PyPDF2._reader] WARNING: Superfluous whitespace found in object header b'194' b'0'\n",
      "2022-12-22 16:29:34 [PyPDF2._reader] WARNING: Superfluous whitespace found in object header b'195' b'0'\n",
      "2022-12-22 16:29:34 [PyPDF2._reader] WARNING: Superfluous whitespace found in object header b'196' b'0'\n",
      "2022-12-22 16:29:34 [PyPDF2._reader] WARNING: Superfluous whitespace found in object header b'247' b'0'\n",
      "2022-12-22 16:29:34 [PyPDF2._reader] WARNING: Superfluous whitespace found in object header b'246' b'0'\n",
      "2022-12-22 16:29:34 [PyPDF2._reader] WARNING: Superfluous whitespace found in object header b'200' b'0'\n",
      "2022-12-22 16:29:34 [PyPDF2._reader] WARNING: Superfluous whitespace found in object header b'201' b'0'\n",
      "2022-12-22 16:29:34 [PyPDF2._reader] WARNING: Superfluous whitespace found in object header b'202' b'0'\n",
      "2022-12-22 16:29:34 [PyPDF2._reader] WARNING: Superfluous whitespace found in object header b'203' b'0'\n",
      "2022-12-22 16:29:34 [PyPDF2._reader] WARNING: Superfluous whitespace found in object header b'204' b'0'\n",
      "2022-12-22 16:29:34 [PyPDF2._reader] WARNING: Superfluous whitespace found in object header b'205' b'0'\n",
      "2022-12-22 16:29:34 [PyPDF2._reader] WARNING: Superfluous whitespace found in object header b'206' b'0'\n",
      "2022-12-22 16:29:34 [PyPDF2._reader] WARNING: Superfluous whitespace found in object header b'207' b'0'\n",
      "2022-12-22 16:29:34 [PyPDF2._reader] WARNING: Superfluous whitespace found in object header b'208' b'0'\n",
      "2022-12-22 16:29:34 [PyPDF2._reader] WARNING: Superfluous whitespace found in object header b'209' b'0'\n",
      "2022-12-22 16:29:34 [PyPDF2._reader] WARNING: Superfluous whitespace found in object header b'210' b'0'\n",
      "2022-12-22 16:29:34 [PyPDF2._reader] WARNING: Superfluous whitespace found in object header b'211' b'0'\n",
      "2022-12-22 16:29:34 [PyPDF2._reader] WARNING: Superfluous whitespace found in object header b'212' b'0'\n",
      "2022-12-22 16:29:34 [PyPDF2._reader] WARNING: Superfluous whitespace found in object header b'213' b'0'\n",
      "2022-12-22 16:29:34 [PyPDF2._reader] WARNING: Superfluous whitespace found in object header b'214' b'0'\n",
      "2022-12-22 16:29:34 [PyPDF2._reader] WARNING: Superfluous whitespace found in object header b'215' b'0'\n",
      "2022-12-22 16:29:34 [PyPDF2._reader] WARNING: Superfluous whitespace found in object header b'216' b'0'\n",
      "2022-12-22 16:29:34 [PyPDF2._reader] WARNING: Superfluous whitespace found in object header b'217' b'0'\n",
      "2022-12-22 16:29:34 [PyPDF2._reader] WARNING: Superfluous whitespace found in object header b'218' b'0'\n",
      "2022-12-22 16:29:34 [PyPDF2._reader] WARNING: Superfluous whitespace found in object header b'219' b'0'\n",
      "2022-12-22 16:29:34 [PyPDF2._reader] WARNING: Superfluous whitespace found in object header b'220' b'0'\n",
      "2022-12-22 16:29:34 [PyPDF2._reader] WARNING: Superfluous whitespace found in object header b'221' b'0'\n",
      "2022-12-22 16:29:34 [PyPDF2._reader] WARNING: Superfluous whitespace found in object header b'222' b'0'\n",
      "2022-12-22 16:29:34 [PyPDF2._reader] WARNING: Superfluous whitespace found in object header b'223' b'0'\n",
      "2022-12-22 16:29:34 [PyPDF2._reader] WARNING: Superfluous whitespace found in object header b'224' b'0'\n",
      "2022-12-22 16:29:34 [PyPDF2._reader] WARNING: Superfluous whitespace found in object header b'225' b'0'\n",
      "2022-12-22 16:29:34 [PyPDF2._reader] WARNING: Superfluous whitespace found in object header b'226' b'0'\n",
      "2022-12-22 16:29:34 [PyPDF2._reader] WARNING: Superfluous whitespace found in object header b'227' b'0'\n",
      "2022-12-22 16:29:34 [PyPDF2._reader] WARNING: Superfluous whitespace found in object header b'228' b'0'\n",
      "2022-12-22 16:29:34 [PyPDF2._reader] WARNING: Superfluous whitespace found in object header b'229' b'0'\n",
      "2022-12-22 16:29:34 [PyPDF2._reader] WARNING: Superfluous whitespace found in object header b'230' b'0'\n",
      "2022-12-22 16:29:34 [PyPDF2._reader] WARNING: Superfluous whitespace found in object header b'231' b'0'\n",
      "2022-12-22 16:29:34 [PyPDF2._reader] WARNING: Superfluous whitespace found in object header b'232' b'0'\n"
     ]
    },
    {
     "name": "stderr",
     "output_type": "stream",
     "text": [
      "2022-12-22 16:29:34 [PyPDF2._reader] WARNING: Superfluous whitespace found in object header b'233' b'0'\n",
      "2022-12-22 16:29:34 [PyPDF2._reader] WARNING: Superfluous whitespace found in object header b'234' b'0'\n",
      "2022-12-22 16:29:34 [PyPDF2._reader] WARNING: Superfluous whitespace found in object header b'235' b'0'\n",
      "2022-12-22 16:29:34 [PyPDF2._reader] WARNING: Superfluous whitespace found in object header b'236' b'0'\n",
      "2022-12-22 16:29:34 [PyPDF2._reader] WARNING: Superfluous whitespace found in object header b'237' b'0'\n",
      "2022-12-22 16:29:34 [PyPDF2._reader] WARNING: Superfluous whitespace found in object header b'238' b'0'\n",
      "2022-12-22 16:29:34 [PyPDF2._reader] WARNING: Superfluous whitespace found in object header b'239' b'0'\n",
      "2022-12-22 16:29:34 [PyPDF2._reader] WARNING: Superfluous whitespace found in object header b'240' b'0'\n",
      "2022-12-22 16:29:34 [PyPDF2._reader] WARNING: Superfluous whitespace found in object header b'241' b'0'\n",
      "2022-12-22 16:29:34 [PyPDF2._reader] WARNING: Superfluous whitespace found in object header b'242' b'0'\n",
      "2022-12-22 16:29:34 [PyPDF2._reader] WARNING: Superfluous whitespace found in object header b'243' b'0'\n",
      "2022-12-22 16:29:34 [PyPDF2._reader] WARNING: Superfluous whitespace found in object header b'244' b'0'\n",
      "2022-12-22 16:29:34 [PyPDF2._reader] WARNING: Superfluous whitespace found in object header b'245' b'0'\n",
      "2022-12-22 16:29:34 [PyPDF2._reader] WARNING: Superfluous whitespace found in object header b'296' b'0'\n",
      "2022-12-22 16:29:34 [PyPDF2._reader] WARNING: Superfluous whitespace found in object header b'295' b'0'\n",
      "2022-12-22 16:29:34 [PyPDF2._reader] WARNING: Superfluous whitespace found in object header b'249' b'0'\n",
      "2022-12-22 16:29:34 [PyPDF2._reader] WARNING: Superfluous whitespace found in object header b'250' b'0'\n",
      "2022-12-22 16:29:34 [PyPDF2._reader] WARNING: Superfluous whitespace found in object header b'251' b'0'\n",
      "2022-12-22 16:29:34 [PyPDF2._reader] WARNING: Superfluous whitespace found in object header b'252' b'0'\n",
      "2022-12-22 16:29:34 [PyPDF2._reader] WARNING: Superfluous whitespace found in object header b'253' b'0'\n",
      "2022-12-22 16:29:34 [PyPDF2._reader] WARNING: Superfluous whitespace found in object header b'254' b'0'\n",
      "2022-12-22 16:29:34 [PyPDF2._reader] WARNING: Superfluous whitespace found in object header b'255' b'0'\n",
      "2022-12-22 16:29:34 [PyPDF2._reader] WARNING: Superfluous whitespace found in object header b'256' b'0'\n",
      "2022-12-22 16:29:34 [PyPDF2._reader] WARNING: Superfluous whitespace found in object header b'257' b'0'\n",
      "2022-12-22 16:29:34 [PyPDF2._reader] WARNING: Superfluous whitespace found in object header b'258' b'0'\n",
      "2022-12-22 16:29:34 [PyPDF2._reader] WARNING: Superfluous whitespace found in object header b'259' b'0'\n",
      "2022-12-22 16:29:34 [PyPDF2._reader] WARNING: Superfluous whitespace found in object header b'260' b'0'\n",
      "2022-12-22 16:29:34 [PyPDF2._reader] WARNING: Superfluous whitespace found in object header b'261' b'0'\n",
      "2022-12-22 16:29:34 [PyPDF2._reader] WARNING: Superfluous whitespace found in object header b'262' b'0'\n",
      "2022-12-22 16:29:34 [PyPDF2._reader] WARNING: Superfluous whitespace found in object header b'263' b'0'\n",
      "2022-12-22 16:29:34 [PyPDF2._reader] WARNING: Superfluous whitespace found in object header b'264' b'0'\n",
      "2022-12-22 16:29:34 [PyPDF2._reader] WARNING: Superfluous whitespace found in object header b'265' b'0'\n",
      "2022-12-22 16:29:34 [PyPDF2._reader] WARNING: Superfluous whitespace found in object header b'266' b'0'\n",
      "2022-12-22 16:29:34 [PyPDF2._reader] WARNING: Superfluous whitespace found in object header b'267' b'0'\n",
      "2022-12-22 16:29:34 [PyPDF2._reader] WARNING: Superfluous whitespace found in object header b'268' b'0'\n",
      "2022-12-22 16:29:34 [PyPDF2._reader] WARNING: Superfluous whitespace found in object header b'269' b'0'\n",
      "2022-12-22 16:29:34 [PyPDF2._reader] WARNING: Superfluous whitespace found in object header b'270' b'0'\n",
      "2022-12-22 16:29:34 [PyPDF2._reader] WARNING: Superfluous whitespace found in object header b'271' b'0'\n",
      "2022-12-22 16:29:34 [PyPDF2._reader] WARNING: Superfluous whitespace found in object header b'272' b'0'\n",
      "2022-12-22 16:29:34 [PyPDF2._reader] WARNING: Superfluous whitespace found in object header b'273' b'0'\n",
      "2022-12-22 16:29:34 [PyPDF2._reader] WARNING: Superfluous whitespace found in object header b'274' b'0'\n",
      "2022-12-22 16:29:34 [PyPDF2._reader] WARNING: Superfluous whitespace found in object header b'275' b'0'\n",
      "2022-12-22 16:29:34 [PyPDF2._reader] WARNING: Superfluous whitespace found in object header b'276' b'0'\n",
      "2022-12-22 16:29:34 [PyPDF2._reader] WARNING: Superfluous whitespace found in object header b'277' b'0'\n",
      "2022-12-22 16:29:34 [PyPDF2._reader] WARNING: Superfluous whitespace found in object header b'278' b'0'\n",
      "2022-12-22 16:29:34 [PyPDF2._reader] WARNING: Superfluous whitespace found in object header b'279' b'0'\n",
      "2022-12-22 16:29:34 [PyPDF2._reader] WARNING: Superfluous whitespace found in object header b'280' b'0'\n",
      "2022-12-22 16:29:34 [PyPDF2._reader] WARNING: Superfluous whitespace found in object header b'281' b'0'\n",
      "2022-12-22 16:29:34 [PyPDF2._reader] WARNING: Superfluous whitespace found in object header b'282' b'0'\n",
      "2022-12-22 16:29:34 [PyPDF2._reader] WARNING: Superfluous whitespace found in object header b'283' b'0'\n",
      "2022-12-22 16:29:34 [PyPDF2._reader] WARNING: Superfluous whitespace found in object header b'284' b'0'\n",
      "2022-12-22 16:29:34 [PyPDF2._reader] WARNING: Superfluous whitespace found in object header b'285' b'0'\n",
      "2022-12-22 16:29:34 [PyPDF2._reader] WARNING: Superfluous whitespace found in object header b'286' b'0'\n",
      "2022-12-22 16:29:34 [PyPDF2._reader] WARNING: Superfluous whitespace found in object header b'287' b'0'\n",
      "2022-12-22 16:29:34 [PyPDF2._reader] WARNING: Superfluous whitespace found in object header b'288' b'0'\n",
      "2022-12-22 16:29:34 [PyPDF2._reader] WARNING: Superfluous whitespace found in object header b'289' b'0'\n",
      "2022-12-22 16:29:34 [PyPDF2._reader] WARNING: Superfluous whitespace found in object header b'290' b'0'\n",
      "2022-12-22 16:29:34 [PyPDF2._reader] WARNING: Superfluous whitespace found in object header b'291' b'0'\n",
      "2022-12-22 16:29:34 [PyPDF2._reader] WARNING: Superfluous whitespace found in object header b'292' b'0'\n",
      "2022-12-22 16:29:34 [PyPDF2._reader] WARNING: Superfluous whitespace found in object header b'293' b'0'\n",
      "2022-12-22 16:29:34 [PyPDF2._reader] WARNING: Superfluous whitespace found in object header b'294' b'0'\n",
      "2022-12-22 16:29:34 [PyPDF2._reader] WARNING: Superfluous whitespace found in object header b'345' b'0'\n",
      "2022-12-22 16:29:34 [PyPDF2._reader] WARNING: Superfluous whitespace found in object header b'344' b'0'\n",
      "2022-12-22 16:29:34 [PyPDF2._reader] WARNING: Superfluous whitespace found in object header b'298' b'0'\n",
      "2022-12-22 16:29:34 [PyPDF2._reader] WARNING: Superfluous whitespace found in object header b'299' b'0'\n",
      "2022-12-22 16:29:34 [PyPDF2._reader] WARNING: Superfluous whitespace found in object header b'300' b'0'\n",
      "2022-12-22 16:29:34 [PyPDF2._reader] WARNING: Superfluous whitespace found in object header b'301' b'0'\n",
      "2022-12-22 16:29:34 [PyPDF2._reader] WARNING: Superfluous whitespace found in object header b'302' b'0'\n",
      "2022-12-22 16:29:34 [PyPDF2._reader] WARNING: Superfluous whitespace found in object header b'303' b'0'\n",
      "2022-12-22 16:29:34 [PyPDF2._reader] WARNING: Superfluous whitespace found in object header b'304' b'0'\n",
      "2022-12-22 16:29:34 [PyPDF2._reader] WARNING: Superfluous whitespace found in object header b'305' b'0'\n",
      "2022-12-22 16:29:34 [PyPDF2._reader] WARNING: Superfluous whitespace found in object header b'306' b'0'\n",
      "2022-12-22 16:29:34 [PyPDF2._reader] WARNING: Superfluous whitespace found in object header b'307' b'0'\n",
      "2022-12-22 16:29:34 [PyPDF2._reader] WARNING: Superfluous whitespace found in object header b'308' b'0'\n",
      "2022-12-22 16:29:34 [PyPDF2._reader] WARNING: Superfluous whitespace found in object header b'309' b'0'\n",
      "2022-12-22 16:29:34 [PyPDF2._reader] WARNING: Superfluous whitespace found in object header b'310' b'0'\n",
      "2022-12-22 16:29:34 [PyPDF2._reader] WARNING: Superfluous whitespace found in object header b'311' b'0'\n",
      "2022-12-22 16:29:34 [PyPDF2._reader] WARNING: Superfluous whitespace found in object header b'312' b'0'\n",
      "2022-12-22 16:29:34 [PyPDF2._reader] WARNING: Superfluous whitespace found in object header b'313' b'0'\n"
     ]
    },
    {
     "name": "stderr",
     "output_type": "stream",
     "text": [
      "2022-12-22 16:29:34 [PyPDF2._reader] WARNING: Superfluous whitespace found in object header b'314' b'0'\n",
      "2022-12-22 16:29:34 [PyPDF2._reader] WARNING: Superfluous whitespace found in object header b'315' b'0'\n",
      "2022-12-22 16:29:34 [PyPDF2._reader] WARNING: Superfluous whitespace found in object header b'316' b'0'\n",
      "2022-12-22 16:29:34 [PyPDF2._reader] WARNING: Superfluous whitespace found in object header b'317' b'0'\n",
      "2022-12-22 16:29:34 [PyPDF2._reader] WARNING: Superfluous whitespace found in object header b'318' b'0'\n",
      "2022-12-22 16:29:34 [PyPDF2._reader] WARNING: Superfluous whitespace found in object header b'319' b'0'\n",
      "2022-12-22 16:29:34 [PyPDF2._reader] WARNING: Superfluous whitespace found in object header b'320' b'0'\n",
      "2022-12-22 16:29:34 [PyPDF2._reader] WARNING: Superfluous whitespace found in object header b'321' b'0'\n",
      "2022-12-22 16:29:34 [PyPDF2._reader] WARNING: Superfluous whitespace found in object header b'322' b'0'\n",
      "2022-12-22 16:29:34 [PyPDF2._reader] WARNING: Superfluous whitespace found in object header b'323' b'0'\n",
      "2022-12-22 16:29:34 [PyPDF2._reader] WARNING: Superfluous whitespace found in object header b'324' b'0'\n",
      "2022-12-22 16:29:34 [PyPDF2._reader] WARNING: Superfluous whitespace found in object header b'325' b'0'\n",
      "2022-12-22 16:29:34 [PyPDF2._reader] WARNING: Superfluous whitespace found in object header b'326' b'0'\n",
      "2022-12-22 16:29:34 [PyPDF2._reader] WARNING: Superfluous whitespace found in object header b'327' b'0'\n",
      "2022-12-22 16:29:34 [PyPDF2._reader] WARNING: Superfluous whitespace found in object header b'328' b'0'\n",
      "2022-12-22 16:29:34 [PyPDF2._reader] WARNING: Superfluous whitespace found in object header b'329' b'0'\n",
      "2022-12-22 16:29:34 [PyPDF2._reader] WARNING: Superfluous whitespace found in object header b'330' b'0'\n",
      "2022-12-22 16:29:34 [PyPDF2._reader] WARNING: Superfluous whitespace found in object header b'331' b'0'\n",
      "2022-12-22 16:29:34 [PyPDF2._reader] WARNING: Superfluous whitespace found in object header b'332' b'0'\n",
      "2022-12-22 16:29:34 [PyPDF2._reader] WARNING: Superfluous whitespace found in object header b'333' b'0'\n",
      "2022-12-22 16:29:34 [PyPDF2._reader] WARNING: Superfluous whitespace found in object header b'334' b'0'\n",
      "2022-12-22 16:29:34 [PyPDF2._reader] WARNING: Superfluous whitespace found in object header b'335' b'0'\n",
      "2022-12-22 16:29:34 [PyPDF2._reader] WARNING: Superfluous whitespace found in object header b'336' b'0'\n",
      "2022-12-22 16:29:34 [PyPDF2._reader] WARNING: Superfluous whitespace found in object header b'337' b'0'\n",
      "2022-12-22 16:29:34 [PyPDF2._reader] WARNING: Superfluous whitespace found in object header b'338' b'0'\n",
      "2022-12-22 16:29:34 [PyPDF2._reader] WARNING: Superfluous whitespace found in object header b'339' b'0'\n",
      "2022-12-22 16:29:34 [PyPDF2._reader] WARNING: Superfluous whitespace found in object header b'340' b'0'\n",
      "2022-12-22 16:29:34 [PyPDF2._reader] WARNING: Superfluous whitespace found in object header b'341' b'0'\n",
      "2022-12-22 16:29:34 [PyPDF2._reader] WARNING: Superfluous whitespace found in object header b'342' b'0'\n",
      "2022-12-22 16:29:34 [PyPDF2._reader] WARNING: Superfluous whitespace found in object header b'343' b'0'\n",
      "2022-12-22 16:29:34 [PyPDF2._reader] WARNING: Superfluous whitespace found in object header b'394' b'0'\n",
      "2022-12-22 16:29:34 [PyPDF2._reader] WARNING: Superfluous whitespace found in object header b'393' b'0'\n",
      "2022-12-22 16:29:34 [PyPDF2._reader] WARNING: Superfluous whitespace found in object header b'347' b'0'\n",
      "2022-12-22 16:29:34 [PyPDF2._reader] WARNING: Superfluous whitespace found in object header b'348' b'0'\n",
      "2022-12-22 16:29:34 [PyPDF2._reader] WARNING: Superfluous whitespace found in object header b'349' b'0'\n",
      "2022-12-22 16:29:34 [PyPDF2._reader] WARNING: Superfluous whitespace found in object header b'350' b'0'\n",
      "2022-12-22 16:29:34 [PyPDF2._reader] WARNING: Superfluous whitespace found in object header b'351' b'0'\n",
      "2022-12-22 16:29:34 [PyPDF2._reader] WARNING: Superfluous whitespace found in object header b'352' b'0'\n",
      "2022-12-22 16:29:34 [PyPDF2._reader] WARNING: Superfluous whitespace found in object header b'353' b'0'\n",
      "2022-12-22 16:29:34 [PyPDF2._reader] WARNING: Superfluous whitespace found in object header b'354' b'0'\n",
      "2022-12-22 16:29:34 [PyPDF2._reader] WARNING: Superfluous whitespace found in object header b'355' b'0'\n",
      "2022-12-22 16:29:34 [PyPDF2._reader] WARNING: Superfluous whitespace found in object header b'356' b'0'\n",
      "2022-12-22 16:29:34 [PyPDF2._reader] WARNING: Superfluous whitespace found in object header b'357' b'0'\n",
      "2022-12-22 16:29:34 [PyPDF2._reader] WARNING: Superfluous whitespace found in object header b'358' b'0'\n",
      "2022-12-22 16:29:34 [PyPDF2._reader] WARNING: Superfluous whitespace found in object header b'359' b'0'\n",
      "2022-12-22 16:29:34 [PyPDF2._reader] WARNING: Superfluous whitespace found in object header b'360' b'0'\n",
      "2022-12-22 16:29:34 [PyPDF2._reader] WARNING: Superfluous whitespace found in object header b'361' b'0'\n",
      "2022-12-22 16:29:34 [PyPDF2._reader] WARNING: Superfluous whitespace found in object header b'362' b'0'\n",
      "2022-12-22 16:29:34 [PyPDF2._reader] WARNING: Superfluous whitespace found in object header b'363' b'0'\n",
      "2022-12-22 16:29:34 [PyPDF2._reader] WARNING: Superfluous whitespace found in object header b'364' b'0'\n",
      "2022-12-22 16:29:34 [PyPDF2._reader] WARNING: Superfluous whitespace found in object header b'365' b'0'\n",
      "2022-12-22 16:29:34 [PyPDF2._reader] WARNING: Superfluous whitespace found in object header b'366' b'0'\n",
      "2022-12-22 16:29:34 [PyPDF2._reader] WARNING: Superfluous whitespace found in object header b'367' b'0'\n",
      "2022-12-22 16:29:34 [PyPDF2._reader] WARNING: Superfluous whitespace found in object header b'368' b'0'\n",
      "2022-12-22 16:29:34 [PyPDF2._reader] WARNING: Superfluous whitespace found in object header b'369' b'0'\n",
      "2022-12-22 16:29:34 [PyPDF2._reader] WARNING: Superfluous whitespace found in object header b'370' b'0'\n",
      "2022-12-22 16:29:34 [PyPDF2._reader] WARNING: Superfluous whitespace found in object header b'371' b'0'\n",
      "2022-12-22 16:29:34 [PyPDF2._reader] WARNING: Superfluous whitespace found in object header b'372' b'0'\n",
      "2022-12-22 16:29:34 [PyPDF2._reader] WARNING: Superfluous whitespace found in object header b'373' b'0'\n",
      "2022-12-22 16:29:34 [PyPDF2._reader] WARNING: Superfluous whitespace found in object header b'374' b'0'\n",
      "2022-12-22 16:29:34 [PyPDF2._reader] WARNING: Superfluous whitespace found in object header b'375' b'0'\n",
      "2022-12-22 16:29:34 [PyPDF2._reader] WARNING: Superfluous whitespace found in object header b'376' b'0'\n",
      "2022-12-22 16:29:34 [PyPDF2._reader] WARNING: Superfluous whitespace found in object header b'377' b'0'\n",
      "2022-12-22 16:29:34 [PyPDF2._reader] WARNING: Superfluous whitespace found in object header b'378' b'0'\n",
      "2022-12-22 16:29:34 [PyPDF2._reader] WARNING: Superfluous whitespace found in object header b'379' b'0'\n",
      "2022-12-22 16:29:34 [PyPDF2._reader] WARNING: Superfluous whitespace found in object header b'380' b'0'\n",
      "2022-12-22 16:29:34 [PyPDF2._reader] WARNING: Superfluous whitespace found in object header b'381' b'0'\n",
      "2022-12-22 16:29:34 [PyPDF2._reader] WARNING: Superfluous whitespace found in object header b'382' b'0'\n",
      "2022-12-22 16:29:34 [PyPDF2._reader] WARNING: Superfluous whitespace found in object header b'383' b'0'\n",
      "2022-12-22 16:29:34 [PyPDF2._reader] WARNING: Superfluous whitespace found in object header b'384' b'0'\n",
      "2022-12-22 16:29:34 [PyPDF2._reader] WARNING: Superfluous whitespace found in object header b'385' b'0'\n",
      "2022-12-22 16:29:34 [PyPDF2._reader] WARNING: Superfluous whitespace found in object header b'386' b'0'\n",
      "2022-12-22 16:29:34 [PyPDF2._reader] WARNING: Superfluous whitespace found in object header b'387' b'0'\n",
      "2022-12-22 16:29:34 [PyPDF2._reader] WARNING: Superfluous whitespace found in object header b'388' b'0'\n",
      "2022-12-22 16:29:34 [PyPDF2._reader] WARNING: Superfluous whitespace found in object header b'389' b'0'\n",
      "2022-12-22 16:29:34 [PyPDF2._reader] WARNING: Superfluous whitespace found in object header b'390' b'0'\n",
      "2022-12-22 16:29:34 [PyPDF2._reader] WARNING: Superfluous whitespace found in object header b'391' b'0'\n",
      "2022-12-22 16:29:34 [PyPDF2._reader] WARNING: Superfluous whitespace found in object header b'392' b'0'\n",
      "2022-12-22 16:29:34 [root] INFO: Parse auction.... https://sale.uslugi.io/sidp/3670\n"
     ]
    },
    {
     "name": "stdout",
     "output_type": "stream",
     "text": [
      "Parse auction.... https://sale.uslugi.io/sidp/3670\n"
     ]
    },
    {
     "name": "stderr",
     "output_type": "stream",
     "text": [
      "2022-12-22 16:29:35 [root] INFO: Parse auction.... https://sale.uslugi.io/sidp/3660\n"
     ]
    },
    {
     "name": "stdout",
     "output_type": "stream",
     "text": [
      "Parse auction.... https://sale.uslugi.io/sidp/3660\n"
     ]
    },
    {
     "name": "stderr",
     "output_type": "stream",
     "text": [
      "2022-12-22 16:29:36 [root] INFO: Parse auction.... https://sale.uslugi.io/sidp/3672\n"
     ]
    },
    {
     "name": "stdout",
     "output_type": "stream",
     "text": [
      "Parse auction.... https://sale.uslugi.io/sidp/3672\n"
     ]
    },
    {
     "name": "stderr",
     "output_type": "stream",
     "text": [
      "2022-12-22 16:29:37 [root] INFO: Parse auction.... https://sale.uslugi.io/sidp/3676\n"
     ]
    },
    {
     "name": "stdout",
     "output_type": "stream",
     "text": [
      "Parse auction.... https://sale.uslugi.io/sidp/3676\n"
     ]
    },
    {
     "name": "stderr",
     "output_type": "stream",
     "text": [
      "2022-12-22 16:29:38 [root] INFO: Parse auction.... https://sale.uslugi.io/sidp/3677\n"
     ]
    },
    {
     "name": "stdout",
     "output_type": "stream",
     "text": [
      "Parse auction.... https://sale.uslugi.io/sidp/3677\n"
     ]
    },
    {
     "name": "stderr",
     "output_type": "stream",
     "text": [
      "2022-12-22 16:29:39 [root] INFO: Parse auction.... https://sale.uslugi.io/sidp/3679\n"
     ]
    },
    {
     "name": "stdout",
     "output_type": "stream",
     "text": [
      "Parse auction.... https://sale.uslugi.io/sidp/3679\n"
     ]
    },
    {
     "name": "stderr",
     "output_type": "stream",
     "text": [
      "2022-12-22 16:29:40 [root] INFO: Parse auction.... https://sale.uslugi.io/sidp/3680\n"
     ]
    },
    {
     "name": "stdout",
     "output_type": "stream",
     "text": [
      "Parse auction.... https://sale.uslugi.io/sidp/3680\n"
     ]
    },
    {
     "name": "stderr",
     "output_type": "stream",
     "text": [
      "2022-12-22 16:29:41 [root] INFO: Parse auction.... https://sale.uslugi.io/sidp/3681\n"
     ]
    },
    {
     "name": "stdout",
     "output_type": "stream",
     "text": [
      "Parse auction.... https://sale.uslugi.io/sidp/3681\n"
     ]
    },
    {
     "name": "stderr",
     "output_type": "stream",
     "text": [
      "2022-12-22 16:29:41 [root] INFO: Parse auction.... https://sale.uslugi.io/sidp/3682\n"
     ]
    },
    {
     "name": "stdout",
     "output_type": "stream",
     "text": [
      "Parse auction.... https://sale.uslugi.io/sidp/3682\n"
     ]
    },
    {
     "name": "stderr",
     "output_type": "stream",
     "text": [
      "2022-12-22 16:29:42 [root] INFO: Parse auction.... https://sale.uslugi.io/sidp/3683\n"
     ]
    },
    {
     "name": "stdout",
     "output_type": "stream",
     "text": [
      "Parse auction.... https://sale.uslugi.io/sidp/3683\n"
     ]
    },
    {
     "name": "stderr",
     "output_type": "stream",
     "text": [
      "2022-12-22 16:29:43 [root] INFO: Parse auction.... https://sale.uslugi.io/sidp/3710\n"
     ]
    },
    {
     "name": "stdout",
     "output_type": "stream",
     "text": [
      "Parse auction.... https://sale.uslugi.io/sidp/3710\n"
     ]
    },
    {
     "name": "stderr",
     "output_type": "stream",
     "text": [
      "2022-12-22 16:29:44 [root] INFO: Parse auction.... https://sale.uslugi.io/sidp/3711\n"
     ]
    },
    {
     "name": "stdout",
     "output_type": "stream",
     "text": [
      "Parse auction.... https://sale.uslugi.io/sidp/3711\n"
     ]
    },
    {
     "name": "stderr",
     "output_type": "stream",
     "text": [
      "2022-12-22 16:29:45 [root] INFO: Parse auction.... https://sale.uslugi.io/sidp/3715\n"
     ]
    },
    {
     "name": "stdout",
     "output_type": "stream",
     "text": [
      "Parse auction.... https://sale.uslugi.io/sidp/3715\n"
     ]
    },
    {
     "name": "stderr",
     "output_type": "stream",
     "text": [
      "2022-12-22 16:29:46 [root] INFO: Parse auction.... https://sale.uslugi.io/sidp/3713\n"
     ]
    },
    {
     "name": "stdout",
     "output_type": "stream",
     "text": [
      "Parse auction.... https://sale.uslugi.io/sidp/3713\n"
     ]
    },
    {
     "name": "stderr",
     "output_type": "stream",
     "text": [
      "2022-12-22 16:29:46 [root] INFO: Parse auction.... https://sale.uslugi.io/sidp/3716\n"
     ]
    },
    {
     "name": "stdout",
     "output_type": "stream",
     "text": [
      "Parse auction.... https://sale.uslugi.io/sidp/3716\n"
     ]
    },
    {
     "name": "stderr",
     "output_type": "stream",
     "text": [
      "2022-12-22 16:29:47 [root] INFO: Parse auction.... https://sale.uslugi.io/sidp/3823\n"
     ]
    },
    {
     "name": "stdout",
     "output_type": "stream",
     "text": [
      "Parse auction.... https://sale.uslugi.io/sidp/3823\n"
     ]
    },
    {
     "name": "stderr",
     "output_type": "stream",
     "text": [
      "2022-12-22 16:29:48 [root] INFO: Parse auction.... https://sale.uslugi.io/sidp/3720\n"
     ]
    },
    {
     "name": "stdout",
     "output_type": "stream",
     "text": [
      "Parse auction.... https://sale.uslugi.io/sidp/3720\n"
     ]
    },
    {
     "name": "stderr",
     "output_type": "stream",
     "text": [
      "2022-12-22 16:29:49 [root] INFO: Parse auction.... https://sale.uslugi.io/sidp/3717\n",
      "2022-12-22 16:29:49 [root] INFO: Parse auction.... https://sale.uslugi.io/sidp/3712\n"
     ]
    },
    {
     "name": "stdout",
     "output_type": "stream",
     "text": [
      "Parse auction.... https://sale.uslugi.io/sidp/3717\n",
      "Parse auction.... https://sale.uslugi.io/sidp/3712\n"
     ]
    },
    {
     "name": "stderr",
     "output_type": "stream",
     "text": [
      "2022-12-22 16:29:50 [root] INFO: Parse auction.... https://sale.uslugi.io/sidp/3714\n"
     ]
    },
    {
     "name": "stdout",
     "output_type": "stream",
     "text": [
      "Parse auction.... https://sale.uslugi.io/sidp/3714\n"
     ]
    },
    {
     "name": "stderr",
     "output_type": "stream",
     "text": [
      "2022-12-22 16:29:51 [root] INFO: Parse auction.... https://sale.uslugi.io/sidp/3719\n"
     ]
    },
    {
     "name": "stdout",
     "output_type": "stream",
     "text": [
      "Parse auction.... https://sale.uslugi.io/sidp/3719\n"
     ]
    },
    {
     "name": "stderr",
     "output_type": "stream",
     "text": [
      "2022-12-22 16:29:51 [root] INFO: Parse auction.... https://sale.uslugi.io/sidp/3722\n"
     ]
    },
    {
     "name": "stdout",
     "output_type": "stream",
     "text": [
      "Parse auction.... https://sale.uslugi.io/sidp/3722\n"
     ]
    },
    {
     "name": "stderr",
     "output_type": "stream",
     "text": [
      "2022-12-22 16:29:52 [root] INFO: Parse auction.... https://sale.uslugi.io/sidp/3718\n"
     ]
    },
    {
     "name": "stdout",
     "output_type": "stream",
     "text": [
      "Parse auction.... https://sale.uslugi.io/sidp/3718\n"
     ]
    },
    {
     "name": "stderr",
     "output_type": "stream",
     "text": [
      "2022-12-22 16:29:53 [root] INFO: Parse auction.... https://sale.uslugi.io/sidp/3723\n"
     ]
    },
    {
     "name": "stdout",
     "output_type": "stream",
     "text": [
      "Parse auction.... https://sale.uslugi.io/sidp/3723\n"
     ]
    },
    {
     "name": "stderr",
     "output_type": "stream",
     "text": [
      "2022-12-22 16:29:54 [root] INFO: Parse auction.... https://sale.uslugi.io/sidp/3734\n"
     ]
    },
    {
     "name": "stdout",
     "output_type": "stream",
     "text": [
      "Parse auction.... https://sale.uslugi.io/sidp/3734\n"
     ]
    },
    {
     "name": "stderr",
     "output_type": "stream",
     "text": [
      "2022-12-22 16:29:54 [root] INFO: Parse auction.... https://sale.uslugi.io/sidp/3725\n"
     ]
    },
    {
     "name": "stdout",
     "output_type": "stream",
     "text": [
      "Parse auction.... https://sale.uslugi.io/sidp/3725\n"
     ]
    },
    {
     "name": "stderr",
     "output_type": "stream",
     "text": [
      "2022-12-22 16:29:55 [root] INFO: Parse auction.... https://sale.uslugi.io/sidp/3724\n"
     ]
    },
    {
     "name": "stdout",
     "output_type": "stream",
     "text": [
      "Parse auction.... https://sale.uslugi.io/sidp/3724\n"
     ]
    },
    {
     "name": "stderr",
     "output_type": "stream",
     "text": [
      "2022-12-22 16:29:56 [root] INFO: Parse auction.... https://sale.uslugi.io/sidp/3770\n"
     ]
    },
    {
     "name": "stdout",
     "output_type": "stream",
     "text": [
      "Parse auction.... https://sale.uslugi.io/sidp/3770\n"
     ]
    },
    {
     "name": "stderr",
     "output_type": "stream",
     "text": [
      "2022-12-22 16:29:56 [PyPDF2._reader] WARNING: Superfluous whitespace found in object header b'1' b'0'\n",
      "2022-12-22 16:29:56 [PyPDF2._reader] WARNING: Superfluous whitespace found in object header b'2' b'0'\n",
      "2022-12-22 16:29:56 [PyPDF2._reader] WARNING: Superfluous whitespace found in object header b'3' b'0'\n",
      "2022-12-22 16:29:56 [PyPDF2._reader] WARNING: Superfluous whitespace found in object header b'71' b'0'\n",
      "2022-12-22 16:29:56 [PyPDF2._reader] WARNING: Superfluous whitespace found in object header b'131' b'0'\n",
      "2022-12-22 16:29:56 [PyPDF2._reader] WARNING: Superfluous whitespace found in object header b'70' b'0'\n",
      "2022-12-22 16:29:56 [PyPDF2._reader] WARNING: Superfluous whitespace found in object header b'69' b'0'\n",
      "2022-12-22 16:29:56 [PyPDF2._reader] WARNING: Superfluous whitespace found in object header b'4' b'0'\n",
      "2022-12-22 16:29:56 [PyPDF2._reader] WARNING: Superfluous whitespace found in object header b'5' b'0'\n",
      "2022-12-22 16:29:56 [PyPDF2._reader] WARNING: Superfluous whitespace found in object header b'6' b'0'\n",
      "2022-12-22 16:29:56 [PyPDF2._reader] WARNING: Superfluous whitespace found in object header b'7' b'0'\n",
      "2022-12-22 16:29:56 [PyPDF2._reader] WARNING: Superfluous whitespace found in object header b'8' b'0'\n",
      "2022-12-22 16:29:56 [PyPDF2._reader] WARNING: Superfluous whitespace found in object header b'9' b'0'\n",
      "2022-12-22 16:29:56 [PyPDF2._reader] WARNING: Superfluous whitespace found in object header b'10' b'0'\n",
      "2022-12-22 16:29:56 [PyPDF2._reader] WARNING: Superfluous whitespace found in object header b'11' b'0'\n",
      "2022-12-22 16:29:56 [PyPDF2._reader] WARNING: Superfluous whitespace found in object header b'12' b'0'\n",
      "2022-12-22 16:29:56 [PyPDF2._reader] WARNING: Superfluous whitespace found in object header b'13' b'0'\n",
      "2022-12-22 16:29:56 [PyPDF2._reader] WARNING: Superfluous whitespace found in object header b'14' b'0'\n",
      "2022-12-22 16:29:56 [PyPDF2._reader] WARNING: Superfluous whitespace found in object header b'15' b'0'\n",
      "2022-12-22 16:29:56 [PyPDF2._reader] WARNING: Superfluous whitespace found in object header b'16' b'0'\n",
      "2022-12-22 16:29:56 [PyPDF2._reader] WARNING: Superfluous whitespace found in object header b'17' b'0'\n",
      "2022-12-22 16:29:56 [PyPDF2._reader] WARNING: Superfluous whitespace found in object header b'18' b'0'\n",
      "2022-12-22 16:29:56 [PyPDF2._reader] WARNING: Superfluous whitespace found in object header b'19' b'0'\n",
      "2022-12-22 16:29:56 [PyPDF2._reader] WARNING: Superfluous whitespace found in object header b'20' b'0'\n",
      "2022-12-22 16:29:56 [PyPDF2._reader] WARNING: Superfluous whitespace found in object header b'21' b'0'\n",
      "2022-12-22 16:29:56 [PyPDF2._reader] WARNING: Superfluous whitespace found in object header b'22' b'0'\n",
      "2022-12-22 16:29:56 [PyPDF2._reader] WARNING: Superfluous whitespace found in object header b'23' b'0'\n",
      "2022-12-22 16:29:56 [PyPDF2._reader] WARNING: Superfluous whitespace found in object header b'24' b'0'\n",
      "2022-12-22 16:29:56 [PyPDF2._reader] WARNING: Superfluous whitespace found in object header b'25' b'0'\n",
      "2022-12-22 16:29:56 [PyPDF2._reader] WARNING: Superfluous whitespace found in object header b'26' b'0'\n",
      "2022-12-22 16:29:56 [PyPDF2._reader] WARNING: Superfluous whitespace found in object header b'27' b'0'\n",
      "2022-12-22 16:29:56 [PyPDF2._reader] WARNING: Superfluous whitespace found in object header b'28' b'0'\n",
      "2022-12-22 16:29:56 [PyPDF2._reader] WARNING: Superfluous whitespace found in object header b'30' b'0'\n",
      "2022-12-22 16:29:56 [PyPDF2._reader] WARNING: Superfluous whitespace found in object header b'32' b'0'\n",
      "2022-12-22 16:29:56 [PyPDF2._reader] WARNING: Superfluous whitespace found in object header b'34' b'0'\n",
      "2022-12-22 16:29:56 [PyPDF2._reader] WARNING: Superfluous whitespace found in object header b'36' b'0'\n",
      "2022-12-22 16:29:56 [PyPDF2._reader] WARNING: Superfluous whitespace found in object header b'38' b'0'\n",
      "2022-12-22 16:29:56 [PyPDF2._reader] WARNING: Superfluous whitespace found in object header b'40' b'0'\n",
      "2022-12-22 16:29:56 [PyPDF2._reader] WARNING: Superfluous whitespace found in object header b'42' b'0'\n",
      "2022-12-22 16:29:56 [PyPDF2._reader] WARNING: Superfluous whitespace found in object header b'44' b'0'\n",
      "2022-12-22 16:29:56 [PyPDF2._reader] WARNING: Superfluous whitespace found in object header b'46' b'0'\n",
      "2022-12-22 16:29:56 [PyPDF2._reader] WARNING: Superfluous whitespace found in object header b'48' b'0'\n",
      "2022-12-22 16:29:56 [PyPDF2._reader] WARNING: Superfluous whitespace found in object header b'50' b'0'\n",
      "2022-12-22 16:29:56 [PyPDF2._reader] WARNING: Superfluous whitespace found in object header b'52' b'0'\n",
      "2022-12-22 16:29:56 [PyPDF2._reader] WARNING: Superfluous whitespace found in object header b'54' b'0'\n",
      "2022-12-22 16:29:56 [PyPDF2._reader] WARNING: Superfluous whitespace found in object header b'56' b'0'\n",
      "2022-12-22 16:29:56 [PyPDF2._reader] WARNING: Superfluous whitespace found in object header b'58' b'0'\n",
      "2022-12-22 16:29:56 [PyPDF2._reader] WARNING: Superfluous whitespace found in object header b'60' b'0'\n",
      "2022-12-22 16:29:56 [PyPDF2._reader] WARNING: Superfluous whitespace found in object header b'62' b'0'\n",
      "2022-12-22 16:29:56 [PyPDF2._reader] WARNING: Superfluous whitespace found in object header b'64' b'0'\n",
      "2022-12-22 16:29:56 [PyPDF2._reader] WARNING: Superfluous whitespace found in object header b'66' b'0'\n",
      "2022-12-22 16:29:56 [PyPDF2._reader] WARNING: Superfluous whitespace found in object header b'68' b'0'\n",
      "2022-12-22 16:29:56 [PyPDF2._reader] WARNING: Superfluous whitespace found in object header b'130' b'0'\n",
      "2022-12-22 16:29:56 [PyPDF2._reader] WARNING: Superfluous whitespace found in object header b'129' b'0'\n",
      "2022-12-22 16:29:56 [PyPDF2._reader] WARNING: Superfluous whitespace found in object header b'72' b'0'\n",
      "2022-12-22 16:29:56 [PyPDF2._reader] WARNING: Superfluous whitespace found in object header b'73' b'0'\n",
      "2022-12-22 16:29:56 [PyPDF2._reader] WARNING: Superfluous whitespace found in object header b'74' b'0'\n",
      "2022-12-22 16:29:56 [PyPDF2._reader] WARNING: Superfluous whitespace found in object header b'75' b'0'\n",
      "2022-12-22 16:29:56 [PyPDF2._reader] WARNING: Superfluous whitespace found in object header b'76' b'0'\n",
      "2022-12-22 16:29:56 [PyPDF2._reader] WARNING: Superfluous whitespace found in object header b'77' b'0'\n",
      "2022-12-22 16:29:56 [PyPDF2._reader] WARNING: Superfluous whitespace found in object header b'78' b'0'\n",
      "2022-12-22 16:29:56 [PyPDF2._reader] WARNING: Superfluous whitespace found in object header b'79' b'0'\n",
      "2022-12-22 16:29:56 [PyPDF2._reader] WARNING: Superfluous whitespace found in object header b'80' b'0'\n",
      "2022-12-22 16:29:56 [PyPDF2._reader] WARNING: Superfluous whitespace found in object header b'81' b'0'\n",
      "2022-12-22 16:29:56 [PyPDF2._reader] WARNING: Superfluous whitespace found in object header b'82' b'0'\n",
      "2022-12-22 16:29:56 [PyPDF2._reader] WARNING: Superfluous whitespace found in object header b'83' b'0'\n",
      "2022-12-22 16:29:56 [PyPDF2._reader] WARNING: Superfluous whitespace found in object header b'84' b'0'\n",
      "2022-12-22 16:29:56 [PyPDF2._reader] WARNING: Superfluous whitespace found in object header b'85' b'0'\n",
      "2022-12-22 16:29:56 [PyPDF2._reader] WARNING: Superfluous whitespace found in object header b'86' b'0'\n",
      "2022-12-22 16:29:56 [PyPDF2._reader] WARNING: Superfluous whitespace found in object header b'87' b'0'\n",
      "2022-12-22 16:29:56 [PyPDF2._reader] WARNING: Superfluous whitespace found in object header b'88' b'0'\n",
      "2022-12-22 16:29:56 [PyPDF2._reader] WARNING: Superfluous whitespace found in object header b'89' b'0'\n",
      "2022-12-22 16:29:56 [PyPDF2._reader] WARNING: Superfluous whitespace found in object header b'90' b'0'\n",
      "2022-12-22 16:29:56 [PyPDF2._reader] WARNING: Superfluous whitespace found in object header b'91' b'0'\n",
      "2022-12-22 16:29:56 [PyPDF2._reader] WARNING: Superfluous whitespace found in object header b'92' b'0'\n",
      "2022-12-22 16:29:56 [PyPDF2._reader] WARNING: Superfluous whitespace found in object header b'93' b'0'\n",
      "2022-12-22 16:29:56 [PyPDF2._reader] WARNING: Superfluous whitespace found in object header b'94' b'0'\n",
      "2022-12-22 16:29:56 [PyPDF2._reader] WARNING: Superfluous whitespace found in object header b'96' b'0'\n",
      "2022-12-22 16:29:56 [PyPDF2._reader] WARNING: Superfluous whitespace found in object header b'98' b'0'\n",
      "2022-12-22 16:29:56 [PyPDF2._reader] WARNING: Superfluous whitespace found in object header b'100' b'0'\n"
     ]
    },
    {
     "name": "stderr",
     "output_type": "stream",
     "text": [
      "2022-12-22 16:29:56 [PyPDF2._reader] WARNING: Superfluous whitespace found in object header b'102' b'0'\n",
      "2022-12-22 16:29:56 [PyPDF2._reader] WARNING: Superfluous whitespace found in object header b'104' b'0'\n",
      "2022-12-22 16:29:56 [PyPDF2._reader] WARNING: Superfluous whitespace found in object header b'106' b'0'\n",
      "2022-12-22 16:29:56 [PyPDF2._reader] WARNING: Superfluous whitespace found in object header b'108' b'0'\n",
      "2022-12-22 16:29:56 [PyPDF2._reader] WARNING: Superfluous whitespace found in object header b'110' b'0'\n",
      "2022-12-22 16:29:56 [PyPDF2._reader] WARNING: Superfluous whitespace found in object header b'112' b'0'\n",
      "2022-12-22 16:29:56 [PyPDF2._reader] WARNING: Superfluous whitespace found in object header b'114' b'0'\n",
      "2022-12-22 16:29:56 [PyPDF2._reader] WARNING: Superfluous whitespace found in object header b'116' b'0'\n",
      "2022-12-22 16:29:56 [PyPDF2._reader] WARNING: Superfluous whitespace found in object header b'118' b'0'\n",
      "2022-12-22 16:29:56 [PyPDF2._reader] WARNING: Superfluous whitespace found in object header b'120' b'0'\n",
      "2022-12-22 16:29:56 [PyPDF2._reader] WARNING: Superfluous whitespace found in object header b'122' b'0'\n",
      "2022-12-22 16:29:56 [PyPDF2._reader] WARNING: Superfluous whitespace found in object header b'124' b'0'\n",
      "2022-12-22 16:29:56 [PyPDF2._reader] WARNING: Superfluous whitespace found in object header b'126' b'0'\n",
      "2022-12-22 16:29:56 [PyPDF2._reader] WARNING: Superfluous whitespace found in object header b'128' b'0'\n",
      "2022-12-22 16:29:56 [PyPDF2._reader] WARNING: Superfluous whitespace found in object header b'177' b'0'\n",
      "2022-12-22 16:29:56 [PyPDF2._reader] WARNING: Superfluous whitespace found in object header b'176' b'0'\n",
      "2022-12-22 16:29:56 [PyPDF2._reader] WARNING: Superfluous whitespace found in object header b'132' b'0'\n",
      "2022-12-22 16:29:56 [PyPDF2._reader] WARNING: Superfluous whitespace found in object header b'133' b'0'\n",
      "2022-12-22 16:29:56 [PyPDF2._reader] WARNING: Superfluous whitespace found in object header b'134' b'0'\n",
      "2022-12-22 16:29:56 [PyPDF2._reader] WARNING: Superfluous whitespace found in object header b'135' b'0'\n",
      "2022-12-22 16:29:56 [PyPDF2._reader] WARNING: Superfluous whitespace found in object header b'136' b'0'\n",
      "2022-12-22 16:29:56 [PyPDF2._reader] WARNING: Superfluous whitespace found in object header b'137' b'0'\n",
      "2022-12-22 16:29:56 [PyPDF2._reader] WARNING: Superfluous whitespace found in object header b'138' b'0'\n",
      "2022-12-22 16:29:56 [PyPDF2._reader] WARNING: Superfluous whitespace found in object header b'139' b'0'\n",
      "2022-12-22 16:29:56 [PyPDF2._reader] WARNING: Superfluous whitespace found in object header b'140' b'0'\n",
      "2022-12-22 16:29:56 [PyPDF2._reader] WARNING: Superfluous whitespace found in object header b'141' b'0'\n",
      "2022-12-22 16:29:56 [PyPDF2._reader] WARNING: Superfluous whitespace found in object header b'142' b'0'\n",
      "2022-12-22 16:29:56 [PyPDF2._reader] WARNING: Superfluous whitespace found in object header b'143' b'0'\n",
      "2022-12-22 16:29:56 [PyPDF2._reader] WARNING: Superfluous whitespace found in object header b'144' b'0'\n",
      "2022-12-22 16:29:56 [PyPDF2._reader] WARNING: Superfluous whitespace found in object header b'145' b'0'\n",
      "2022-12-22 16:29:56 [PyPDF2._reader] WARNING: Superfluous whitespace found in object header b'146' b'0'\n",
      "2022-12-22 16:29:56 [PyPDF2._reader] WARNING: Superfluous whitespace found in object header b'147' b'0'\n",
      "2022-12-22 16:29:56 [PyPDF2._reader] WARNING: Superfluous whitespace found in object header b'148' b'0'\n",
      "2022-12-22 16:29:56 [PyPDF2._reader] WARNING: Superfluous whitespace found in object header b'149' b'0'\n",
      "2022-12-22 16:29:56 [PyPDF2._reader] WARNING: Superfluous whitespace found in object header b'150' b'0'\n",
      "2022-12-22 16:29:56 [PyPDF2._reader] WARNING: Superfluous whitespace found in object header b'151' b'0'\n",
      "2022-12-22 16:29:56 [PyPDF2._reader] WARNING: Superfluous whitespace found in object header b'152' b'0'\n",
      "2022-12-22 16:29:56 [PyPDF2._reader] WARNING: Superfluous whitespace found in object header b'153' b'0'\n",
      "2022-12-22 16:29:56 [PyPDF2._reader] WARNING: Superfluous whitespace found in object header b'155' b'0'\n",
      "2022-12-22 16:29:56 [PyPDF2._reader] WARNING: Superfluous whitespace found in object header b'157' b'0'\n",
      "2022-12-22 16:29:56 [PyPDF2._reader] WARNING: Superfluous whitespace found in object header b'159' b'0'\n",
      "2022-12-22 16:29:56 [PyPDF2._reader] WARNING: Superfluous whitespace found in object header b'161' b'0'\n",
      "2022-12-22 16:29:56 [PyPDF2._reader] WARNING: Superfluous whitespace found in object header b'163' b'0'\n",
      "2022-12-22 16:29:56 [PyPDF2._reader] WARNING: Superfluous whitespace found in object header b'165' b'0'\n",
      "2022-12-22 16:29:56 [PyPDF2._reader] WARNING: Superfluous whitespace found in object header b'167' b'0'\n",
      "2022-12-22 16:29:56 [PyPDF2._reader] WARNING: Superfluous whitespace found in object header b'169' b'0'\n",
      "2022-12-22 16:29:56 [PyPDF2._reader] WARNING: Superfluous whitespace found in object header b'171' b'0'\n",
      "2022-12-22 16:29:56 [PyPDF2._reader] WARNING: Superfluous whitespace found in object header b'173' b'0'\n",
      "2022-12-22 16:29:56 [PyPDF2._reader] WARNING: Superfluous whitespace found in object header b'175' b'0'\n",
      "2022-12-22 16:29:56 [root] INFO: Parse auction.... https://sale.uslugi.io/sidp/3791\n"
     ]
    },
    {
     "name": "stdout",
     "output_type": "stream",
     "text": [
      "Parse auction.... https://sale.uslugi.io/sidp/3791\n"
     ]
    },
    {
     "name": "stderr",
     "output_type": "stream",
     "text": [
      "2022-12-22 16:29:57 [root] INFO: Parse auction.... https://sale.uslugi.io/sidp/3736\n",
      "2022-12-22 16:29:57 [root] INFO: Parse auction.... https://sale.uslugi.io/sidp/3735\n",
      "2022-12-22 16:29:57 [root] INFO: Parse auction.... https://sale.uslugi.io/sidp/3795\n"
     ]
    },
    {
     "name": "stdout",
     "output_type": "stream",
     "text": [
      "Parse auction.... https://sale.uslugi.io/sidp/3736\n",
      "Parse auction.... https://sale.uslugi.io/sidp/3735\n",
      "Parse auction.... https://sale.uslugi.io/sidp/3795\n"
     ]
    },
    {
     "name": "stderr",
     "output_type": "stream",
     "text": [
      "2022-12-22 16:29:58 [root] INFO: Parse auction.... https://sale.uslugi.io/sidp/3721\n"
     ]
    },
    {
     "name": "stdout",
     "output_type": "stream",
     "text": [
      "Parse auction.... https://sale.uslugi.io/sidp/3721\n"
     ]
    },
    {
     "name": "stderr",
     "output_type": "stream",
     "text": [
      "2022-12-22 16:29:59 [root] INFO: Parse auction.... https://sale.uslugi.io/sidp/3814\n"
     ]
    },
    {
     "name": "stdout",
     "output_type": "stream",
     "text": [
      "Parse auction.... https://sale.uslugi.io/sidp/3814\n"
     ]
    },
    {
     "name": "stderr",
     "output_type": "stream",
     "text": [
      "2022-12-22 16:30:00 [root] INFO: Parse auction.... https://sale.uslugi.io/sidp/3792\n"
     ]
    },
    {
     "name": "stdout",
     "output_type": "stream",
     "text": [
      "Parse auction.... https://sale.uslugi.io/sidp/3792\n"
     ]
    },
    {
     "name": "stderr",
     "output_type": "stream",
     "text": [
      "2022-12-22 16:30:01 [root] INFO: Parse auction.... https://sale.uslugi.io/sidp/3794\n"
     ]
    },
    {
     "name": "stdout",
     "output_type": "stream",
     "text": [
      "Parse auction.... https://sale.uslugi.io/sidp/3794\n"
     ]
    },
    {
     "name": "stderr",
     "output_type": "stream",
     "text": [
      "2022-12-22 16:30:02 [root] INFO: Parse auction.... https://sale.uslugi.io/sidp/3813\n"
     ]
    },
    {
     "name": "stdout",
     "output_type": "stream",
     "text": [
      "Parse auction.... https://sale.uslugi.io/sidp/3813\n"
     ]
    },
    {
     "name": "stderr",
     "output_type": "stream",
     "text": [
      "2022-12-22 16:30:04 [root] INFO: Parse auction.... https://sale.uslugi.io/sidp/3793\n"
     ]
    },
    {
     "name": "stdout",
     "output_type": "stream",
     "text": [
      "Parse auction.... https://sale.uslugi.io/sidp/3793\n"
     ]
    },
    {
     "name": "stderr",
     "output_type": "stream",
     "text": [
      "2022-12-22 16:30:04 [root] INFO: Parse auction.... https://sale.uslugi.io/sidp/3815\n"
     ]
    },
    {
     "name": "stdout",
     "output_type": "stream",
     "text": [
      "Parse auction.... https://sale.uslugi.io/sidp/3815\n"
     ]
    },
    {
     "name": "stderr",
     "output_type": "stream",
     "text": [
      "2022-12-22 16:30:05 [root] INFO: Parse auction.... https://sale.uslugi.io/sidp/3816\n"
     ]
    },
    {
     "name": "stdout",
     "output_type": "stream",
     "text": [
      "Parse auction.... https://sale.uslugi.io/sidp/3816\n"
     ]
    },
    {
     "name": "stderr",
     "output_type": "stream",
     "text": [
      "2022-12-22 16:30:08 [root] INFO: Parse auction.... https://sale.uslugi.io/sidp/3817\n"
     ]
    },
    {
     "name": "stdout",
     "output_type": "stream",
     "text": [
      "Parse auction.... https://sale.uslugi.io/sidp/3817\n"
     ]
    },
    {
     "name": "stderr",
     "output_type": "stream",
     "text": [
      "2022-12-22 16:30:08 [root] INFO: Parse auction.... https://sale.uslugi.io/sidp/3818\n"
     ]
    },
    {
     "name": "stdout",
     "output_type": "stream",
     "text": [
      "Parse auction.... https://sale.uslugi.io/sidp/3818\n"
     ]
    },
    {
     "name": "stderr",
     "output_type": "stream",
     "text": [
      "2022-12-22 16:30:09 [root] INFO: Parse auction.... https://sale.uslugi.io/sidp/3819\n"
     ]
    },
    {
     "name": "stdout",
     "output_type": "stream",
     "text": [
      "Parse auction.... https://sale.uslugi.io/sidp/3819\n"
     ]
    },
    {
     "name": "stderr",
     "output_type": "stream",
     "text": [
      "2022-12-22 16:30:12 [root] INFO: Parse auction.... https://sale.uslugi.io/sidp/3820\n"
     ]
    },
    {
     "name": "stdout",
     "output_type": "stream",
     "text": [
      "Parse auction.... https://sale.uslugi.io/sidp/3820\n"
     ]
    },
    {
     "name": "stderr",
     "output_type": "stream",
     "text": [
      "2022-12-22 16:30:12 [root] INFO: Parse auction.... https://sale.uslugi.io/sidp/3821\n"
     ]
    },
    {
     "name": "stdout",
     "output_type": "stream",
     "text": [
      "Parse auction.... https://sale.uslugi.io/sidp/3821\n"
     ]
    },
    {
     "name": "stderr",
     "output_type": "stream",
     "text": [
      "2022-12-22 16:30:15 [root] INFO: Parse auction.... https://sale.uslugi.io/sidp/3822\n"
     ]
    },
    {
     "name": "stdout",
     "output_type": "stream",
     "text": [
      "Parse auction.... https://sale.uslugi.io/sidp/3822\n"
     ]
    },
    {
     "name": "stderr",
     "output_type": "stream",
     "text": [
      "2022-12-22 16:30:16 [root] INFO: Parse auction.... https://sale.uslugi.io/sidp/3893\n"
     ]
    },
    {
     "name": "stdout",
     "output_type": "stream",
     "text": [
      "Parse auction.... https://sale.uslugi.io/sidp/3893\n"
     ]
    },
    {
     "name": "stderr",
     "output_type": "stream",
     "text": [
      "2022-12-22 16:30:16 [PyPDF2._reader] WARNING: Superfluous whitespace found in object header b'1' b'0'\n",
      "2022-12-22 16:30:16 [PyPDF2._reader] WARNING: Superfluous whitespace found in object header b'2' b'0'\n",
      "2022-12-22 16:30:16 [PyPDF2._reader] WARNING: Superfluous whitespace found in object header b'3' b'0'\n",
      "2022-12-22 16:30:16 [PyPDF2._reader] WARNING: Superfluous whitespace found in object header b'52' b'0'\n",
      "2022-12-22 16:30:16 [PyPDF2._reader] WARNING: Superfluous whitespace found in object header b'101' b'0'\n",
      "2022-12-22 16:30:16 [PyPDF2._reader] WARNING: Superfluous whitespace found in object header b'51' b'0'\n",
      "2022-12-22 16:30:16 [PyPDF2._reader] WARNING: Superfluous whitespace found in object header b'50' b'0'\n",
      "2022-12-22 16:30:16 [PyPDF2._reader] WARNING: Superfluous whitespace found in object header b'4' b'0'\n",
      "2022-12-22 16:30:16 [PyPDF2._reader] WARNING: Superfluous whitespace found in object header b'5' b'0'\n",
      "2022-12-22 16:30:16 [PyPDF2._reader] WARNING: Superfluous whitespace found in object header b'6' b'0'\n",
      "2022-12-22 16:30:16 [PyPDF2._reader] WARNING: Superfluous whitespace found in object header b'7' b'0'\n",
      "2022-12-22 16:30:16 [PyPDF2._reader] WARNING: Superfluous whitespace found in object header b'8' b'0'\n",
      "2022-12-22 16:30:16 [PyPDF2._reader] WARNING: Superfluous whitespace found in object header b'9' b'0'\n",
      "2022-12-22 16:30:16 [PyPDF2._reader] WARNING: Superfluous whitespace found in object header b'10' b'0'\n",
      "2022-12-22 16:30:16 [PyPDF2._reader] WARNING: Superfluous whitespace found in object header b'11' b'0'\n",
      "2022-12-22 16:30:16 [PyPDF2._reader] WARNING: Superfluous whitespace found in object header b'12' b'0'\n",
      "2022-12-22 16:30:16 [PyPDF2._reader] WARNING: Superfluous whitespace found in object header b'13' b'0'\n",
      "2022-12-22 16:30:16 [PyPDF2._reader] WARNING: Superfluous whitespace found in object header b'14' b'0'\n",
      "2022-12-22 16:30:16 [PyPDF2._reader] WARNING: Superfluous whitespace found in object header b'15' b'0'\n",
      "2022-12-22 16:30:16 [PyPDF2._reader] WARNING: Superfluous whitespace found in object header b'16' b'0'\n",
      "2022-12-22 16:30:16 [PyPDF2._reader] WARNING: Superfluous whitespace found in object header b'17' b'0'\n",
      "2022-12-22 16:30:16 [PyPDF2._reader] WARNING: Superfluous whitespace found in object header b'18' b'0'\n",
      "2022-12-22 16:30:16 [PyPDF2._reader] WARNING: Superfluous whitespace found in object header b'19' b'0'\n",
      "2022-12-22 16:30:16 [PyPDF2._reader] WARNING: Superfluous whitespace found in object header b'20' b'0'\n",
      "2022-12-22 16:30:16 [PyPDF2._reader] WARNING: Superfluous whitespace found in object header b'21' b'0'\n",
      "2022-12-22 16:30:16 [PyPDF2._reader] WARNING: Superfluous whitespace found in object header b'22' b'0'\n",
      "2022-12-22 16:30:16 [PyPDF2._reader] WARNING: Superfluous whitespace found in object header b'23' b'0'\n",
      "2022-12-22 16:30:16 [PyPDF2._reader] WARNING: Superfluous whitespace found in object header b'24' b'0'\n",
      "2022-12-22 16:30:16 [PyPDF2._reader] WARNING: Superfluous whitespace found in object header b'25' b'0'\n",
      "2022-12-22 16:30:16 [PyPDF2._reader] WARNING: Superfluous whitespace found in object header b'26' b'0'\n",
      "2022-12-22 16:30:16 [PyPDF2._reader] WARNING: Superfluous whitespace found in object header b'27' b'0'\n",
      "2022-12-22 16:30:16 [PyPDF2._reader] WARNING: Superfluous whitespace found in object header b'28' b'0'\n",
      "2022-12-22 16:30:16 [PyPDF2._reader] WARNING: Superfluous whitespace found in object header b'29' b'0'\n",
      "2022-12-22 16:30:16 [PyPDF2._reader] WARNING: Superfluous whitespace found in object header b'30' b'0'\n",
      "2022-12-22 16:30:16 [PyPDF2._reader] WARNING: Superfluous whitespace found in object header b'31' b'0'\n",
      "2022-12-22 16:30:16 [PyPDF2._reader] WARNING: Superfluous whitespace found in object header b'32' b'0'\n",
      "2022-12-22 16:30:16 [PyPDF2._reader] WARNING: Superfluous whitespace found in object header b'33' b'0'\n",
      "2022-12-22 16:30:16 [PyPDF2._reader] WARNING: Superfluous whitespace found in object header b'34' b'0'\n",
      "2022-12-22 16:30:16 [PyPDF2._reader] WARNING: Superfluous whitespace found in object header b'35' b'0'\n",
      "2022-12-22 16:30:16 [PyPDF2._reader] WARNING: Superfluous whitespace found in object header b'36' b'0'\n",
      "2022-12-22 16:30:16 [PyPDF2._reader] WARNING: Superfluous whitespace found in object header b'37' b'0'\n",
      "2022-12-22 16:30:16 [PyPDF2._reader] WARNING: Superfluous whitespace found in object header b'38' b'0'\n",
      "2022-12-22 16:30:16 [PyPDF2._reader] WARNING: Superfluous whitespace found in object header b'39' b'0'\n",
      "2022-12-22 16:30:16 [PyPDF2._reader] WARNING: Superfluous whitespace found in object header b'40' b'0'\n",
      "2022-12-22 16:30:16 [PyPDF2._reader] WARNING: Superfluous whitespace found in object header b'41' b'0'\n",
      "2022-12-22 16:30:16 [PyPDF2._reader] WARNING: Superfluous whitespace found in object header b'42' b'0'\n",
      "2022-12-22 16:30:16 [PyPDF2._reader] WARNING: Superfluous whitespace found in object header b'43' b'0'\n",
      "2022-12-22 16:30:16 [PyPDF2._reader] WARNING: Superfluous whitespace found in object header b'44' b'0'\n",
      "2022-12-22 16:30:16 [PyPDF2._reader] WARNING: Superfluous whitespace found in object header b'45' b'0'\n",
      "2022-12-22 16:30:16 [PyPDF2._reader] WARNING: Superfluous whitespace found in object header b'46' b'0'\n",
      "2022-12-22 16:30:16 [PyPDF2._reader] WARNING: Superfluous whitespace found in object header b'47' b'0'\n",
      "2022-12-22 16:30:16 [PyPDF2._reader] WARNING: Superfluous whitespace found in object header b'48' b'0'\n",
      "2022-12-22 16:30:16 [PyPDF2._reader] WARNING: Superfluous whitespace found in object header b'49' b'0'\n",
      "2022-12-22 16:30:16 [PyPDF2._reader] WARNING: Superfluous whitespace found in object header b'100' b'0'\n",
      "2022-12-22 16:30:16 [PyPDF2._reader] WARNING: Superfluous whitespace found in object header b'99' b'0'\n",
      "2022-12-22 16:30:16 [PyPDF2._reader] WARNING: Superfluous whitespace found in object header b'53' b'0'\n",
      "2022-12-22 16:30:16 [PyPDF2._reader] WARNING: Superfluous whitespace found in object header b'54' b'0'\n",
      "2022-12-22 16:30:16 [PyPDF2._reader] WARNING: Superfluous whitespace found in object header b'55' b'0'\n",
      "2022-12-22 16:30:16 [PyPDF2._reader] WARNING: Superfluous whitespace found in object header b'56' b'0'\n",
      "2022-12-22 16:30:16 [PyPDF2._reader] WARNING: Superfluous whitespace found in object header b'57' b'0'\n",
      "2022-12-22 16:30:16 [PyPDF2._reader] WARNING: Superfluous whitespace found in object header b'58' b'0'\n",
      "2022-12-22 16:30:16 [PyPDF2._reader] WARNING: Superfluous whitespace found in object header b'59' b'0'\n",
      "2022-12-22 16:30:16 [PyPDF2._reader] WARNING: Superfluous whitespace found in object header b'60' b'0'\n",
      "2022-12-22 16:30:16 [PyPDF2._reader] WARNING: Superfluous whitespace found in object header b'61' b'0'\n",
      "2022-12-22 16:30:16 [PyPDF2._reader] WARNING: Superfluous whitespace found in object header b'62' b'0'\n",
      "2022-12-22 16:30:16 [PyPDF2._reader] WARNING: Superfluous whitespace found in object header b'63' b'0'\n",
      "2022-12-22 16:30:16 [PyPDF2._reader] WARNING: Superfluous whitespace found in object header b'64' b'0'\n",
      "2022-12-22 16:30:16 [PyPDF2._reader] WARNING: Superfluous whitespace found in object header b'65' b'0'\n",
      "2022-12-22 16:30:16 [PyPDF2._reader] WARNING: Superfluous whitespace found in object header b'66' b'0'\n",
      "2022-12-22 16:30:16 [PyPDF2._reader] WARNING: Superfluous whitespace found in object header b'67' b'0'\n",
      "2022-12-22 16:30:16 [PyPDF2._reader] WARNING: Superfluous whitespace found in object header b'68' b'0'\n",
      "2022-12-22 16:30:16 [PyPDF2._reader] WARNING: Superfluous whitespace found in object header b'69' b'0'\n",
      "2022-12-22 16:30:16 [PyPDF2._reader] WARNING: Superfluous whitespace found in object header b'70' b'0'\n",
      "2022-12-22 16:30:16 [PyPDF2._reader] WARNING: Superfluous whitespace found in object header b'71' b'0'\n",
      "2022-12-22 16:30:16 [PyPDF2._reader] WARNING: Superfluous whitespace found in object header b'72' b'0'\n",
      "2022-12-22 16:30:16 [PyPDF2._reader] WARNING: Superfluous whitespace found in object header b'73' b'0'\n",
      "2022-12-22 16:30:16 [PyPDF2._reader] WARNING: Superfluous whitespace found in object header b'74' b'0'\n",
      "2022-12-22 16:30:16 [PyPDF2._reader] WARNING: Superfluous whitespace found in object header b'75' b'0'\n",
      "2022-12-22 16:30:16 [PyPDF2._reader] WARNING: Superfluous whitespace found in object header b'76' b'0'\n",
      "2022-12-22 16:30:16 [PyPDF2._reader] WARNING: Superfluous whitespace found in object header b'77' b'0'\n"
     ]
    },
    {
     "name": "stderr",
     "output_type": "stream",
     "text": [
      "2022-12-22 16:30:16 [PyPDF2._reader] WARNING: Superfluous whitespace found in object header b'78' b'0'\n",
      "2022-12-22 16:30:16 [PyPDF2._reader] WARNING: Superfluous whitespace found in object header b'79' b'0'\n",
      "2022-12-22 16:30:16 [PyPDF2._reader] WARNING: Superfluous whitespace found in object header b'80' b'0'\n",
      "2022-12-22 16:30:16 [PyPDF2._reader] WARNING: Superfluous whitespace found in object header b'81' b'0'\n",
      "2022-12-22 16:30:16 [PyPDF2._reader] WARNING: Superfluous whitespace found in object header b'82' b'0'\n",
      "2022-12-22 16:30:16 [PyPDF2._reader] WARNING: Superfluous whitespace found in object header b'83' b'0'\n",
      "2022-12-22 16:30:16 [PyPDF2._reader] WARNING: Superfluous whitespace found in object header b'84' b'0'\n",
      "2022-12-22 16:30:16 [PyPDF2._reader] WARNING: Superfluous whitespace found in object header b'85' b'0'\n",
      "2022-12-22 16:30:16 [PyPDF2._reader] WARNING: Superfluous whitespace found in object header b'86' b'0'\n",
      "2022-12-22 16:30:16 [PyPDF2._reader] WARNING: Superfluous whitespace found in object header b'87' b'0'\n",
      "2022-12-22 16:30:16 [PyPDF2._reader] WARNING: Superfluous whitespace found in object header b'88' b'0'\n",
      "2022-12-22 16:30:16 [PyPDF2._reader] WARNING: Superfluous whitespace found in object header b'89' b'0'\n",
      "2022-12-22 16:30:16 [PyPDF2._reader] WARNING: Superfluous whitespace found in object header b'90' b'0'\n",
      "2022-12-22 16:30:16 [PyPDF2._reader] WARNING: Superfluous whitespace found in object header b'91' b'0'\n",
      "2022-12-22 16:30:16 [PyPDF2._reader] WARNING: Superfluous whitespace found in object header b'92' b'0'\n",
      "2022-12-22 16:30:16 [PyPDF2._reader] WARNING: Superfluous whitespace found in object header b'93' b'0'\n",
      "2022-12-22 16:30:16 [PyPDF2._reader] WARNING: Superfluous whitespace found in object header b'94' b'0'\n",
      "2022-12-22 16:30:16 [PyPDF2._reader] WARNING: Superfluous whitespace found in object header b'95' b'0'\n",
      "2022-12-22 16:30:16 [PyPDF2._reader] WARNING: Superfluous whitespace found in object header b'96' b'0'\n",
      "2022-12-22 16:30:16 [PyPDF2._reader] WARNING: Superfluous whitespace found in object header b'97' b'0'\n",
      "2022-12-22 16:30:16 [PyPDF2._reader] WARNING: Superfluous whitespace found in object header b'98' b'0'\n",
      "2022-12-22 16:30:16 [PyPDF2._reader] WARNING: Superfluous whitespace found in object header b'149' b'0'\n",
      "2022-12-22 16:30:16 [PyPDF2._reader] WARNING: Superfluous whitespace found in object header b'148' b'0'\n",
      "2022-12-22 16:30:16 [PyPDF2._reader] WARNING: Superfluous whitespace found in object header b'102' b'0'\n",
      "2022-12-22 16:30:16 [PyPDF2._reader] WARNING: Superfluous whitespace found in object header b'103' b'0'\n",
      "2022-12-22 16:30:16 [PyPDF2._reader] WARNING: Superfluous whitespace found in object header b'104' b'0'\n",
      "2022-12-22 16:30:16 [PyPDF2._reader] WARNING: Superfluous whitespace found in object header b'105' b'0'\n",
      "2022-12-22 16:30:16 [PyPDF2._reader] WARNING: Superfluous whitespace found in object header b'106' b'0'\n",
      "2022-12-22 16:30:16 [PyPDF2._reader] WARNING: Superfluous whitespace found in object header b'107' b'0'\n",
      "2022-12-22 16:30:16 [PyPDF2._reader] WARNING: Superfluous whitespace found in object header b'108' b'0'\n",
      "2022-12-22 16:30:16 [PyPDF2._reader] WARNING: Superfluous whitespace found in object header b'109' b'0'\n",
      "2022-12-22 16:30:16 [PyPDF2._reader] WARNING: Superfluous whitespace found in object header b'110' b'0'\n",
      "2022-12-22 16:30:16 [PyPDF2._reader] WARNING: Superfluous whitespace found in object header b'111' b'0'\n",
      "2022-12-22 16:30:16 [PyPDF2._reader] WARNING: Superfluous whitespace found in object header b'112' b'0'\n",
      "2022-12-22 16:30:16 [PyPDF2._reader] WARNING: Superfluous whitespace found in object header b'113' b'0'\n",
      "2022-12-22 16:30:16 [PyPDF2._reader] WARNING: Superfluous whitespace found in object header b'114' b'0'\n",
      "2022-12-22 16:30:16 [PyPDF2._reader] WARNING: Superfluous whitespace found in object header b'115' b'0'\n",
      "2022-12-22 16:30:16 [PyPDF2._reader] WARNING: Superfluous whitespace found in object header b'116' b'0'\n",
      "2022-12-22 16:30:16 [PyPDF2._reader] WARNING: Superfluous whitespace found in object header b'117' b'0'\n",
      "2022-12-22 16:30:16 [PyPDF2._reader] WARNING: Superfluous whitespace found in object header b'118' b'0'\n",
      "2022-12-22 16:30:16 [PyPDF2._reader] WARNING: Superfluous whitespace found in object header b'119' b'0'\n",
      "2022-12-22 16:30:16 [PyPDF2._reader] WARNING: Superfluous whitespace found in object header b'120' b'0'\n",
      "2022-12-22 16:30:16 [PyPDF2._reader] WARNING: Superfluous whitespace found in object header b'121' b'0'\n",
      "2022-12-22 16:30:16 [PyPDF2._reader] WARNING: Superfluous whitespace found in object header b'122' b'0'\n",
      "2022-12-22 16:30:16 [PyPDF2._reader] WARNING: Superfluous whitespace found in object header b'123' b'0'\n",
      "2022-12-22 16:30:16 [PyPDF2._reader] WARNING: Superfluous whitespace found in object header b'124' b'0'\n",
      "2022-12-22 16:30:16 [PyPDF2._reader] WARNING: Superfluous whitespace found in object header b'125' b'0'\n",
      "2022-12-22 16:30:16 [PyPDF2._reader] WARNING: Superfluous whitespace found in object header b'126' b'0'\n",
      "2022-12-22 16:30:16 [PyPDF2._reader] WARNING: Superfluous whitespace found in object header b'127' b'0'\n",
      "2022-12-22 16:30:16 [PyPDF2._reader] WARNING: Superfluous whitespace found in object header b'128' b'0'\n",
      "2022-12-22 16:30:16 [PyPDF2._reader] WARNING: Superfluous whitespace found in object header b'129' b'0'\n",
      "2022-12-22 16:30:16 [PyPDF2._reader] WARNING: Superfluous whitespace found in object header b'130' b'0'\n",
      "2022-12-22 16:30:16 [PyPDF2._reader] WARNING: Superfluous whitespace found in object header b'131' b'0'\n",
      "2022-12-22 16:30:16 [PyPDF2._reader] WARNING: Superfluous whitespace found in object header b'132' b'0'\n",
      "2022-12-22 16:30:16 [PyPDF2._reader] WARNING: Superfluous whitespace found in object header b'133' b'0'\n",
      "2022-12-22 16:30:16 [PyPDF2._reader] WARNING: Superfluous whitespace found in object header b'134' b'0'\n",
      "2022-12-22 16:30:16 [PyPDF2._reader] WARNING: Superfluous whitespace found in object header b'135' b'0'\n",
      "2022-12-22 16:30:16 [PyPDF2._reader] WARNING: Superfluous whitespace found in object header b'136' b'0'\n",
      "2022-12-22 16:30:16 [PyPDF2._reader] WARNING: Superfluous whitespace found in object header b'137' b'0'\n",
      "2022-12-22 16:30:16 [PyPDF2._reader] WARNING: Superfluous whitespace found in object header b'138' b'0'\n",
      "2022-12-22 16:30:16 [PyPDF2._reader] WARNING: Superfluous whitespace found in object header b'139' b'0'\n",
      "2022-12-22 16:30:16 [PyPDF2._reader] WARNING: Superfluous whitespace found in object header b'140' b'0'\n",
      "2022-12-22 16:30:16 [PyPDF2._reader] WARNING: Superfluous whitespace found in object header b'141' b'0'\n",
      "2022-12-22 16:30:16 [PyPDF2._reader] WARNING: Superfluous whitespace found in object header b'142' b'0'\n",
      "2022-12-22 16:30:16 [PyPDF2._reader] WARNING: Superfluous whitespace found in object header b'143' b'0'\n",
      "2022-12-22 16:30:16 [PyPDF2._reader] WARNING: Superfluous whitespace found in object header b'144' b'0'\n",
      "2022-12-22 16:30:16 [PyPDF2._reader] WARNING: Superfluous whitespace found in object header b'145' b'0'\n",
      "2022-12-22 16:30:16 [PyPDF2._reader] WARNING: Superfluous whitespace found in object header b'146' b'0'\n",
      "2022-12-22 16:30:16 [PyPDF2._reader] WARNING: Superfluous whitespace found in object header b'147' b'0'\n",
      "2022-12-22 16:30:16 [root] INFO: Parse auction.... https://sale.uslugi.io/sidp/3797\n"
     ]
    },
    {
     "name": "stdout",
     "output_type": "stream",
     "text": [
      "Parse auction.... https://sale.uslugi.io/sidp/3797\n"
     ]
    },
    {
     "name": "stderr",
     "output_type": "stream",
     "text": [
      "2022-12-22 16:30:17 [root] INFO: Parse auction.... https://sale.uslugi.io/sidp/3894\n"
     ]
    },
    {
     "name": "stdout",
     "output_type": "stream",
     "text": [
      "Parse auction.... https://sale.uslugi.io/sidp/3894\n"
     ]
    },
    {
     "name": "stderr",
     "output_type": "stream",
     "text": [
      "2022-12-22 16:30:17 [PyPDF2._reader] WARNING: Superfluous whitespace found in object header b'1' b'0'\n",
      "2022-12-22 16:30:17 [PyPDF2._reader] WARNING: Superfluous whitespace found in object header b'2' b'0'\n",
      "2022-12-22 16:30:17 [PyPDF2._reader] WARNING: Superfluous whitespace found in object header b'3' b'0'\n",
      "2022-12-22 16:30:17 [PyPDF2._reader] WARNING: Superfluous whitespace found in object header b'52' b'0'\n",
      "2022-12-22 16:30:17 [PyPDF2._reader] WARNING: Superfluous whitespace found in object header b'101' b'0'\n",
      "2022-12-22 16:30:17 [PyPDF2._reader] WARNING: Superfluous whitespace found in object header b'51' b'0'\n",
      "2022-12-22 16:30:17 [PyPDF2._reader] WARNING: Superfluous whitespace found in object header b'50' b'0'\n",
      "2022-12-22 16:30:17 [PyPDF2._reader] WARNING: Superfluous whitespace found in object header b'4' b'0'\n",
      "2022-12-22 16:30:17 [PyPDF2._reader] WARNING: Superfluous whitespace found in object header b'5' b'0'\n",
      "2022-12-22 16:30:17 [PyPDF2._reader] WARNING: Superfluous whitespace found in object header b'6' b'0'\n",
      "2022-12-22 16:30:17 [PyPDF2._reader] WARNING: Superfluous whitespace found in object header b'7' b'0'\n",
      "2022-12-22 16:30:17 [PyPDF2._reader] WARNING: Superfluous whitespace found in object header b'8' b'0'\n",
      "2022-12-22 16:30:17 [PyPDF2._reader] WARNING: Superfluous whitespace found in object header b'9' b'0'\n",
      "2022-12-22 16:30:17 [PyPDF2._reader] WARNING: Superfluous whitespace found in object header b'10' b'0'\n",
      "2022-12-22 16:30:17 [PyPDF2._reader] WARNING: Superfluous whitespace found in object header b'11' b'0'\n",
      "2022-12-22 16:30:17 [PyPDF2._reader] WARNING: Superfluous whitespace found in object header b'12' b'0'\n",
      "2022-12-22 16:30:17 [PyPDF2._reader] WARNING: Superfluous whitespace found in object header b'13' b'0'\n",
      "2022-12-22 16:30:17 [PyPDF2._reader] WARNING: Superfluous whitespace found in object header b'14' b'0'\n",
      "2022-12-22 16:30:17 [PyPDF2._reader] WARNING: Superfluous whitespace found in object header b'15' b'0'\n",
      "2022-12-22 16:30:17 [PyPDF2._reader] WARNING: Superfluous whitespace found in object header b'16' b'0'\n",
      "2022-12-22 16:30:17 [PyPDF2._reader] WARNING: Superfluous whitespace found in object header b'17' b'0'\n",
      "2022-12-22 16:30:17 [PyPDF2._reader] WARNING: Superfluous whitespace found in object header b'18' b'0'\n",
      "2022-12-22 16:30:17 [PyPDF2._reader] WARNING: Superfluous whitespace found in object header b'19' b'0'\n",
      "2022-12-22 16:30:17 [PyPDF2._reader] WARNING: Superfluous whitespace found in object header b'20' b'0'\n",
      "2022-12-22 16:30:17 [PyPDF2._reader] WARNING: Superfluous whitespace found in object header b'21' b'0'\n",
      "2022-12-22 16:30:17 [PyPDF2._reader] WARNING: Superfluous whitespace found in object header b'22' b'0'\n",
      "2022-12-22 16:30:17 [PyPDF2._reader] WARNING: Superfluous whitespace found in object header b'23' b'0'\n",
      "2022-12-22 16:30:17 [PyPDF2._reader] WARNING: Superfluous whitespace found in object header b'24' b'0'\n",
      "2022-12-22 16:30:17 [PyPDF2._reader] WARNING: Superfluous whitespace found in object header b'25' b'0'\n",
      "2022-12-22 16:30:17 [PyPDF2._reader] WARNING: Superfluous whitespace found in object header b'26' b'0'\n",
      "2022-12-22 16:30:17 [PyPDF2._reader] WARNING: Superfluous whitespace found in object header b'27' b'0'\n",
      "2022-12-22 16:30:17 [PyPDF2._reader] WARNING: Superfluous whitespace found in object header b'28' b'0'\n",
      "2022-12-22 16:30:17 [PyPDF2._reader] WARNING: Superfluous whitespace found in object header b'29' b'0'\n",
      "2022-12-22 16:30:17 [PyPDF2._reader] WARNING: Superfluous whitespace found in object header b'30' b'0'\n",
      "2022-12-22 16:30:17 [PyPDF2._reader] WARNING: Superfluous whitespace found in object header b'31' b'0'\n",
      "2022-12-22 16:30:17 [PyPDF2._reader] WARNING: Superfluous whitespace found in object header b'32' b'0'\n",
      "2022-12-22 16:30:17 [PyPDF2._reader] WARNING: Superfluous whitespace found in object header b'33' b'0'\n",
      "2022-12-22 16:30:17 [PyPDF2._reader] WARNING: Superfluous whitespace found in object header b'34' b'0'\n",
      "2022-12-22 16:30:17 [PyPDF2._reader] WARNING: Superfluous whitespace found in object header b'35' b'0'\n",
      "2022-12-22 16:30:17 [PyPDF2._reader] WARNING: Superfluous whitespace found in object header b'36' b'0'\n",
      "2022-12-22 16:30:17 [PyPDF2._reader] WARNING: Superfluous whitespace found in object header b'37' b'0'\n",
      "2022-12-22 16:30:17 [PyPDF2._reader] WARNING: Superfluous whitespace found in object header b'38' b'0'\n",
      "2022-12-22 16:30:17 [PyPDF2._reader] WARNING: Superfluous whitespace found in object header b'39' b'0'\n",
      "2022-12-22 16:30:17 [PyPDF2._reader] WARNING: Superfluous whitespace found in object header b'40' b'0'\n",
      "2022-12-22 16:30:17 [PyPDF2._reader] WARNING: Superfluous whitespace found in object header b'41' b'0'\n",
      "2022-12-22 16:30:17 [PyPDF2._reader] WARNING: Superfluous whitespace found in object header b'42' b'0'\n",
      "2022-12-22 16:30:17 [PyPDF2._reader] WARNING: Superfluous whitespace found in object header b'43' b'0'\n",
      "2022-12-22 16:30:17 [PyPDF2._reader] WARNING: Superfluous whitespace found in object header b'44' b'0'\n",
      "2022-12-22 16:30:17 [PyPDF2._reader] WARNING: Superfluous whitespace found in object header b'45' b'0'\n",
      "2022-12-22 16:30:17 [PyPDF2._reader] WARNING: Superfluous whitespace found in object header b'46' b'0'\n",
      "2022-12-22 16:30:17 [PyPDF2._reader] WARNING: Superfluous whitespace found in object header b'47' b'0'\n",
      "2022-12-22 16:30:17 [PyPDF2._reader] WARNING: Superfluous whitespace found in object header b'48' b'0'\n",
      "2022-12-22 16:30:17 [PyPDF2._reader] WARNING: Superfluous whitespace found in object header b'49' b'0'\n",
      "2022-12-22 16:30:17 [PyPDF2._reader] WARNING: Superfluous whitespace found in object header b'100' b'0'\n",
      "2022-12-22 16:30:17 [PyPDF2._reader] WARNING: Superfluous whitespace found in object header b'99' b'0'\n",
      "2022-12-22 16:30:17 [PyPDF2._reader] WARNING: Superfluous whitespace found in object header b'53' b'0'\n",
      "2022-12-22 16:30:17 [PyPDF2._reader] WARNING: Superfluous whitespace found in object header b'54' b'0'\n",
      "2022-12-22 16:30:17 [PyPDF2._reader] WARNING: Superfluous whitespace found in object header b'55' b'0'\n",
      "2022-12-22 16:30:17 [PyPDF2._reader] WARNING: Superfluous whitespace found in object header b'56' b'0'\n",
      "2022-12-22 16:30:17 [PyPDF2._reader] WARNING: Superfluous whitespace found in object header b'57' b'0'\n",
      "2022-12-22 16:30:17 [PyPDF2._reader] WARNING: Superfluous whitespace found in object header b'58' b'0'\n",
      "2022-12-22 16:30:17 [PyPDF2._reader] WARNING: Superfluous whitespace found in object header b'59' b'0'\n",
      "2022-12-22 16:30:17 [PyPDF2._reader] WARNING: Superfluous whitespace found in object header b'60' b'0'\n",
      "2022-12-22 16:30:17 [PyPDF2._reader] WARNING: Superfluous whitespace found in object header b'61' b'0'\n",
      "2022-12-22 16:30:17 [PyPDF2._reader] WARNING: Superfluous whitespace found in object header b'62' b'0'\n",
      "2022-12-22 16:30:17 [PyPDF2._reader] WARNING: Superfluous whitespace found in object header b'63' b'0'\n",
      "2022-12-22 16:30:17 [PyPDF2._reader] WARNING: Superfluous whitespace found in object header b'64' b'0'\n",
      "2022-12-22 16:30:17 [PyPDF2._reader] WARNING: Superfluous whitespace found in object header b'65' b'0'\n",
      "2022-12-22 16:30:17 [PyPDF2._reader] WARNING: Superfluous whitespace found in object header b'66' b'0'\n",
      "2022-12-22 16:30:17 [PyPDF2._reader] WARNING: Superfluous whitespace found in object header b'67' b'0'\n",
      "2022-12-22 16:30:17 [PyPDF2._reader] WARNING: Superfluous whitespace found in object header b'68' b'0'\n",
      "2022-12-22 16:30:17 [PyPDF2._reader] WARNING: Superfluous whitespace found in object header b'69' b'0'\n",
      "2022-12-22 16:30:17 [PyPDF2._reader] WARNING: Superfluous whitespace found in object header b'70' b'0'\n",
      "2022-12-22 16:30:17 [PyPDF2._reader] WARNING: Superfluous whitespace found in object header b'71' b'0'\n",
      "2022-12-22 16:30:17 [PyPDF2._reader] WARNING: Superfluous whitespace found in object header b'72' b'0'\n",
      "2022-12-22 16:30:17 [PyPDF2._reader] WARNING: Superfluous whitespace found in object header b'73' b'0'\n",
      "2022-12-22 16:30:17 [PyPDF2._reader] WARNING: Superfluous whitespace found in object header b'74' b'0'\n",
      "2022-12-22 16:30:17 [PyPDF2._reader] WARNING: Superfluous whitespace found in object header b'75' b'0'\n",
      "2022-12-22 16:30:17 [PyPDF2._reader] WARNING: Superfluous whitespace found in object header b'76' b'0'\n",
      "2022-12-22 16:30:17 [PyPDF2._reader] WARNING: Superfluous whitespace found in object header b'77' b'0'\n"
     ]
    },
    {
     "name": "stderr",
     "output_type": "stream",
     "text": [
      "2022-12-22 16:30:17 [PyPDF2._reader] WARNING: Superfluous whitespace found in object header b'78' b'0'\n",
      "2022-12-22 16:30:17 [PyPDF2._reader] WARNING: Superfluous whitespace found in object header b'79' b'0'\n",
      "2022-12-22 16:30:17 [PyPDF2._reader] WARNING: Superfluous whitespace found in object header b'80' b'0'\n",
      "2022-12-22 16:30:17 [PyPDF2._reader] WARNING: Superfluous whitespace found in object header b'81' b'0'\n",
      "2022-12-22 16:30:17 [PyPDF2._reader] WARNING: Superfluous whitespace found in object header b'82' b'0'\n",
      "2022-12-22 16:30:17 [PyPDF2._reader] WARNING: Superfluous whitespace found in object header b'83' b'0'\n",
      "2022-12-22 16:30:17 [PyPDF2._reader] WARNING: Superfluous whitespace found in object header b'84' b'0'\n",
      "2022-12-22 16:30:17 [PyPDF2._reader] WARNING: Superfluous whitespace found in object header b'85' b'0'\n",
      "2022-12-22 16:30:17 [PyPDF2._reader] WARNING: Superfluous whitespace found in object header b'86' b'0'\n",
      "2022-12-22 16:30:17 [PyPDF2._reader] WARNING: Superfluous whitespace found in object header b'87' b'0'\n",
      "2022-12-22 16:30:17 [PyPDF2._reader] WARNING: Superfluous whitespace found in object header b'88' b'0'\n",
      "2022-12-22 16:30:17 [PyPDF2._reader] WARNING: Superfluous whitespace found in object header b'89' b'0'\n",
      "2022-12-22 16:30:17 [PyPDF2._reader] WARNING: Superfluous whitespace found in object header b'90' b'0'\n",
      "2022-12-22 16:30:17 [PyPDF2._reader] WARNING: Superfluous whitespace found in object header b'91' b'0'\n",
      "2022-12-22 16:30:17 [PyPDF2._reader] WARNING: Superfluous whitespace found in object header b'92' b'0'\n",
      "2022-12-22 16:30:17 [PyPDF2._reader] WARNING: Superfluous whitespace found in object header b'93' b'0'\n",
      "2022-12-22 16:30:17 [PyPDF2._reader] WARNING: Superfluous whitespace found in object header b'94' b'0'\n",
      "2022-12-22 16:30:17 [PyPDF2._reader] WARNING: Superfluous whitespace found in object header b'95' b'0'\n",
      "2022-12-22 16:30:17 [PyPDF2._reader] WARNING: Superfluous whitespace found in object header b'96' b'0'\n",
      "2022-12-22 16:30:17 [PyPDF2._reader] WARNING: Superfluous whitespace found in object header b'97' b'0'\n",
      "2022-12-22 16:30:17 [PyPDF2._reader] WARNING: Superfluous whitespace found in object header b'98' b'0'\n",
      "2022-12-22 16:30:17 [PyPDF2._reader] WARNING: Superfluous whitespace found in object header b'149' b'0'\n",
      "2022-12-22 16:30:17 [PyPDF2._reader] WARNING: Superfluous whitespace found in object header b'148' b'0'\n",
      "2022-12-22 16:30:17 [PyPDF2._reader] WARNING: Superfluous whitespace found in object header b'102' b'0'\n",
      "2022-12-22 16:30:17 [PyPDF2._reader] WARNING: Superfluous whitespace found in object header b'103' b'0'\n",
      "2022-12-22 16:30:17 [PyPDF2._reader] WARNING: Superfluous whitespace found in object header b'104' b'0'\n",
      "2022-12-22 16:30:17 [PyPDF2._reader] WARNING: Superfluous whitespace found in object header b'105' b'0'\n",
      "2022-12-22 16:30:17 [PyPDF2._reader] WARNING: Superfluous whitespace found in object header b'106' b'0'\n",
      "2022-12-22 16:30:17 [PyPDF2._reader] WARNING: Superfluous whitespace found in object header b'107' b'0'\n",
      "2022-12-22 16:30:17 [PyPDF2._reader] WARNING: Superfluous whitespace found in object header b'108' b'0'\n",
      "2022-12-22 16:30:17 [PyPDF2._reader] WARNING: Superfluous whitespace found in object header b'109' b'0'\n",
      "2022-12-22 16:30:17 [PyPDF2._reader] WARNING: Superfluous whitespace found in object header b'110' b'0'\n",
      "2022-12-22 16:30:17 [PyPDF2._reader] WARNING: Superfluous whitespace found in object header b'111' b'0'\n",
      "2022-12-22 16:30:17 [PyPDF2._reader] WARNING: Superfluous whitespace found in object header b'112' b'0'\n",
      "2022-12-22 16:30:17 [PyPDF2._reader] WARNING: Superfluous whitespace found in object header b'113' b'0'\n",
      "2022-12-22 16:30:17 [PyPDF2._reader] WARNING: Superfluous whitespace found in object header b'114' b'0'\n",
      "2022-12-22 16:30:17 [PyPDF2._reader] WARNING: Superfluous whitespace found in object header b'115' b'0'\n",
      "2022-12-22 16:30:17 [PyPDF2._reader] WARNING: Superfluous whitespace found in object header b'116' b'0'\n",
      "2022-12-22 16:30:17 [PyPDF2._reader] WARNING: Superfluous whitespace found in object header b'117' b'0'\n",
      "2022-12-22 16:30:17 [PyPDF2._reader] WARNING: Superfluous whitespace found in object header b'118' b'0'\n",
      "2022-12-22 16:30:17 [PyPDF2._reader] WARNING: Superfluous whitespace found in object header b'119' b'0'\n",
      "2022-12-22 16:30:17 [PyPDF2._reader] WARNING: Superfluous whitespace found in object header b'120' b'0'\n",
      "2022-12-22 16:30:17 [PyPDF2._reader] WARNING: Superfluous whitespace found in object header b'121' b'0'\n",
      "2022-12-22 16:30:17 [PyPDF2._reader] WARNING: Superfluous whitespace found in object header b'122' b'0'\n",
      "2022-12-22 16:30:17 [PyPDF2._reader] WARNING: Superfluous whitespace found in object header b'123' b'0'\n",
      "2022-12-22 16:30:17 [PyPDF2._reader] WARNING: Superfluous whitespace found in object header b'124' b'0'\n",
      "2022-12-22 16:30:17 [PyPDF2._reader] WARNING: Superfluous whitespace found in object header b'125' b'0'\n",
      "2022-12-22 16:30:17 [PyPDF2._reader] WARNING: Superfluous whitespace found in object header b'126' b'0'\n",
      "2022-12-22 16:30:17 [PyPDF2._reader] WARNING: Superfluous whitespace found in object header b'127' b'0'\n",
      "2022-12-22 16:30:17 [PyPDF2._reader] WARNING: Superfluous whitespace found in object header b'128' b'0'\n",
      "2022-12-22 16:30:17 [PyPDF2._reader] WARNING: Superfluous whitespace found in object header b'129' b'0'\n",
      "2022-12-22 16:30:17 [PyPDF2._reader] WARNING: Superfluous whitespace found in object header b'130' b'0'\n",
      "2022-12-22 16:30:17 [PyPDF2._reader] WARNING: Superfluous whitespace found in object header b'131' b'0'\n",
      "2022-12-22 16:30:17 [PyPDF2._reader] WARNING: Superfluous whitespace found in object header b'132' b'0'\n",
      "2022-12-22 16:30:17 [PyPDF2._reader] WARNING: Superfluous whitespace found in object header b'133' b'0'\n",
      "2022-12-22 16:30:17 [PyPDF2._reader] WARNING: Superfluous whitespace found in object header b'134' b'0'\n",
      "2022-12-22 16:30:17 [PyPDF2._reader] WARNING: Superfluous whitespace found in object header b'135' b'0'\n",
      "2022-12-22 16:30:17 [PyPDF2._reader] WARNING: Superfluous whitespace found in object header b'136' b'0'\n",
      "2022-12-22 16:30:17 [PyPDF2._reader] WARNING: Superfluous whitespace found in object header b'137' b'0'\n",
      "2022-12-22 16:30:17 [PyPDF2._reader] WARNING: Superfluous whitespace found in object header b'138' b'0'\n",
      "2022-12-22 16:30:17 [PyPDF2._reader] WARNING: Superfluous whitespace found in object header b'139' b'0'\n",
      "2022-12-22 16:30:17 [PyPDF2._reader] WARNING: Superfluous whitespace found in object header b'140' b'0'\n",
      "2022-12-22 16:30:17 [PyPDF2._reader] WARNING: Superfluous whitespace found in object header b'141' b'0'\n",
      "2022-12-22 16:30:17 [PyPDF2._reader] WARNING: Superfluous whitespace found in object header b'142' b'0'\n",
      "2022-12-22 16:30:17 [PyPDF2._reader] WARNING: Superfluous whitespace found in object header b'143' b'0'\n",
      "2022-12-22 16:30:17 [PyPDF2._reader] WARNING: Superfluous whitespace found in object header b'144' b'0'\n",
      "2022-12-22 16:30:17 [PyPDF2._reader] WARNING: Superfluous whitespace found in object header b'145' b'0'\n",
      "2022-12-22 16:30:17 [PyPDF2._reader] WARNING: Superfluous whitespace found in object header b'146' b'0'\n",
      "2022-12-22 16:30:17 [PyPDF2._reader] WARNING: Superfluous whitespace found in object header b'147' b'0'\n",
      "2022-12-22 16:30:17 [root] INFO: Parse auction.... https://sale.uslugi.io/sidp/3865\n"
     ]
    },
    {
     "name": "stdout",
     "output_type": "stream",
     "text": [
      "Parse auction.... https://sale.uslugi.io/sidp/3865\n"
     ]
    },
    {
     "name": "stderr",
     "output_type": "stream",
     "text": [
      "2022-12-22 16:30:18 [root] INFO: Parse auction.... https://sale.uslugi.io/sidp/3890\n"
     ]
    },
    {
     "name": "stdout",
     "output_type": "stream",
     "text": [
      "Parse auction.... https://sale.uslugi.io/sidp/3890\n"
     ]
    },
    {
     "name": "stderr",
     "output_type": "stream",
     "text": [
      "2022-12-22 16:30:19 [PyPDF2._reader] WARNING: Superfluous whitespace found in object header b'1' b'0'\n",
      "2022-12-22 16:30:19 [PyPDF2._reader] WARNING: Superfluous whitespace found in object header b'2' b'0'\n",
      "2022-12-22 16:30:19 [PyPDF2._reader] WARNING: Superfluous whitespace found in object header b'3' b'0'\n",
      "2022-12-22 16:30:19 [PyPDF2._reader] WARNING: Superfluous whitespace found in object header b'52' b'0'\n",
      "2022-12-22 16:30:19 [PyPDF2._reader] WARNING: Superfluous whitespace found in object header b'101' b'0'\n",
      "2022-12-22 16:30:19 [PyPDF2._reader] WARNING: Superfluous whitespace found in object header b'150' b'0'\n",
      "2022-12-22 16:30:19 [PyPDF2._reader] WARNING: Superfluous whitespace found in object header b'199' b'0'\n",
      "2022-12-22 16:30:19 [PyPDF2._reader] WARNING: Superfluous whitespace found in object header b'248' b'0'\n",
      "2022-12-22 16:30:19 [PyPDF2._reader] WARNING: Superfluous whitespace found in object header b'297' b'0'\n",
      "2022-12-22 16:30:19 [PyPDF2._reader] WARNING: Superfluous whitespace found in object header b'346' b'0'\n",
      "2022-12-22 16:30:19 [PyPDF2._reader] WARNING: Superfluous whitespace found in object header b'395' b'0'\n",
      "2022-12-22 16:30:19 [PyPDF2._reader] WARNING: Superfluous whitespace found in object header b'444' b'0'\n",
      "2022-12-22 16:30:19 [PyPDF2._reader] WARNING: Superfluous whitespace found in object header b'493' b'0'\n",
      "2022-12-22 16:30:19 [PyPDF2._reader] WARNING: Superfluous whitespace found in object header b'542' b'0'\n",
      "2022-12-22 16:30:19 [PyPDF2._reader] WARNING: Superfluous whitespace found in object header b'591' b'0'\n",
      "2022-12-22 16:30:19 [PyPDF2._reader] WARNING: Superfluous whitespace found in object header b'51' b'0'\n",
      "2022-12-22 16:30:19 [PyPDF2._reader] WARNING: Superfluous whitespace found in object header b'50' b'0'\n",
      "2022-12-22 16:30:19 [PyPDF2._reader] WARNING: Superfluous whitespace found in object header b'4' b'0'\n",
      "2022-12-22 16:30:19 [PyPDF2._reader] WARNING: Superfluous whitespace found in object header b'5' b'0'\n",
      "2022-12-22 16:30:19 [PyPDF2._reader] WARNING: Superfluous whitespace found in object header b'6' b'0'\n",
      "2022-12-22 16:30:19 [PyPDF2._reader] WARNING: Superfluous whitespace found in object header b'7' b'0'\n",
      "2022-12-22 16:30:19 [PyPDF2._reader] WARNING: Superfluous whitespace found in object header b'8' b'0'\n",
      "2022-12-22 16:30:19 [PyPDF2._reader] WARNING: Superfluous whitespace found in object header b'9' b'0'\n",
      "2022-12-22 16:30:19 [PyPDF2._reader] WARNING: Superfluous whitespace found in object header b'10' b'0'\n",
      "2022-12-22 16:30:19 [PyPDF2._reader] WARNING: Superfluous whitespace found in object header b'11' b'0'\n",
      "2022-12-22 16:30:19 [PyPDF2._reader] WARNING: Superfluous whitespace found in object header b'12' b'0'\n",
      "2022-12-22 16:30:19 [PyPDF2._reader] WARNING: Superfluous whitespace found in object header b'13' b'0'\n",
      "2022-12-22 16:30:19 [PyPDF2._reader] WARNING: Superfluous whitespace found in object header b'14' b'0'\n",
      "2022-12-22 16:30:19 [PyPDF2._reader] WARNING: Superfluous whitespace found in object header b'15' b'0'\n",
      "2022-12-22 16:30:19 [PyPDF2._reader] WARNING: Superfluous whitespace found in object header b'16' b'0'\n",
      "2022-12-22 16:30:19 [PyPDF2._reader] WARNING: Superfluous whitespace found in object header b'17' b'0'\n",
      "2022-12-22 16:30:19 [PyPDF2._reader] WARNING: Superfluous whitespace found in object header b'18' b'0'\n",
      "2022-12-22 16:30:19 [PyPDF2._reader] WARNING: Superfluous whitespace found in object header b'19' b'0'\n",
      "2022-12-22 16:30:19 [PyPDF2._reader] WARNING: Superfluous whitespace found in object header b'20' b'0'\n",
      "2022-12-22 16:30:19 [PyPDF2._reader] WARNING: Superfluous whitespace found in object header b'21' b'0'\n",
      "2022-12-22 16:30:19 [PyPDF2._reader] WARNING: Superfluous whitespace found in object header b'22' b'0'\n",
      "2022-12-22 16:30:19 [PyPDF2._reader] WARNING: Superfluous whitespace found in object header b'23' b'0'\n",
      "2022-12-22 16:30:19 [PyPDF2._reader] WARNING: Superfluous whitespace found in object header b'24' b'0'\n",
      "2022-12-22 16:30:19 [PyPDF2._reader] WARNING: Superfluous whitespace found in object header b'25' b'0'\n",
      "2022-12-22 16:30:19 [PyPDF2._reader] WARNING: Superfluous whitespace found in object header b'26' b'0'\n",
      "2022-12-22 16:30:19 [PyPDF2._reader] WARNING: Superfluous whitespace found in object header b'27' b'0'\n",
      "2022-12-22 16:30:19 [PyPDF2._reader] WARNING: Superfluous whitespace found in object header b'28' b'0'\n",
      "2022-12-22 16:30:19 [PyPDF2._reader] WARNING: Superfluous whitespace found in object header b'29' b'0'\n",
      "2022-12-22 16:30:19 [PyPDF2._reader] WARNING: Superfluous whitespace found in object header b'30' b'0'\n",
      "2022-12-22 16:30:19 [PyPDF2._reader] WARNING: Superfluous whitespace found in object header b'31' b'0'\n",
      "2022-12-22 16:30:19 [PyPDF2._reader] WARNING: Superfluous whitespace found in object header b'32' b'0'\n",
      "2022-12-22 16:30:19 [PyPDF2._reader] WARNING: Superfluous whitespace found in object header b'33' b'0'\n",
      "2022-12-22 16:30:19 [PyPDF2._reader] WARNING: Superfluous whitespace found in object header b'34' b'0'\n",
      "2022-12-22 16:30:19 [PyPDF2._reader] WARNING: Superfluous whitespace found in object header b'35' b'0'\n",
      "2022-12-22 16:30:19 [PyPDF2._reader] WARNING: Superfluous whitespace found in object header b'36' b'0'\n",
      "2022-12-22 16:30:19 [PyPDF2._reader] WARNING: Superfluous whitespace found in object header b'37' b'0'\n",
      "2022-12-22 16:30:19 [PyPDF2._reader] WARNING: Superfluous whitespace found in object header b'38' b'0'\n",
      "2022-12-22 16:30:19 [PyPDF2._reader] WARNING: Superfluous whitespace found in object header b'39' b'0'\n",
      "2022-12-22 16:30:19 [PyPDF2._reader] WARNING: Superfluous whitespace found in object header b'40' b'0'\n",
      "2022-12-22 16:30:19 [PyPDF2._reader] WARNING: Superfluous whitespace found in object header b'41' b'0'\n",
      "2022-12-22 16:30:19 [PyPDF2._reader] WARNING: Superfluous whitespace found in object header b'42' b'0'\n",
      "2022-12-22 16:30:19 [PyPDF2._reader] WARNING: Superfluous whitespace found in object header b'43' b'0'\n",
      "2022-12-22 16:30:19 [PyPDF2._reader] WARNING: Superfluous whitespace found in object header b'44' b'0'\n",
      "2022-12-22 16:30:19 [PyPDF2._reader] WARNING: Superfluous whitespace found in object header b'45' b'0'\n",
      "2022-12-22 16:30:19 [PyPDF2._reader] WARNING: Superfluous whitespace found in object header b'46' b'0'\n",
      "2022-12-22 16:30:19 [PyPDF2._reader] WARNING: Superfluous whitespace found in object header b'47' b'0'\n",
      "2022-12-22 16:30:19 [PyPDF2._reader] WARNING: Superfluous whitespace found in object header b'48' b'0'\n",
      "2022-12-22 16:30:19 [PyPDF2._reader] WARNING: Superfluous whitespace found in object header b'49' b'0'\n",
      "2022-12-22 16:30:19 [PyPDF2._reader] WARNING: Superfluous whitespace found in object header b'100' b'0'\n",
      "2022-12-22 16:30:19 [PyPDF2._reader] WARNING: Superfluous whitespace found in object header b'99' b'0'\n",
      "2022-12-22 16:30:19 [PyPDF2._reader] WARNING: Superfluous whitespace found in object header b'53' b'0'\n",
      "2022-12-22 16:30:19 [PyPDF2._reader] WARNING: Superfluous whitespace found in object header b'54' b'0'\n",
      "2022-12-22 16:30:19 [PyPDF2._reader] WARNING: Superfluous whitespace found in object header b'55' b'0'\n",
      "2022-12-22 16:30:19 [PyPDF2._reader] WARNING: Superfluous whitespace found in object header b'56' b'0'\n",
      "2022-12-22 16:30:19 [PyPDF2._reader] WARNING: Superfluous whitespace found in object header b'57' b'0'\n",
      "2022-12-22 16:30:19 [PyPDF2._reader] WARNING: Superfluous whitespace found in object header b'58' b'0'\n",
      "2022-12-22 16:30:19 [PyPDF2._reader] WARNING: Superfluous whitespace found in object header b'59' b'0'\n",
      "2022-12-22 16:30:19 [PyPDF2._reader] WARNING: Superfluous whitespace found in object header b'60' b'0'\n",
      "2022-12-22 16:30:19 [PyPDF2._reader] WARNING: Superfluous whitespace found in object header b'61' b'0'\n",
      "2022-12-22 16:30:19 [PyPDF2._reader] WARNING: Superfluous whitespace found in object header b'62' b'0'\n",
      "2022-12-22 16:30:19 [PyPDF2._reader] WARNING: Superfluous whitespace found in object header b'63' b'0'\n",
      "2022-12-22 16:30:19 [PyPDF2._reader] WARNING: Superfluous whitespace found in object header b'64' b'0'\n",
      "2022-12-22 16:30:19 [PyPDF2._reader] WARNING: Superfluous whitespace found in object header b'65' b'0'\n",
      "2022-12-22 16:30:19 [PyPDF2._reader] WARNING: Superfluous whitespace found in object header b'66' b'0'\n",
      "2022-12-22 16:30:19 [PyPDF2._reader] WARNING: Superfluous whitespace found in object header b'67' b'0'\n"
     ]
    },
    {
     "name": "stderr",
     "output_type": "stream",
     "text": [
      "2022-12-22 16:30:19 [PyPDF2._reader] WARNING: Superfluous whitespace found in object header b'68' b'0'\n",
      "2022-12-22 16:30:19 [PyPDF2._reader] WARNING: Superfluous whitespace found in object header b'69' b'0'\n",
      "2022-12-22 16:30:19 [PyPDF2._reader] WARNING: Superfluous whitespace found in object header b'70' b'0'\n",
      "2022-12-22 16:30:19 [PyPDF2._reader] WARNING: Superfluous whitespace found in object header b'71' b'0'\n",
      "2022-12-22 16:30:19 [PyPDF2._reader] WARNING: Superfluous whitespace found in object header b'72' b'0'\n",
      "2022-12-22 16:30:19 [PyPDF2._reader] WARNING: Superfluous whitespace found in object header b'73' b'0'\n",
      "2022-12-22 16:30:19 [PyPDF2._reader] WARNING: Superfluous whitespace found in object header b'74' b'0'\n",
      "2022-12-22 16:30:19 [PyPDF2._reader] WARNING: Superfluous whitespace found in object header b'75' b'0'\n",
      "2022-12-22 16:30:19 [PyPDF2._reader] WARNING: Superfluous whitespace found in object header b'76' b'0'\n",
      "2022-12-22 16:30:19 [PyPDF2._reader] WARNING: Superfluous whitespace found in object header b'77' b'0'\n",
      "2022-12-22 16:30:19 [PyPDF2._reader] WARNING: Superfluous whitespace found in object header b'78' b'0'\n",
      "2022-12-22 16:30:19 [PyPDF2._reader] WARNING: Superfluous whitespace found in object header b'79' b'0'\n",
      "2022-12-22 16:30:19 [PyPDF2._reader] WARNING: Superfluous whitespace found in object header b'80' b'0'\n",
      "2022-12-22 16:30:19 [PyPDF2._reader] WARNING: Superfluous whitespace found in object header b'81' b'0'\n",
      "2022-12-22 16:30:19 [PyPDF2._reader] WARNING: Superfluous whitespace found in object header b'82' b'0'\n",
      "2022-12-22 16:30:19 [PyPDF2._reader] WARNING: Superfluous whitespace found in object header b'83' b'0'\n",
      "2022-12-22 16:30:19 [PyPDF2._reader] WARNING: Superfluous whitespace found in object header b'84' b'0'\n",
      "2022-12-22 16:30:19 [PyPDF2._reader] WARNING: Superfluous whitespace found in object header b'85' b'0'\n",
      "2022-12-22 16:30:19 [PyPDF2._reader] WARNING: Superfluous whitespace found in object header b'86' b'0'\n",
      "2022-12-22 16:30:19 [PyPDF2._reader] WARNING: Superfluous whitespace found in object header b'87' b'0'\n",
      "2022-12-22 16:30:19 [PyPDF2._reader] WARNING: Superfluous whitespace found in object header b'88' b'0'\n",
      "2022-12-22 16:30:19 [PyPDF2._reader] WARNING: Superfluous whitespace found in object header b'89' b'0'\n",
      "2022-12-22 16:30:19 [PyPDF2._reader] WARNING: Superfluous whitespace found in object header b'90' b'0'\n",
      "2022-12-22 16:30:19 [PyPDF2._reader] WARNING: Superfluous whitespace found in object header b'91' b'0'\n",
      "2022-12-22 16:30:19 [PyPDF2._reader] WARNING: Superfluous whitespace found in object header b'92' b'0'\n",
      "2022-12-22 16:30:19 [PyPDF2._reader] WARNING: Superfluous whitespace found in object header b'93' b'0'\n",
      "2022-12-22 16:30:19 [PyPDF2._reader] WARNING: Superfluous whitespace found in object header b'94' b'0'\n",
      "2022-12-22 16:30:19 [PyPDF2._reader] WARNING: Superfluous whitespace found in object header b'95' b'0'\n",
      "2022-12-22 16:30:19 [PyPDF2._reader] WARNING: Superfluous whitespace found in object header b'96' b'0'\n",
      "2022-12-22 16:30:19 [PyPDF2._reader] WARNING: Superfluous whitespace found in object header b'97' b'0'\n",
      "2022-12-22 16:30:19 [PyPDF2._reader] WARNING: Superfluous whitespace found in object header b'98' b'0'\n",
      "2022-12-22 16:30:19 [PyPDF2._reader] WARNING: Superfluous whitespace found in object header b'149' b'0'\n",
      "2022-12-22 16:30:19 [PyPDF2._reader] WARNING: Superfluous whitespace found in object header b'148' b'0'\n",
      "2022-12-22 16:30:19 [PyPDF2._reader] WARNING: Superfluous whitespace found in object header b'102' b'0'\n",
      "2022-12-22 16:30:19 [PyPDF2._reader] WARNING: Superfluous whitespace found in object header b'103' b'0'\n",
      "2022-12-22 16:30:19 [PyPDF2._reader] WARNING: Superfluous whitespace found in object header b'104' b'0'\n",
      "2022-12-22 16:30:19 [PyPDF2._reader] WARNING: Superfluous whitespace found in object header b'105' b'0'\n",
      "2022-12-22 16:30:19 [PyPDF2._reader] WARNING: Superfluous whitespace found in object header b'106' b'0'\n",
      "2022-12-22 16:30:19 [PyPDF2._reader] WARNING: Superfluous whitespace found in object header b'107' b'0'\n",
      "2022-12-22 16:30:19 [PyPDF2._reader] WARNING: Superfluous whitespace found in object header b'108' b'0'\n",
      "2022-12-22 16:30:19 [PyPDF2._reader] WARNING: Superfluous whitespace found in object header b'109' b'0'\n",
      "2022-12-22 16:30:19 [PyPDF2._reader] WARNING: Superfluous whitespace found in object header b'110' b'0'\n",
      "2022-12-22 16:30:19 [PyPDF2._reader] WARNING: Superfluous whitespace found in object header b'111' b'0'\n",
      "2022-12-22 16:30:19 [PyPDF2._reader] WARNING: Superfluous whitespace found in object header b'112' b'0'\n",
      "2022-12-22 16:30:19 [PyPDF2._reader] WARNING: Superfluous whitespace found in object header b'113' b'0'\n",
      "2022-12-22 16:30:19 [PyPDF2._reader] WARNING: Superfluous whitespace found in object header b'114' b'0'\n",
      "2022-12-22 16:30:19 [PyPDF2._reader] WARNING: Superfluous whitespace found in object header b'115' b'0'\n",
      "2022-12-22 16:30:19 [PyPDF2._reader] WARNING: Superfluous whitespace found in object header b'116' b'0'\n",
      "2022-12-22 16:30:19 [PyPDF2._reader] WARNING: Superfluous whitespace found in object header b'117' b'0'\n",
      "2022-12-22 16:30:19 [PyPDF2._reader] WARNING: Superfluous whitespace found in object header b'118' b'0'\n",
      "2022-12-22 16:30:19 [PyPDF2._reader] WARNING: Superfluous whitespace found in object header b'119' b'0'\n",
      "2022-12-22 16:30:19 [PyPDF2._reader] WARNING: Superfluous whitespace found in object header b'120' b'0'\n",
      "2022-12-22 16:30:19 [PyPDF2._reader] WARNING: Superfluous whitespace found in object header b'121' b'0'\n",
      "2022-12-22 16:30:19 [PyPDF2._reader] WARNING: Superfluous whitespace found in object header b'122' b'0'\n",
      "2022-12-22 16:30:19 [PyPDF2._reader] WARNING: Superfluous whitespace found in object header b'123' b'0'\n",
      "2022-12-22 16:30:19 [PyPDF2._reader] WARNING: Superfluous whitespace found in object header b'124' b'0'\n",
      "2022-12-22 16:30:19 [PyPDF2._reader] WARNING: Superfluous whitespace found in object header b'125' b'0'\n",
      "2022-12-22 16:30:19 [PyPDF2._reader] WARNING: Superfluous whitespace found in object header b'126' b'0'\n",
      "2022-12-22 16:30:19 [PyPDF2._reader] WARNING: Superfluous whitespace found in object header b'127' b'0'\n",
      "2022-12-22 16:30:19 [PyPDF2._reader] WARNING: Superfluous whitespace found in object header b'128' b'0'\n",
      "2022-12-22 16:30:19 [PyPDF2._reader] WARNING: Superfluous whitespace found in object header b'129' b'0'\n",
      "2022-12-22 16:30:19 [PyPDF2._reader] WARNING: Superfluous whitespace found in object header b'130' b'0'\n",
      "2022-12-22 16:30:19 [PyPDF2._reader] WARNING: Superfluous whitespace found in object header b'131' b'0'\n",
      "2022-12-22 16:30:19 [PyPDF2._reader] WARNING: Superfluous whitespace found in object header b'132' b'0'\n",
      "2022-12-22 16:30:19 [PyPDF2._reader] WARNING: Superfluous whitespace found in object header b'133' b'0'\n",
      "2022-12-22 16:30:19 [PyPDF2._reader] WARNING: Superfluous whitespace found in object header b'134' b'0'\n",
      "2022-12-22 16:30:19 [PyPDF2._reader] WARNING: Superfluous whitespace found in object header b'135' b'0'\n",
      "2022-12-22 16:30:19 [PyPDF2._reader] WARNING: Superfluous whitespace found in object header b'136' b'0'\n",
      "2022-12-22 16:30:19 [PyPDF2._reader] WARNING: Superfluous whitespace found in object header b'137' b'0'\n",
      "2022-12-22 16:30:19 [PyPDF2._reader] WARNING: Superfluous whitespace found in object header b'138' b'0'\n",
      "2022-12-22 16:30:19 [PyPDF2._reader] WARNING: Superfluous whitespace found in object header b'139' b'0'\n",
      "2022-12-22 16:30:19 [PyPDF2._reader] WARNING: Superfluous whitespace found in object header b'140' b'0'\n",
      "2022-12-22 16:30:19 [PyPDF2._reader] WARNING: Superfluous whitespace found in object header b'141' b'0'\n",
      "2022-12-22 16:30:19 [PyPDF2._reader] WARNING: Superfluous whitespace found in object header b'142' b'0'\n",
      "2022-12-22 16:30:19 [PyPDF2._reader] WARNING: Superfluous whitespace found in object header b'143' b'0'\n",
      "2022-12-22 16:30:19 [PyPDF2._reader] WARNING: Superfluous whitespace found in object header b'144' b'0'\n",
      "2022-12-22 16:30:19 [PyPDF2._reader] WARNING: Superfluous whitespace found in object header b'145' b'0'\n",
      "2022-12-22 16:30:19 [PyPDF2._reader] WARNING: Superfluous whitespace found in object header b'146' b'0'\n",
      "2022-12-22 16:30:19 [PyPDF2._reader] WARNING: Superfluous whitespace found in object header b'147' b'0'\n",
      "2022-12-22 16:30:19 [PyPDF2._reader] WARNING: Superfluous whitespace found in object header b'198' b'0'\n"
     ]
    },
    {
     "name": "stderr",
     "output_type": "stream",
     "text": [
      "2022-12-22 16:30:19 [PyPDF2._reader] WARNING: Superfluous whitespace found in object header b'197' b'0'\n",
      "2022-12-22 16:30:19 [PyPDF2._reader] WARNING: Superfluous whitespace found in object header b'151' b'0'\n",
      "2022-12-22 16:30:19 [PyPDF2._reader] WARNING: Superfluous whitespace found in object header b'152' b'0'\n",
      "2022-12-22 16:30:19 [PyPDF2._reader] WARNING: Superfluous whitespace found in object header b'153' b'0'\n",
      "2022-12-22 16:30:19 [PyPDF2._reader] WARNING: Superfluous whitespace found in object header b'154' b'0'\n",
      "2022-12-22 16:30:19 [PyPDF2._reader] WARNING: Superfluous whitespace found in object header b'155' b'0'\n",
      "2022-12-22 16:30:19 [PyPDF2._reader] WARNING: Superfluous whitespace found in object header b'156' b'0'\n",
      "2022-12-22 16:30:19 [PyPDF2._reader] WARNING: Superfluous whitespace found in object header b'157' b'0'\n",
      "2022-12-22 16:30:19 [PyPDF2._reader] WARNING: Superfluous whitespace found in object header b'158' b'0'\n",
      "2022-12-22 16:30:19 [PyPDF2._reader] WARNING: Superfluous whitespace found in object header b'159' b'0'\n",
      "2022-12-22 16:30:19 [PyPDF2._reader] WARNING: Superfluous whitespace found in object header b'160' b'0'\n",
      "2022-12-22 16:30:19 [PyPDF2._reader] WARNING: Superfluous whitespace found in object header b'161' b'0'\n",
      "2022-12-22 16:30:19 [PyPDF2._reader] WARNING: Superfluous whitespace found in object header b'162' b'0'\n",
      "2022-12-22 16:30:19 [PyPDF2._reader] WARNING: Superfluous whitespace found in object header b'163' b'0'\n",
      "2022-12-22 16:30:19 [PyPDF2._reader] WARNING: Superfluous whitespace found in object header b'164' b'0'\n",
      "2022-12-22 16:30:19 [PyPDF2._reader] WARNING: Superfluous whitespace found in object header b'165' b'0'\n",
      "2022-12-22 16:30:19 [PyPDF2._reader] WARNING: Superfluous whitespace found in object header b'166' b'0'\n",
      "2022-12-22 16:30:19 [PyPDF2._reader] WARNING: Superfluous whitespace found in object header b'167' b'0'\n",
      "2022-12-22 16:30:19 [PyPDF2._reader] WARNING: Superfluous whitespace found in object header b'168' b'0'\n",
      "2022-12-22 16:30:19 [PyPDF2._reader] WARNING: Superfluous whitespace found in object header b'169' b'0'\n",
      "2022-12-22 16:30:19 [PyPDF2._reader] WARNING: Superfluous whitespace found in object header b'170' b'0'\n",
      "2022-12-22 16:30:19 [PyPDF2._reader] WARNING: Superfluous whitespace found in object header b'171' b'0'\n",
      "2022-12-22 16:30:19 [PyPDF2._reader] WARNING: Superfluous whitespace found in object header b'172' b'0'\n",
      "2022-12-22 16:30:19 [PyPDF2._reader] WARNING: Superfluous whitespace found in object header b'173' b'0'\n",
      "2022-12-22 16:30:19 [PyPDF2._reader] WARNING: Superfluous whitespace found in object header b'174' b'0'\n",
      "2022-12-22 16:30:19 [PyPDF2._reader] WARNING: Superfluous whitespace found in object header b'175' b'0'\n",
      "2022-12-22 16:30:19 [PyPDF2._reader] WARNING: Superfluous whitespace found in object header b'176' b'0'\n",
      "2022-12-22 16:30:19 [PyPDF2._reader] WARNING: Superfluous whitespace found in object header b'177' b'0'\n",
      "2022-12-22 16:30:19 [PyPDF2._reader] WARNING: Superfluous whitespace found in object header b'178' b'0'\n",
      "2022-12-22 16:30:19 [PyPDF2._reader] WARNING: Superfluous whitespace found in object header b'179' b'0'\n",
      "2022-12-22 16:30:19 [PyPDF2._reader] WARNING: Superfluous whitespace found in object header b'180' b'0'\n",
      "2022-12-22 16:30:19 [PyPDF2._reader] WARNING: Superfluous whitespace found in object header b'181' b'0'\n",
      "2022-12-22 16:30:19 [PyPDF2._reader] WARNING: Superfluous whitespace found in object header b'182' b'0'\n",
      "2022-12-22 16:30:19 [PyPDF2._reader] WARNING: Superfluous whitespace found in object header b'183' b'0'\n",
      "2022-12-22 16:30:19 [PyPDF2._reader] WARNING: Superfluous whitespace found in object header b'184' b'0'\n",
      "2022-12-22 16:30:19 [PyPDF2._reader] WARNING: Superfluous whitespace found in object header b'185' b'0'\n",
      "2022-12-22 16:30:19 [PyPDF2._reader] WARNING: Superfluous whitespace found in object header b'186' b'0'\n",
      "2022-12-22 16:30:19 [PyPDF2._reader] WARNING: Superfluous whitespace found in object header b'187' b'0'\n",
      "2022-12-22 16:30:19 [PyPDF2._reader] WARNING: Superfluous whitespace found in object header b'188' b'0'\n",
      "2022-12-22 16:30:19 [PyPDF2._reader] WARNING: Superfluous whitespace found in object header b'189' b'0'\n",
      "2022-12-22 16:30:19 [PyPDF2._reader] WARNING: Superfluous whitespace found in object header b'190' b'0'\n",
      "2022-12-22 16:30:19 [PyPDF2._reader] WARNING: Superfluous whitespace found in object header b'191' b'0'\n",
      "2022-12-22 16:30:19 [PyPDF2._reader] WARNING: Superfluous whitespace found in object header b'192' b'0'\n",
      "2022-12-22 16:30:19 [PyPDF2._reader] WARNING: Superfluous whitespace found in object header b'193' b'0'\n",
      "2022-12-22 16:30:19 [PyPDF2._reader] WARNING: Superfluous whitespace found in object header b'194' b'0'\n",
      "2022-12-22 16:30:19 [PyPDF2._reader] WARNING: Superfluous whitespace found in object header b'195' b'0'\n",
      "2022-12-22 16:30:19 [PyPDF2._reader] WARNING: Superfluous whitespace found in object header b'196' b'0'\n",
      "2022-12-22 16:30:19 [PyPDF2._reader] WARNING: Superfluous whitespace found in object header b'247' b'0'\n",
      "2022-12-22 16:30:19 [PyPDF2._reader] WARNING: Superfluous whitespace found in object header b'246' b'0'\n",
      "2022-12-22 16:30:19 [PyPDF2._reader] WARNING: Superfluous whitespace found in object header b'200' b'0'\n",
      "2022-12-22 16:30:19 [PyPDF2._reader] WARNING: Superfluous whitespace found in object header b'201' b'0'\n",
      "2022-12-22 16:30:19 [PyPDF2._reader] WARNING: Superfluous whitespace found in object header b'202' b'0'\n",
      "2022-12-22 16:30:19 [PyPDF2._reader] WARNING: Superfluous whitespace found in object header b'203' b'0'\n",
      "2022-12-22 16:30:19 [PyPDF2._reader] WARNING: Superfluous whitespace found in object header b'204' b'0'\n",
      "2022-12-22 16:30:19 [PyPDF2._reader] WARNING: Superfluous whitespace found in object header b'205' b'0'\n",
      "2022-12-22 16:30:19 [PyPDF2._reader] WARNING: Superfluous whitespace found in object header b'206' b'0'\n",
      "2022-12-22 16:30:19 [PyPDF2._reader] WARNING: Superfluous whitespace found in object header b'207' b'0'\n",
      "2022-12-22 16:30:19 [PyPDF2._reader] WARNING: Superfluous whitespace found in object header b'208' b'0'\n",
      "2022-12-22 16:30:19 [PyPDF2._reader] WARNING: Superfluous whitespace found in object header b'209' b'0'\n",
      "2022-12-22 16:30:19 [PyPDF2._reader] WARNING: Superfluous whitespace found in object header b'210' b'0'\n",
      "2022-12-22 16:30:19 [PyPDF2._reader] WARNING: Superfluous whitespace found in object header b'211' b'0'\n",
      "2022-12-22 16:30:19 [PyPDF2._reader] WARNING: Superfluous whitespace found in object header b'212' b'0'\n",
      "2022-12-22 16:30:19 [PyPDF2._reader] WARNING: Superfluous whitespace found in object header b'213' b'0'\n",
      "2022-12-22 16:30:19 [PyPDF2._reader] WARNING: Superfluous whitespace found in object header b'214' b'0'\n",
      "2022-12-22 16:30:19 [PyPDF2._reader] WARNING: Superfluous whitespace found in object header b'215' b'0'\n",
      "2022-12-22 16:30:19 [PyPDF2._reader] WARNING: Superfluous whitespace found in object header b'216' b'0'\n",
      "2022-12-22 16:30:19 [PyPDF2._reader] WARNING: Superfluous whitespace found in object header b'217' b'0'\n",
      "2022-12-22 16:30:19 [PyPDF2._reader] WARNING: Superfluous whitespace found in object header b'218' b'0'\n",
      "2022-12-22 16:30:19 [PyPDF2._reader] WARNING: Superfluous whitespace found in object header b'219' b'0'\n",
      "2022-12-22 16:30:19 [PyPDF2._reader] WARNING: Superfluous whitespace found in object header b'220' b'0'\n",
      "2022-12-22 16:30:19 [PyPDF2._reader] WARNING: Superfluous whitespace found in object header b'221' b'0'\n",
      "2022-12-22 16:30:19 [PyPDF2._reader] WARNING: Superfluous whitespace found in object header b'222' b'0'\n",
      "2022-12-22 16:30:19 [PyPDF2._reader] WARNING: Superfluous whitespace found in object header b'223' b'0'\n",
      "2022-12-22 16:30:19 [PyPDF2._reader] WARNING: Superfluous whitespace found in object header b'224' b'0'\n",
      "2022-12-22 16:30:19 [PyPDF2._reader] WARNING: Superfluous whitespace found in object header b'225' b'0'\n",
      "2022-12-22 16:30:19 [PyPDF2._reader] WARNING: Superfluous whitespace found in object header b'226' b'0'\n",
      "2022-12-22 16:30:19 [PyPDF2._reader] WARNING: Superfluous whitespace found in object header b'227' b'0'\n",
      "2022-12-22 16:30:19 [PyPDF2._reader] WARNING: Superfluous whitespace found in object header b'228' b'0'\n",
      "2022-12-22 16:30:19 [PyPDF2._reader] WARNING: Superfluous whitespace found in object header b'229' b'0'\n"
     ]
    },
    {
     "name": "stderr",
     "output_type": "stream",
     "text": [
      "2022-12-22 16:30:19 [PyPDF2._reader] WARNING: Superfluous whitespace found in object header b'230' b'0'\n",
      "2022-12-22 16:30:19 [PyPDF2._reader] WARNING: Superfluous whitespace found in object header b'231' b'0'\n",
      "2022-12-22 16:30:19 [PyPDF2._reader] WARNING: Superfluous whitespace found in object header b'232' b'0'\n",
      "2022-12-22 16:30:19 [PyPDF2._reader] WARNING: Superfluous whitespace found in object header b'233' b'0'\n",
      "2022-12-22 16:30:19 [PyPDF2._reader] WARNING: Superfluous whitespace found in object header b'234' b'0'\n",
      "2022-12-22 16:30:19 [PyPDF2._reader] WARNING: Superfluous whitespace found in object header b'235' b'0'\n",
      "2022-12-22 16:30:19 [PyPDF2._reader] WARNING: Superfluous whitespace found in object header b'236' b'0'\n",
      "2022-12-22 16:30:19 [PyPDF2._reader] WARNING: Superfluous whitespace found in object header b'237' b'0'\n",
      "2022-12-22 16:30:19 [PyPDF2._reader] WARNING: Superfluous whitespace found in object header b'238' b'0'\n",
      "2022-12-22 16:30:19 [PyPDF2._reader] WARNING: Superfluous whitespace found in object header b'239' b'0'\n",
      "2022-12-22 16:30:19 [PyPDF2._reader] WARNING: Superfluous whitespace found in object header b'240' b'0'\n",
      "2022-12-22 16:30:19 [PyPDF2._reader] WARNING: Superfluous whitespace found in object header b'241' b'0'\n",
      "2022-12-22 16:30:19 [PyPDF2._reader] WARNING: Superfluous whitespace found in object header b'242' b'0'\n",
      "2022-12-22 16:30:19 [PyPDF2._reader] WARNING: Superfluous whitespace found in object header b'243' b'0'\n",
      "2022-12-22 16:30:19 [PyPDF2._reader] WARNING: Superfluous whitespace found in object header b'244' b'0'\n",
      "2022-12-22 16:30:19 [PyPDF2._reader] WARNING: Superfluous whitespace found in object header b'245' b'0'\n",
      "2022-12-22 16:30:19 [PyPDF2._reader] WARNING: Superfluous whitespace found in object header b'296' b'0'\n",
      "2022-12-22 16:30:19 [PyPDF2._reader] WARNING: Superfluous whitespace found in object header b'295' b'0'\n",
      "2022-12-22 16:30:19 [PyPDF2._reader] WARNING: Superfluous whitespace found in object header b'249' b'0'\n",
      "2022-12-22 16:30:19 [PyPDF2._reader] WARNING: Superfluous whitespace found in object header b'250' b'0'\n",
      "2022-12-22 16:30:19 [PyPDF2._reader] WARNING: Superfluous whitespace found in object header b'251' b'0'\n",
      "2022-12-22 16:30:19 [PyPDF2._reader] WARNING: Superfluous whitespace found in object header b'252' b'0'\n",
      "2022-12-22 16:30:19 [PyPDF2._reader] WARNING: Superfluous whitespace found in object header b'253' b'0'\n",
      "2022-12-22 16:30:19 [PyPDF2._reader] WARNING: Superfluous whitespace found in object header b'254' b'0'\n",
      "2022-12-22 16:30:19 [PyPDF2._reader] WARNING: Superfluous whitespace found in object header b'255' b'0'\n",
      "2022-12-22 16:30:19 [PyPDF2._reader] WARNING: Superfluous whitespace found in object header b'256' b'0'\n",
      "2022-12-22 16:30:19 [PyPDF2._reader] WARNING: Superfluous whitespace found in object header b'257' b'0'\n",
      "2022-12-22 16:30:19 [PyPDF2._reader] WARNING: Superfluous whitespace found in object header b'258' b'0'\n",
      "2022-12-22 16:30:19 [PyPDF2._reader] WARNING: Superfluous whitespace found in object header b'259' b'0'\n",
      "2022-12-22 16:30:19 [PyPDF2._reader] WARNING: Superfluous whitespace found in object header b'260' b'0'\n",
      "2022-12-22 16:30:19 [PyPDF2._reader] WARNING: Superfluous whitespace found in object header b'261' b'0'\n",
      "2022-12-22 16:30:19 [PyPDF2._reader] WARNING: Superfluous whitespace found in object header b'262' b'0'\n",
      "2022-12-22 16:30:19 [PyPDF2._reader] WARNING: Superfluous whitespace found in object header b'263' b'0'\n",
      "2022-12-22 16:30:19 [PyPDF2._reader] WARNING: Superfluous whitespace found in object header b'264' b'0'\n",
      "2022-12-22 16:30:19 [PyPDF2._reader] WARNING: Superfluous whitespace found in object header b'265' b'0'\n",
      "2022-12-22 16:30:19 [PyPDF2._reader] WARNING: Superfluous whitespace found in object header b'266' b'0'\n",
      "2022-12-22 16:30:19 [PyPDF2._reader] WARNING: Superfluous whitespace found in object header b'267' b'0'\n",
      "2022-12-22 16:30:19 [PyPDF2._reader] WARNING: Superfluous whitespace found in object header b'268' b'0'\n",
      "2022-12-22 16:30:19 [PyPDF2._reader] WARNING: Superfluous whitespace found in object header b'269' b'0'\n",
      "2022-12-22 16:30:19 [PyPDF2._reader] WARNING: Superfluous whitespace found in object header b'270' b'0'\n",
      "2022-12-22 16:30:19 [PyPDF2._reader] WARNING: Superfluous whitespace found in object header b'271' b'0'\n",
      "2022-12-22 16:30:19 [PyPDF2._reader] WARNING: Superfluous whitespace found in object header b'272' b'0'\n",
      "2022-12-22 16:30:19 [PyPDF2._reader] WARNING: Superfluous whitespace found in object header b'273' b'0'\n",
      "2022-12-22 16:30:19 [PyPDF2._reader] WARNING: Superfluous whitespace found in object header b'274' b'0'\n",
      "2022-12-22 16:30:19 [PyPDF2._reader] WARNING: Superfluous whitespace found in object header b'275' b'0'\n",
      "2022-12-22 16:30:19 [PyPDF2._reader] WARNING: Superfluous whitespace found in object header b'276' b'0'\n",
      "2022-12-22 16:30:19 [PyPDF2._reader] WARNING: Superfluous whitespace found in object header b'277' b'0'\n",
      "2022-12-22 16:30:19 [PyPDF2._reader] WARNING: Superfluous whitespace found in object header b'278' b'0'\n",
      "2022-12-22 16:30:19 [PyPDF2._reader] WARNING: Superfluous whitespace found in object header b'279' b'0'\n",
      "2022-12-22 16:30:19 [PyPDF2._reader] WARNING: Superfluous whitespace found in object header b'280' b'0'\n",
      "2022-12-22 16:30:19 [PyPDF2._reader] WARNING: Superfluous whitespace found in object header b'281' b'0'\n",
      "2022-12-22 16:30:19 [PyPDF2._reader] WARNING: Superfluous whitespace found in object header b'282' b'0'\n",
      "2022-12-22 16:30:19 [PyPDF2._reader] WARNING: Superfluous whitespace found in object header b'283' b'0'\n",
      "2022-12-22 16:30:19 [PyPDF2._reader] WARNING: Superfluous whitespace found in object header b'284' b'0'\n",
      "2022-12-22 16:30:19 [PyPDF2._reader] WARNING: Superfluous whitespace found in object header b'285' b'0'\n",
      "2022-12-22 16:30:19 [PyPDF2._reader] WARNING: Superfluous whitespace found in object header b'286' b'0'\n",
      "2022-12-22 16:30:19 [PyPDF2._reader] WARNING: Superfluous whitespace found in object header b'287' b'0'\n",
      "2022-12-22 16:30:19 [PyPDF2._reader] WARNING: Superfluous whitespace found in object header b'288' b'0'\n",
      "2022-12-22 16:30:19 [PyPDF2._reader] WARNING: Superfluous whitespace found in object header b'289' b'0'\n",
      "2022-12-22 16:30:19 [PyPDF2._reader] WARNING: Superfluous whitespace found in object header b'290' b'0'\n",
      "2022-12-22 16:30:19 [PyPDF2._reader] WARNING: Superfluous whitespace found in object header b'291' b'0'\n",
      "2022-12-22 16:30:19 [PyPDF2._reader] WARNING: Superfluous whitespace found in object header b'292' b'0'\n",
      "2022-12-22 16:30:19 [PyPDF2._reader] WARNING: Superfluous whitespace found in object header b'293' b'0'\n",
      "2022-12-22 16:30:19 [PyPDF2._reader] WARNING: Superfluous whitespace found in object header b'294' b'0'\n",
      "2022-12-22 16:30:19 [PyPDF2._reader] WARNING: Superfluous whitespace found in object header b'345' b'0'\n",
      "2022-12-22 16:30:19 [PyPDF2._reader] WARNING: Superfluous whitespace found in object header b'344' b'0'\n",
      "2022-12-22 16:30:19 [PyPDF2._reader] WARNING: Superfluous whitespace found in object header b'298' b'0'\n",
      "2022-12-22 16:30:19 [PyPDF2._reader] WARNING: Superfluous whitespace found in object header b'299' b'0'\n",
      "2022-12-22 16:30:19 [PyPDF2._reader] WARNING: Superfluous whitespace found in object header b'300' b'0'\n",
      "2022-12-22 16:30:19 [PyPDF2._reader] WARNING: Superfluous whitespace found in object header b'301' b'0'\n",
      "2022-12-22 16:30:19 [PyPDF2._reader] WARNING: Superfluous whitespace found in object header b'302' b'0'\n",
      "2022-12-22 16:30:19 [PyPDF2._reader] WARNING: Superfluous whitespace found in object header b'303' b'0'\n",
      "2022-12-22 16:30:19 [PyPDF2._reader] WARNING: Superfluous whitespace found in object header b'304' b'0'\n",
      "2022-12-22 16:30:19 [PyPDF2._reader] WARNING: Superfluous whitespace found in object header b'305' b'0'\n",
      "2022-12-22 16:30:19 [PyPDF2._reader] WARNING: Superfluous whitespace found in object header b'306' b'0'\n",
      "2022-12-22 16:30:19 [PyPDF2._reader] WARNING: Superfluous whitespace found in object header b'307' b'0'\n",
      "2022-12-22 16:30:19 [PyPDF2._reader] WARNING: Superfluous whitespace found in object header b'308' b'0'\n",
      "2022-12-22 16:30:19 [PyPDF2._reader] WARNING: Superfluous whitespace found in object header b'309' b'0'\n",
      "2022-12-22 16:30:19 [PyPDF2._reader] WARNING: Superfluous whitespace found in object header b'310' b'0'\n"
     ]
    },
    {
     "name": "stderr",
     "output_type": "stream",
     "text": [
      "2022-12-22 16:30:19 [PyPDF2._reader] WARNING: Superfluous whitespace found in object header b'311' b'0'\n",
      "2022-12-22 16:30:19 [PyPDF2._reader] WARNING: Superfluous whitespace found in object header b'312' b'0'\n",
      "2022-12-22 16:30:19 [PyPDF2._reader] WARNING: Superfluous whitespace found in object header b'313' b'0'\n",
      "2022-12-22 16:30:19 [PyPDF2._reader] WARNING: Superfluous whitespace found in object header b'314' b'0'\n",
      "2022-12-22 16:30:19 [PyPDF2._reader] WARNING: Superfluous whitespace found in object header b'315' b'0'\n",
      "2022-12-22 16:30:19 [PyPDF2._reader] WARNING: Superfluous whitespace found in object header b'316' b'0'\n",
      "2022-12-22 16:30:19 [PyPDF2._reader] WARNING: Superfluous whitespace found in object header b'317' b'0'\n",
      "2022-12-22 16:30:19 [PyPDF2._reader] WARNING: Superfluous whitespace found in object header b'318' b'0'\n",
      "2022-12-22 16:30:19 [PyPDF2._reader] WARNING: Superfluous whitespace found in object header b'319' b'0'\n",
      "2022-12-22 16:30:19 [PyPDF2._reader] WARNING: Superfluous whitespace found in object header b'320' b'0'\n",
      "2022-12-22 16:30:19 [PyPDF2._reader] WARNING: Superfluous whitespace found in object header b'321' b'0'\n",
      "2022-12-22 16:30:19 [PyPDF2._reader] WARNING: Superfluous whitespace found in object header b'322' b'0'\n",
      "2022-12-22 16:30:19 [PyPDF2._reader] WARNING: Superfluous whitespace found in object header b'323' b'0'\n",
      "2022-12-22 16:30:19 [PyPDF2._reader] WARNING: Superfluous whitespace found in object header b'324' b'0'\n",
      "2022-12-22 16:30:19 [PyPDF2._reader] WARNING: Superfluous whitespace found in object header b'325' b'0'\n",
      "2022-12-22 16:30:19 [PyPDF2._reader] WARNING: Superfluous whitespace found in object header b'326' b'0'\n",
      "2022-12-22 16:30:19 [PyPDF2._reader] WARNING: Superfluous whitespace found in object header b'327' b'0'\n",
      "2022-12-22 16:30:19 [PyPDF2._reader] WARNING: Superfluous whitespace found in object header b'328' b'0'\n",
      "2022-12-22 16:30:19 [PyPDF2._reader] WARNING: Superfluous whitespace found in object header b'329' b'0'\n",
      "2022-12-22 16:30:19 [PyPDF2._reader] WARNING: Superfluous whitespace found in object header b'330' b'0'\n",
      "2022-12-22 16:30:19 [PyPDF2._reader] WARNING: Superfluous whitespace found in object header b'331' b'0'\n",
      "2022-12-22 16:30:19 [PyPDF2._reader] WARNING: Superfluous whitespace found in object header b'332' b'0'\n",
      "2022-12-22 16:30:19 [PyPDF2._reader] WARNING: Superfluous whitespace found in object header b'333' b'0'\n",
      "2022-12-22 16:30:19 [PyPDF2._reader] WARNING: Superfluous whitespace found in object header b'334' b'0'\n",
      "2022-12-22 16:30:19 [PyPDF2._reader] WARNING: Superfluous whitespace found in object header b'335' b'0'\n",
      "2022-12-22 16:30:19 [PyPDF2._reader] WARNING: Superfluous whitespace found in object header b'336' b'0'\n",
      "2022-12-22 16:30:19 [PyPDF2._reader] WARNING: Superfluous whitespace found in object header b'337' b'0'\n",
      "2022-12-22 16:30:19 [PyPDF2._reader] WARNING: Superfluous whitespace found in object header b'338' b'0'\n",
      "2022-12-22 16:30:19 [PyPDF2._reader] WARNING: Superfluous whitespace found in object header b'339' b'0'\n",
      "2022-12-22 16:30:19 [PyPDF2._reader] WARNING: Superfluous whitespace found in object header b'340' b'0'\n",
      "2022-12-22 16:30:19 [PyPDF2._reader] WARNING: Superfluous whitespace found in object header b'341' b'0'\n",
      "2022-12-22 16:30:19 [PyPDF2._reader] WARNING: Superfluous whitespace found in object header b'342' b'0'\n",
      "2022-12-22 16:30:19 [PyPDF2._reader] WARNING: Superfluous whitespace found in object header b'343' b'0'\n",
      "2022-12-22 16:30:19 [PyPDF2._reader] WARNING: Superfluous whitespace found in object header b'394' b'0'\n",
      "2022-12-22 16:30:19 [PyPDF2._reader] WARNING: Superfluous whitespace found in object header b'393' b'0'\n",
      "2022-12-22 16:30:19 [PyPDF2._reader] WARNING: Superfluous whitespace found in object header b'347' b'0'\n",
      "2022-12-22 16:30:19 [PyPDF2._reader] WARNING: Superfluous whitespace found in object header b'348' b'0'\n",
      "2022-12-22 16:30:19 [PyPDF2._reader] WARNING: Superfluous whitespace found in object header b'349' b'0'\n",
      "2022-12-22 16:30:19 [PyPDF2._reader] WARNING: Superfluous whitespace found in object header b'350' b'0'\n",
      "2022-12-22 16:30:19 [PyPDF2._reader] WARNING: Superfluous whitespace found in object header b'351' b'0'\n",
      "2022-12-22 16:30:19 [PyPDF2._reader] WARNING: Superfluous whitespace found in object header b'352' b'0'\n",
      "2022-12-22 16:30:19 [PyPDF2._reader] WARNING: Superfluous whitespace found in object header b'353' b'0'\n",
      "2022-12-22 16:30:19 [PyPDF2._reader] WARNING: Superfluous whitespace found in object header b'354' b'0'\n",
      "2022-12-22 16:30:19 [PyPDF2._reader] WARNING: Superfluous whitespace found in object header b'355' b'0'\n",
      "2022-12-22 16:30:19 [PyPDF2._reader] WARNING: Superfluous whitespace found in object header b'356' b'0'\n",
      "2022-12-22 16:30:19 [PyPDF2._reader] WARNING: Superfluous whitespace found in object header b'357' b'0'\n",
      "2022-12-22 16:30:19 [PyPDF2._reader] WARNING: Superfluous whitespace found in object header b'358' b'0'\n",
      "2022-12-22 16:30:19 [PyPDF2._reader] WARNING: Superfluous whitespace found in object header b'359' b'0'\n",
      "2022-12-22 16:30:19 [PyPDF2._reader] WARNING: Superfluous whitespace found in object header b'360' b'0'\n",
      "2022-12-22 16:30:19 [PyPDF2._reader] WARNING: Superfluous whitespace found in object header b'361' b'0'\n",
      "2022-12-22 16:30:19 [PyPDF2._reader] WARNING: Superfluous whitespace found in object header b'362' b'0'\n",
      "2022-12-22 16:30:19 [PyPDF2._reader] WARNING: Superfluous whitespace found in object header b'363' b'0'\n",
      "2022-12-22 16:30:19 [PyPDF2._reader] WARNING: Superfluous whitespace found in object header b'364' b'0'\n",
      "2022-12-22 16:30:19 [PyPDF2._reader] WARNING: Superfluous whitespace found in object header b'365' b'0'\n",
      "2022-12-22 16:30:19 [PyPDF2._reader] WARNING: Superfluous whitespace found in object header b'366' b'0'\n",
      "2022-12-22 16:30:19 [PyPDF2._reader] WARNING: Superfluous whitespace found in object header b'367' b'0'\n",
      "2022-12-22 16:30:19 [PyPDF2._reader] WARNING: Superfluous whitespace found in object header b'368' b'0'\n",
      "2022-12-22 16:30:19 [PyPDF2._reader] WARNING: Superfluous whitespace found in object header b'369' b'0'\n",
      "2022-12-22 16:30:19 [PyPDF2._reader] WARNING: Superfluous whitespace found in object header b'370' b'0'\n",
      "2022-12-22 16:30:19 [PyPDF2._reader] WARNING: Superfluous whitespace found in object header b'371' b'0'\n",
      "2022-12-22 16:30:19 [PyPDF2._reader] WARNING: Superfluous whitespace found in object header b'372' b'0'\n",
      "2022-12-22 16:30:19 [PyPDF2._reader] WARNING: Superfluous whitespace found in object header b'373' b'0'\n",
      "2022-12-22 16:30:19 [PyPDF2._reader] WARNING: Superfluous whitespace found in object header b'374' b'0'\n",
      "2022-12-22 16:30:19 [PyPDF2._reader] WARNING: Superfluous whitespace found in object header b'375' b'0'\n",
      "2022-12-22 16:30:19 [PyPDF2._reader] WARNING: Superfluous whitespace found in object header b'376' b'0'\n",
      "2022-12-22 16:30:19 [PyPDF2._reader] WARNING: Superfluous whitespace found in object header b'377' b'0'\n",
      "2022-12-22 16:30:19 [PyPDF2._reader] WARNING: Superfluous whitespace found in object header b'378' b'0'\n",
      "2022-12-22 16:30:19 [PyPDF2._reader] WARNING: Superfluous whitespace found in object header b'379' b'0'\n",
      "2022-12-22 16:30:19 [PyPDF2._reader] WARNING: Superfluous whitespace found in object header b'380' b'0'\n",
      "2022-12-22 16:30:19 [PyPDF2._reader] WARNING: Superfluous whitespace found in object header b'381' b'0'\n",
      "2022-12-22 16:30:19 [PyPDF2._reader] WARNING: Superfluous whitespace found in object header b'382' b'0'\n",
      "2022-12-22 16:30:19 [PyPDF2._reader] WARNING: Superfluous whitespace found in object header b'383' b'0'\n",
      "2022-12-22 16:30:19 [PyPDF2._reader] WARNING: Superfluous whitespace found in object header b'384' b'0'\n",
      "2022-12-22 16:30:19 [PyPDF2._reader] WARNING: Superfluous whitespace found in object header b'385' b'0'\n",
      "2022-12-22 16:30:19 [PyPDF2._reader] WARNING: Superfluous whitespace found in object header b'386' b'0'\n",
      "2022-12-22 16:30:19 [PyPDF2._reader] WARNING: Superfluous whitespace found in object header b'387' b'0'\n",
      "2022-12-22 16:30:19 [PyPDF2._reader] WARNING: Superfluous whitespace found in object header b'388' b'0'\n",
      "2022-12-22 16:30:19 [PyPDF2._reader] WARNING: Superfluous whitespace found in object header b'389' b'0'\n",
      "2022-12-22 16:30:19 [PyPDF2._reader] WARNING: Superfluous whitespace found in object header b'390' b'0'\n"
     ]
    },
    {
     "name": "stderr",
     "output_type": "stream",
     "text": [
      "2022-12-22 16:30:19 [PyPDF2._reader] WARNING: Superfluous whitespace found in object header b'391' b'0'\n",
      "2022-12-22 16:30:19 [PyPDF2._reader] WARNING: Superfluous whitespace found in object header b'392' b'0'\n",
      "2022-12-22 16:30:19 [root] INFO: Parse auction.... https://sale.uslugi.io/sidp/3796\n"
     ]
    },
    {
     "name": "stdout",
     "output_type": "stream",
     "text": [
      "Parse auction.... https://sale.uslugi.io/sidp/3796\n"
     ]
    },
    {
     "name": "stderr",
     "output_type": "stream",
     "text": [
      "2022-12-22 16:30:20 [root] INFO: Parse auction.... https://sale.uslugi.io/sidp/3897\n"
     ]
    },
    {
     "name": "stdout",
     "output_type": "stream",
     "text": [
      "Parse auction.... https://sale.uslugi.io/sidp/3897\n"
     ]
    },
    {
     "name": "stderr",
     "output_type": "stream",
     "text": [
      "2022-12-22 16:30:20 [PyPDF2._reader] WARNING: Superfluous whitespace found in object header b'1' b'0'\n",
      "2022-12-22 16:30:20 [PyPDF2._reader] WARNING: Superfluous whitespace found in object header b'2' b'0'\n",
      "2022-12-22 16:30:20 [PyPDF2._reader] WARNING: Superfluous whitespace found in object header b'3' b'0'\n",
      "2022-12-22 16:30:20 [PyPDF2._reader] WARNING: Superfluous whitespace found in object header b'52' b'0'\n",
      "2022-12-22 16:30:20 [PyPDF2._reader] WARNING: Superfluous whitespace found in object header b'101' b'0'\n",
      "2022-12-22 16:30:20 [PyPDF2._reader] WARNING: Superfluous whitespace found in object header b'51' b'0'\n",
      "2022-12-22 16:30:20 [PyPDF2._reader] WARNING: Superfluous whitespace found in object header b'50' b'0'\n",
      "2022-12-22 16:30:20 [PyPDF2._reader] WARNING: Superfluous whitespace found in object header b'4' b'0'\n",
      "2022-12-22 16:30:20 [PyPDF2._reader] WARNING: Superfluous whitespace found in object header b'5' b'0'\n",
      "2022-12-22 16:30:20 [PyPDF2._reader] WARNING: Superfluous whitespace found in object header b'6' b'0'\n",
      "2022-12-22 16:30:20 [PyPDF2._reader] WARNING: Superfluous whitespace found in object header b'7' b'0'\n",
      "2022-12-22 16:30:20 [PyPDF2._reader] WARNING: Superfluous whitespace found in object header b'8' b'0'\n",
      "2022-12-22 16:30:20 [PyPDF2._reader] WARNING: Superfluous whitespace found in object header b'9' b'0'\n",
      "2022-12-22 16:30:20 [PyPDF2._reader] WARNING: Superfluous whitespace found in object header b'10' b'0'\n",
      "2022-12-22 16:30:20 [PyPDF2._reader] WARNING: Superfluous whitespace found in object header b'11' b'0'\n",
      "2022-12-22 16:30:20 [PyPDF2._reader] WARNING: Superfluous whitespace found in object header b'12' b'0'\n",
      "2022-12-22 16:30:20 [PyPDF2._reader] WARNING: Superfluous whitespace found in object header b'13' b'0'\n",
      "2022-12-22 16:30:20 [PyPDF2._reader] WARNING: Superfluous whitespace found in object header b'14' b'0'\n",
      "2022-12-22 16:30:20 [PyPDF2._reader] WARNING: Superfluous whitespace found in object header b'15' b'0'\n",
      "2022-12-22 16:30:20 [PyPDF2._reader] WARNING: Superfluous whitespace found in object header b'16' b'0'\n",
      "2022-12-22 16:30:20 [PyPDF2._reader] WARNING: Superfluous whitespace found in object header b'17' b'0'\n",
      "2022-12-22 16:30:20 [PyPDF2._reader] WARNING: Superfluous whitespace found in object header b'18' b'0'\n",
      "2022-12-22 16:30:20 [PyPDF2._reader] WARNING: Superfluous whitespace found in object header b'19' b'0'\n",
      "2022-12-22 16:30:20 [PyPDF2._reader] WARNING: Superfluous whitespace found in object header b'20' b'0'\n",
      "2022-12-22 16:30:20 [PyPDF2._reader] WARNING: Superfluous whitespace found in object header b'21' b'0'\n",
      "2022-12-22 16:30:20 [PyPDF2._reader] WARNING: Superfluous whitespace found in object header b'22' b'0'\n",
      "2022-12-22 16:30:20 [PyPDF2._reader] WARNING: Superfluous whitespace found in object header b'23' b'0'\n",
      "2022-12-22 16:30:20 [PyPDF2._reader] WARNING: Superfluous whitespace found in object header b'24' b'0'\n",
      "2022-12-22 16:30:20 [PyPDF2._reader] WARNING: Superfluous whitespace found in object header b'25' b'0'\n",
      "2022-12-22 16:30:20 [PyPDF2._reader] WARNING: Superfluous whitespace found in object header b'26' b'0'\n",
      "2022-12-22 16:30:20 [PyPDF2._reader] WARNING: Superfluous whitespace found in object header b'27' b'0'\n",
      "2022-12-22 16:30:20 [PyPDF2._reader] WARNING: Superfluous whitespace found in object header b'28' b'0'\n",
      "2022-12-22 16:30:20 [PyPDF2._reader] WARNING: Superfluous whitespace found in object header b'29' b'0'\n",
      "2022-12-22 16:30:20 [PyPDF2._reader] WARNING: Superfluous whitespace found in object header b'30' b'0'\n",
      "2022-12-22 16:30:20 [PyPDF2._reader] WARNING: Superfluous whitespace found in object header b'31' b'0'\n",
      "2022-12-22 16:30:20 [PyPDF2._reader] WARNING: Superfluous whitespace found in object header b'32' b'0'\n",
      "2022-12-22 16:30:20 [PyPDF2._reader] WARNING: Superfluous whitespace found in object header b'33' b'0'\n",
      "2022-12-22 16:30:20 [PyPDF2._reader] WARNING: Superfluous whitespace found in object header b'34' b'0'\n",
      "2022-12-22 16:30:20 [PyPDF2._reader] WARNING: Superfluous whitespace found in object header b'35' b'0'\n",
      "2022-12-22 16:30:20 [PyPDF2._reader] WARNING: Superfluous whitespace found in object header b'36' b'0'\n",
      "2022-12-22 16:30:20 [PyPDF2._reader] WARNING: Superfluous whitespace found in object header b'37' b'0'\n",
      "2022-12-22 16:30:20 [PyPDF2._reader] WARNING: Superfluous whitespace found in object header b'38' b'0'\n",
      "2022-12-22 16:30:20 [PyPDF2._reader] WARNING: Superfluous whitespace found in object header b'39' b'0'\n",
      "2022-12-22 16:30:20 [PyPDF2._reader] WARNING: Superfluous whitespace found in object header b'40' b'0'\n",
      "2022-12-22 16:30:20 [PyPDF2._reader] WARNING: Superfluous whitespace found in object header b'41' b'0'\n",
      "2022-12-22 16:30:20 [PyPDF2._reader] WARNING: Superfluous whitespace found in object header b'42' b'0'\n",
      "2022-12-22 16:30:20 [PyPDF2._reader] WARNING: Superfluous whitespace found in object header b'43' b'0'\n",
      "2022-12-22 16:30:20 [PyPDF2._reader] WARNING: Superfluous whitespace found in object header b'44' b'0'\n",
      "2022-12-22 16:30:20 [PyPDF2._reader] WARNING: Superfluous whitespace found in object header b'45' b'0'\n",
      "2022-12-22 16:30:20 [PyPDF2._reader] WARNING: Superfluous whitespace found in object header b'46' b'0'\n",
      "2022-12-22 16:30:20 [PyPDF2._reader] WARNING: Superfluous whitespace found in object header b'47' b'0'\n",
      "2022-12-22 16:30:20 [PyPDF2._reader] WARNING: Superfluous whitespace found in object header b'48' b'0'\n",
      "2022-12-22 16:30:20 [PyPDF2._reader] WARNING: Superfluous whitespace found in object header b'49' b'0'\n",
      "2022-12-22 16:30:20 [PyPDF2._reader] WARNING: Superfluous whitespace found in object header b'100' b'0'\n",
      "2022-12-22 16:30:20 [PyPDF2._reader] WARNING: Superfluous whitespace found in object header b'99' b'0'\n",
      "2022-12-22 16:30:20 [PyPDF2._reader] WARNING: Superfluous whitespace found in object header b'53' b'0'\n",
      "2022-12-22 16:30:20 [PyPDF2._reader] WARNING: Superfluous whitespace found in object header b'54' b'0'\n",
      "2022-12-22 16:30:20 [PyPDF2._reader] WARNING: Superfluous whitespace found in object header b'55' b'0'\n",
      "2022-12-22 16:30:20 [PyPDF2._reader] WARNING: Superfluous whitespace found in object header b'56' b'0'\n",
      "2022-12-22 16:30:20 [PyPDF2._reader] WARNING: Superfluous whitespace found in object header b'57' b'0'\n",
      "2022-12-22 16:30:20 [PyPDF2._reader] WARNING: Superfluous whitespace found in object header b'58' b'0'\n",
      "2022-12-22 16:30:20 [PyPDF2._reader] WARNING: Superfluous whitespace found in object header b'59' b'0'\n",
      "2022-12-22 16:30:20 [PyPDF2._reader] WARNING: Superfluous whitespace found in object header b'60' b'0'\n",
      "2022-12-22 16:30:20 [PyPDF2._reader] WARNING: Superfluous whitespace found in object header b'61' b'0'\n",
      "2022-12-22 16:30:20 [PyPDF2._reader] WARNING: Superfluous whitespace found in object header b'62' b'0'\n",
      "2022-12-22 16:30:20 [PyPDF2._reader] WARNING: Superfluous whitespace found in object header b'63' b'0'\n",
      "2022-12-22 16:30:20 [PyPDF2._reader] WARNING: Superfluous whitespace found in object header b'64' b'0'\n",
      "2022-12-22 16:30:20 [PyPDF2._reader] WARNING: Superfluous whitespace found in object header b'65' b'0'\n",
      "2022-12-22 16:30:20 [PyPDF2._reader] WARNING: Superfluous whitespace found in object header b'66' b'0'\n",
      "2022-12-22 16:30:20 [PyPDF2._reader] WARNING: Superfluous whitespace found in object header b'67' b'0'\n",
      "2022-12-22 16:30:20 [PyPDF2._reader] WARNING: Superfluous whitespace found in object header b'68' b'0'\n",
      "2022-12-22 16:30:20 [PyPDF2._reader] WARNING: Superfluous whitespace found in object header b'69' b'0'\n",
      "2022-12-22 16:30:20 [PyPDF2._reader] WARNING: Superfluous whitespace found in object header b'70' b'0'\n",
      "2022-12-22 16:30:20 [PyPDF2._reader] WARNING: Superfluous whitespace found in object header b'71' b'0'\n",
      "2022-12-22 16:30:20 [PyPDF2._reader] WARNING: Superfluous whitespace found in object header b'72' b'0'\n",
      "2022-12-22 16:30:20 [PyPDF2._reader] WARNING: Superfluous whitespace found in object header b'73' b'0'\n",
      "2022-12-22 16:30:20 [PyPDF2._reader] WARNING: Superfluous whitespace found in object header b'74' b'0'\n",
      "2022-12-22 16:30:20 [PyPDF2._reader] WARNING: Superfluous whitespace found in object header b'75' b'0'\n",
      "2022-12-22 16:30:20 [PyPDF2._reader] WARNING: Superfluous whitespace found in object header b'76' b'0'\n",
      "2022-12-22 16:30:20 [PyPDF2._reader] WARNING: Superfluous whitespace found in object header b'77' b'0'\n"
     ]
    },
    {
     "name": "stderr",
     "output_type": "stream",
     "text": [
      "2022-12-22 16:30:20 [PyPDF2._reader] WARNING: Superfluous whitespace found in object header b'78' b'0'\n",
      "2022-12-22 16:30:20 [PyPDF2._reader] WARNING: Superfluous whitespace found in object header b'79' b'0'\n",
      "2022-12-22 16:30:20 [PyPDF2._reader] WARNING: Superfluous whitespace found in object header b'80' b'0'\n",
      "2022-12-22 16:30:20 [PyPDF2._reader] WARNING: Superfluous whitespace found in object header b'81' b'0'\n",
      "2022-12-22 16:30:20 [PyPDF2._reader] WARNING: Superfluous whitespace found in object header b'82' b'0'\n",
      "2022-12-22 16:30:20 [PyPDF2._reader] WARNING: Superfluous whitespace found in object header b'83' b'0'\n",
      "2022-12-22 16:30:20 [PyPDF2._reader] WARNING: Superfluous whitespace found in object header b'84' b'0'\n",
      "2022-12-22 16:30:20 [PyPDF2._reader] WARNING: Superfluous whitespace found in object header b'85' b'0'\n",
      "2022-12-22 16:30:20 [PyPDF2._reader] WARNING: Superfluous whitespace found in object header b'86' b'0'\n",
      "2022-12-22 16:30:20 [PyPDF2._reader] WARNING: Superfluous whitespace found in object header b'87' b'0'\n",
      "2022-12-22 16:30:20 [PyPDF2._reader] WARNING: Superfluous whitespace found in object header b'88' b'0'\n",
      "2022-12-22 16:30:20 [PyPDF2._reader] WARNING: Superfluous whitespace found in object header b'89' b'0'\n",
      "2022-12-22 16:30:20 [PyPDF2._reader] WARNING: Superfluous whitespace found in object header b'90' b'0'\n",
      "2022-12-22 16:30:20 [PyPDF2._reader] WARNING: Superfluous whitespace found in object header b'91' b'0'\n",
      "2022-12-22 16:30:20 [PyPDF2._reader] WARNING: Superfluous whitespace found in object header b'92' b'0'\n",
      "2022-12-22 16:30:20 [PyPDF2._reader] WARNING: Superfluous whitespace found in object header b'93' b'0'\n",
      "2022-12-22 16:30:20 [PyPDF2._reader] WARNING: Superfluous whitespace found in object header b'94' b'0'\n",
      "2022-12-22 16:30:20 [PyPDF2._reader] WARNING: Superfluous whitespace found in object header b'95' b'0'\n",
      "2022-12-22 16:30:20 [PyPDF2._reader] WARNING: Superfluous whitespace found in object header b'96' b'0'\n",
      "2022-12-22 16:30:20 [PyPDF2._reader] WARNING: Superfluous whitespace found in object header b'97' b'0'\n",
      "2022-12-22 16:30:20 [PyPDF2._reader] WARNING: Superfluous whitespace found in object header b'98' b'0'\n",
      "2022-12-22 16:30:20 [PyPDF2._reader] WARNING: Superfluous whitespace found in object header b'149' b'0'\n",
      "2022-12-22 16:30:20 [PyPDF2._reader] WARNING: Superfluous whitespace found in object header b'148' b'0'\n",
      "2022-12-22 16:30:20 [PyPDF2._reader] WARNING: Superfluous whitespace found in object header b'102' b'0'\n",
      "2022-12-22 16:30:20 [PyPDF2._reader] WARNING: Superfluous whitespace found in object header b'103' b'0'\n",
      "2022-12-22 16:30:20 [PyPDF2._reader] WARNING: Superfluous whitespace found in object header b'104' b'0'\n",
      "2022-12-22 16:30:20 [PyPDF2._reader] WARNING: Superfluous whitespace found in object header b'105' b'0'\n",
      "2022-12-22 16:30:20 [PyPDF2._reader] WARNING: Superfluous whitespace found in object header b'106' b'0'\n",
      "2022-12-22 16:30:20 [PyPDF2._reader] WARNING: Superfluous whitespace found in object header b'107' b'0'\n",
      "2022-12-22 16:30:20 [PyPDF2._reader] WARNING: Superfluous whitespace found in object header b'108' b'0'\n",
      "2022-12-22 16:30:20 [PyPDF2._reader] WARNING: Superfluous whitespace found in object header b'109' b'0'\n",
      "2022-12-22 16:30:20 [PyPDF2._reader] WARNING: Superfluous whitespace found in object header b'110' b'0'\n",
      "2022-12-22 16:30:20 [PyPDF2._reader] WARNING: Superfluous whitespace found in object header b'111' b'0'\n",
      "2022-12-22 16:30:20 [PyPDF2._reader] WARNING: Superfluous whitespace found in object header b'112' b'0'\n",
      "2022-12-22 16:30:20 [PyPDF2._reader] WARNING: Superfluous whitespace found in object header b'113' b'0'\n",
      "2022-12-22 16:30:20 [PyPDF2._reader] WARNING: Superfluous whitespace found in object header b'114' b'0'\n",
      "2022-12-22 16:30:20 [PyPDF2._reader] WARNING: Superfluous whitespace found in object header b'115' b'0'\n",
      "2022-12-22 16:30:20 [PyPDF2._reader] WARNING: Superfluous whitespace found in object header b'116' b'0'\n",
      "2022-12-22 16:30:20 [PyPDF2._reader] WARNING: Superfluous whitespace found in object header b'117' b'0'\n",
      "2022-12-22 16:30:20 [PyPDF2._reader] WARNING: Superfluous whitespace found in object header b'118' b'0'\n",
      "2022-12-22 16:30:20 [PyPDF2._reader] WARNING: Superfluous whitespace found in object header b'119' b'0'\n",
      "2022-12-22 16:30:20 [PyPDF2._reader] WARNING: Superfluous whitespace found in object header b'120' b'0'\n",
      "2022-12-22 16:30:20 [PyPDF2._reader] WARNING: Superfluous whitespace found in object header b'121' b'0'\n",
      "2022-12-22 16:30:20 [PyPDF2._reader] WARNING: Superfluous whitespace found in object header b'122' b'0'\n",
      "2022-12-22 16:30:20 [PyPDF2._reader] WARNING: Superfluous whitespace found in object header b'123' b'0'\n",
      "2022-12-22 16:30:20 [PyPDF2._reader] WARNING: Superfluous whitespace found in object header b'124' b'0'\n",
      "2022-12-22 16:30:20 [PyPDF2._reader] WARNING: Superfluous whitespace found in object header b'125' b'0'\n",
      "2022-12-22 16:30:20 [PyPDF2._reader] WARNING: Superfluous whitespace found in object header b'126' b'0'\n",
      "2022-12-22 16:30:20 [PyPDF2._reader] WARNING: Superfluous whitespace found in object header b'127' b'0'\n",
      "2022-12-22 16:30:20 [PyPDF2._reader] WARNING: Superfluous whitespace found in object header b'128' b'0'\n",
      "2022-12-22 16:30:20 [PyPDF2._reader] WARNING: Superfluous whitespace found in object header b'129' b'0'\n",
      "2022-12-22 16:30:20 [PyPDF2._reader] WARNING: Superfluous whitespace found in object header b'130' b'0'\n",
      "2022-12-22 16:30:20 [PyPDF2._reader] WARNING: Superfluous whitespace found in object header b'131' b'0'\n",
      "2022-12-22 16:30:20 [PyPDF2._reader] WARNING: Superfluous whitespace found in object header b'132' b'0'\n",
      "2022-12-22 16:30:20 [PyPDF2._reader] WARNING: Superfluous whitespace found in object header b'133' b'0'\n",
      "2022-12-22 16:30:20 [PyPDF2._reader] WARNING: Superfluous whitespace found in object header b'134' b'0'\n",
      "2022-12-22 16:30:20 [PyPDF2._reader] WARNING: Superfluous whitespace found in object header b'135' b'0'\n",
      "2022-12-22 16:30:20 [PyPDF2._reader] WARNING: Superfluous whitespace found in object header b'136' b'0'\n",
      "2022-12-22 16:30:20 [PyPDF2._reader] WARNING: Superfluous whitespace found in object header b'137' b'0'\n",
      "2022-12-22 16:30:20 [PyPDF2._reader] WARNING: Superfluous whitespace found in object header b'138' b'0'\n",
      "2022-12-22 16:30:20 [PyPDF2._reader] WARNING: Superfluous whitespace found in object header b'139' b'0'\n",
      "2022-12-22 16:30:20 [PyPDF2._reader] WARNING: Superfluous whitespace found in object header b'140' b'0'\n",
      "2022-12-22 16:30:20 [PyPDF2._reader] WARNING: Superfluous whitespace found in object header b'141' b'0'\n",
      "2022-12-22 16:30:20 [PyPDF2._reader] WARNING: Superfluous whitespace found in object header b'142' b'0'\n",
      "2022-12-22 16:30:20 [PyPDF2._reader] WARNING: Superfluous whitespace found in object header b'143' b'0'\n",
      "2022-12-22 16:30:20 [PyPDF2._reader] WARNING: Superfluous whitespace found in object header b'144' b'0'\n",
      "2022-12-22 16:30:20 [PyPDF2._reader] WARNING: Superfluous whitespace found in object header b'145' b'0'\n",
      "2022-12-22 16:30:20 [PyPDF2._reader] WARNING: Superfluous whitespace found in object header b'146' b'0'\n",
      "2022-12-22 16:30:20 [PyPDF2._reader] WARNING: Superfluous whitespace found in object header b'147' b'0'\n",
      "2022-12-22 16:30:20 [root] INFO: Parse auction.... https://sale.uslugi.io/sidp/3896\n"
     ]
    },
    {
     "name": "stdout",
     "output_type": "stream",
     "text": [
      "Parse auction.... https://sale.uslugi.io/sidp/3896\n"
     ]
    },
    {
     "name": "stderr",
     "output_type": "stream",
     "text": [
      "2022-12-22 16:30:21 [PyPDF2._reader] WARNING: Superfluous whitespace found in object header b'1' b'0'\n",
      "2022-12-22 16:30:21 [PyPDF2._reader] WARNING: Superfluous whitespace found in object header b'2' b'0'\n",
      "2022-12-22 16:30:21 [PyPDF2._reader] WARNING: Superfluous whitespace found in object header b'3' b'0'\n",
      "2022-12-22 16:30:21 [PyPDF2._reader] WARNING: Superfluous whitespace found in object header b'52' b'0'\n",
      "2022-12-22 16:30:21 [PyPDF2._reader] WARNING: Superfluous whitespace found in object header b'101' b'0'\n",
      "2022-12-22 16:30:21 [PyPDF2._reader] WARNING: Superfluous whitespace found in object header b'51' b'0'\n",
      "2022-12-22 16:30:21 [PyPDF2._reader] WARNING: Superfluous whitespace found in object header b'50' b'0'\n",
      "2022-12-22 16:30:21 [PyPDF2._reader] WARNING: Superfluous whitespace found in object header b'4' b'0'\n",
      "2022-12-22 16:30:21 [PyPDF2._reader] WARNING: Superfluous whitespace found in object header b'5' b'0'\n",
      "2022-12-22 16:30:21 [PyPDF2._reader] WARNING: Superfluous whitespace found in object header b'6' b'0'\n",
      "2022-12-22 16:30:21 [PyPDF2._reader] WARNING: Superfluous whitespace found in object header b'7' b'0'\n",
      "2022-12-22 16:30:21 [PyPDF2._reader] WARNING: Superfluous whitespace found in object header b'8' b'0'\n",
      "2022-12-22 16:30:21 [PyPDF2._reader] WARNING: Superfluous whitespace found in object header b'9' b'0'\n",
      "2022-12-22 16:30:21 [PyPDF2._reader] WARNING: Superfluous whitespace found in object header b'10' b'0'\n",
      "2022-12-22 16:30:21 [PyPDF2._reader] WARNING: Superfluous whitespace found in object header b'11' b'0'\n",
      "2022-12-22 16:30:21 [PyPDF2._reader] WARNING: Superfluous whitespace found in object header b'12' b'0'\n",
      "2022-12-22 16:30:21 [PyPDF2._reader] WARNING: Superfluous whitespace found in object header b'13' b'0'\n",
      "2022-12-22 16:30:21 [PyPDF2._reader] WARNING: Superfluous whitespace found in object header b'14' b'0'\n",
      "2022-12-22 16:30:21 [PyPDF2._reader] WARNING: Superfluous whitespace found in object header b'15' b'0'\n",
      "2022-12-22 16:30:21 [PyPDF2._reader] WARNING: Superfluous whitespace found in object header b'16' b'0'\n",
      "2022-12-22 16:30:21 [PyPDF2._reader] WARNING: Superfluous whitespace found in object header b'17' b'0'\n",
      "2022-12-22 16:30:21 [PyPDF2._reader] WARNING: Superfluous whitespace found in object header b'18' b'0'\n",
      "2022-12-22 16:30:21 [PyPDF2._reader] WARNING: Superfluous whitespace found in object header b'19' b'0'\n",
      "2022-12-22 16:30:21 [PyPDF2._reader] WARNING: Superfluous whitespace found in object header b'20' b'0'\n",
      "2022-12-22 16:30:21 [PyPDF2._reader] WARNING: Superfluous whitespace found in object header b'21' b'0'\n",
      "2022-12-22 16:30:21 [PyPDF2._reader] WARNING: Superfluous whitespace found in object header b'22' b'0'\n",
      "2022-12-22 16:30:21 [PyPDF2._reader] WARNING: Superfluous whitespace found in object header b'23' b'0'\n",
      "2022-12-22 16:30:21 [PyPDF2._reader] WARNING: Superfluous whitespace found in object header b'24' b'0'\n",
      "2022-12-22 16:30:21 [PyPDF2._reader] WARNING: Superfluous whitespace found in object header b'25' b'0'\n",
      "2022-12-22 16:30:21 [PyPDF2._reader] WARNING: Superfluous whitespace found in object header b'26' b'0'\n",
      "2022-12-22 16:30:21 [PyPDF2._reader] WARNING: Superfluous whitespace found in object header b'27' b'0'\n",
      "2022-12-22 16:30:21 [PyPDF2._reader] WARNING: Superfluous whitespace found in object header b'28' b'0'\n",
      "2022-12-22 16:30:21 [PyPDF2._reader] WARNING: Superfluous whitespace found in object header b'29' b'0'\n",
      "2022-12-22 16:30:21 [PyPDF2._reader] WARNING: Superfluous whitespace found in object header b'30' b'0'\n",
      "2022-12-22 16:30:21 [PyPDF2._reader] WARNING: Superfluous whitespace found in object header b'31' b'0'\n",
      "2022-12-22 16:30:21 [PyPDF2._reader] WARNING: Superfluous whitespace found in object header b'32' b'0'\n",
      "2022-12-22 16:30:21 [PyPDF2._reader] WARNING: Superfluous whitespace found in object header b'33' b'0'\n",
      "2022-12-22 16:30:21 [PyPDF2._reader] WARNING: Superfluous whitespace found in object header b'34' b'0'\n",
      "2022-12-22 16:30:21 [PyPDF2._reader] WARNING: Superfluous whitespace found in object header b'35' b'0'\n",
      "2022-12-22 16:30:21 [PyPDF2._reader] WARNING: Superfluous whitespace found in object header b'36' b'0'\n",
      "2022-12-22 16:30:21 [PyPDF2._reader] WARNING: Superfluous whitespace found in object header b'37' b'0'\n",
      "2022-12-22 16:30:21 [PyPDF2._reader] WARNING: Superfluous whitespace found in object header b'38' b'0'\n",
      "2022-12-22 16:30:21 [PyPDF2._reader] WARNING: Superfluous whitespace found in object header b'39' b'0'\n",
      "2022-12-22 16:30:21 [PyPDF2._reader] WARNING: Superfluous whitespace found in object header b'40' b'0'\n",
      "2022-12-22 16:30:21 [PyPDF2._reader] WARNING: Superfluous whitespace found in object header b'41' b'0'\n",
      "2022-12-22 16:30:21 [PyPDF2._reader] WARNING: Superfluous whitespace found in object header b'42' b'0'\n",
      "2022-12-22 16:30:21 [PyPDF2._reader] WARNING: Superfluous whitespace found in object header b'43' b'0'\n",
      "2022-12-22 16:30:21 [PyPDF2._reader] WARNING: Superfluous whitespace found in object header b'44' b'0'\n",
      "2022-12-22 16:30:21 [PyPDF2._reader] WARNING: Superfluous whitespace found in object header b'45' b'0'\n",
      "2022-12-22 16:30:21 [PyPDF2._reader] WARNING: Superfluous whitespace found in object header b'46' b'0'\n",
      "2022-12-22 16:30:21 [PyPDF2._reader] WARNING: Superfluous whitespace found in object header b'47' b'0'\n",
      "2022-12-22 16:30:21 [PyPDF2._reader] WARNING: Superfluous whitespace found in object header b'48' b'0'\n",
      "2022-12-22 16:30:21 [PyPDF2._reader] WARNING: Superfluous whitespace found in object header b'49' b'0'\n",
      "2022-12-22 16:30:21 [PyPDF2._reader] WARNING: Superfluous whitespace found in object header b'100' b'0'\n",
      "2022-12-22 16:30:21 [PyPDF2._reader] WARNING: Superfluous whitespace found in object header b'99' b'0'\n",
      "2022-12-22 16:30:21 [PyPDF2._reader] WARNING: Superfluous whitespace found in object header b'53' b'0'\n",
      "2022-12-22 16:30:21 [PyPDF2._reader] WARNING: Superfluous whitespace found in object header b'54' b'0'\n",
      "2022-12-22 16:30:21 [PyPDF2._reader] WARNING: Superfluous whitespace found in object header b'55' b'0'\n",
      "2022-12-22 16:30:21 [PyPDF2._reader] WARNING: Superfluous whitespace found in object header b'56' b'0'\n",
      "2022-12-22 16:30:21 [PyPDF2._reader] WARNING: Superfluous whitespace found in object header b'57' b'0'\n",
      "2022-12-22 16:30:21 [PyPDF2._reader] WARNING: Superfluous whitespace found in object header b'58' b'0'\n",
      "2022-12-22 16:30:21 [PyPDF2._reader] WARNING: Superfluous whitespace found in object header b'59' b'0'\n",
      "2022-12-22 16:30:21 [PyPDF2._reader] WARNING: Superfluous whitespace found in object header b'60' b'0'\n",
      "2022-12-22 16:30:21 [PyPDF2._reader] WARNING: Superfluous whitespace found in object header b'61' b'0'\n",
      "2022-12-22 16:30:21 [PyPDF2._reader] WARNING: Superfluous whitespace found in object header b'62' b'0'\n",
      "2022-12-22 16:30:21 [PyPDF2._reader] WARNING: Superfluous whitespace found in object header b'63' b'0'\n",
      "2022-12-22 16:30:21 [PyPDF2._reader] WARNING: Superfluous whitespace found in object header b'64' b'0'\n",
      "2022-12-22 16:30:21 [PyPDF2._reader] WARNING: Superfluous whitespace found in object header b'65' b'0'\n",
      "2022-12-22 16:30:21 [PyPDF2._reader] WARNING: Superfluous whitespace found in object header b'66' b'0'\n",
      "2022-12-22 16:30:21 [PyPDF2._reader] WARNING: Superfluous whitespace found in object header b'67' b'0'\n",
      "2022-12-22 16:30:21 [PyPDF2._reader] WARNING: Superfluous whitespace found in object header b'68' b'0'\n",
      "2022-12-22 16:30:21 [PyPDF2._reader] WARNING: Superfluous whitespace found in object header b'69' b'0'\n",
      "2022-12-22 16:30:21 [PyPDF2._reader] WARNING: Superfluous whitespace found in object header b'70' b'0'\n",
      "2022-12-22 16:30:21 [PyPDF2._reader] WARNING: Superfluous whitespace found in object header b'71' b'0'\n",
      "2022-12-22 16:30:21 [PyPDF2._reader] WARNING: Superfluous whitespace found in object header b'72' b'0'\n",
      "2022-12-22 16:30:21 [PyPDF2._reader] WARNING: Superfluous whitespace found in object header b'73' b'0'\n",
      "2022-12-22 16:30:21 [PyPDF2._reader] WARNING: Superfluous whitespace found in object header b'74' b'0'\n",
      "2022-12-22 16:30:21 [PyPDF2._reader] WARNING: Superfluous whitespace found in object header b'75' b'0'\n",
      "2022-12-22 16:30:21 [PyPDF2._reader] WARNING: Superfluous whitespace found in object header b'76' b'0'\n",
      "2022-12-22 16:30:21 [PyPDF2._reader] WARNING: Superfluous whitespace found in object header b'77' b'0'\n"
     ]
    },
    {
     "name": "stderr",
     "output_type": "stream",
     "text": [
      "2022-12-22 16:30:21 [PyPDF2._reader] WARNING: Superfluous whitespace found in object header b'78' b'0'\n",
      "2022-12-22 16:30:21 [PyPDF2._reader] WARNING: Superfluous whitespace found in object header b'79' b'0'\n",
      "2022-12-22 16:30:21 [PyPDF2._reader] WARNING: Superfluous whitespace found in object header b'80' b'0'\n",
      "2022-12-22 16:30:21 [PyPDF2._reader] WARNING: Superfluous whitespace found in object header b'81' b'0'\n",
      "2022-12-22 16:30:21 [PyPDF2._reader] WARNING: Superfluous whitespace found in object header b'82' b'0'\n",
      "2022-12-22 16:30:21 [PyPDF2._reader] WARNING: Superfluous whitespace found in object header b'83' b'0'\n",
      "2022-12-22 16:30:21 [PyPDF2._reader] WARNING: Superfluous whitespace found in object header b'84' b'0'\n",
      "2022-12-22 16:30:21 [PyPDF2._reader] WARNING: Superfluous whitespace found in object header b'85' b'0'\n",
      "2022-12-22 16:30:21 [PyPDF2._reader] WARNING: Superfluous whitespace found in object header b'86' b'0'\n",
      "2022-12-22 16:30:21 [PyPDF2._reader] WARNING: Superfluous whitespace found in object header b'87' b'0'\n",
      "2022-12-22 16:30:21 [PyPDF2._reader] WARNING: Superfluous whitespace found in object header b'88' b'0'\n",
      "2022-12-22 16:30:21 [PyPDF2._reader] WARNING: Superfluous whitespace found in object header b'89' b'0'\n",
      "2022-12-22 16:30:21 [PyPDF2._reader] WARNING: Superfluous whitespace found in object header b'90' b'0'\n",
      "2022-12-22 16:30:21 [PyPDF2._reader] WARNING: Superfluous whitespace found in object header b'91' b'0'\n",
      "2022-12-22 16:30:21 [PyPDF2._reader] WARNING: Superfluous whitespace found in object header b'92' b'0'\n",
      "2022-12-22 16:30:21 [PyPDF2._reader] WARNING: Superfluous whitespace found in object header b'93' b'0'\n",
      "2022-12-22 16:30:21 [PyPDF2._reader] WARNING: Superfluous whitespace found in object header b'94' b'0'\n",
      "2022-12-22 16:30:21 [PyPDF2._reader] WARNING: Superfluous whitespace found in object header b'95' b'0'\n",
      "2022-12-22 16:30:21 [PyPDF2._reader] WARNING: Superfluous whitespace found in object header b'96' b'0'\n",
      "2022-12-22 16:30:21 [PyPDF2._reader] WARNING: Superfluous whitespace found in object header b'97' b'0'\n",
      "2022-12-22 16:30:21 [PyPDF2._reader] WARNING: Superfluous whitespace found in object header b'98' b'0'\n",
      "2022-12-22 16:30:21 [PyPDF2._reader] WARNING: Superfluous whitespace found in object header b'149' b'0'\n",
      "2022-12-22 16:30:21 [PyPDF2._reader] WARNING: Superfluous whitespace found in object header b'148' b'0'\n",
      "2022-12-22 16:30:21 [PyPDF2._reader] WARNING: Superfluous whitespace found in object header b'102' b'0'\n",
      "2022-12-22 16:30:21 [PyPDF2._reader] WARNING: Superfluous whitespace found in object header b'103' b'0'\n",
      "2022-12-22 16:30:21 [PyPDF2._reader] WARNING: Superfluous whitespace found in object header b'104' b'0'\n",
      "2022-12-22 16:30:21 [PyPDF2._reader] WARNING: Superfluous whitespace found in object header b'105' b'0'\n",
      "2022-12-22 16:30:21 [PyPDF2._reader] WARNING: Superfluous whitespace found in object header b'106' b'0'\n",
      "2022-12-22 16:30:21 [PyPDF2._reader] WARNING: Superfluous whitespace found in object header b'107' b'0'\n",
      "2022-12-22 16:30:21 [PyPDF2._reader] WARNING: Superfluous whitespace found in object header b'108' b'0'\n",
      "2022-12-22 16:30:21 [PyPDF2._reader] WARNING: Superfluous whitespace found in object header b'109' b'0'\n",
      "2022-12-22 16:30:21 [PyPDF2._reader] WARNING: Superfluous whitespace found in object header b'110' b'0'\n",
      "2022-12-22 16:30:21 [PyPDF2._reader] WARNING: Superfluous whitespace found in object header b'111' b'0'\n",
      "2022-12-22 16:30:21 [PyPDF2._reader] WARNING: Superfluous whitespace found in object header b'112' b'0'\n",
      "2022-12-22 16:30:21 [PyPDF2._reader] WARNING: Superfluous whitespace found in object header b'113' b'0'\n",
      "2022-12-22 16:30:21 [PyPDF2._reader] WARNING: Superfluous whitespace found in object header b'114' b'0'\n",
      "2022-12-22 16:30:21 [PyPDF2._reader] WARNING: Superfluous whitespace found in object header b'115' b'0'\n",
      "2022-12-22 16:30:21 [PyPDF2._reader] WARNING: Superfluous whitespace found in object header b'116' b'0'\n",
      "2022-12-22 16:30:21 [PyPDF2._reader] WARNING: Superfluous whitespace found in object header b'117' b'0'\n",
      "2022-12-22 16:30:21 [PyPDF2._reader] WARNING: Superfluous whitespace found in object header b'118' b'0'\n",
      "2022-12-22 16:30:21 [PyPDF2._reader] WARNING: Superfluous whitespace found in object header b'119' b'0'\n",
      "2022-12-22 16:30:21 [PyPDF2._reader] WARNING: Superfluous whitespace found in object header b'120' b'0'\n",
      "2022-12-22 16:30:21 [PyPDF2._reader] WARNING: Superfluous whitespace found in object header b'121' b'0'\n",
      "2022-12-22 16:30:21 [PyPDF2._reader] WARNING: Superfluous whitespace found in object header b'122' b'0'\n",
      "2022-12-22 16:30:21 [PyPDF2._reader] WARNING: Superfluous whitespace found in object header b'123' b'0'\n",
      "2022-12-22 16:30:21 [PyPDF2._reader] WARNING: Superfluous whitespace found in object header b'124' b'0'\n",
      "2022-12-22 16:30:21 [PyPDF2._reader] WARNING: Superfluous whitespace found in object header b'125' b'0'\n",
      "2022-12-22 16:30:21 [PyPDF2._reader] WARNING: Superfluous whitespace found in object header b'126' b'0'\n",
      "2022-12-22 16:30:21 [PyPDF2._reader] WARNING: Superfluous whitespace found in object header b'127' b'0'\n",
      "2022-12-22 16:30:21 [PyPDF2._reader] WARNING: Superfluous whitespace found in object header b'128' b'0'\n",
      "2022-12-22 16:30:21 [PyPDF2._reader] WARNING: Superfluous whitespace found in object header b'129' b'0'\n",
      "2022-12-22 16:30:21 [PyPDF2._reader] WARNING: Superfluous whitespace found in object header b'130' b'0'\n",
      "2022-12-22 16:30:21 [PyPDF2._reader] WARNING: Superfluous whitespace found in object header b'131' b'0'\n",
      "2022-12-22 16:30:21 [PyPDF2._reader] WARNING: Superfluous whitespace found in object header b'132' b'0'\n",
      "2022-12-22 16:30:21 [PyPDF2._reader] WARNING: Superfluous whitespace found in object header b'133' b'0'\n",
      "2022-12-22 16:30:21 [PyPDF2._reader] WARNING: Superfluous whitespace found in object header b'134' b'0'\n",
      "2022-12-22 16:30:21 [PyPDF2._reader] WARNING: Superfluous whitespace found in object header b'135' b'0'\n",
      "2022-12-22 16:30:21 [PyPDF2._reader] WARNING: Superfluous whitespace found in object header b'136' b'0'\n",
      "2022-12-22 16:30:21 [PyPDF2._reader] WARNING: Superfluous whitespace found in object header b'137' b'0'\n",
      "2022-12-22 16:30:21 [PyPDF2._reader] WARNING: Superfluous whitespace found in object header b'138' b'0'\n",
      "2022-12-22 16:30:21 [PyPDF2._reader] WARNING: Superfluous whitespace found in object header b'139' b'0'\n",
      "2022-12-22 16:30:21 [PyPDF2._reader] WARNING: Superfluous whitespace found in object header b'140' b'0'\n",
      "2022-12-22 16:30:21 [PyPDF2._reader] WARNING: Superfluous whitespace found in object header b'141' b'0'\n",
      "2022-12-22 16:30:21 [PyPDF2._reader] WARNING: Superfluous whitespace found in object header b'142' b'0'\n",
      "2022-12-22 16:30:21 [PyPDF2._reader] WARNING: Superfluous whitespace found in object header b'143' b'0'\n",
      "2022-12-22 16:30:21 [PyPDF2._reader] WARNING: Superfluous whitespace found in object header b'144' b'0'\n",
      "2022-12-22 16:30:21 [PyPDF2._reader] WARNING: Superfluous whitespace found in object header b'145' b'0'\n",
      "2022-12-22 16:30:21 [PyPDF2._reader] WARNING: Superfluous whitespace found in object header b'146' b'0'\n",
      "2022-12-22 16:30:21 [PyPDF2._reader] WARNING: Superfluous whitespace found in object header b'147' b'0'\n",
      "2022-12-22 16:30:21 [root] INFO: Parse auction.... https://sale.uslugi.io/sidp/3898\n"
     ]
    },
    {
     "name": "stdout",
     "output_type": "stream",
     "text": [
      "Parse auction.... https://sale.uslugi.io/sidp/3898\n"
     ]
    },
    {
     "name": "stderr",
     "output_type": "stream",
     "text": [
      "2022-12-22 16:30:21 [PyPDF2._reader] WARNING: Superfluous whitespace found in object header b'1' b'0'\n",
      "2022-12-22 16:30:21 [PyPDF2._reader] WARNING: Superfluous whitespace found in object header b'2' b'0'\n",
      "2022-12-22 16:30:21 [PyPDF2._reader] WARNING: Superfluous whitespace found in object header b'3' b'0'\n",
      "2022-12-22 16:30:21 [PyPDF2._reader] WARNING: Superfluous whitespace found in object header b'52' b'0'\n",
      "2022-12-22 16:30:21 [PyPDF2._reader] WARNING: Superfluous whitespace found in object header b'101' b'0'\n",
      "2022-12-22 16:30:21 [PyPDF2._reader] WARNING: Superfluous whitespace found in object header b'51' b'0'\n",
      "2022-12-22 16:30:21 [PyPDF2._reader] WARNING: Superfluous whitespace found in object header b'50' b'0'\n",
      "2022-12-22 16:30:21 [PyPDF2._reader] WARNING: Superfluous whitespace found in object header b'4' b'0'\n",
      "2022-12-22 16:30:21 [PyPDF2._reader] WARNING: Superfluous whitespace found in object header b'5' b'0'\n",
      "2022-12-22 16:30:21 [PyPDF2._reader] WARNING: Superfluous whitespace found in object header b'6' b'0'\n",
      "2022-12-22 16:30:21 [PyPDF2._reader] WARNING: Superfluous whitespace found in object header b'7' b'0'\n",
      "2022-12-22 16:30:21 [PyPDF2._reader] WARNING: Superfluous whitespace found in object header b'8' b'0'\n",
      "2022-12-22 16:30:21 [PyPDF2._reader] WARNING: Superfluous whitespace found in object header b'9' b'0'\n",
      "2022-12-22 16:30:21 [PyPDF2._reader] WARNING: Superfluous whitespace found in object header b'10' b'0'\n",
      "2022-12-22 16:30:21 [PyPDF2._reader] WARNING: Superfluous whitespace found in object header b'11' b'0'\n",
      "2022-12-22 16:30:21 [PyPDF2._reader] WARNING: Superfluous whitespace found in object header b'12' b'0'\n",
      "2022-12-22 16:30:21 [PyPDF2._reader] WARNING: Superfluous whitespace found in object header b'13' b'0'\n",
      "2022-12-22 16:30:21 [PyPDF2._reader] WARNING: Superfluous whitespace found in object header b'14' b'0'\n",
      "2022-12-22 16:30:21 [PyPDF2._reader] WARNING: Superfluous whitespace found in object header b'15' b'0'\n",
      "2022-12-22 16:30:21 [PyPDF2._reader] WARNING: Superfluous whitespace found in object header b'16' b'0'\n",
      "2022-12-22 16:30:21 [PyPDF2._reader] WARNING: Superfluous whitespace found in object header b'17' b'0'\n",
      "2022-12-22 16:30:21 [PyPDF2._reader] WARNING: Superfluous whitespace found in object header b'18' b'0'\n",
      "2022-12-22 16:30:21 [PyPDF2._reader] WARNING: Superfluous whitespace found in object header b'19' b'0'\n",
      "2022-12-22 16:30:21 [PyPDF2._reader] WARNING: Superfluous whitespace found in object header b'20' b'0'\n",
      "2022-12-22 16:30:21 [PyPDF2._reader] WARNING: Superfluous whitespace found in object header b'21' b'0'\n",
      "2022-12-22 16:30:21 [PyPDF2._reader] WARNING: Superfluous whitespace found in object header b'22' b'0'\n",
      "2022-12-22 16:30:21 [PyPDF2._reader] WARNING: Superfluous whitespace found in object header b'23' b'0'\n",
      "2022-12-22 16:30:21 [PyPDF2._reader] WARNING: Superfluous whitespace found in object header b'24' b'0'\n",
      "2022-12-22 16:30:21 [PyPDF2._reader] WARNING: Superfluous whitespace found in object header b'25' b'0'\n",
      "2022-12-22 16:30:21 [PyPDF2._reader] WARNING: Superfluous whitespace found in object header b'26' b'0'\n",
      "2022-12-22 16:30:21 [PyPDF2._reader] WARNING: Superfluous whitespace found in object header b'27' b'0'\n",
      "2022-12-22 16:30:21 [PyPDF2._reader] WARNING: Superfluous whitespace found in object header b'28' b'0'\n",
      "2022-12-22 16:30:21 [PyPDF2._reader] WARNING: Superfluous whitespace found in object header b'29' b'0'\n",
      "2022-12-22 16:30:21 [PyPDF2._reader] WARNING: Superfluous whitespace found in object header b'30' b'0'\n",
      "2022-12-22 16:30:21 [PyPDF2._reader] WARNING: Superfluous whitespace found in object header b'31' b'0'\n",
      "2022-12-22 16:30:21 [PyPDF2._reader] WARNING: Superfluous whitespace found in object header b'32' b'0'\n",
      "2022-12-22 16:30:21 [PyPDF2._reader] WARNING: Superfluous whitespace found in object header b'33' b'0'\n",
      "2022-12-22 16:30:21 [PyPDF2._reader] WARNING: Superfluous whitespace found in object header b'34' b'0'\n",
      "2022-12-22 16:30:21 [PyPDF2._reader] WARNING: Superfluous whitespace found in object header b'35' b'0'\n",
      "2022-12-22 16:30:21 [PyPDF2._reader] WARNING: Superfluous whitespace found in object header b'36' b'0'\n",
      "2022-12-22 16:30:21 [PyPDF2._reader] WARNING: Superfluous whitespace found in object header b'37' b'0'\n",
      "2022-12-22 16:30:21 [PyPDF2._reader] WARNING: Superfluous whitespace found in object header b'38' b'0'\n",
      "2022-12-22 16:30:21 [PyPDF2._reader] WARNING: Superfluous whitespace found in object header b'39' b'0'\n",
      "2022-12-22 16:30:21 [PyPDF2._reader] WARNING: Superfluous whitespace found in object header b'40' b'0'\n",
      "2022-12-22 16:30:21 [PyPDF2._reader] WARNING: Superfluous whitespace found in object header b'41' b'0'\n",
      "2022-12-22 16:30:21 [PyPDF2._reader] WARNING: Superfluous whitespace found in object header b'42' b'0'\n",
      "2022-12-22 16:30:21 [PyPDF2._reader] WARNING: Superfluous whitespace found in object header b'43' b'0'\n",
      "2022-12-22 16:30:21 [PyPDF2._reader] WARNING: Superfluous whitespace found in object header b'44' b'0'\n",
      "2022-12-22 16:30:21 [PyPDF2._reader] WARNING: Superfluous whitespace found in object header b'45' b'0'\n",
      "2022-12-22 16:30:21 [PyPDF2._reader] WARNING: Superfluous whitespace found in object header b'46' b'0'\n",
      "2022-12-22 16:30:21 [PyPDF2._reader] WARNING: Superfluous whitespace found in object header b'47' b'0'\n",
      "2022-12-22 16:30:21 [PyPDF2._reader] WARNING: Superfluous whitespace found in object header b'48' b'0'\n",
      "2022-12-22 16:30:21 [PyPDF2._reader] WARNING: Superfluous whitespace found in object header b'49' b'0'\n",
      "2022-12-22 16:30:21 [PyPDF2._reader] WARNING: Superfluous whitespace found in object header b'100' b'0'\n",
      "2022-12-22 16:30:21 [PyPDF2._reader] WARNING: Superfluous whitespace found in object header b'99' b'0'\n",
      "2022-12-22 16:30:21 [PyPDF2._reader] WARNING: Superfluous whitespace found in object header b'53' b'0'\n",
      "2022-12-22 16:30:21 [PyPDF2._reader] WARNING: Superfluous whitespace found in object header b'54' b'0'\n",
      "2022-12-22 16:30:21 [PyPDF2._reader] WARNING: Superfluous whitespace found in object header b'55' b'0'\n",
      "2022-12-22 16:30:21 [PyPDF2._reader] WARNING: Superfluous whitespace found in object header b'56' b'0'\n",
      "2022-12-22 16:30:21 [PyPDF2._reader] WARNING: Superfluous whitespace found in object header b'57' b'0'\n",
      "2022-12-22 16:30:21 [PyPDF2._reader] WARNING: Superfluous whitespace found in object header b'58' b'0'\n",
      "2022-12-22 16:30:21 [PyPDF2._reader] WARNING: Superfluous whitespace found in object header b'59' b'0'\n",
      "2022-12-22 16:30:21 [PyPDF2._reader] WARNING: Superfluous whitespace found in object header b'60' b'0'\n",
      "2022-12-22 16:30:21 [PyPDF2._reader] WARNING: Superfluous whitespace found in object header b'61' b'0'\n",
      "2022-12-22 16:30:21 [PyPDF2._reader] WARNING: Superfluous whitespace found in object header b'62' b'0'\n",
      "2022-12-22 16:30:21 [PyPDF2._reader] WARNING: Superfluous whitespace found in object header b'63' b'0'\n",
      "2022-12-22 16:30:21 [PyPDF2._reader] WARNING: Superfluous whitespace found in object header b'64' b'0'\n",
      "2022-12-22 16:30:21 [PyPDF2._reader] WARNING: Superfluous whitespace found in object header b'65' b'0'\n",
      "2022-12-22 16:30:21 [PyPDF2._reader] WARNING: Superfluous whitespace found in object header b'66' b'0'\n",
      "2022-12-22 16:30:21 [PyPDF2._reader] WARNING: Superfluous whitespace found in object header b'67' b'0'\n",
      "2022-12-22 16:30:21 [PyPDF2._reader] WARNING: Superfluous whitespace found in object header b'68' b'0'\n",
      "2022-12-22 16:30:21 [PyPDF2._reader] WARNING: Superfluous whitespace found in object header b'69' b'0'\n",
      "2022-12-22 16:30:21 [PyPDF2._reader] WARNING: Superfluous whitespace found in object header b'70' b'0'\n",
      "2022-12-22 16:30:21 [PyPDF2._reader] WARNING: Superfluous whitespace found in object header b'71' b'0'\n",
      "2022-12-22 16:30:21 [PyPDF2._reader] WARNING: Superfluous whitespace found in object header b'72' b'0'\n",
      "2022-12-22 16:30:21 [PyPDF2._reader] WARNING: Superfluous whitespace found in object header b'73' b'0'\n",
      "2022-12-22 16:30:21 [PyPDF2._reader] WARNING: Superfluous whitespace found in object header b'74' b'0'\n",
      "2022-12-22 16:30:21 [PyPDF2._reader] WARNING: Superfluous whitespace found in object header b'75' b'0'\n",
      "2022-12-22 16:30:21 [PyPDF2._reader] WARNING: Superfluous whitespace found in object header b'76' b'0'\n",
      "2022-12-22 16:30:21 [PyPDF2._reader] WARNING: Superfluous whitespace found in object header b'77' b'0'\n"
     ]
    },
    {
     "name": "stderr",
     "output_type": "stream",
     "text": [
      "2022-12-22 16:30:21 [PyPDF2._reader] WARNING: Superfluous whitespace found in object header b'78' b'0'\n",
      "2022-12-22 16:30:21 [PyPDF2._reader] WARNING: Superfluous whitespace found in object header b'79' b'0'\n",
      "2022-12-22 16:30:21 [PyPDF2._reader] WARNING: Superfluous whitespace found in object header b'80' b'0'\n",
      "2022-12-22 16:30:21 [PyPDF2._reader] WARNING: Superfluous whitespace found in object header b'81' b'0'\n",
      "2022-12-22 16:30:21 [PyPDF2._reader] WARNING: Superfluous whitespace found in object header b'82' b'0'\n",
      "2022-12-22 16:30:21 [PyPDF2._reader] WARNING: Superfluous whitespace found in object header b'83' b'0'\n",
      "2022-12-22 16:30:21 [PyPDF2._reader] WARNING: Superfluous whitespace found in object header b'84' b'0'\n",
      "2022-12-22 16:30:21 [PyPDF2._reader] WARNING: Superfluous whitespace found in object header b'85' b'0'\n",
      "2022-12-22 16:30:21 [PyPDF2._reader] WARNING: Superfluous whitespace found in object header b'86' b'0'\n",
      "2022-12-22 16:30:21 [PyPDF2._reader] WARNING: Superfluous whitespace found in object header b'87' b'0'\n",
      "2022-12-22 16:30:21 [PyPDF2._reader] WARNING: Superfluous whitespace found in object header b'88' b'0'\n",
      "2022-12-22 16:30:21 [PyPDF2._reader] WARNING: Superfluous whitespace found in object header b'89' b'0'\n",
      "2022-12-22 16:30:21 [PyPDF2._reader] WARNING: Superfluous whitespace found in object header b'90' b'0'\n",
      "2022-12-22 16:30:21 [PyPDF2._reader] WARNING: Superfluous whitespace found in object header b'91' b'0'\n",
      "2022-12-22 16:30:21 [PyPDF2._reader] WARNING: Superfluous whitespace found in object header b'92' b'0'\n",
      "2022-12-22 16:30:21 [PyPDF2._reader] WARNING: Superfluous whitespace found in object header b'93' b'0'\n",
      "2022-12-22 16:30:21 [PyPDF2._reader] WARNING: Superfluous whitespace found in object header b'94' b'0'\n",
      "2022-12-22 16:30:21 [PyPDF2._reader] WARNING: Superfluous whitespace found in object header b'95' b'0'\n",
      "2022-12-22 16:30:21 [PyPDF2._reader] WARNING: Superfluous whitespace found in object header b'96' b'0'\n",
      "2022-12-22 16:30:21 [PyPDF2._reader] WARNING: Superfluous whitespace found in object header b'97' b'0'\n",
      "2022-12-22 16:30:21 [PyPDF2._reader] WARNING: Superfluous whitespace found in object header b'98' b'0'\n",
      "2022-12-22 16:30:21 [PyPDF2._reader] WARNING: Superfluous whitespace found in object header b'149' b'0'\n",
      "2022-12-22 16:30:21 [PyPDF2._reader] WARNING: Superfluous whitespace found in object header b'148' b'0'\n",
      "2022-12-22 16:30:21 [PyPDF2._reader] WARNING: Superfluous whitespace found in object header b'102' b'0'\n",
      "2022-12-22 16:30:21 [PyPDF2._reader] WARNING: Superfluous whitespace found in object header b'103' b'0'\n",
      "2022-12-22 16:30:21 [PyPDF2._reader] WARNING: Superfluous whitespace found in object header b'104' b'0'\n",
      "2022-12-22 16:30:21 [PyPDF2._reader] WARNING: Superfluous whitespace found in object header b'105' b'0'\n",
      "2022-12-22 16:30:21 [PyPDF2._reader] WARNING: Superfluous whitespace found in object header b'106' b'0'\n",
      "2022-12-22 16:30:21 [PyPDF2._reader] WARNING: Superfluous whitespace found in object header b'107' b'0'\n",
      "2022-12-22 16:30:21 [PyPDF2._reader] WARNING: Superfluous whitespace found in object header b'108' b'0'\n",
      "2022-12-22 16:30:21 [PyPDF2._reader] WARNING: Superfluous whitespace found in object header b'109' b'0'\n",
      "2022-12-22 16:30:21 [PyPDF2._reader] WARNING: Superfluous whitespace found in object header b'110' b'0'\n",
      "2022-12-22 16:30:21 [PyPDF2._reader] WARNING: Superfluous whitespace found in object header b'111' b'0'\n",
      "2022-12-22 16:30:21 [PyPDF2._reader] WARNING: Superfluous whitespace found in object header b'112' b'0'\n",
      "2022-12-22 16:30:21 [PyPDF2._reader] WARNING: Superfluous whitespace found in object header b'113' b'0'\n",
      "2022-12-22 16:30:21 [PyPDF2._reader] WARNING: Superfluous whitespace found in object header b'114' b'0'\n",
      "2022-12-22 16:30:21 [PyPDF2._reader] WARNING: Superfluous whitespace found in object header b'115' b'0'\n",
      "2022-12-22 16:30:21 [PyPDF2._reader] WARNING: Superfluous whitespace found in object header b'116' b'0'\n",
      "2022-12-22 16:30:21 [PyPDF2._reader] WARNING: Superfluous whitespace found in object header b'117' b'0'\n",
      "2022-12-22 16:30:21 [PyPDF2._reader] WARNING: Superfluous whitespace found in object header b'118' b'0'\n",
      "2022-12-22 16:30:21 [PyPDF2._reader] WARNING: Superfluous whitespace found in object header b'119' b'0'\n",
      "2022-12-22 16:30:21 [PyPDF2._reader] WARNING: Superfluous whitespace found in object header b'120' b'0'\n",
      "2022-12-22 16:30:21 [PyPDF2._reader] WARNING: Superfluous whitespace found in object header b'121' b'0'\n",
      "2022-12-22 16:30:21 [PyPDF2._reader] WARNING: Superfluous whitespace found in object header b'122' b'0'\n",
      "2022-12-22 16:30:21 [PyPDF2._reader] WARNING: Superfluous whitespace found in object header b'123' b'0'\n",
      "2022-12-22 16:30:21 [PyPDF2._reader] WARNING: Superfluous whitespace found in object header b'124' b'0'\n",
      "2022-12-22 16:30:21 [PyPDF2._reader] WARNING: Superfluous whitespace found in object header b'125' b'0'\n",
      "2022-12-22 16:30:21 [PyPDF2._reader] WARNING: Superfluous whitespace found in object header b'126' b'0'\n",
      "2022-12-22 16:30:21 [PyPDF2._reader] WARNING: Superfluous whitespace found in object header b'127' b'0'\n",
      "2022-12-22 16:30:21 [PyPDF2._reader] WARNING: Superfluous whitespace found in object header b'128' b'0'\n",
      "2022-12-22 16:30:21 [PyPDF2._reader] WARNING: Superfluous whitespace found in object header b'129' b'0'\n",
      "2022-12-22 16:30:21 [PyPDF2._reader] WARNING: Superfluous whitespace found in object header b'130' b'0'\n",
      "2022-12-22 16:30:21 [PyPDF2._reader] WARNING: Superfluous whitespace found in object header b'131' b'0'\n",
      "2022-12-22 16:30:21 [PyPDF2._reader] WARNING: Superfluous whitespace found in object header b'132' b'0'\n",
      "2022-12-22 16:30:21 [PyPDF2._reader] WARNING: Superfluous whitespace found in object header b'133' b'0'\n",
      "2022-12-22 16:30:21 [PyPDF2._reader] WARNING: Superfluous whitespace found in object header b'134' b'0'\n",
      "2022-12-22 16:30:21 [PyPDF2._reader] WARNING: Superfluous whitespace found in object header b'135' b'0'\n",
      "2022-12-22 16:30:21 [PyPDF2._reader] WARNING: Superfluous whitespace found in object header b'136' b'0'\n",
      "2022-12-22 16:30:21 [PyPDF2._reader] WARNING: Superfluous whitespace found in object header b'137' b'0'\n",
      "2022-12-22 16:30:21 [PyPDF2._reader] WARNING: Superfluous whitespace found in object header b'138' b'0'\n",
      "2022-12-22 16:30:21 [PyPDF2._reader] WARNING: Superfluous whitespace found in object header b'139' b'0'\n",
      "2022-12-22 16:30:21 [PyPDF2._reader] WARNING: Superfluous whitespace found in object header b'140' b'0'\n",
      "2022-12-22 16:30:21 [PyPDF2._reader] WARNING: Superfluous whitespace found in object header b'141' b'0'\n",
      "2022-12-22 16:30:21 [PyPDF2._reader] WARNING: Superfluous whitespace found in object header b'142' b'0'\n",
      "2022-12-22 16:30:21 [PyPDF2._reader] WARNING: Superfluous whitespace found in object header b'143' b'0'\n",
      "2022-12-22 16:30:21 [PyPDF2._reader] WARNING: Superfluous whitespace found in object header b'144' b'0'\n",
      "2022-12-22 16:30:21 [PyPDF2._reader] WARNING: Superfluous whitespace found in object header b'145' b'0'\n",
      "2022-12-22 16:30:21 [PyPDF2._reader] WARNING: Superfluous whitespace found in object header b'146' b'0'\n",
      "2022-12-22 16:30:21 [PyPDF2._reader] WARNING: Superfluous whitespace found in object header b'147' b'0'\n",
      "2022-12-22 16:30:21 [root] INFO: Parse auction.... https://sale.uslugi.io/sidp/3895\n"
     ]
    },
    {
     "name": "stdout",
     "output_type": "stream",
     "text": [
      "Parse auction.... https://sale.uslugi.io/sidp/3895\n"
     ]
    },
    {
     "name": "stderr",
     "output_type": "stream",
     "text": [
      "2022-12-22 16:30:21 [PyPDF2._reader] WARNING: Superfluous whitespace found in object header b'1' b'0'\n",
      "2022-12-22 16:30:21 [PyPDF2._reader] WARNING: Superfluous whitespace found in object header b'2' b'0'\n",
      "2022-12-22 16:30:21 [PyPDF2._reader] WARNING: Superfluous whitespace found in object header b'3' b'0'\n",
      "2022-12-22 16:30:21 [PyPDF2._reader] WARNING: Superfluous whitespace found in object header b'52' b'0'\n",
      "2022-12-22 16:30:21 [PyPDF2._reader] WARNING: Superfluous whitespace found in object header b'101' b'0'\n",
      "2022-12-22 16:30:21 [PyPDF2._reader] WARNING: Superfluous whitespace found in object header b'51' b'0'\n",
      "2022-12-22 16:30:21 [PyPDF2._reader] WARNING: Superfluous whitespace found in object header b'50' b'0'\n",
      "2022-12-22 16:30:21 [PyPDF2._reader] WARNING: Superfluous whitespace found in object header b'4' b'0'\n",
      "2022-12-22 16:30:21 [PyPDF2._reader] WARNING: Superfluous whitespace found in object header b'5' b'0'\n",
      "2022-12-22 16:30:21 [PyPDF2._reader] WARNING: Superfluous whitespace found in object header b'6' b'0'\n",
      "2022-12-22 16:30:21 [PyPDF2._reader] WARNING: Superfluous whitespace found in object header b'7' b'0'\n",
      "2022-12-22 16:30:21 [PyPDF2._reader] WARNING: Superfluous whitespace found in object header b'8' b'0'\n",
      "2022-12-22 16:30:21 [PyPDF2._reader] WARNING: Superfluous whitespace found in object header b'9' b'0'\n",
      "2022-12-22 16:30:21 [PyPDF2._reader] WARNING: Superfluous whitespace found in object header b'10' b'0'\n",
      "2022-12-22 16:30:21 [PyPDF2._reader] WARNING: Superfluous whitespace found in object header b'11' b'0'\n",
      "2022-12-22 16:30:21 [PyPDF2._reader] WARNING: Superfluous whitespace found in object header b'12' b'0'\n",
      "2022-12-22 16:30:21 [PyPDF2._reader] WARNING: Superfluous whitespace found in object header b'13' b'0'\n",
      "2022-12-22 16:30:21 [PyPDF2._reader] WARNING: Superfluous whitespace found in object header b'14' b'0'\n",
      "2022-12-22 16:30:21 [PyPDF2._reader] WARNING: Superfluous whitespace found in object header b'15' b'0'\n",
      "2022-12-22 16:30:21 [PyPDF2._reader] WARNING: Superfluous whitespace found in object header b'16' b'0'\n",
      "2022-12-22 16:30:21 [PyPDF2._reader] WARNING: Superfluous whitespace found in object header b'17' b'0'\n",
      "2022-12-22 16:30:21 [PyPDF2._reader] WARNING: Superfluous whitespace found in object header b'18' b'0'\n",
      "2022-12-22 16:30:21 [PyPDF2._reader] WARNING: Superfluous whitespace found in object header b'19' b'0'\n",
      "2022-12-22 16:30:21 [PyPDF2._reader] WARNING: Superfluous whitespace found in object header b'20' b'0'\n",
      "2022-12-22 16:30:21 [PyPDF2._reader] WARNING: Superfluous whitespace found in object header b'21' b'0'\n",
      "2022-12-22 16:30:21 [PyPDF2._reader] WARNING: Superfluous whitespace found in object header b'22' b'0'\n",
      "2022-12-22 16:30:21 [PyPDF2._reader] WARNING: Superfluous whitespace found in object header b'23' b'0'\n",
      "2022-12-22 16:30:21 [PyPDF2._reader] WARNING: Superfluous whitespace found in object header b'24' b'0'\n",
      "2022-12-22 16:30:21 [PyPDF2._reader] WARNING: Superfluous whitespace found in object header b'25' b'0'\n",
      "2022-12-22 16:30:21 [PyPDF2._reader] WARNING: Superfluous whitespace found in object header b'26' b'0'\n",
      "2022-12-22 16:30:21 [PyPDF2._reader] WARNING: Superfluous whitespace found in object header b'27' b'0'\n",
      "2022-12-22 16:30:21 [PyPDF2._reader] WARNING: Superfluous whitespace found in object header b'28' b'0'\n",
      "2022-12-22 16:30:21 [PyPDF2._reader] WARNING: Superfluous whitespace found in object header b'29' b'0'\n",
      "2022-12-22 16:30:21 [PyPDF2._reader] WARNING: Superfluous whitespace found in object header b'30' b'0'\n",
      "2022-12-22 16:30:21 [PyPDF2._reader] WARNING: Superfluous whitespace found in object header b'31' b'0'\n",
      "2022-12-22 16:30:21 [PyPDF2._reader] WARNING: Superfluous whitespace found in object header b'32' b'0'\n",
      "2022-12-22 16:30:21 [PyPDF2._reader] WARNING: Superfluous whitespace found in object header b'33' b'0'\n",
      "2022-12-22 16:30:21 [PyPDF2._reader] WARNING: Superfluous whitespace found in object header b'34' b'0'\n",
      "2022-12-22 16:30:21 [PyPDF2._reader] WARNING: Superfluous whitespace found in object header b'35' b'0'\n",
      "2022-12-22 16:30:21 [PyPDF2._reader] WARNING: Superfluous whitespace found in object header b'36' b'0'\n",
      "2022-12-22 16:30:21 [PyPDF2._reader] WARNING: Superfluous whitespace found in object header b'37' b'0'\n",
      "2022-12-22 16:30:21 [PyPDF2._reader] WARNING: Superfluous whitespace found in object header b'38' b'0'\n",
      "2022-12-22 16:30:21 [PyPDF2._reader] WARNING: Superfluous whitespace found in object header b'39' b'0'\n",
      "2022-12-22 16:30:21 [PyPDF2._reader] WARNING: Superfluous whitespace found in object header b'40' b'0'\n",
      "2022-12-22 16:30:21 [PyPDF2._reader] WARNING: Superfluous whitespace found in object header b'41' b'0'\n",
      "2022-12-22 16:30:21 [PyPDF2._reader] WARNING: Superfluous whitespace found in object header b'42' b'0'\n",
      "2022-12-22 16:30:21 [PyPDF2._reader] WARNING: Superfluous whitespace found in object header b'43' b'0'\n",
      "2022-12-22 16:30:21 [PyPDF2._reader] WARNING: Superfluous whitespace found in object header b'44' b'0'\n",
      "2022-12-22 16:30:21 [PyPDF2._reader] WARNING: Superfluous whitespace found in object header b'45' b'0'\n",
      "2022-12-22 16:30:21 [PyPDF2._reader] WARNING: Superfluous whitespace found in object header b'46' b'0'\n",
      "2022-12-22 16:30:21 [PyPDF2._reader] WARNING: Superfluous whitespace found in object header b'47' b'0'\n",
      "2022-12-22 16:30:21 [PyPDF2._reader] WARNING: Superfluous whitespace found in object header b'48' b'0'\n",
      "2022-12-22 16:30:21 [PyPDF2._reader] WARNING: Superfluous whitespace found in object header b'49' b'0'\n",
      "2022-12-22 16:30:21 [PyPDF2._reader] WARNING: Superfluous whitespace found in object header b'100' b'0'\n",
      "2022-12-22 16:30:21 [PyPDF2._reader] WARNING: Superfluous whitespace found in object header b'99' b'0'\n",
      "2022-12-22 16:30:21 [PyPDF2._reader] WARNING: Superfluous whitespace found in object header b'53' b'0'\n",
      "2022-12-22 16:30:21 [PyPDF2._reader] WARNING: Superfluous whitespace found in object header b'54' b'0'\n",
      "2022-12-22 16:30:21 [PyPDF2._reader] WARNING: Superfluous whitespace found in object header b'55' b'0'\n",
      "2022-12-22 16:30:21 [PyPDF2._reader] WARNING: Superfluous whitespace found in object header b'56' b'0'\n",
      "2022-12-22 16:30:21 [PyPDF2._reader] WARNING: Superfluous whitespace found in object header b'57' b'0'\n",
      "2022-12-22 16:30:21 [PyPDF2._reader] WARNING: Superfluous whitespace found in object header b'58' b'0'\n",
      "2022-12-22 16:30:21 [PyPDF2._reader] WARNING: Superfluous whitespace found in object header b'59' b'0'\n",
      "2022-12-22 16:30:21 [PyPDF2._reader] WARNING: Superfluous whitespace found in object header b'60' b'0'\n",
      "2022-12-22 16:30:21 [PyPDF2._reader] WARNING: Superfluous whitespace found in object header b'61' b'0'\n",
      "2022-12-22 16:30:21 [PyPDF2._reader] WARNING: Superfluous whitespace found in object header b'62' b'0'\n",
      "2022-12-22 16:30:21 [PyPDF2._reader] WARNING: Superfluous whitespace found in object header b'63' b'0'\n",
      "2022-12-22 16:30:21 [PyPDF2._reader] WARNING: Superfluous whitespace found in object header b'64' b'0'\n",
      "2022-12-22 16:30:21 [PyPDF2._reader] WARNING: Superfluous whitespace found in object header b'65' b'0'\n",
      "2022-12-22 16:30:21 [PyPDF2._reader] WARNING: Superfluous whitespace found in object header b'66' b'0'\n",
      "2022-12-22 16:30:21 [PyPDF2._reader] WARNING: Superfluous whitespace found in object header b'67' b'0'\n",
      "2022-12-22 16:30:21 [PyPDF2._reader] WARNING: Superfluous whitespace found in object header b'68' b'0'\n",
      "2022-12-22 16:30:21 [PyPDF2._reader] WARNING: Superfluous whitespace found in object header b'69' b'0'\n",
      "2022-12-22 16:30:21 [PyPDF2._reader] WARNING: Superfluous whitespace found in object header b'70' b'0'\n",
      "2022-12-22 16:30:21 [PyPDF2._reader] WARNING: Superfluous whitespace found in object header b'71' b'0'\n",
      "2022-12-22 16:30:21 [PyPDF2._reader] WARNING: Superfluous whitespace found in object header b'72' b'0'\n",
      "2022-12-22 16:30:21 [PyPDF2._reader] WARNING: Superfluous whitespace found in object header b'73' b'0'\n",
      "2022-12-22 16:30:21 [PyPDF2._reader] WARNING: Superfluous whitespace found in object header b'74' b'0'\n",
      "2022-12-22 16:30:21 [PyPDF2._reader] WARNING: Superfluous whitespace found in object header b'75' b'0'\n",
      "2022-12-22 16:30:21 [PyPDF2._reader] WARNING: Superfluous whitespace found in object header b'76' b'0'\n",
      "2022-12-22 16:30:21 [PyPDF2._reader] WARNING: Superfluous whitespace found in object header b'77' b'0'\n"
     ]
    },
    {
     "name": "stderr",
     "output_type": "stream",
     "text": [
      "2022-12-22 16:30:21 [PyPDF2._reader] WARNING: Superfluous whitespace found in object header b'78' b'0'\n",
      "2022-12-22 16:30:21 [PyPDF2._reader] WARNING: Superfluous whitespace found in object header b'79' b'0'\n",
      "2022-12-22 16:30:21 [PyPDF2._reader] WARNING: Superfluous whitespace found in object header b'80' b'0'\n",
      "2022-12-22 16:30:21 [PyPDF2._reader] WARNING: Superfluous whitespace found in object header b'81' b'0'\n",
      "2022-12-22 16:30:21 [PyPDF2._reader] WARNING: Superfluous whitespace found in object header b'82' b'0'\n",
      "2022-12-22 16:30:21 [PyPDF2._reader] WARNING: Superfluous whitespace found in object header b'83' b'0'\n",
      "2022-12-22 16:30:21 [PyPDF2._reader] WARNING: Superfluous whitespace found in object header b'84' b'0'\n",
      "2022-12-22 16:30:21 [PyPDF2._reader] WARNING: Superfluous whitespace found in object header b'85' b'0'\n",
      "2022-12-22 16:30:21 [PyPDF2._reader] WARNING: Superfluous whitespace found in object header b'86' b'0'\n",
      "2022-12-22 16:30:21 [PyPDF2._reader] WARNING: Superfluous whitespace found in object header b'87' b'0'\n",
      "2022-12-22 16:30:21 [PyPDF2._reader] WARNING: Superfluous whitespace found in object header b'88' b'0'\n",
      "2022-12-22 16:30:21 [PyPDF2._reader] WARNING: Superfluous whitespace found in object header b'89' b'0'\n",
      "2022-12-22 16:30:21 [PyPDF2._reader] WARNING: Superfluous whitespace found in object header b'90' b'0'\n",
      "2022-12-22 16:30:21 [PyPDF2._reader] WARNING: Superfluous whitespace found in object header b'91' b'0'\n",
      "2022-12-22 16:30:21 [PyPDF2._reader] WARNING: Superfluous whitespace found in object header b'92' b'0'\n",
      "2022-12-22 16:30:21 [PyPDF2._reader] WARNING: Superfluous whitespace found in object header b'93' b'0'\n",
      "2022-12-22 16:30:21 [PyPDF2._reader] WARNING: Superfluous whitespace found in object header b'94' b'0'\n",
      "2022-12-22 16:30:21 [PyPDF2._reader] WARNING: Superfluous whitespace found in object header b'95' b'0'\n",
      "2022-12-22 16:30:21 [PyPDF2._reader] WARNING: Superfluous whitespace found in object header b'96' b'0'\n",
      "2022-12-22 16:30:21 [PyPDF2._reader] WARNING: Superfluous whitespace found in object header b'97' b'0'\n",
      "2022-12-22 16:30:21 [PyPDF2._reader] WARNING: Superfluous whitespace found in object header b'98' b'0'\n",
      "2022-12-22 16:30:21 [PyPDF2._reader] WARNING: Superfluous whitespace found in object header b'149' b'0'\n",
      "2022-12-22 16:30:21 [PyPDF2._reader] WARNING: Superfluous whitespace found in object header b'148' b'0'\n",
      "2022-12-22 16:30:21 [PyPDF2._reader] WARNING: Superfluous whitespace found in object header b'102' b'0'\n",
      "2022-12-22 16:30:21 [PyPDF2._reader] WARNING: Superfluous whitespace found in object header b'103' b'0'\n",
      "2022-12-22 16:30:21 [PyPDF2._reader] WARNING: Superfluous whitespace found in object header b'104' b'0'\n",
      "2022-12-22 16:30:21 [PyPDF2._reader] WARNING: Superfluous whitespace found in object header b'105' b'0'\n",
      "2022-12-22 16:30:21 [PyPDF2._reader] WARNING: Superfluous whitespace found in object header b'106' b'0'\n",
      "2022-12-22 16:30:21 [PyPDF2._reader] WARNING: Superfluous whitespace found in object header b'107' b'0'\n",
      "2022-12-22 16:30:21 [PyPDF2._reader] WARNING: Superfluous whitespace found in object header b'108' b'0'\n",
      "2022-12-22 16:30:21 [PyPDF2._reader] WARNING: Superfluous whitespace found in object header b'109' b'0'\n",
      "2022-12-22 16:30:21 [PyPDF2._reader] WARNING: Superfluous whitespace found in object header b'110' b'0'\n",
      "2022-12-22 16:30:21 [PyPDF2._reader] WARNING: Superfluous whitespace found in object header b'111' b'0'\n",
      "2022-12-22 16:30:21 [PyPDF2._reader] WARNING: Superfluous whitespace found in object header b'112' b'0'\n",
      "2022-12-22 16:30:21 [PyPDF2._reader] WARNING: Superfluous whitespace found in object header b'113' b'0'\n",
      "2022-12-22 16:30:21 [PyPDF2._reader] WARNING: Superfluous whitespace found in object header b'114' b'0'\n",
      "2022-12-22 16:30:21 [PyPDF2._reader] WARNING: Superfluous whitespace found in object header b'115' b'0'\n",
      "2022-12-22 16:30:21 [PyPDF2._reader] WARNING: Superfluous whitespace found in object header b'116' b'0'\n",
      "2022-12-22 16:30:21 [PyPDF2._reader] WARNING: Superfluous whitespace found in object header b'117' b'0'\n",
      "2022-12-22 16:30:21 [PyPDF2._reader] WARNING: Superfluous whitespace found in object header b'118' b'0'\n",
      "2022-12-22 16:30:21 [PyPDF2._reader] WARNING: Superfluous whitespace found in object header b'119' b'0'\n",
      "2022-12-22 16:30:21 [PyPDF2._reader] WARNING: Superfluous whitespace found in object header b'120' b'0'\n",
      "2022-12-22 16:30:21 [PyPDF2._reader] WARNING: Superfluous whitespace found in object header b'121' b'0'\n",
      "2022-12-22 16:30:21 [PyPDF2._reader] WARNING: Superfluous whitespace found in object header b'122' b'0'\n",
      "2022-12-22 16:30:21 [PyPDF2._reader] WARNING: Superfluous whitespace found in object header b'123' b'0'\n",
      "2022-12-22 16:30:21 [PyPDF2._reader] WARNING: Superfluous whitespace found in object header b'124' b'0'\n",
      "2022-12-22 16:30:21 [PyPDF2._reader] WARNING: Superfluous whitespace found in object header b'125' b'0'\n",
      "2022-12-22 16:30:21 [PyPDF2._reader] WARNING: Superfluous whitespace found in object header b'126' b'0'\n",
      "2022-12-22 16:30:21 [PyPDF2._reader] WARNING: Superfluous whitespace found in object header b'127' b'0'\n",
      "2022-12-22 16:30:21 [PyPDF2._reader] WARNING: Superfluous whitespace found in object header b'128' b'0'\n",
      "2022-12-22 16:30:21 [PyPDF2._reader] WARNING: Superfluous whitespace found in object header b'129' b'0'\n",
      "2022-12-22 16:30:21 [PyPDF2._reader] WARNING: Superfluous whitespace found in object header b'130' b'0'\n",
      "2022-12-22 16:30:21 [PyPDF2._reader] WARNING: Superfluous whitespace found in object header b'131' b'0'\n",
      "2022-12-22 16:30:21 [PyPDF2._reader] WARNING: Superfluous whitespace found in object header b'132' b'0'\n",
      "2022-12-22 16:30:21 [PyPDF2._reader] WARNING: Superfluous whitespace found in object header b'133' b'0'\n",
      "2022-12-22 16:30:21 [PyPDF2._reader] WARNING: Superfluous whitespace found in object header b'134' b'0'\n",
      "2022-12-22 16:30:21 [PyPDF2._reader] WARNING: Superfluous whitespace found in object header b'135' b'0'\n",
      "2022-12-22 16:30:21 [PyPDF2._reader] WARNING: Superfluous whitespace found in object header b'136' b'0'\n",
      "2022-12-22 16:30:21 [PyPDF2._reader] WARNING: Superfluous whitespace found in object header b'137' b'0'\n",
      "2022-12-22 16:30:21 [PyPDF2._reader] WARNING: Superfluous whitespace found in object header b'138' b'0'\n",
      "2022-12-22 16:30:21 [PyPDF2._reader] WARNING: Superfluous whitespace found in object header b'139' b'0'\n",
      "2022-12-22 16:30:21 [PyPDF2._reader] WARNING: Superfluous whitespace found in object header b'140' b'0'\n",
      "2022-12-22 16:30:21 [PyPDF2._reader] WARNING: Superfluous whitespace found in object header b'141' b'0'\n",
      "2022-12-22 16:30:21 [PyPDF2._reader] WARNING: Superfluous whitespace found in object header b'142' b'0'\n",
      "2022-12-22 16:30:21 [PyPDF2._reader] WARNING: Superfluous whitespace found in object header b'143' b'0'\n",
      "2022-12-22 16:30:21 [PyPDF2._reader] WARNING: Superfluous whitespace found in object header b'144' b'0'\n",
      "2022-12-22 16:30:21 [PyPDF2._reader] WARNING: Superfluous whitespace found in object header b'145' b'0'\n",
      "2022-12-22 16:30:21 [PyPDF2._reader] WARNING: Superfluous whitespace found in object header b'146' b'0'\n",
      "2022-12-22 16:30:21 [PyPDF2._reader] WARNING: Superfluous whitespace found in object header b'147' b'0'\n",
      "2022-12-22 16:30:21 [root] INFO: Parse auction.... https://sale.uslugi.io/sidp/3915\n"
     ]
    },
    {
     "name": "stdout",
     "output_type": "stream",
     "text": [
      "Parse auction.... https://sale.uslugi.io/sidp/3915\n"
     ]
    },
    {
     "name": "stderr",
     "output_type": "stream",
     "text": [
      "2022-12-22 16:30:22 [root] INFO: Parse auction.... https://sale.uslugi.io/sidp/4021\n"
     ]
    },
    {
     "name": "stdout",
     "output_type": "stream",
     "text": [
      "Parse auction.... https://sale.uslugi.io/sidp/4021\n"
     ]
    },
    {
     "name": "stderr",
     "output_type": "stream",
     "text": [
      "2022-12-22 16:30:23 [PyPDF2._reader] WARNING: Xref table not zero-indexed. ID numbers for objects will be corrected.\n",
      "2022-12-22 16:30:23 [root] WARNING: Error processing PDFs\n",
      "2022-12-22 16:30:23 [root] INFO: Parse auction.... https://sale.uslugi.io/sidp/3917\n"
     ]
    },
    {
     "name": "stdout",
     "output_type": "stream",
     "text": [
      "Error processing PDFs\n",
      "Parse auction.... https://sale.uslugi.io/sidp/3917\n"
     ]
    },
    {
     "name": "stderr",
     "output_type": "stream",
     "text": [
      "2022-12-22 16:30:24 [root] INFO: Parse auction.... https://sale.uslugi.io/sidp/3892\n"
     ]
    },
    {
     "name": "stdout",
     "output_type": "stream",
     "text": [
      "Parse auction.... https://sale.uslugi.io/sidp/3892\n"
     ]
    },
    {
     "name": "stderr",
     "output_type": "stream",
     "text": [
      "2022-12-22 16:30:24 [PyPDF2._reader] WARNING: Superfluous whitespace found in object header b'1' b'0'\n",
      "2022-12-22 16:30:24 [PyPDF2._reader] WARNING: Superfluous whitespace found in object header b'2' b'0'\n",
      "2022-12-22 16:30:24 [PyPDF2._reader] WARNING: Superfluous whitespace found in object header b'3' b'0'\n",
      "2022-12-22 16:30:24 [PyPDF2._reader] WARNING: Superfluous whitespace found in object header b'52' b'0'\n",
      "2022-12-22 16:30:24 [PyPDF2._reader] WARNING: Superfluous whitespace found in object header b'51' b'0'\n",
      "2022-12-22 16:30:24 [PyPDF2._reader] WARNING: Superfluous whitespace found in object header b'50' b'0'\n",
      "2022-12-22 16:30:24 [PyPDF2._reader] WARNING: Superfluous whitespace found in object header b'4' b'0'\n",
      "2022-12-22 16:30:24 [PyPDF2._reader] WARNING: Superfluous whitespace found in object header b'5' b'0'\n",
      "2022-12-22 16:30:24 [PyPDF2._reader] WARNING: Superfluous whitespace found in object header b'6' b'0'\n",
      "2022-12-22 16:30:24 [PyPDF2._reader] WARNING: Superfluous whitespace found in object header b'7' b'0'\n",
      "2022-12-22 16:30:24 [PyPDF2._reader] WARNING: Superfluous whitespace found in object header b'8' b'0'\n",
      "2022-12-22 16:30:24 [PyPDF2._reader] WARNING: Superfluous whitespace found in object header b'9' b'0'\n",
      "2022-12-22 16:30:24 [PyPDF2._reader] WARNING: Superfluous whitespace found in object header b'10' b'0'\n",
      "2022-12-22 16:30:24 [PyPDF2._reader] WARNING: Superfluous whitespace found in object header b'11' b'0'\n",
      "2022-12-22 16:30:24 [PyPDF2._reader] WARNING: Superfluous whitespace found in object header b'12' b'0'\n",
      "2022-12-22 16:30:24 [PyPDF2._reader] WARNING: Superfluous whitespace found in object header b'13' b'0'\n",
      "2022-12-22 16:30:24 [PyPDF2._reader] WARNING: Superfluous whitespace found in object header b'14' b'0'\n",
      "2022-12-22 16:30:24 [PyPDF2._reader] WARNING: Superfluous whitespace found in object header b'15' b'0'\n",
      "2022-12-22 16:30:24 [PyPDF2._reader] WARNING: Superfluous whitespace found in object header b'16' b'0'\n",
      "2022-12-22 16:30:24 [PyPDF2._reader] WARNING: Superfluous whitespace found in object header b'17' b'0'\n",
      "2022-12-22 16:30:24 [PyPDF2._reader] WARNING: Superfluous whitespace found in object header b'18' b'0'\n",
      "2022-12-22 16:30:24 [PyPDF2._reader] WARNING: Superfluous whitespace found in object header b'19' b'0'\n",
      "2022-12-22 16:30:24 [PyPDF2._reader] WARNING: Superfluous whitespace found in object header b'20' b'0'\n",
      "2022-12-22 16:30:24 [PyPDF2._reader] WARNING: Superfluous whitespace found in object header b'21' b'0'\n",
      "2022-12-22 16:30:24 [PyPDF2._reader] WARNING: Superfluous whitespace found in object header b'22' b'0'\n",
      "2022-12-22 16:30:24 [PyPDF2._reader] WARNING: Superfluous whitespace found in object header b'23' b'0'\n",
      "2022-12-22 16:30:24 [PyPDF2._reader] WARNING: Superfluous whitespace found in object header b'24' b'0'\n",
      "2022-12-22 16:30:24 [PyPDF2._reader] WARNING: Superfluous whitespace found in object header b'25' b'0'\n",
      "2022-12-22 16:30:24 [PyPDF2._reader] WARNING: Superfluous whitespace found in object header b'26' b'0'\n",
      "2022-12-22 16:30:24 [PyPDF2._reader] WARNING: Superfluous whitespace found in object header b'27' b'0'\n",
      "2022-12-22 16:30:24 [PyPDF2._reader] WARNING: Superfluous whitespace found in object header b'28' b'0'\n",
      "2022-12-22 16:30:24 [PyPDF2._reader] WARNING: Superfluous whitespace found in object header b'29' b'0'\n",
      "2022-12-22 16:30:24 [PyPDF2._reader] WARNING: Superfluous whitespace found in object header b'30' b'0'\n",
      "2022-12-22 16:30:24 [PyPDF2._reader] WARNING: Superfluous whitespace found in object header b'31' b'0'\n",
      "2022-12-22 16:30:24 [PyPDF2._reader] WARNING: Superfluous whitespace found in object header b'32' b'0'\n",
      "2022-12-22 16:30:24 [PyPDF2._reader] WARNING: Superfluous whitespace found in object header b'33' b'0'\n",
      "2022-12-22 16:30:24 [PyPDF2._reader] WARNING: Superfluous whitespace found in object header b'34' b'0'\n",
      "2022-12-22 16:30:24 [PyPDF2._reader] WARNING: Superfluous whitespace found in object header b'35' b'0'\n",
      "2022-12-22 16:30:24 [PyPDF2._reader] WARNING: Superfluous whitespace found in object header b'36' b'0'\n",
      "2022-12-22 16:30:24 [PyPDF2._reader] WARNING: Superfluous whitespace found in object header b'37' b'0'\n",
      "2022-12-22 16:30:24 [PyPDF2._reader] WARNING: Superfluous whitespace found in object header b'38' b'0'\n",
      "2022-12-22 16:30:24 [PyPDF2._reader] WARNING: Superfluous whitespace found in object header b'39' b'0'\n",
      "2022-12-22 16:30:24 [PyPDF2._reader] WARNING: Superfluous whitespace found in object header b'40' b'0'\n",
      "2022-12-22 16:30:24 [PyPDF2._reader] WARNING: Superfluous whitespace found in object header b'41' b'0'\n",
      "2022-12-22 16:30:24 [PyPDF2._reader] WARNING: Superfluous whitespace found in object header b'42' b'0'\n",
      "2022-12-22 16:30:24 [PyPDF2._reader] WARNING: Superfluous whitespace found in object header b'43' b'0'\n",
      "2022-12-22 16:30:24 [PyPDF2._reader] WARNING: Superfluous whitespace found in object header b'44' b'0'\n",
      "2022-12-22 16:30:24 [PyPDF2._reader] WARNING: Superfluous whitespace found in object header b'45' b'0'\n",
      "2022-12-22 16:30:24 [PyPDF2._reader] WARNING: Superfluous whitespace found in object header b'46' b'0'\n",
      "2022-12-22 16:30:24 [PyPDF2._reader] WARNING: Superfluous whitespace found in object header b'47' b'0'\n",
      "2022-12-22 16:30:24 [PyPDF2._reader] WARNING: Superfluous whitespace found in object header b'48' b'0'\n",
      "2022-12-22 16:30:24 [PyPDF2._reader] WARNING: Superfluous whitespace found in object header b'49' b'0'\n",
      "2022-12-22 16:30:24 [PyPDF2._reader] WARNING: Superfluous whitespace found in object header b'100' b'0'\n",
      "2022-12-22 16:30:24 [PyPDF2._reader] WARNING: Superfluous whitespace found in object header b'99' b'0'\n",
      "2022-12-22 16:30:24 [PyPDF2._reader] WARNING: Superfluous whitespace found in object header b'53' b'0'\n",
      "2022-12-22 16:30:24 [PyPDF2._reader] WARNING: Superfluous whitespace found in object header b'54' b'0'\n",
      "2022-12-22 16:30:24 [PyPDF2._reader] WARNING: Superfluous whitespace found in object header b'55' b'0'\n",
      "2022-12-22 16:30:24 [PyPDF2._reader] WARNING: Superfluous whitespace found in object header b'56' b'0'\n",
      "2022-12-22 16:30:24 [PyPDF2._reader] WARNING: Superfluous whitespace found in object header b'57' b'0'\n",
      "2022-12-22 16:30:24 [PyPDF2._reader] WARNING: Superfluous whitespace found in object header b'58' b'0'\n",
      "2022-12-22 16:30:24 [PyPDF2._reader] WARNING: Superfluous whitespace found in object header b'59' b'0'\n",
      "2022-12-22 16:30:24 [PyPDF2._reader] WARNING: Superfluous whitespace found in object header b'60' b'0'\n",
      "2022-12-22 16:30:24 [PyPDF2._reader] WARNING: Superfluous whitespace found in object header b'61' b'0'\n",
      "2022-12-22 16:30:24 [PyPDF2._reader] WARNING: Superfluous whitespace found in object header b'62' b'0'\n",
      "2022-12-22 16:30:24 [PyPDF2._reader] WARNING: Superfluous whitespace found in object header b'63' b'0'\n",
      "2022-12-22 16:30:24 [PyPDF2._reader] WARNING: Superfluous whitespace found in object header b'64' b'0'\n",
      "2022-12-22 16:30:24 [PyPDF2._reader] WARNING: Superfluous whitespace found in object header b'65' b'0'\n",
      "2022-12-22 16:30:24 [PyPDF2._reader] WARNING: Superfluous whitespace found in object header b'66' b'0'\n",
      "2022-12-22 16:30:24 [PyPDF2._reader] WARNING: Superfluous whitespace found in object header b'67' b'0'\n",
      "2022-12-22 16:30:24 [PyPDF2._reader] WARNING: Superfluous whitespace found in object header b'68' b'0'\n",
      "2022-12-22 16:30:24 [PyPDF2._reader] WARNING: Superfluous whitespace found in object header b'69' b'0'\n",
      "2022-12-22 16:30:24 [PyPDF2._reader] WARNING: Superfluous whitespace found in object header b'70' b'0'\n",
      "2022-12-22 16:30:24 [PyPDF2._reader] WARNING: Superfluous whitespace found in object header b'71' b'0'\n",
      "2022-12-22 16:30:24 [PyPDF2._reader] WARNING: Superfluous whitespace found in object header b'72' b'0'\n",
      "2022-12-22 16:30:24 [PyPDF2._reader] WARNING: Superfluous whitespace found in object header b'73' b'0'\n",
      "2022-12-22 16:30:24 [PyPDF2._reader] WARNING: Superfluous whitespace found in object header b'74' b'0'\n",
      "2022-12-22 16:30:24 [PyPDF2._reader] WARNING: Superfluous whitespace found in object header b'75' b'0'\n",
      "2022-12-22 16:30:24 [PyPDF2._reader] WARNING: Superfluous whitespace found in object header b'76' b'0'\n",
      "2022-12-22 16:30:24 [PyPDF2._reader] WARNING: Superfluous whitespace found in object header b'77' b'0'\n",
      "2022-12-22 16:30:24 [PyPDF2._reader] WARNING: Superfluous whitespace found in object header b'78' b'0'\n"
     ]
    },
    {
     "name": "stderr",
     "output_type": "stream",
     "text": [
      "2022-12-22 16:30:24 [PyPDF2._reader] WARNING: Superfluous whitespace found in object header b'79' b'0'\n",
      "2022-12-22 16:30:24 [PyPDF2._reader] WARNING: Superfluous whitespace found in object header b'80' b'0'\n",
      "2022-12-22 16:30:24 [PyPDF2._reader] WARNING: Superfluous whitespace found in object header b'81' b'0'\n",
      "2022-12-22 16:30:24 [PyPDF2._reader] WARNING: Superfluous whitespace found in object header b'82' b'0'\n",
      "2022-12-22 16:30:24 [PyPDF2._reader] WARNING: Superfluous whitespace found in object header b'83' b'0'\n",
      "2022-12-22 16:30:24 [PyPDF2._reader] WARNING: Superfluous whitespace found in object header b'84' b'0'\n",
      "2022-12-22 16:30:24 [PyPDF2._reader] WARNING: Superfluous whitespace found in object header b'85' b'0'\n",
      "2022-12-22 16:30:24 [PyPDF2._reader] WARNING: Superfluous whitespace found in object header b'86' b'0'\n",
      "2022-12-22 16:30:24 [PyPDF2._reader] WARNING: Superfluous whitespace found in object header b'87' b'0'\n",
      "2022-12-22 16:30:24 [PyPDF2._reader] WARNING: Superfluous whitespace found in object header b'88' b'0'\n",
      "2022-12-22 16:30:24 [PyPDF2._reader] WARNING: Superfluous whitespace found in object header b'89' b'0'\n",
      "2022-12-22 16:30:24 [PyPDF2._reader] WARNING: Superfluous whitespace found in object header b'90' b'0'\n",
      "2022-12-22 16:30:24 [PyPDF2._reader] WARNING: Superfluous whitespace found in object header b'91' b'0'\n",
      "2022-12-22 16:30:24 [PyPDF2._reader] WARNING: Superfluous whitespace found in object header b'92' b'0'\n",
      "2022-12-22 16:30:24 [PyPDF2._reader] WARNING: Superfluous whitespace found in object header b'93' b'0'\n",
      "2022-12-22 16:30:24 [PyPDF2._reader] WARNING: Superfluous whitespace found in object header b'94' b'0'\n",
      "2022-12-22 16:30:24 [PyPDF2._reader] WARNING: Superfluous whitespace found in object header b'95' b'0'\n",
      "2022-12-22 16:30:24 [PyPDF2._reader] WARNING: Superfluous whitespace found in object header b'96' b'0'\n",
      "2022-12-22 16:30:24 [PyPDF2._reader] WARNING: Superfluous whitespace found in object header b'97' b'0'\n",
      "2022-12-22 16:30:24 [PyPDF2._reader] WARNING: Superfluous whitespace found in object header b'98' b'0'\n",
      "2022-12-22 16:30:24 [root] INFO: Parse auction.... https://sale.uslugi.io/sidp/4023\n"
     ]
    },
    {
     "name": "stdout",
     "output_type": "stream",
     "text": [
      "Parse auction.... https://sale.uslugi.io/sidp/4023\n"
     ]
    },
    {
     "name": "stderr",
     "output_type": "stream",
     "text": [
      "2022-12-22 16:30:24 [PyPDF2._reader] WARNING: Xref table not zero-indexed. ID numbers for objects will be corrected.\n",
      "2022-12-22 16:30:24 [root] WARNING: Error processing PDFs\n",
      "2022-12-22 16:30:24 [root] INFO: Parse auction.... https://sale.uslugi.io/sidp/4025\n"
     ]
    },
    {
     "name": "stdout",
     "output_type": "stream",
     "text": [
      "Error processing PDFs\n",
      "Parse auction.... https://sale.uslugi.io/sidp/4025\n"
     ]
    },
    {
     "name": "stderr",
     "output_type": "stream",
     "text": [
      "2022-12-22 16:30:25 [scrapy.extensions.logstats] INFO: Crawled 860 pages (at 65 pages/min), scraped 844 items (at 66 items/min)\n",
      "2022-12-22 16:30:25 [root] INFO: Parse auction.... https://sale.uslugi.io/sidp/3891\n"
     ]
    },
    {
     "name": "stdout",
     "output_type": "stream",
     "text": [
      "Parse auction.... https://sale.uslugi.io/sidp/3891\n"
     ]
    },
    {
     "name": "stderr",
     "output_type": "stream",
     "text": [
      "2022-12-22 16:30:25 [PyPDF2._reader] WARNING: Superfluous whitespace found in object header b'1' b'0'\n",
      "2022-12-22 16:30:25 [PyPDF2._reader] WARNING: Superfluous whitespace found in object header b'2' b'0'\n",
      "2022-12-22 16:30:25 [PyPDF2._reader] WARNING: Superfluous whitespace found in object header b'3' b'0'\n",
      "2022-12-22 16:30:25 [PyPDF2._reader] WARNING: Superfluous whitespace found in object header b'52' b'0'\n",
      "2022-12-22 16:30:25 [PyPDF2._reader] WARNING: Superfluous whitespace found in object header b'51' b'0'\n",
      "2022-12-22 16:30:25 [PyPDF2._reader] WARNING: Superfluous whitespace found in object header b'50' b'0'\n",
      "2022-12-22 16:30:25 [PyPDF2._reader] WARNING: Superfluous whitespace found in object header b'4' b'0'\n",
      "2022-12-22 16:30:25 [PyPDF2._reader] WARNING: Superfluous whitespace found in object header b'5' b'0'\n",
      "2022-12-22 16:30:25 [PyPDF2._reader] WARNING: Superfluous whitespace found in object header b'6' b'0'\n",
      "2022-12-22 16:30:25 [PyPDF2._reader] WARNING: Superfluous whitespace found in object header b'7' b'0'\n",
      "2022-12-22 16:30:25 [PyPDF2._reader] WARNING: Superfluous whitespace found in object header b'8' b'0'\n",
      "2022-12-22 16:30:25 [PyPDF2._reader] WARNING: Superfluous whitespace found in object header b'9' b'0'\n",
      "2022-12-22 16:30:25 [PyPDF2._reader] WARNING: Superfluous whitespace found in object header b'10' b'0'\n",
      "2022-12-22 16:30:25 [PyPDF2._reader] WARNING: Superfluous whitespace found in object header b'11' b'0'\n",
      "2022-12-22 16:30:25 [PyPDF2._reader] WARNING: Superfluous whitespace found in object header b'12' b'0'\n",
      "2022-12-22 16:30:25 [PyPDF2._reader] WARNING: Superfluous whitespace found in object header b'13' b'0'\n",
      "2022-12-22 16:30:25 [PyPDF2._reader] WARNING: Superfluous whitespace found in object header b'14' b'0'\n",
      "2022-12-22 16:30:25 [PyPDF2._reader] WARNING: Superfluous whitespace found in object header b'15' b'0'\n",
      "2022-12-22 16:30:25 [PyPDF2._reader] WARNING: Superfluous whitespace found in object header b'16' b'0'\n",
      "2022-12-22 16:30:25 [PyPDF2._reader] WARNING: Superfluous whitespace found in object header b'17' b'0'\n",
      "2022-12-22 16:30:25 [PyPDF2._reader] WARNING: Superfluous whitespace found in object header b'18' b'0'\n",
      "2022-12-22 16:30:25 [PyPDF2._reader] WARNING: Superfluous whitespace found in object header b'19' b'0'\n",
      "2022-12-22 16:30:25 [PyPDF2._reader] WARNING: Superfluous whitespace found in object header b'20' b'0'\n",
      "2022-12-22 16:30:25 [PyPDF2._reader] WARNING: Superfluous whitespace found in object header b'21' b'0'\n",
      "2022-12-22 16:30:25 [PyPDF2._reader] WARNING: Superfluous whitespace found in object header b'22' b'0'\n",
      "2022-12-22 16:30:25 [PyPDF2._reader] WARNING: Superfluous whitespace found in object header b'23' b'0'\n",
      "2022-12-22 16:30:25 [PyPDF2._reader] WARNING: Superfluous whitespace found in object header b'24' b'0'\n",
      "2022-12-22 16:30:25 [PyPDF2._reader] WARNING: Superfluous whitespace found in object header b'25' b'0'\n",
      "2022-12-22 16:30:25 [PyPDF2._reader] WARNING: Superfluous whitespace found in object header b'26' b'0'\n",
      "2022-12-22 16:30:25 [PyPDF2._reader] WARNING: Superfluous whitespace found in object header b'27' b'0'\n",
      "2022-12-22 16:30:25 [PyPDF2._reader] WARNING: Superfluous whitespace found in object header b'28' b'0'\n",
      "2022-12-22 16:30:25 [PyPDF2._reader] WARNING: Superfluous whitespace found in object header b'29' b'0'\n",
      "2022-12-22 16:30:25 [PyPDF2._reader] WARNING: Superfluous whitespace found in object header b'30' b'0'\n",
      "2022-12-22 16:30:25 [PyPDF2._reader] WARNING: Superfluous whitespace found in object header b'31' b'0'\n",
      "2022-12-22 16:30:25 [PyPDF2._reader] WARNING: Superfluous whitespace found in object header b'32' b'0'\n",
      "2022-12-22 16:30:25 [PyPDF2._reader] WARNING: Superfluous whitespace found in object header b'33' b'0'\n",
      "2022-12-22 16:30:25 [PyPDF2._reader] WARNING: Superfluous whitespace found in object header b'34' b'0'\n",
      "2022-12-22 16:30:25 [PyPDF2._reader] WARNING: Superfluous whitespace found in object header b'35' b'0'\n",
      "2022-12-22 16:30:25 [PyPDF2._reader] WARNING: Superfluous whitespace found in object header b'36' b'0'\n",
      "2022-12-22 16:30:25 [PyPDF2._reader] WARNING: Superfluous whitespace found in object header b'37' b'0'\n",
      "2022-12-22 16:30:25 [PyPDF2._reader] WARNING: Superfluous whitespace found in object header b'38' b'0'\n",
      "2022-12-22 16:30:25 [PyPDF2._reader] WARNING: Superfluous whitespace found in object header b'39' b'0'\n",
      "2022-12-22 16:30:25 [PyPDF2._reader] WARNING: Superfluous whitespace found in object header b'40' b'0'\n",
      "2022-12-22 16:30:25 [PyPDF2._reader] WARNING: Superfluous whitespace found in object header b'41' b'0'\n",
      "2022-12-22 16:30:25 [PyPDF2._reader] WARNING: Superfluous whitespace found in object header b'42' b'0'\n",
      "2022-12-22 16:30:25 [PyPDF2._reader] WARNING: Superfluous whitespace found in object header b'43' b'0'\n",
      "2022-12-22 16:30:25 [PyPDF2._reader] WARNING: Superfluous whitespace found in object header b'44' b'0'\n",
      "2022-12-22 16:30:25 [PyPDF2._reader] WARNING: Superfluous whitespace found in object header b'45' b'0'\n",
      "2022-12-22 16:30:25 [PyPDF2._reader] WARNING: Superfluous whitespace found in object header b'46' b'0'\n",
      "2022-12-22 16:30:25 [PyPDF2._reader] WARNING: Superfluous whitespace found in object header b'47' b'0'\n",
      "2022-12-22 16:30:25 [PyPDF2._reader] WARNING: Superfluous whitespace found in object header b'48' b'0'\n",
      "2022-12-22 16:30:25 [PyPDF2._reader] WARNING: Superfluous whitespace found in object header b'49' b'0'\n",
      "2022-12-22 16:30:25 [PyPDF2._reader] WARNING: Superfluous whitespace found in object header b'100' b'0'\n",
      "2022-12-22 16:30:25 [PyPDF2._reader] WARNING: Superfluous whitespace found in object header b'99' b'0'\n",
      "2022-12-22 16:30:25 [PyPDF2._reader] WARNING: Superfluous whitespace found in object header b'53' b'0'\n",
      "2022-12-22 16:30:25 [PyPDF2._reader] WARNING: Superfluous whitespace found in object header b'54' b'0'\n",
      "2022-12-22 16:30:25 [PyPDF2._reader] WARNING: Superfluous whitespace found in object header b'55' b'0'\n",
      "2022-12-22 16:30:25 [PyPDF2._reader] WARNING: Superfluous whitespace found in object header b'56' b'0'\n",
      "2022-12-22 16:30:25 [PyPDF2._reader] WARNING: Superfluous whitespace found in object header b'57' b'0'\n",
      "2022-12-22 16:30:25 [PyPDF2._reader] WARNING: Superfluous whitespace found in object header b'58' b'0'\n",
      "2022-12-22 16:30:25 [PyPDF2._reader] WARNING: Superfluous whitespace found in object header b'59' b'0'\n",
      "2022-12-22 16:30:25 [PyPDF2._reader] WARNING: Superfluous whitespace found in object header b'60' b'0'\n",
      "2022-12-22 16:30:25 [PyPDF2._reader] WARNING: Superfluous whitespace found in object header b'61' b'0'\n",
      "2022-12-22 16:30:25 [PyPDF2._reader] WARNING: Superfluous whitespace found in object header b'62' b'0'\n",
      "2022-12-22 16:30:25 [PyPDF2._reader] WARNING: Superfluous whitespace found in object header b'63' b'0'\n",
      "2022-12-22 16:30:25 [PyPDF2._reader] WARNING: Superfluous whitespace found in object header b'64' b'0'\n",
      "2022-12-22 16:30:25 [PyPDF2._reader] WARNING: Superfluous whitespace found in object header b'65' b'0'\n",
      "2022-12-22 16:30:25 [PyPDF2._reader] WARNING: Superfluous whitespace found in object header b'66' b'0'\n",
      "2022-12-22 16:30:25 [PyPDF2._reader] WARNING: Superfluous whitespace found in object header b'67' b'0'\n",
      "2022-12-22 16:30:25 [PyPDF2._reader] WARNING: Superfluous whitespace found in object header b'68' b'0'\n",
      "2022-12-22 16:30:25 [PyPDF2._reader] WARNING: Superfluous whitespace found in object header b'69' b'0'\n",
      "2022-12-22 16:30:25 [PyPDF2._reader] WARNING: Superfluous whitespace found in object header b'70' b'0'\n",
      "2022-12-22 16:30:25 [PyPDF2._reader] WARNING: Superfluous whitespace found in object header b'71' b'0'\n",
      "2022-12-22 16:30:25 [PyPDF2._reader] WARNING: Superfluous whitespace found in object header b'72' b'0'\n",
      "2022-12-22 16:30:25 [PyPDF2._reader] WARNING: Superfluous whitespace found in object header b'73' b'0'\n",
      "2022-12-22 16:30:25 [PyPDF2._reader] WARNING: Superfluous whitespace found in object header b'74' b'0'\n",
      "2022-12-22 16:30:25 [PyPDF2._reader] WARNING: Superfluous whitespace found in object header b'75' b'0'\n",
      "2022-12-22 16:30:25 [PyPDF2._reader] WARNING: Superfluous whitespace found in object header b'76' b'0'\n",
      "2022-12-22 16:30:25 [PyPDF2._reader] WARNING: Superfluous whitespace found in object header b'77' b'0'\n",
      "2022-12-22 16:30:25 [PyPDF2._reader] WARNING: Superfluous whitespace found in object header b'78' b'0'\n"
     ]
    },
    {
     "name": "stderr",
     "output_type": "stream",
     "text": [
      "2022-12-22 16:30:25 [PyPDF2._reader] WARNING: Superfluous whitespace found in object header b'79' b'0'\n",
      "2022-12-22 16:30:25 [PyPDF2._reader] WARNING: Superfluous whitespace found in object header b'80' b'0'\n",
      "2022-12-22 16:30:25 [PyPDF2._reader] WARNING: Superfluous whitespace found in object header b'81' b'0'\n",
      "2022-12-22 16:30:25 [PyPDF2._reader] WARNING: Superfluous whitespace found in object header b'82' b'0'\n",
      "2022-12-22 16:30:25 [PyPDF2._reader] WARNING: Superfluous whitespace found in object header b'83' b'0'\n",
      "2022-12-22 16:30:25 [PyPDF2._reader] WARNING: Superfluous whitespace found in object header b'84' b'0'\n",
      "2022-12-22 16:30:25 [PyPDF2._reader] WARNING: Superfluous whitespace found in object header b'85' b'0'\n",
      "2022-12-22 16:30:25 [PyPDF2._reader] WARNING: Superfluous whitespace found in object header b'86' b'0'\n",
      "2022-12-22 16:30:25 [PyPDF2._reader] WARNING: Superfluous whitespace found in object header b'87' b'0'\n",
      "2022-12-22 16:30:25 [PyPDF2._reader] WARNING: Superfluous whitespace found in object header b'88' b'0'\n",
      "2022-12-22 16:30:25 [PyPDF2._reader] WARNING: Superfluous whitespace found in object header b'89' b'0'\n",
      "2022-12-22 16:30:25 [PyPDF2._reader] WARNING: Superfluous whitespace found in object header b'90' b'0'\n",
      "2022-12-22 16:30:25 [PyPDF2._reader] WARNING: Superfluous whitespace found in object header b'91' b'0'\n",
      "2022-12-22 16:30:25 [PyPDF2._reader] WARNING: Superfluous whitespace found in object header b'92' b'0'\n",
      "2022-12-22 16:30:25 [PyPDF2._reader] WARNING: Superfluous whitespace found in object header b'93' b'0'\n",
      "2022-12-22 16:30:25 [PyPDF2._reader] WARNING: Superfluous whitespace found in object header b'94' b'0'\n",
      "2022-12-22 16:30:25 [PyPDF2._reader] WARNING: Superfluous whitespace found in object header b'95' b'0'\n",
      "2022-12-22 16:30:25 [PyPDF2._reader] WARNING: Superfluous whitespace found in object header b'96' b'0'\n",
      "2022-12-22 16:30:25 [PyPDF2._reader] WARNING: Superfluous whitespace found in object header b'97' b'0'\n",
      "2022-12-22 16:30:25 [PyPDF2._reader] WARNING: Superfluous whitespace found in object header b'98' b'0'\n",
      "2022-12-22 16:30:25 [root] INFO: Parse auction.... https://sale.uslugi.io/sidp/4026\n"
     ]
    },
    {
     "name": "stdout",
     "output_type": "stream",
     "text": [
      "Parse auction.... https://sale.uslugi.io/sidp/4026\n"
     ]
    },
    {
     "name": "stderr",
     "output_type": "stream",
     "text": [
      "2022-12-22 16:30:26 [root] INFO: Parse auction.... https://sale.uslugi.io/sidp/4022\n"
     ]
    },
    {
     "name": "stdout",
     "output_type": "stream",
     "text": [
      "Parse auction.... https://sale.uslugi.io/sidp/4022\n"
     ]
    },
    {
     "name": "stderr",
     "output_type": "stream",
     "text": [
      "2022-12-22 16:30:26 [PyPDF2._reader] WARNING: Xref table not zero-indexed. ID numbers for objects will be corrected.\n",
      "2022-12-22 16:30:26 [root] WARNING: Error processing PDFs\n",
      "2022-12-22 16:30:26 [root] INFO: Parse auction.... https://sale.uslugi.io/sidp/4027\n"
     ]
    },
    {
     "name": "stdout",
     "output_type": "stream",
     "text": [
      "Error processing PDFs\n",
      "Parse auction.... https://sale.uslugi.io/sidp/4027\n"
     ]
    },
    {
     "name": "stderr",
     "output_type": "stream",
     "text": [
      "2022-12-22 16:30:27 [root] INFO: Parse auction.... https://sale.uslugi.io/sidp/4024\n"
     ]
    },
    {
     "name": "stdout",
     "output_type": "stream",
     "text": [
      "Parse auction.... https://sale.uslugi.io/sidp/4024\n"
     ]
    },
    {
     "name": "stderr",
     "output_type": "stream",
     "text": [
      "2022-12-22 16:30:27 [root] INFO: Parse auction.... https://sale.uslugi.io/sidp/4028\n"
     ]
    },
    {
     "name": "stdout",
     "output_type": "stream",
     "text": [
      "Parse auction.... https://sale.uslugi.io/sidp/4028\n"
     ]
    },
    {
     "name": "stderr",
     "output_type": "stream",
     "text": [
      "2022-12-22 16:30:28 [root] INFO: Parse auction.... https://sale.uslugi.io/sidp/3916\n"
     ]
    },
    {
     "name": "stdout",
     "output_type": "stream",
     "text": [
      "Parse auction.... https://sale.uslugi.io/sidp/3916\n"
     ]
    },
    {
     "name": "stderr",
     "output_type": "stream",
     "text": [
      "2022-12-22 16:30:28 [root] INFO: Parse auction.... https://sale.uslugi.io/sidp/4029\n"
     ]
    },
    {
     "name": "stdout",
     "output_type": "stream",
     "text": [
      "Parse auction.... https://sale.uslugi.io/sidp/4029\n"
     ]
    },
    {
     "name": "stderr",
     "output_type": "stream",
     "text": [
      "2022-12-22 16:30:29 [root] INFO: Parse auction.... https://sale.uslugi.io/sidp/4030\n"
     ]
    },
    {
     "name": "stdout",
     "output_type": "stream",
     "text": [
      "Parse auction.... https://sale.uslugi.io/sidp/4030\n"
     ]
    },
    {
     "name": "stderr",
     "output_type": "stream",
     "text": [
      "2022-12-22 16:30:30 [root] INFO: Parse auction.... https://sale.uslugi.io/sidp/4031\n",
      "2022-12-22 16:30:30 [root] INFO: Parse auction.... https://sale.uslugi.io/sidp/4035\n"
     ]
    },
    {
     "name": "stdout",
     "output_type": "stream",
     "text": [
      "Parse auction.... https://sale.uslugi.io/sidp/4031\n",
      "Parse auction.... https://sale.uslugi.io/sidp/4035\n"
     ]
    },
    {
     "name": "stderr",
     "output_type": "stream",
     "text": [
      "2022-12-22 16:30:30 [root] INFO: Parse auction.... https://sale.uslugi.io/sidp/4040\n"
     ]
    },
    {
     "name": "stdout",
     "output_type": "stream",
     "text": [
      "Parse auction.... https://sale.uslugi.io/sidp/4040\n"
     ]
    },
    {
     "name": "stderr",
     "output_type": "stream",
     "text": [
      "2022-12-22 16:30:31 [root] INFO: Parse auction.... https://sale.uslugi.io/sidp/4114\n"
     ]
    },
    {
     "name": "stdout",
     "output_type": "stream",
     "text": [
      "Parse auction.... https://sale.uslugi.io/sidp/4114\n"
     ]
    },
    {
     "name": "stderr",
     "output_type": "stream",
     "text": [
      "2022-12-22 16:30:32 [root] INFO: Parse auction.... https://sale.uslugi.io/sidp/4115\n"
     ]
    },
    {
     "name": "stdout",
     "output_type": "stream",
     "text": [
      "Parse auction.... https://sale.uslugi.io/sidp/4115\n"
     ]
    },
    {
     "name": "stderr",
     "output_type": "stream",
     "text": [
      "2022-12-22 16:30:33 [root] INFO: Parse auction.... https://sale.uslugi.io/sidp/4117\n"
     ]
    },
    {
     "name": "stdout",
     "output_type": "stream",
     "text": [
      "Parse auction.... https://sale.uslugi.io/sidp/4117\n"
     ]
    },
    {
     "name": "stderr",
     "output_type": "stream",
     "text": [
      "2022-12-22 16:30:35 [root] INFO: Parse auction.... https://sale.uslugi.io/sidp/4118\n"
     ]
    },
    {
     "name": "stdout",
     "output_type": "stream",
     "text": [
      "Parse auction.... https://sale.uslugi.io/sidp/4118\n"
     ]
    },
    {
     "name": "stderr",
     "output_type": "stream",
     "text": [
      "2022-12-22 16:30:38 [root] INFO: Parse auction.... https://sale.uslugi.io/sidp/4166\n"
     ]
    },
    {
     "name": "stdout",
     "output_type": "stream",
     "text": [
      "Parse auction.... https://sale.uslugi.io/sidp/4166\n"
     ]
    },
    {
     "name": "stderr",
     "output_type": "stream",
     "text": [
      "2022-12-22 16:30:40 [root] INFO: Parse auction.... https://sale.uslugi.io/sidp/4128\n",
      "2022-12-22 16:30:40 [root] INFO: Parse auction.... https://sale.uslugi.io/sidp/4163\n",
      "2022-12-22 16:30:40 [root] INFO: Parse auction.... https://sale.uslugi.io/sidp/4165\n"
     ]
    },
    {
     "name": "stdout",
     "output_type": "stream",
     "text": [
      "Parse auction.... https://sale.uslugi.io/sidp/4128\n",
      "Parse auction.... https://sale.uslugi.io/sidp/4163\n",
      "Parse auction.... https://sale.uslugi.io/sidp/4165\n"
     ]
    },
    {
     "name": "stderr",
     "output_type": "stream",
     "text": [
      "2022-12-22 16:30:42 [root] INFO: Parse auction.... https://sale.uslugi.io/sidp/4189\n"
     ]
    },
    {
     "name": "stdout",
     "output_type": "stream",
     "text": [
      "Parse auction.... https://sale.uslugi.io/sidp/4189\n"
     ]
    },
    {
     "name": "stderr",
     "output_type": "stream",
     "text": [
      "2022-12-22 16:30:43 [PyPDF2._reader] WARNING: Superfluous whitespace found in object header b'1' b'0'\n",
      "2022-12-22 16:30:43 [PyPDF2._reader] WARNING: Superfluous whitespace found in object header b'2' b'0'\n",
      "2022-12-22 16:30:43 [PyPDF2._reader] WARNING: Superfluous whitespace found in object header b'3' b'0'\n",
      "2022-12-22 16:30:43 [PyPDF2._reader] WARNING: Superfluous whitespace found in object header b'52' b'0'\n",
      "2022-12-22 16:30:43 [PyPDF2._reader] WARNING: Superfluous whitespace found in object header b'101' b'0'\n",
      "2022-12-22 16:30:43 [PyPDF2._reader] WARNING: Superfluous whitespace found in object header b'150' b'0'\n",
      "2022-12-22 16:30:43 [PyPDF2._reader] WARNING: Superfluous whitespace found in object header b'199' b'0'\n",
      "2022-12-22 16:30:43 [PyPDF2._reader] WARNING: Superfluous whitespace found in object header b'248' b'0'\n",
      "2022-12-22 16:30:43 [PyPDF2._reader] WARNING: Superfluous whitespace found in object header b'297' b'0'\n",
      "2022-12-22 16:30:43 [PyPDF2._reader] WARNING: Superfluous whitespace found in object header b'346' b'0'\n",
      "2022-12-22 16:30:43 [PyPDF2._reader] WARNING: Superfluous whitespace found in object header b'395' b'0'\n",
      "2022-12-22 16:30:43 [PyPDF2._reader] WARNING: Superfluous whitespace found in object header b'444' b'0'\n",
      "2022-12-22 16:30:43 [PyPDF2._reader] WARNING: Superfluous whitespace found in object header b'493' b'0'\n",
      "2022-12-22 16:30:43 [PyPDF2._reader] WARNING: Superfluous whitespace found in object header b'51' b'0'\n",
      "2022-12-22 16:30:43 [PyPDF2._reader] WARNING: Superfluous whitespace found in object header b'50' b'0'\n",
      "2022-12-22 16:30:43 [PyPDF2._reader] WARNING: Superfluous whitespace found in object header b'4' b'0'\n",
      "2022-12-22 16:30:43 [PyPDF2._reader] WARNING: Superfluous whitespace found in object header b'5' b'0'\n",
      "2022-12-22 16:30:43 [PyPDF2._reader] WARNING: Superfluous whitespace found in object header b'6' b'0'\n",
      "2022-12-22 16:30:43 [PyPDF2._reader] WARNING: Superfluous whitespace found in object header b'7' b'0'\n",
      "2022-12-22 16:30:43 [PyPDF2._reader] WARNING: Superfluous whitespace found in object header b'8' b'0'\n",
      "2022-12-22 16:30:43 [PyPDF2._reader] WARNING: Superfluous whitespace found in object header b'9' b'0'\n",
      "2022-12-22 16:30:43 [PyPDF2._reader] WARNING: Superfluous whitespace found in object header b'10' b'0'\n",
      "2022-12-22 16:30:43 [PyPDF2._reader] WARNING: Superfluous whitespace found in object header b'11' b'0'\n",
      "2022-12-22 16:30:43 [PyPDF2._reader] WARNING: Superfluous whitespace found in object header b'12' b'0'\n",
      "2022-12-22 16:30:43 [PyPDF2._reader] WARNING: Superfluous whitespace found in object header b'13' b'0'\n",
      "2022-12-22 16:30:43 [PyPDF2._reader] WARNING: Superfluous whitespace found in object header b'14' b'0'\n",
      "2022-12-22 16:30:43 [PyPDF2._reader] WARNING: Superfluous whitespace found in object header b'15' b'0'\n",
      "2022-12-22 16:30:43 [PyPDF2._reader] WARNING: Superfluous whitespace found in object header b'16' b'0'\n",
      "2022-12-22 16:30:43 [PyPDF2._reader] WARNING: Superfluous whitespace found in object header b'17' b'0'\n",
      "2022-12-22 16:30:43 [PyPDF2._reader] WARNING: Superfluous whitespace found in object header b'18' b'0'\n",
      "2022-12-22 16:30:43 [PyPDF2._reader] WARNING: Superfluous whitespace found in object header b'19' b'0'\n",
      "2022-12-22 16:30:43 [PyPDF2._reader] WARNING: Superfluous whitespace found in object header b'20' b'0'\n",
      "2022-12-22 16:30:43 [PyPDF2._reader] WARNING: Superfluous whitespace found in object header b'21' b'0'\n",
      "2022-12-22 16:30:43 [PyPDF2._reader] WARNING: Superfluous whitespace found in object header b'22' b'0'\n",
      "2022-12-22 16:30:43 [PyPDF2._reader] WARNING: Superfluous whitespace found in object header b'23' b'0'\n",
      "2022-12-22 16:30:43 [PyPDF2._reader] WARNING: Superfluous whitespace found in object header b'24' b'0'\n",
      "2022-12-22 16:30:43 [PyPDF2._reader] WARNING: Superfluous whitespace found in object header b'25' b'0'\n",
      "2022-12-22 16:30:43 [PyPDF2._reader] WARNING: Superfluous whitespace found in object header b'26' b'0'\n",
      "2022-12-22 16:30:43 [PyPDF2._reader] WARNING: Superfluous whitespace found in object header b'27' b'0'\n",
      "2022-12-22 16:30:43 [PyPDF2._reader] WARNING: Superfluous whitespace found in object header b'28' b'0'\n",
      "2022-12-22 16:30:43 [PyPDF2._reader] WARNING: Superfluous whitespace found in object header b'29' b'0'\n",
      "2022-12-22 16:30:43 [PyPDF2._reader] WARNING: Superfluous whitespace found in object header b'30' b'0'\n",
      "2022-12-22 16:30:43 [PyPDF2._reader] WARNING: Superfluous whitespace found in object header b'31' b'0'\n",
      "2022-12-22 16:30:43 [PyPDF2._reader] WARNING: Superfluous whitespace found in object header b'32' b'0'\n",
      "2022-12-22 16:30:43 [PyPDF2._reader] WARNING: Superfluous whitespace found in object header b'33' b'0'\n",
      "2022-12-22 16:30:43 [PyPDF2._reader] WARNING: Superfluous whitespace found in object header b'34' b'0'\n",
      "2022-12-22 16:30:43 [PyPDF2._reader] WARNING: Superfluous whitespace found in object header b'35' b'0'\n",
      "2022-12-22 16:30:43 [PyPDF2._reader] WARNING: Superfluous whitespace found in object header b'36' b'0'\n",
      "2022-12-22 16:30:43 [PyPDF2._reader] WARNING: Superfluous whitespace found in object header b'37' b'0'\n",
      "2022-12-22 16:30:43 [PyPDF2._reader] WARNING: Superfluous whitespace found in object header b'38' b'0'\n",
      "2022-12-22 16:30:43 [PyPDF2._reader] WARNING: Superfluous whitespace found in object header b'39' b'0'\n",
      "2022-12-22 16:30:43 [PyPDF2._reader] WARNING: Superfluous whitespace found in object header b'40' b'0'\n",
      "2022-12-22 16:30:43 [PyPDF2._reader] WARNING: Superfluous whitespace found in object header b'41' b'0'\n",
      "2022-12-22 16:30:43 [PyPDF2._reader] WARNING: Superfluous whitespace found in object header b'42' b'0'\n",
      "2022-12-22 16:30:43 [PyPDF2._reader] WARNING: Superfluous whitespace found in object header b'43' b'0'\n",
      "2022-12-22 16:30:43 [PyPDF2._reader] WARNING: Superfluous whitespace found in object header b'44' b'0'\n",
      "2022-12-22 16:30:43 [PyPDF2._reader] WARNING: Superfluous whitespace found in object header b'45' b'0'\n",
      "2022-12-22 16:30:43 [PyPDF2._reader] WARNING: Superfluous whitespace found in object header b'46' b'0'\n",
      "2022-12-22 16:30:43 [PyPDF2._reader] WARNING: Superfluous whitespace found in object header b'47' b'0'\n",
      "2022-12-22 16:30:43 [PyPDF2._reader] WARNING: Superfluous whitespace found in object header b'48' b'0'\n",
      "2022-12-22 16:30:43 [PyPDF2._reader] WARNING: Superfluous whitespace found in object header b'49' b'0'\n",
      "2022-12-22 16:30:43 [PyPDF2._reader] WARNING: Superfluous whitespace found in object header b'100' b'0'\n",
      "2022-12-22 16:30:43 [PyPDF2._reader] WARNING: Superfluous whitespace found in object header b'99' b'0'\n",
      "2022-12-22 16:30:43 [PyPDF2._reader] WARNING: Superfluous whitespace found in object header b'53' b'0'\n",
      "2022-12-22 16:30:43 [PyPDF2._reader] WARNING: Superfluous whitespace found in object header b'54' b'0'\n",
      "2022-12-22 16:30:43 [PyPDF2._reader] WARNING: Superfluous whitespace found in object header b'55' b'0'\n",
      "2022-12-22 16:30:43 [PyPDF2._reader] WARNING: Superfluous whitespace found in object header b'56' b'0'\n",
      "2022-12-22 16:30:43 [PyPDF2._reader] WARNING: Superfluous whitespace found in object header b'57' b'0'\n",
      "2022-12-22 16:30:43 [PyPDF2._reader] WARNING: Superfluous whitespace found in object header b'58' b'0'\n",
      "2022-12-22 16:30:43 [PyPDF2._reader] WARNING: Superfluous whitespace found in object header b'59' b'0'\n",
      "2022-12-22 16:30:43 [PyPDF2._reader] WARNING: Superfluous whitespace found in object header b'60' b'0'\n",
      "2022-12-22 16:30:43 [PyPDF2._reader] WARNING: Superfluous whitespace found in object header b'61' b'0'\n",
      "2022-12-22 16:30:43 [PyPDF2._reader] WARNING: Superfluous whitespace found in object header b'62' b'0'\n",
      "2022-12-22 16:30:43 [PyPDF2._reader] WARNING: Superfluous whitespace found in object header b'63' b'0'\n",
      "2022-12-22 16:30:43 [PyPDF2._reader] WARNING: Superfluous whitespace found in object header b'64' b'0'\n",
      "2022-12-22 16:30:43 [PyPDF2._reader] WARNING: Superfluous whitespace found in object header b'65' b'0'\n",
      "2022-12-22 16:30:43 [PyPDF2._reader] WARNING: Superfluous whitespace found in object header b'66' b'0'\n",
      "2022-12-22 16:30:43 [PyPDF2._reader] WARNING: Superfluous whitespace found in object header b'67' b'0'\n",
      "2022-12-22 16:30:43 [PyPDF2._reader] WARNING: Superfluous whitespace found in object header b'68' b'0'\n",
      "2022-12-22 16:30:43 [PyPDF2._reader] WARNING: Superfluous whitespace found in object header b'69' b'0'\n"
     ]
    },
    {
     "name": "stderr",
     "output_type": "stream",
     "text": [
      "2022-12-22 16:30:43 [PyPDF2._reader] WARNING: Superfluous whitespace found in object header b'70' b'0'\n",
      "2022-12-22 16:30:43 [PyPDF2._reader] WARNING: Superfluous whitespace found in object header b'71' b'0'\n",
      "2022-12-22 16:30:43 [PyPDF2._reader] WARNING: Superfluous whitespace found in object header b'72' b'0'\n",
      "2022-12-22 16:30:43 [PyPDF2._reader] WARNING: Superfluous whitespace found in object header b'73' b'0'\n",
      "2022-12-22 16:30:43 [PyPDF2._reader] WARNING: Superfluous whitespace found in object header b'74' b'0'\n",
      "2022-12-22 16:30:43 [PyPDF2._reader] WARNING: Superfluous whitespace found in object header b'75' b'0'\n",
      "2022-12-22 16:30:43 [PyPDF2._reader] WARNING: Superfluous whitespace found in object header b'76' b'0'\n",
      "2022-12-22 16:30:43 [PyPDF2._reader] WARNING: Superfluous whitespace found in object header b'77' b'0'\n",
      "2022-12-22 16:30:43 [PyPDF2._reader] WARNING: Superfluous whitespace found in object header b'78' b'0'\n",
      "2022-12-22 16:30:43 [PyPDF2._reader] WARNING: Superfluous whitespace found in object header b'79' b'0'\n",
      "2022-12-22 16:30:43 [PyPDF2._reader] WARNING: Superfluous whitespace found in object header b'80' b'0'\n",
      "2022-12-22 16:30:43 [PyPDF2._reader] WARNING: Superfluous whitespace found in object header b'81' b'0'\n",
      "2022-12-22 16:30:43 [PyPDF2._reader] WARNING: Superfluous whitespace found in object header b'82' b'0'\n",
      "2022-12-22 16:30:43 [PyPDF2._reader] WARNING: Superfluous whitespace found in object header b'83' b'0'\n",
      "2022-12-22 16:30:43 [PyPDF2._reader] WARNING: Superfluous whitespace found in object header b'84' b'0'\n",
      "2022-12-22 16:30:43 [PyPDF2._reader] WARNING: Superfluous whitespace found in object header b'85' b'0'\n",
      "2022-12-22 16:30:43 [PyPDF2._reader] WARNING: Superfluous whitespace found in object header b'86' b'0'\n",
      "2022-12-22 16:30:43 [PyPDF2._reader] WARNING: Superfluous whitespace found in object header b'87' b'0'\n",
      "2022-12-22 16:30:43 [PyPDF2._reader] WARNING: Superfluous whitespace found in object header b'88' b'0'\n",
      "2022-12-22 16:30:43 [PyPDF2._reader] WARNING: Superfluous whitespace found in object header b'89' b'0'\n",
      "2022-12-22 16:30:43 [PyPDF2._reader] WARNING: Superfluous whitespace found in object header b'90' b'0'\n",
      "2022-12-22 16:30:43 [PyPDF2._reader] WARNING: Superfluous whitespace found in object header b'91' b'0'\n",
      "2022-12-22 16:30:43 [PyPDF2._reader] WARNING: Superfluous whitespace found in object header b'92' b'0'\n",
      "2022-12-22 16:30:43 [PyPDF2._reader] WARNING: Superfluous whitespace found in object header b'93' b'0'\n",
      "2022-12-22 16:30:43 [PyPDF2._reader] WARNING: Superfluous whitespace found in object header b'94' b'0'\n",
      "2022-12-22 16:30:43 [PyPDF2._reader] WARNING: Superfluous whitespace found in object header b'95' b'0'\n",
      "2022-12-22 16:30:43 [PyPDF2._reader] WARNING: Superfluous whitespace found in object header b'96' b'0'\n",
      "2022-12-22 16:30:43 [PyPDF2._reader] WARNING: Superfluous whitespace found in object header b'97' b'0'\n",
      "2022-12-22 16:30:43 [PyPDF2._reader] WARNING: Superfluous whitespace found in object header b'98' b'0'\n",
      "2022-12-22 16:30:43 [PyPDF2._reader] WARNING: Superfluous whitespace found in object header b'149' b'0'\n",
      "2022-12-22 16:30:43 [PyPDF2._reader] WARNING: Superfluous whitespace found in object header b'148' b'0'\n",
      "2022-12-22 16:30:43 [PyPDF2._reader] WARNING: Superfluous whitespace found in object header b'102' b'0'\n",
      "2022-12-22 16:30:43 [PyPDF2._reader] WARNING: Superfluous whitespace found in object header b'103' b'0'\n",
      "2022-12-22 16:30:43 [PyPDF2._reader] WARNING: Superfluous whitespace found in object header b'104' b'0'\n",
      "2022-12-22 16:30:43 [PyPDF2._reader] WARNING: Superfluous whitespace found in object header b'105' b'0'\n",
      "2022-12-22 16:30:43 [PyPDF2._reader] WARNING: Superfluous whitespace found in object header b'106' b'0'\n",
      "2022-12-22 16:30:43 [PyPDF2._reader] WARNING: Superfluous whitespace found in object header b'107' b'0'\n",
      "2022-12-22 16:30:43 [PyPDF2._reader] WARNING: Superfluous whitespace found in object header b'108' b'0'\n",
      "2022-12-22 16:30:43 [PyPDF2._reader] WARNING: Superfluous whitespace found in object header b'109' b'0'\n",
      "2022-12-22 16:30:43 [PyPDF2._reader] WARNING: Superfluous whitespace found in object header b'110' b'0'\n",
      "2022-12-22 16:30:43 [PyPDF2._reader] WARNING: Superfluous whitespace found in object header b'111' b'0'\n",
      "2022-12-22 16:30:43 [PyPDF2._reader] WARNING: Superfluous whitespace found in object header b'112' b'0'\n",
      "2022-12-22 16:30:43 [PyPDF2._reader] WARNING: Superfluous whitespace found in object header b'113' b'0'\n",
      "2022-12-22 16:30:43 [PyPDF2._reader] WARNING: Superfluous whitespace found in object header b'114' b'0'\n",
      "2022-12-22 16:30:43 [PyPDF2._reader] WARNING: Superfluous whitespace found in object header b'115' b'0'\n",
      "2022-12-22 16:30:43 [PyPDF2._reader] WARNING: Superfluous whitespace found in object header b'116' b'0'\n",
      "2022-12-22 16:30:43 [PyPDF2._reader] WARNING: Superfluous whitespace found in object header b'117' b'0'\n",
      "2022-12-22 16:30:43 [PyPDF2._reader] WARNING: Superfluous whitespace found in object header b'118' b'0'\n",
      "2022-12-22 16:30:43 [PyPDF2._reader] WARNING: Superfluous whitespace found in object header b'119' b'0'\n",
      "2022-12-22 16:30:43 [PyPDF2._reader] WARNING: Superfluous whitespace found in object header b'120' b'0'\n",
      "2022-12-22 16:30:43 [PyPDF2._reader] WARNING: Superfluous whitespace found in object header b'121' b'0'\n",
      "2022-12-22 16:30:43 [PyPDF2._reader] WARNING: Superfluous whitespace found in object header b'122' b'0'\n",
      "2022-12-22 16:30:43 [PyPDF2._reader] WARNING: Superfluous whitespace found in object header b'123' b'0'\n",
      "2022-12-22 16:30:43 [PyPDF2._reader] WARNING: Superfluous whitespace found in object header b'124' b'0'\n",
      "2022-12-22 16:30:43 [PyPDF2._reader] WARNING: Superfluous whitespace found in object header b'125' b'0'\n",
      "2022-12-22 16:30:43 [PyPDF2._reader] WARNING: Superfluous whitespace found in object header b'126' b'0'\n",
      "2022-12-22 16:30:43 [PyPDF2._reader] WARNING: Superfluous whitespace found in object header b'127' b'0'\n",
      "2022-12-22 16:30:43 [PyPDF2._reader] WARNING: Superfluous whitespace found in object header b'128' b'0'\n",
      "2022-12-22 16:30:43 [PyPDF2._reader] WARNING: Superfluous whitespace found in object header b'129' b'0'\n",
      "2022-12-22 16:30:43 [PyPDF2._reader] WARNING: Superfluous whitespace found in object header b'130' b'0'\n",
      "2022-12-22 16:30:43 [PyPDF2._reader] WARNING: Superfluous whitespace found in object header b'131' b'0'\n",
      "2022-12-22 16:30:43 [PyPDF2._reader] WARNING: Superfluous whitespace found in object header b'132' b'0'\n",
      "2022-12-22 16:30:43 [PyPDF2._reader] WARNING: Superfluous whitespace found in object header b'133' b'0'\n",
      "2022-12-22 16:30:43 [PyPDF2._reader] WARNING: Superfluous whitespace found in object header b'134' b'0'\n",
      "2022-12-22 16:30:43 [PyPDF2._reader] WARNING: Superfluous whitespace found in object header b'135' b'0'\n",
      "2022-12-22 16:30:43 [PyPDF2._reader] WARNING: Superfluous whitespace found in object header b'136' b'0'\n",
      "2022-12-22 16:30:43 [PyPDF2._reader] WARNING: Superfluous whitespace found in object header b'137' b'0'\n",
      "2022-12-22 16:30:43 [PyPDF2._reader] WARNING: Superfluous whitespace found in object header b'138' b'0'\n",
      "2022-12-22 16:30:43 [PyPDF2._reader] WARNING: Superfluous whitespace found in object header b'139' b'0'\n",
      "2022-12-22 16:30:43 [PyPDF2._reader] WARNING: Superfluous whitespace found in object header b'140' b'0'\n",
      "2022-12-22 16:30:43 [PyPDF2._reader] WARNING: Superfluous whitespace found in object header b'141' b'0'\n",
      "2022-12-22 16:30:43 [PyPDF2._reader] WARNING: Superfluous whitespace found in object header b'142' b'0'\n",
      "2022-12-22 16:30:43 [PyPDF2._reader] WARNING: Superfluous whitespace found in object header b'143' b'0'\n",
      "2022-12-22 16:30:43 [PyPDF2._reader] WARNING: Superfluous whitespace found in object header b'144' b'0'\n",
      "2022-12-22 16:30:43 [PyPDF2._reader] WARNING: Superfluous whitespace found in object header b'145' b'0'\n",
      "2022-12-22 16:30:43 [PyPDF2._reader] WARNING: Superfluous whitespace found in object header b'146' b'0'\n",
      "2022-12-22 16:30:43 [PyPDF2._reader] WARNING: Superfluous whitespace found in object header b'147' b'0'\n",
      "2022-12-22 16:30:43 [PyPDF2._reader] WARNING: Superfluous whitespace found in object header b'198' b'0'\n",
      "2022-12-22 16:30:43 [PyPDF2._reader] WARNING: Superfluous whitespace found in object header b'197' b'0'\n",
      "2022-12-22 16:30:43 [PyPDF2._reader] WARNING: Superfluous whitespace found in object header b'151' b'0'\n"
     ]
    },
    {
     "name": "stderr",
     "output_type": "stream",
     "text": [
      "2022-12-22 16:30:43 [PyPDF2._reader] WARNING: Superfluous whitespace found in object header b'152' b'0'\n",
      "2022-12-22 16:30:43 [PyPDF2._reader] WARNING: Superfluous whitespace found in object header b'153' b'0'\n",
      "2022-12-22 16:30:43 [PyPDF2._reader] WARNING: Superfluous whitespace found in object header b'154' b'0'\n",
      "2022-12-22 16:30:43 [PyPDF2._reader] WARNING: Superfluous whitespace found in object header b'155' b'0'\n",
      "2022-12-22 16:30:43 [PyPDF2._reader] WARNING: Superfluous whitespace found in object header b'156' b'0'\n",
      "2022-12-22 16:30:43 [PyPDF2._reader] WARNING: Superfluous whitespace found in object header b'157' b'0'\n",
      "2022-12-22 16:30:43 [PyPDF2._reader] WARNING: Superfluous whitespace found in object header b'158' b'0'\n",
      "2022-12-22 16:30:43 [PyPDF2._reader] WARNING: Superfluous whitespace found in object header b'159' b'0'\n",
      "2022-12-22 16:30:43 [PyPDF2._reader] WARNING: Superfluous whitespace found in object header b'160' b'0'\n",
      "2022-12-22 16:30:43 [PyPDF2._reader] WARNING: Superfluous whitespace found in object header b'161' b'0'\n",
      "2022-12-22 16:30:43 [PyPDF2._reader] WARNING: Superfluous whitespace found in object header b'162' b'0'\n",
      "2022-12-22 16:30:43 [PyPDF2._reader] WARNING: Superfluous whitespace found in object header b'163' b'0'\n",
      "2022-12-22 16:30:43 [PyPDF2._reader] WARNING: Superfluous whitespace found in object header b'164' b'0'\n",
      "2022-12-22 16:30:43 [PyPDF2._reader] WARNING: Superfluous whitespace found in object header b'165' b'0'\n",
      "2022-12-22 16:30:43 [PyPDF2._reader] WARNING: Superfluous whitespace found in object header b'166' b'0'\n",
      "2022-12-22 16:30:43 [PyPDF2._reader] WARNING: Superfluous whitespace found in object header b'167' b'0'\n",
      "2022-12-22 16:30:43 [PyPDF2._reader] WARNING: Superfluous whitespace found in object header b'168' b'0'\n",
      "2022-12-22 16:30:43 [PyPDF2._reader] WARNING: Superfluous whitespace found in object header b'169' b'0'\n",
      "2022-12-22 16:30:43 [PyPDF2._reader] WARNING: Superfluous whitespace found in object header b'170' b'0'\n",
      "2022-12-22 16:30:43 [PyPDF2._reader] WARNING: Superfluous whitespace found in object header b'171' b'0'\n",
      "2022-12-22 16:30:43 [PyPDF2._reader] WARNING: Superfluous whitespace found in object header b'172' b'0'\n",
      "2022-12-22 16:30:43 [PyPDF2._reader] WARNING: Superfluous whitespace found in object header b'173' b'0'\n",
      "2022-12-22 16:30:43 [PyPDF2._reader] WARNING: Superfluous whitespace found in object header b'174' b'0'\n",
      "2022-12-22 16:30:43 [PyPDF2._reader] WARNING: Superfluous whitespace found in object header b'175' b'0'\n",
      "2022-12-22 16:30:43 [PyPDF2._reader] WARNING: Superfluous whitespace found in object header b'176' b'0'\n",
      "2022-12-22 16:30:43 [PyPDF2._reader] WARNING: Superfluous whitespace found in object header b'177' b'0'\n",
      "2022-12-22 16:30:43 [PyPDF2._reader] WARNING: Superfluous whitespace found in object header b'178' b'0'\n",
      "2022-12-22 16:30:43 [PyPDF2._reader] WARNING: Superfluous whitespace found in object header b'179' b'0'\n",
      "2022-12-22 16:30:43 [PyPDF2._reader] WARNING: Superfluous whitespace found in object header b'180' b'0'\n",
      "2022-12-22 16:30:43 [PyPDF2._reader] WARNING: Superfluous whitespace found in object header b'181' b'0'\n",
      "2022-12-22 16:30:43 [PyPDF2._reader] WARNING: Superfluous whitespace found in object header b'182' b'0'\n",
      "2022-12-22 16:30:43 [PyPDF2._reader] WARNING: Superfluous whitespace found in object header b'183' b'0'\n",
      "2022-12-22 16:30:43 [PyPDF2._reader] WARNING: Superfluous whitespace found in object header b'184' b'0'\n",
      "2022-12-22 16:30:43 [PyPDF2._reader] WARNING: Superfluous whitespace found in object header b'185' b'0'\n",
      "2022-12-22 16:30:43 [PyPDF2._reader] WARNING: Superfluous whitespace found in object header b'186' b'0'\n",
      "2022-12-22 16:30:43 [PyPDF2._reader] WARNING: Superfluous whitespace found in object header b'187' b'0'\n",
      "2022-12-22 16:30:43 [PyPDF2._reader] WARNING: Superfluous whitespace found in object header b'188' b'0'\n",
      "2022-12-22 16:30:43 [PyPDF2._reader] WARNING: Superfluous whitespace found in object header b'189' b'0'\n",
      "2022-12-22 16:30:43 [PyPDF2._reader] WARNING: Superfluous whitespace found in object header b'190' b'0'\n",
      "2022-12-22 16:30:43 [PyPDF2._reader] WARNING: Superfluous whitespace found in object header b'191' b'0'\n",
      "2022-12-22 16:30:43 [PyPDF2._reader] WARNING: Superfluous whitespace found in object header b'192' b'0'\n",
      "2022-12-22 16:30:43 [PyPDF2._reader] WARNING: Superfluous whitespace found in object header b'193' b'0'\n",
      "2022-12-22 16:30:43 [PyPDF2._reader] WARNING: Superfluous whitespace found in object header b'194' b'0'\n",
      "2022-12-22 16:30:43 [PyPDF2._reader] WARNING: Superfluous whitespace found in object header b'195' b'0'\n",
      "2022-12-22 16:30:43 [PyPDF2._reader] WARNING: Superfluous whitespace found in object header b'196' b'0'\n",
      "2022-12-22 16:30:43 [PyPDF2._reader] WARNING: Superfluous whitespace found in object header b'247' b'0'\n",
      "2022-12-22 16:30:43 [PyPDF2._reader] WARNING: Superfluous whitespace found in object header b'246' b'0'\n",
      "2022-12-22 16:30:43 [PyPDF2._reader] WARNING: Superfluous whitespace found in object header b'200' b'0'\n",
      "2022-12-22 16:30:43 [PyPDF2._reader] WARNING: Superfluous whitespace found in object header b'201' b'0'\n",
      "2022-12-22 16:30:43 [PyPDF2._reader] WARNING: Superfluous whitespace found in object header b'202' b'0'\n",
      "2022-12-22 16:30:43 [PyPDF2._reader] WARNING: Superfluous whitespace found in object header b'203' b'0'\n",
      "2022-12-22 16:30:43 [PyPDF2._reader] WARNING: Superfluous whitespace found in object header b'204' b'0'\n",
      "2022-12-22 16:30:43 [PyPDF2._reader] WARNING: Superfluous whitespace found in object header b'205' b'0'\n",
      "2022-12-22 16:30:43 [PyPDF2._reader] WARNING: Superfluous whitespace found in object header b'206' b'0'\n",
      "2022-12-22 16:30:43 [PyPDF2._reader] WARNING: Superfluous whitespace found in object header b'207' b'0'\n",
      "2022-12-22 16:30:43 [PyPDF2._reader] WARNING: Superfluous whitespace found in object header b'208' b'0'\n",
      "2022-12-22 16:30:43 [PyPDF2._reader] WARNING: Superfluous whitespace found in object header b'209' b'0'\n",
      "2022-12-22 16:30:43 [PyPDF2._reader] WARNING: Superfluous whitespace found in object header b'210' b'0'\n",
      "2022-12-22 16:30:43 [PyPDF2._reader] WARNING: Superfluous whitespace found in object header b'211' b'0'\n",
      "2022-12-22 16:30:43 [PyPDF2._reader] WARNING: Superfluous whitespace found in object header b'212' b'0'\n",
      "2022-12-22 16:30:43 [PyPDF2._reader] WARNING: Superfluous whitespace found in object header b'213' b'0'\n",
      "2022-12-22 16:30:43 [PyPDF2._reader] WARNING: Superfluous whitespace found in object header b'214' b'0'\n",
      "2022-12-22 16:30:43 [PyPDF2._reader] WARNING: Superfluous whitespace found in object header b'215' b'0'\n",
      "2022-12-22 16:30:43 [PyPDF2._reader] WARNING: Superfluous whitespace found in object header b'216' b'0'\n",
      "2022-12-22 16:30:43 [PyPDF2._reader] WARNING: Superfluous whitespace found in object header b'217' b'0'\n",
      "2022-12-22 16:30:43 [PyPDF2._reader] WARNING: Superfluous whitespace found in object header b'218' b'0'\n",
      "2022-12-22 16:30:43 [PyPDF2._reader] WARNING: Superfluous whitespace found in object header b'219' b'0'\n",
      "2022-12-22 16:30:43 [PyPDF2._reader] WARNING: Superfluous whitespace found in object header b'220' b'0'\n",
      "2022-12-22 16:30:43 [PyPDF2._reader] WARNING: Superfluous whitespace found in object header b'221' b'0'\n",
      "2022-12-22 16:30:43 [PyPDF2._reader] WARNING: Superfluous whitespace found in object header b'222' b'0'\n",
      "2022-12-22 16:30:43 [PyPDF2._reader] WARNING: Superfluous whitespace found in object header b'223' b'0'\n",
      "2022-12-22 16:30:43 [PyPDF2._reader] WARNING: Superfluous whitespace found in object header b'224' b'0'\n",
      "2022-12-22 16:30:43 [PyPDF2._reader] WARNING: Superfluous whitespace found in object header b'225' b'0'\n",
      "2022-12-22 16:30:43 [PyPDF2._reader] WARNING: Superfluous whitespace found in object header b'226' b'0'\n",
      "2022-12-22 16:30:43 [PyPDF2._reader] WARNING: Superfluous whitespace found in object header b'227' b'0'\n",
      "2022-12-22 16:30:43 [PyPDF2._reader] WARNING: Superfluous whitespace found in object header b'228' b'0'\n",
      "2022-12-22 16:30:43 [PyPDF2._reader] WARNING: Superfluous whitespace found in object header b'229' b'0'\n",
      "2022-12-22 16:30:43 [PyPDF2._reader] WARNING: Superfluous whitespace found in object header b'230' b'0'\n",
      "2022-12-22 16:30:43 [PyPDF2._reader] WARNING: Superfluous whitespace found in object header b'231' b'0'\n"
     ]
    },
    {
     "name": "stderr",
     "output_type": "stream",
     "text": [
      "2022-12-22 16:30:43 [PyPDF2._reader] WARNING: Superfluous whitespace found in object header b'232' b'0'\n",
      "2022-12-22 16:30:43 [PyPDF2._reader] WARNING: Superfluous whitespace found in object header b'233' b'0'\n",
      "2022-12-22 16:30:43 [PyPDF2._reader] WARNING: Superfluous whitespace found in object header b'234' b'0'\n",
      "2022-12-22 16:30:43 [PyPDF2._reader] WARNING: Superfluous whitespace found in object header b'235' b'0'\n",
      "2022-12-22 16:30:43 [PyPDF2._reader] WARNING: Superfluous whitespace found in object header b'236' b'0'\n",
      "2022-12-22 16:30:43 [PyPDF2._reader] WARNING: Superfluous whitespace found in object header b'237' b'0'\n",
      "2022-12-22 16:30:43 [PyPDF2._reader] WARNING: Superfluous whitespace found in object header b'238' b'0'\n",
      "2022-12-22 16:30:43 [PyPDF2._reader] WARNING: Superfluous whitespace found in object header b'239' b'0'\n",
      "2022-12-22 16:30:43 [PyPDF2._reader] WARNING: Superfluous whitespace found in object header b'240' b'0'\n",
      "2022-12-22 16:30:43 [PyPDF2._reader] WARNING: Superfluous whitespace found in object header b'241' b'0'\n",
      "2022-12-22 16:30:43 [PyPDF2._reader] WARNING: Superfluous whitespace found in object header b'242' b'0'\n",
      "2022-12-22 16:30:43 [PyPDF2._reader] WARNING: Superfluous whitespace found in object header b'243' b'0'\n",
      "2022-12-22 16:30:43 [PyPDF2._reader] WARNING: Superfluous whitespace found in object header b'244' b'0'\n",
      "2022-12-22 16:30:43 [PyPDF2._reader] WARNING: Superfluous whitespace found in object header b'245' b'0'\n",
      "2022-12-22 16:30:43 [PyPDF2._reader] WARNING: Superfluous whitespace found in object header b'296' b'0'\n",
      "2022-12-22 16:30:43 [PyPDF2._reader] WARNING: Superfluous whitespace found in object header b'295' b'0'\n",
      "2022-12-22 16:30:43 [PyPDF2._reader] WARNING: Superfluous whitespace found in object header b'249' b'0'\n",
      "2022-12-22 16:30:43 [PyPDF2._reader] WARNING: Superfluous whitespace found in object header b'250' b'0'\n",
      "2022-12-22 16:30:43 [PyPDF2._reader] WARNING: Superfluous whitespace found in object header b'251' b'0'\n",
      "2022-12-22 16:30:43 [PyPDF2._reader] WARNING: Superfluous whitespace found in object header b'252' b'0'\n",
      "2022-12-22 16:30:43 [PyPDF2._reader] WARNING: Superfluous whitespace found in object header b'253' b'0'\n",
      "2022-12-22 16:30:43 [PyPDF2._reader] WARNING: Superfluous whitespace found in object header b'254' b'0'\n",
      "2022-12-22 16:30:43 [PyPDF2._reader] WARNING: Superfluous whitespace found in object header b'255' b'0'\n",
      "2022-12-22 16:30:43 [PyPDF2._reader] WARNING: Superfluous whitespace found in object header b'256' b'0'\n",
      "2022-12-22 16:30:43 [PyPDF2._reader] WARNING: Superfluous whitespace found in object header b'257' b'0'\n",
      "2022-12-22 16:30:43 [PyPDF2._reader] WARNING: Superfluous whitespace found in object header b'258' b'0'\n",
      "2022-12-22 16:30:43 [PyPDF2._reader] WARNING: Superfluous whitespace found in object header b'259' b'0'\n",
      "2022-12-22 16:30:43 [PyPDF2._reader] WARNING: Superfluous whitespace found in object header b'260' b'0'\n",
      "2022-12-22 16:30:43 [PyPDF2._reader] WARNING: Superfluous whitespace found in object header b'261' b'0'\n",
      "2022-12-22 16:30:43 [PyPDF2._reader] WARNING: Superfluous whitespace found in object header b'262' b'0'\n",
      "2022-12-22 16:30:43 [PyPDF2._reader] WARNING: Superfluous whitespace found in object header b'263' b'0'\n",
      "2022-12-22 16:30:43 [PyPDF2._reader] WARNING: Superfluous whitespace found in object header b'264' b'0'\n",
      "2022-12-22 16:30:43 [PyPDF2._reader] WARNING: Superfluous whitespace found in object header b'265' b'0'\n",
      "2022-12-22 16:30:43 [PyPDF2._reader] WARNING: Superfluous whitespace found in object header b'266' b'0'\n",
      "2022-12-22 16:30:43 [PyPDF2._reader] WARNING: Superfluous whitespace found in object header b'267' b'0'\n",
      "2022-12-22 16:30:43 [PyPDF2._reader] WARNING: Superfluous whitespace found in object header b'268' b'0'\n",
      "2022-12-22 16:30:43 [PyPDF2._reader] WARNING: Superfluous whitespace found in object header b'269' b'0'\n",
      "2022-12-22 16:30:43 [PyPDF2._reader] WARNING: Superfluous whitespace found in object header b'270' b'0'\n",
      "2022-12-22 16:30:43 [PyPDF2._reader] WARNING: Superfluous whitespace found in object header b'271' b'0'\n",
      "2022-12-22 16:30:43 [PyPDF2._reader] WARNING: Superfluous whitespace found in object header b'272' b'0'\n",
      "2022-12-22 16:30:43 [PyPDF2._reader] WARNING: Superfluous whitespace found in object header b'273' b'0'\n",
      "2022-12-22 16:30:43 [PyPDF2._reader] WARNING: Superfluous whitespace found in object header b'274' b'0'\n",
      "2022-12-22 16:30:43 [PyPDF2._reader] WARNING: Superfluous whitespace found in object header b'275' b'0'\n",
      "2022-12-22 16:30:43 [PyPDF2._reader] WARNING: Superfluous whitespace found in object header b'276' b'0'\n",
      "2022-12-22 16:30:43 [PyPDF2._reader] WARNING: Superfluous whitespace found in object header b'277' b'0'\n",
      "2022-12-22 16:30:43 [PyPDF2._reader] WARNING: Superfluous whitespace found in object header b'278' b'0'\n",
      "2022-12-22 16:30:43 [PyPDF2._reader] WARNING: Superfluous whitespace found in object header b'279' b'0'\n",
      "2022-12-22 16:30:43 [PyPDF2._reader] WARNING: Superfluous whitespace found in object header b'280' b'0'\n",
      "2022-12-22 16:30:43 [PyPDF2._reader] WARNING: Superfluous whitespace found in object header b'281' b'0'\n",
      "2022-12-22 16:30:43 [PyPDF2._reader] WARNING: Superfluous whitespace found in object header b'282' b'0'\n",
      "2022-12-22 16:30:43 [PyPDF2._reader] WARNING: Superfluous whitespace found in object header b'283' b'0'\n",
      "2022-12-22 16:30:43 [PyPDF2._reader] WARNING: Superfluous whitespace found in object header b'284' b'0'\n",
      "2022-12-22 16:30:43 [PyPDF2._reader] WARNING: Superfluous whitespace found in object header b'285' b'0'\n",
      "2022-12-22 16:30:43 [PyPDF2._reader] WARNING: Superfluous whitespace found in object header b'286' b'0'\n",
      "2022-12-22 16:30:43 [PyPDF2._reader] WARNING: Superfluous whitespace found in object header b'287' b'0'\n",
      "2022-12-22 16:30:43 [PyPDF2._reader] WARNING: Superfluous whitespace found in object header b'288' b'0'\n",
      "2022-12-22 16:30:43 [PyPDF2._reader] WARNING: Superfluous whitespace found in object header b'289' b'0'\n",
      "2022-12-22 16:30:43 [PyPDF2._reader] WARNING: Superfluous whitespace found in object header b'290' b'0'\n",
      "2022-12-22 16:30:43 [PyPDF2._reader] WARNING: Superfluous whitespace found in object header b'291' b'0'\n",
      "2022-12-22 16:30:43 [PyPDF2._reader] WARNING: Superfluous whitespace found in object header b'292' b'0'\n",
      "2022-12-22 16:30:43 [PyPDF2._reader] WARNING: Superfluous whitespace found in object header b'293' b'0'\n",
      "2022-12-22 16:30:43 [PyPDF2._reader] WARNING: Superfluous whitespace found in object header b'294' b'0'\n",
      "2022-12-22 16:30:43 [PyPDF2._reader] WARNING: Superfluous whitespace found in object header b'345' b'0'\n",
      "2022-12-22 16:30:43 [PyPDF2._reader] WARNING: Superfluous whitespace found in object header b'344' b'0'\n",
      "2022-12-22 16:30:43 [PyPDF2._reader] WARNING: Superfluous whitespace found in object header b'298' b'0'\n",
      "2022-12-22 16:30:43 [PyPDF2._reader] WARNING: Superfluous whitespace found in object header b'299' b'0'\n",
      "2022-12-22 16:30:43 [PyPDF2._reader] WARNING: Superfluous whitespace found in object header b'300' b'0'\n",
      "2022-12-22 16:30:43 [PyPDF2._reader] WARNING: Superfluous whitespace found in object header b'301' b'0'\n",
      "2022-12-22 16:30:43 [PyPDF2._reader] WARNING: Superfluous whitespace found in object header b'302' b'0'\n",
      "2022-12-22 16:30:43 [PyPDF2._reader] WARNING: Superfluous whitespace found in object header b'303' b'0'\n",
      "2022-12-22 16:30:43 [PyPDF2._reader] WARNING: Superfluous whitespace found in object header b'304' b'0'\n",
      "2022-12-22 16:30:43 [PyPDF2._reader] WARNING: Superfluous whitespace found in object header b'305' b'0'\n",
      "2022-12-22 16:30:43 [PyPDF2._reader] WARNING: Superfluous whitespace found in object header b'306' b'0'\n",
      "2022-12-22 16:30:43 [PyPDF2._reader] WARNING: Superfluous whitespace found in object header b'307' b'0'\n",
      "2022-12-22 16:30:43 [PyPDF2._reader] WARNING: Superfluous whitespace found in object header b'308' b'0'\n",
      "2022-12-22 16:30:43 [PyPDF2._reader] WARNING: Superfluous whitespace found in object header b'309' b'0'\n",
      "2022-12-22 16:30:43 [PyPDF2._reader] WARNING: Superfluous whitespace found in object header b'310' b'0'\n",
      "2022-12-22 16:30:43 [PyPDF2._reader] WARNING: Superfluous whitespace found in object header b'311' b'0'\n",
      "2022-12-22 16:30:43 [PyPDF2._reader] WARNING: Superfluous whitespace found in object header b'312' b'0'\n"
     ]
    },
    {
     "name": "stderr",
     "output_type": "stream",
     "text": [
      "2022-12-22 16:30:43 [PyPDF2._reader] WARNING: Superfluous whitespace found in object header b'313' b'0'\n",
      "2022-12-22 16:30:43 [PyPDF2._reader] WARNING: Superfluous whitespace found in object header b'314' b'0'\n",
      "2022-12-22 16:30:43 [PyPDF2._reader] WARNING: Superfluous whitespace found in object header b'315' b'0'\n",
      "2022-12-22 16:30:43 [PyPDF2._reader] WARNING: Superfluous whitespace found in object header b'316' b'0'\n",
      "2022-12-22 16:30:43 [PyPDF2._reader] WARNING: Superfluous whitespace found in object header b'317' b'0'\n",
      "2022-12-22 16:30:43 [PyPDF2._reader] WARNING: Superfluous whitespace found in object header b'318' b'0'\n",
      "2022-12-22 16:30:43 [PyPDF2._reader] WARNING: Superfluous whitespace found in object header b'319' b'0'\n",
      "2022-12-22 16:30:43 [PyPDF2._reader] WARNING: Superfluous whitespace found in object header b'320' b'0'\n",
      "2022-12-22 16:30:43 [PyPDF2._reader] WARNING: Superfluous whitespace found in object header b'321' b'0'\n",
      "2022-12-22 16:30:43 [PyPDF2._reader] WARNING: Superfluous whitespace found in object header b'322' b'0'\n",
      "2022-12-22 16:30:43 [PyPDF2._reader] WARNING: Superfluous whitespace found in object header b'323' b'0'\n",
      "2022-12-22 16:30:43 [PyPDF2._reader] WARNING: Superfluous whitespace found in object header b'324' b'0'\n",
      "2022-12-22 16:30:43 [PyPDF2._reader] WARNING: Superfluous whitespace found in object header b'325' b'0'\n",
      "2022-12-22 16:30:43 [PyPDF2._reader] WARNING: Superfluous whitespace found in object header b'326' b'0'\n",
      "2022-12-22 16:30:43 [PyPDF2._reader] WARNING: Superfluous whitespace found in object header b'327' b'0'\n",
      "2022-12-22 16:30:43 [PyPDF2._reader] WARNING: Superfluous whitespace found in object header b'328' b'0'\n",
      "2022-12-22 16:30:43 [PyPDF2._reader] WARNING: Superfluous whitespace found in object header b'329' b'0'\n",
      "2022-12-22 16:30:43 [PyPDF2._reader] WARNING: Superfluous whitespace found in object header b'330' b'0'\n",
      "2022-12-22 16:30:43 [PyPDF2._reader] WARNING: Superfluous whitespace found in object header b'331' b'0'\n",
      "2022-12-22 16:30:43 [PyPDF2._reader] WARNING: Superfluous whitespace found in object header b'332' b'0'\n",
      "2022-12-22 16:30:43 [PyPDF2._reader] WARNING: Superfluous whitespace found in object header b'333' b'0'\n",
      "2022-12-22 16:30:43 [PyPDF2._reader] WARNING: Superfluous whitespace found in object header b'334' b'0'\n",
      "2022-12-22 16:30:43 [PyPDF2._reader] WARNING: Superfluous whitespace found in object header b'335' b'0'\n",
      "2022-12-22 16:30:43 [PyPDF2._reader] WARNING: Superfluous whitespace found in object header b'336' b'0'\n",
      "2022-12-22 16:30:43 [PyPDF2._reader] WARNING: Superfluous whitespace found in object header b'337' b'0'\n",
      "2022-12-22 16:30:43 [PyPDF2._reader] WARNING: Superfluous whitespace found in object header b'338' b'0'\n",
      "2022-12-22 16:30:43 [PyPDF2._reader] WARNING: Superfluous whitespace found in object header b'339' b'0'\n",
      "2022-12-22 16:30:43 [PyPDF2._reader] WARNING: Superfluous whitespace found in object header b'340' b'0'\n",
      "2022-12-22 16:30:43 [PyPDF2._reader] WARNING: Superfluous whitespace found in object header b'341' b'0'\n",
      "2022-12-22 16:30:43 [PyPDF2._reader] WARNING: Superfluous whitespace found in object header b'342' b'0'\n",
      "2022-12-22 16:30:43 [PyPDF2._reader] WARNING: Superfluous whitespace found in object header b'343' b'0'\n",
      "2022-12-22 16:30:43 [PyPDF2._reader] WARNING: Superfluous whitespace found in object header b'394' b'0'\n",
      "2022-12-22 16:30:43 [PyPDF2._reader] WARNING: Superfluous whitespace found in object header b'393' b'0'\n",
      "2022-12-22 16:30:43 [PyPDF2._reader] WARNING: Superfluous whitespace found in object header b'347' b'0'\n",
      "2022-12-22 16:30:43 [PyPDF2._reader] WARNING: Superfluous whitespace found in object header b'348' b'0'\n",
      "2022-12-22 16:30:43 [PyPDF2._reader] WARNING: Superfluous whitespace found in object header b'349' b'0'\n",
      "2022-12-22 16:30:43 [PyPDF2._reader] WARNING: Superfluous whitespace found in object header b'350' b'0'\n",
      "2022-12-22 16:30:43 [PyPDF2._reader] WARNING: Superfluous whitespace found in object header b'351' b'0'\n",
      "2022-12-22 16:30:43 [PyPDF2._reader] WARNING: Superfluous whitespace found in object header b'352' b'0'\n",
      "2022-12-22 16:30:43 [PyPDF2._reader] WARNING: Superfluous whitespace found in object header b'353' b'0'\n",
      "2022-12-22 16:30:43 [PyPDF2._reader] WARNING: Superfluous whitespace found in object header b'354' b'0'\n",
      "2022-12-22 16:30:43 [PyPDF2._reader] WARNING: Superfluous whitespace found in object header b'355' b'0'\n",
      "2022-12-22 16:30:43 [PyPDF2._reader] WARNING: Superfluous whitespace found in object header b'356' b'0'\n",
      "2022-12-22 16:30:43 [PyPDF2._reader] WARNING: Superfluous whitespace found in object header b'357' b'0'\n",
      "2022-12-22 16:30:43 [PyPDF2._reader] WARNING: Superfluous whitespace found in object header b'358' b'0'\n",
      "2022-12-22 16:30:43 [PyPDF2._reader] WARNING: Superfluous whitespace found in object header b'359' b'0'\n",
      "2022-12-22 16:30:43 [PyPDF2._reader] WARNING: Superfluous whitespace found in object header b'360' b'0'\n",
      "2022-12-22 16:30:43 [PyPDF2._reader] WARNING: Superfluous whitespace found in object header b'361' b'0'\n",
      "2022-12-22 16:30:43 [PyPDF2._reader] WARNING: Superfluous whitespace found in object header b'362' b'0'\n",
      "2022-12-22 16:30:43 [PyPDF2._reader] WARNING: Superfluous whitespace found in object header b'363' b'0'\n",
      "2022-12-22 16:30:43 [PyPDF2._reader] WARNING: Superfluous whitespace found in object header b'364' b'0'\n",
      "2022-12-22 16:30:43 [PyPDF2._reader] WARNING: Superfluous whitespace found in object header b'365' b'0'\n",
      "2022-12-22 16:30:43 [PyPDF2._reader] WARNING: Superfluous whitespace found in object header b'366' b'0'\n",
      "2022-12-22 16:30:43 [PyPDF2._reader] WARNING: Superfluous whitespace found in object header b'367' b'0'\n",
      "2022-12-22 16:30:43 [PyPDF2._reader] WARNING: Superfluous whitespace found in object header b'368' b'0'\n",
      "2022-12-22 16:30:43 [PyPDF2._reader] WARNING: Superfluous whitespace found in object header b'369' b'0'\n",
      "2022-12-22 16:30:43 [PyPDF2._reader] WARNING: Superfluous whitespace found in object header b'370' b'0'\n",
      "2022-12-22 16:30:43 [PyPDF2._reader] WARNING: Superfluous whitespace found in object header b'371' b'0'\n",
      "2022-12-22 16:30:43 [PyPDF2._reader] WARNING: Superfluous whitespace found in object header b'372' b'0'\n",
      "2022-12-22 16:30:43 [PyPDF2._reader] WARNING: Superfluous whitespace found in object header b'373' b'0'\n",
      "2022-12-22 16:30:43 [PyPDF2._reader] WARNING: Superfluous whitespace found in object header b'374' b'0'\n",
      "2022-12-22 16:30:43 [PyPDF2._reader] WARNING: Superfluous whitespace found in object header b'375' b'0'\n",
      "2022-12-22 16:30:43 [PyPDF2._reader] WARNING: Superfluous whitespace found in object header b'376' b'0'\n",
      "2022-12-22 16:30:43 [PyPDF2._reader] WARNING: Superfluous whitespace found in object header b'377' b'0'\n",
      "2022-12-22 16:30:43 [PyPDF2._reader] WARNING: Superfluous whitespace found in object header b'378' b'0'\n",
      "2022-12-22 16:30:43 [PyPDF2._reader] WARNING: Superfluous whitespace found in object header b'379' b'0'\n",
      "2022-12-22 16:30:43 [PyPDF2._reader] WARNING: Superfluous whitespace found in object header b'380' b'0'\n",
      "2022-12-22 16:30:43 [PyPDF2._reader] WARNING: Superfluous whitespace found in object header b'381' b'0'\n",
      "2022-12-22 16:30:43 [PyPDF2._reader] WARNING: Superfluous whitespace found in object header b'382' b'0'\n",
      "2022-12-22 16:30:43 [PyPDF2._reader] WARNING: Superfluous whitespace found in object header b'383' b'0'\n",
      "2022-12-22 16:30:43 [PyPDF2._reader] WARNING: Superfluous whitespace found in object header b'384' b'0'\n",
      "2022-12-22 16:30:43 [PyPDF2._reader] WARNING: Superfluous whitespace found in object header b'385' b'0'\n",
      "2022-12-22 16:30:43 [PyPDF2._reader] WARNING: Superfluous whitespace found in object header b'386' b'0'\n",
      "2022-12-22 16:30:43 [PyPDF2._reader] WARNING: Superfluous whitespace found in object header b'387' b'0'\n",
      "2022-12-22 16:30:43 [PyPDF2._reader] WARNING: Superfluous whitespace found in object header b'388' b'0'\n",
      "2022-12-22 16:30:43 [PyPDF2._reader] WARNING: Superfluous whitespace found in object header b'389' b'0'\n",
      "2022-12-22 16:30:43 [PyPDF2._reader] WARNING: Superfluous whitespace found in object header b'390' b'0'\n",
      "2022-12-22 16:30:43 [PyPDF2._reader] WARNING: Superfluous whitespace found in object header b'391' b'0'\n",
      "2022-12-22 16:30:43 [PyPDF2._reader] WARNING: Superfluous whitespace found in object header b'392' b'0'\n"
     ]
    },
    {
     "name": "stderr",
     "output_type": "stream",
     "text": [
      "2022-12-22 16:30:43 [root] INFO: Parse auction.... https://sale.uslugi.io/sidp/4209\n"
     ]
    },
    {
     "name": "stdout",
     "output_type": "stream",
     "text": [
      "Parse auction.... https://sale.uslugi.io/sidp/4209\n"
     ]
    },
    {
     "name": "stderr",
     "output_type": "stream",
     "text": [
      "2022-12-22 16:30:44 [root] INFO: Parse auction.... https://sale.uslugi.io/sidp/4243\n"
     ]
    },
    {
     "name": "stdout",
     "output_type": "stream",
     "text": [
      "Parse auction.... https://sale.uslugi.io/sidp/4243\n"
     ]
    },
    {
     "name": "stderr",
     "output_type": "stream",
     "text": [
      "2022-12-22 16:30:45 [root] INFO: Parse auction.... https://sale.uslugi.io/sidp/4273\n"
     ]
    },
    {
     "name": "stdout",
     "output_type": "stream",
     "text": [
      "Parse auction.... https://sale.uslugi.io/sidp/4273\n"
     ]
    },
    {
     "name": "stderr",
     "output_type": "stream",
     "text": [
      "2022-12-22 16:30:46 [root] INFO: Parse auction.... https://sale.uslugi.io/sidp/4164\n"
     ]
    },
    {
     "name": "stdout",
     "output_type": "stream",
     "text": [
      "Parse auction.... https://sale.uslugi.io/sidp/4164\n"
     ]
    },
    {
     "name": "stderr",
     "output_type": "stream",
     "text": [
      "2022-12-22 16:30:48 [root] INFO: Parse auction.... https://sale.uslugi.io/sidp/4274\n"
     ]
    },
    {
     "name": "stdout",
     "output_type": "stream",
     "text": [
      "Parse auction.... https://sale.uslugi.io/sidp/4274\n"
     ]
    },
    {
     "name": "stderr",
     "output_type": "stream",
     "text": [
      "2022-12-22 16:30:49 [root] INFO: Parse auction.... https://sale.uslugi.io/sidp/4210\n"
     ]
    },
    {
     "name": "stdout",
     "output_type": "stream",
     "text": [
      "Parse auction.... https://sale.uslugi.io/sidp/4210\n"
     ]
    },
    {
     "name": "stderr",
     "output_type": "stream",
     "text": [
      "2022-12-22 16:30:50 [root] INFO: Parse auction.... https://sale.uslugi.io/sidp/4373\n",
      "2022-12-22 16:30:50 [root] INFO: Parse auction.... https://sale.uslugi.io/sidp/4120\n"
     ]
    },
    {
     "name": "stdout",
     "output_type": "stream",
     "text": [
      "Parse auction.... https://sale.uslugi.io/sidp/4373\n",
      "Parse auction.... https://sale.uslugi.io/sidp/4120\n"
     ]
    },
    {
     "name": "stderr",
     "output_type": "stream",
     "text": [
      "2022-12-22 16:30:52 [root] INFO: Parse auction.... https://sale.uslugi.io/sidp/4375\n",
      "2022-12-22 16:30:52 [root] INFO: Parse auction.... https://sale.uslugi.io/sidp/4129\n",
      "2022-12-22 16:30:52 [root] INFO: Parse auction.... https://sale.uslugi.io/sidp/4376\n",
      "2022-12-22 16:30:52 [root] INFO: Parse auction.... https://sale.uslugi.io/sidp/4275\n"
     ]
    },
    {
     "name": "stdout",
     "output_type": "stream",
     "text": [
      "Parse auction.... https://sale.uslugi.io/sidp/4375\n",
      "Parse auction.... https://sale.uslugi.io/sidp/4129\n",
      "Parse auction.... https://sale.uslugi.io/sidp/4376\n",
      "Parse auction.... https://sale.uslugi.io/sidp/4275\n"
     ]
    },
    {
     "name": "stderr",
     "output_type": "stream",
     "text": [
      "2022-12-22 16:30:53 [root] INFO: Parse auction.... https://sale.uslugi.io/sidp/4470\n"
     ]
    },
    {
     "name": "stdout",
     "output_type": "stream",
     "text": [
      "Parse auction.... https://sale.uslugi.io/sidp/4470\n"
     ]
    },
    {
     "name": "stderr",
     "output_type": "stream",
     "text": [
      "2022-12-22 16:30:54 [root] INFO: Parse auction.... https://sale.uslugi.io/sidp/4374\n",
      "2022-12-22 16:30:54 [root] INFO: Parse auction.... https://sale.uslugi.io/sidp/4475\n"
     ]
    },
    {
     "name": "stdout",
     "output_type": "stream",
     "text": [
      "Parse auction.... https://sale.uslugi.io/sidp/4374\n",
      "Parse auction.... https://sale.uslugi.io/sidp/4475\n"
     ]
    },
    {
     "name": "stderr",
     "output_type": "stream",
     "text": [
      "2022-12-22 16:30:55 [root] INFO: Parse auction.... https://sale.uslugi.io/sidp/4473\n"
     ]
    },
    {
     "name": "stdout",
     "output_type": "stream",
     "text": [
      "Parse auction.... https://sale.uslugi.io/sidp/4473\n"
     ]
    },
    {
     "name": "stderr",
     "output_type": "stream",
     "text": [
      "2022-12-22 16:30:57 [root] INFO: Parse auction.... https://sale.uslugi.io/sidp/4471\n"
     ]
    },
    {
     "name": "stdout",
     "output_type": "stream",
     "text": [
      "Parse auction.... https://sale.uslugi.io/sidp/4471\n"
     ]
    },
    {
     "name": "stderr",
     "output_type": "stream",
     "text": [
      "2022-12-22 16:30:57 [root] INFO: Parse auction.... https://sale.uslugi.io/sidp/4474\n"
     ]
    },
    {
     "name": "stdout",
     "output_type": "stream",
     "text": [
      "Parse auction.... https://sale.uslugi.io/sidp/4474\n"
     ]
    },
    {
     "name": "stderr",
     "output_type": "stream",
     "text": [
      "2022-12-22 16:30:58 [root] INFO: Parse auction.... https://sale.uslugi.io/sidp/4472\n"
     ]
    },
    {
     "name": "stdout",
     "output_type": "stream",
     "text": [
      "Parse auction.... https://sale.uslugi.io/sidp/4472\n"
     ]
    },
    {
     "name": "stderr",
     "output_type": "stream",
     "text": [
      "2022-12-22 16:30:59 [root] INFO: Parse auction.... https://sale.uslugi.io/sidp/4397\n"
     ]
    },
    {
     "name": "stdout",
     "output_type": "stream",
     "text": [
      "Parse auction.... https://sale.uslugi.io/sidp/4397\n"
     ]
    },
    {
     "name": "stderr",
     "output_type": "stream",
     "text": [
      "2022-12-22 16:31:01 [root] INFO: Parse auction.... https://sale.uslugi.io/sidp/4476\n"
     ]
    },
    {
     "name": "stdout",
     "output_type": "stream",
     "text": [
      "Parse auction.... https://sale.uslugi.io/sidp/4476\n"
     ]
    },
    {
     "name": "stderr",
     "output_type": "stream",
     "text": [
      "2022-12-22 16:31:03 [root] INFO: Parse auction.... https://sale.uslugi.io/sidp/4477\n"
     ]
    },
    {
     "name": "stdout",
     "output_type": "stream",
     "text": [
      "Parse auction.... https://sale.uslugi.io/sidp/4477\n"
     ]
    },
    {
     "name": "stderr",
     "output_type": "stream",
     "text": [
      "2022-12-22 16:31:05 [root] INFO: Parse auction.... https://sale.uslugi.io/sidp/4478\n"
     ]
    },
    {
     "name": "stdout",
     "output_type": "stream",
     "text": [
      "Parse auction.... https://sale.uslugi.io/sidp/4478\n"
     ]
    },
    {
     "name": "stderr",
     "output_type": "stream",
     "text": [
      "2022-12-22 16:31:06 [root] INFO: Parse auction.... https://sale.uslugi.io/sidp/4479\n"
     ]
    },
    {
     "name": "stdout",
     "output_type": "stream",
     "text": [
      "Parse auction.... https://sale.uslugi.io/sidp/4479\n"
     ]
    },
    {
     "name": "stderr",
     "output_type": "stream",
     "text": [
      "2022-12-22 16:31:07 [root] INFO: Parse auction.... https://sale.uslugi.io/sidp/4480\n"
     ]
    },
    {
     "name": "stdout",
     "output_type": "stream",
     "text": [
      "Parse auction.... https://sale.uslugi.io/sidp/4480\n"
     ]
    },
    {
     "name": "stderr",
     "output_type": "stream",
     "text": [
      "2022-12-22 16:31:09 [root] INFO: Parse auction.... https://sale.uslugi.io/sidp/4454\n"
     ]
    },
    {
     "name": "stdout",
     "output_type": "stream",
     "text": [
      "Parse auction.... https://sale.uslugi.io/sidp/4454\n"
     ]
    },
    {
     "name": "stderr",
     "output_type": "stream",
     "text": [
      "2022-12-22 16:31:10 [root] INFO: Parse auction.... https://sale.uslugi.io/sidp/4526\n"
     ]
    },
    {
     "name": "stdout",
     "output_type": "stream",
     "text": [
      "Parse auction.... https://sale.uslugi.io/sidp/4526\n"
     ]
    },
    {
     "name": "stderr",
     "output_type": "stream",
     "text": [
      "2022-12-22 16:31:10 [root] INFO: Parse auction.... https://sale.uslugi.io/sidp/4527\n"
     ]
    },
    {
     "name": "stdout",
     "output_type": "stream",
     "text": [
      "Parse auction.... https://sale.uslugi.io/sidp/4527\n"
     ]
    },
    {
     "name": "stderr",
     "output_type": "stream",
     "text": [
      "2022-12-22 16:31:11 [root] INFO: Parse auction.... https://sale.uslugi.io/sidp/4529\n"
     ]
    },
    {
     "name": "stdout",
     "output_type": "stream",
     "text": [
      "Parse auction.... https://sale.uslugi.io/sidp/4529\n"
     ]
    },
    {
     "name": "stderr",
     "output_type": "stream",
     "text": [
      "2022-12-22 16:31:11 [root] INFO: Parse auction.... https://sale.uslugi.io/sidp/4565\n"
     ]
    },
    {
     "name": "stdout",
     "output_type": "stream",
     "text": [
      "Parse auction.... https://sale.uslugi.io/sidp/4565\n"
     ]
    },
    {
     "name": "stderr",
     "output_type": "stream",
     "text": [
      "2022-12-22 16:31:13 [root] INFO: Parse auction.... https://sale.uslugi.io/sidp/4563\n"
     ]
    },
    {
     "name": "stdout",
     "output_type": "stream",
     "text": [
      "Parse auction.... https://sale.uslugi.io/sidp/4563\n"
     ]
    },
    {
     "name": "stderr",
     "output_type": "stream",
     "text": [
      "2022-12-22 16:31:16 [root] INFO: Parse auction.... https://sale.uslugi.io/sidp/4539\n"
     ]
    },
    {
     "name": "stdout",
     "output_type": "stream",
     "text": [
      "Parse auction.... https://sale.uslugi.io/sidp/4539\n"
     ]
    },
    {
     "name": "stderr",
     "output_type": "stream",
     "text": [
      "2022-12-22 16:31:16 [root] INFO: Parse auction.... https://sale.uslugi.io/sidp/4589\n"
     ]
    },
    {
     "name": "stdout",
     "output_type": "stream",
     "text": [
      "Parse auction.... https://sale.uslugi.io/sidp/4589\n"
     ]
    },
    {
     "name": "stderr",
     "output_type": "stream",
     "text": [
      "2022-12-22 16:31:18 [root] INFO: Parse auction.... https://sale.uslugi.io/sidp/4538\n"
     ]
    },
    {
     "name": "stdout",
     "output_type": "stream",
     "text": [
      "Parse auction.... https://sale.uslugi.io/sidp/4538\n"
     ]
    },
    {
     "name": "stderr",
     "output_type": "stream",
     "text": [
      "2022-12-22 16:31:20 [root] INFO: Parse auction.... https://sale.uslugi.io/sidp/4567\n"
     ]
    },
    {
     "name": "stdout",
     "output_type": "stream",
     "text": [
      "Parse auction.... https://sale.uslugi.io/sidp/4567\n"
     ]
    },
    {
     "name": "stderr",
     "output_type": "stream",
     "text": [
      "2022-12-22 16:31:22 [root] INFO: Parse auction.... https://sale.uslugi.io/sidp/4637\n",
      "2022-12-22 16:31:22 [root] INFO: Parse auction.... https://sale.uslugi.io/sidp/4638\n",
      "2022-12-22 16:31:22 [root] INFO: Parse auction.... https://sale.uslugi.io/sidp/4528\n"
     ]
    },
    {
     "name": "stdout",
     "output_type": "stream",
     "text": [
      "Parse auction.... https://sale.uslugi.io/sidp/4637\n",
      "Parse auction.... https://sale.uslugi.io/sidp/4638\n",
      "Parse auction.... https://sale.uslugi.io/sidp/4528\n"
     ]
    },
    {
     "name": "stderr",
     "output_type": "stream",
     "text": [
      "2022-12-22 16:31:22 [root] INFO: Parse auction.... https://sale.uslugi.io/sidp/4599\n"
     ]
    },
    {
     "name": "stdout",
     "output_type": "stream",
     "text": [
      "Parse auction.... https://sale.uslugi.io/sidp/4599\n"
     ]
    },
    {
     "name": "stderr",
     "output_type": "stream",
     "text": [
      "2022-12-22 16:31:25 [root] INFO: Parse auction.... https://sale.uslugi.io/sidp/4636\n",
      "2022-12-22 16:31:25 [root] INFO: Parse auction.... https://sale.uslugi.io/sidp/4640\n",
      "2022-12-22 16:31:25 [root] INFO: Parse auction.... https://sale.uslugi.io/sidp/4642\n",
      "2022-12-22 16:31:25 [scrapy.extensions.logstats] INFO: Crawled 924 pages (at 64 pages/min), scraped 907 items (at 63 items/min)\n",
      "2022-12-22 16:31:25 [root] INFO: Parse auction.... https://sale.uslugi.io/sidp/4643\n",
      "2022-12-22 16:31:25 [root] INFO: Parse auction.... https://sale.uslugi.io/sidp/4644\n",
      "2022-12-22 16:31:25 [root] INFO: Parse auction.... https://sale.uslugi.io/sidp/4718\n",
      "2022-12-22 16:31:25 [root] INFO: Parse auction.... https://sale.uslugi.io/sidp/4645\n",
      "2022-12-22 16:31:25 [root] INFO: Parse auction.... https://sale.uslugi.io/sidp/4639\n",
      "2022-12-22 16:31:25 [root] INFO: Parse auction.... https://sale.uslugi.io/sidp/4724\n",
      "2022-12-22 16:31:25 [root] INFO: Parse auction.... https://sale.uslugi.io/sidp/4641\n",
      "2022-12-22 16:31:25 [root] INFO: Parse auction.... https://sale.uslugi.io/sidp/4723\n",
      "2022-12-22 16:31:25 [root] INFO: Parse auction.... https://sale.uslugi.io/sidp/4727\n",
      "2022-12-22 16:31:25 [root] INFO: Parse auction.... https://sale.uslugi.io/sidp/4721\n"
     ]
    },
    {
     "name": "stdout",
     "output_type": "stream",
     "text": [
      "Parse auction.... https://sale.uslugi.io/sidp/4636\n",
      "Parse auction.... https://sale.uslugi.io/sidp/4640\n",
      "Parse auction.... https://sale.uslugi.io/sidp/4642\n",
      "Parse auction.... https://sale.uslugi.io/sidp/4643\n",
      "Parse auction.... https://sale.uslugi.io/sidp/4644\n",
      "Parse auction.... https://sale.uslugi.io/sidp/4718\n",
      "Parse auction.... https://sale.uslugi.io/sidp/4645\n",
      "Parse auction.... https://sale.uslugi.io/sidp/4639\n",
      "Parse auction.... https://sale.uslugi.io/sidp/4724\n",
      "Parse auction.... https://sale.uslugi.io/sidp/4641\n",
      "Parse auction.... https://sale.uslugi.io/sidp/4723\n",
      "Parse auction.... https://sale.uslugi.io/sidp/4727\n",
      "Parse auction.... https://sale.uslugi.io/sidp/4721\n"
     ]
    },
    {
     "name": "stderr",
     "output_type": "stream",
     "text": [
      "2022-12-22 16:31:27 [root] INFO: Parse auction.... https://sale.uslugi.io/sidp/4722\n"
     ]
    },
    {
     "name": "stdout",
     "output_type": "stream",
     "text": [
      "Parse auction.... https://sale.uslugi.io/sidp/4722\n"
     ]
    },
    {
     "name": "stderr",
     "output_type": "stream",
     "text": [
      "2022-12-22 16:31:29 [root] INFO: Parse auction.... https://sale.uslugi.io/sidp/4738\n"
     ]
    },
    {
     "name": "stdout",
     "output_type": "stream",
     "text": [
      "Parse auction.... https://sale.uslugi.io/sidp/4738\n"
     ]
    },
    {
     "name": "stderr",
     "output_type": "stream",
     "text": [
      "2022-12-22 16:31:29 [root] INFO: Parse auction.... https://sale.uslugi.io/sidp/4739\n"
     ]
    },
    {
     "name": "stdout",
     "output_type": "stream",
     "text": [
      "Parse auction.... https://sale.uslugi.io/sidp/4739\n"
     ]
    },
    {
     "name": "stderr",
     "output_type": "stream",
     "text": [
      "2022-12-22 16:31:31 [root] INFO: Parse auction.... https://sale.uslugi.io/sidp/4732\n"
     ]
    },
    {
     "name": "stdout",
     "output_type": "stream",
     "text": [
      "ERROR No pdf file provided\n",
      "Parse auction.... https://sale.uslugi.io/sidp/4732\n"
     ]
    },
    {
     "name": "stderr",
     "output_type": "stream",
     "text": [
      "2022-12-22 16:31:33 [root] INFO: Parse auction.... https://sale.uslugi.io/sidp/4740\n"
     ]
    },
    {
     "name": "stdout",
     "output_type": "stream",
     "text": [
      "Parse auction.... https://sale.uslugi.io/sidp/4740\n"
     ]
    },
    {
     "name": "stderr",
     "output_type": "stream",
     "text": [
      "2022-12-22 16:31:34 [root] INFO: Parse auction.... https://sale.uslugi.io/sidp/4798\n"
     ]
    },
    {
     "name": "stdout",
     "output_type": "stream",
     "text": [
      "ERROR No pdf file provided\n",
      "Parse auction.... https://sale.uslugi.io/sidp/4798\n"
     ]
    },
    {
     "name": "stderr",
     "output_type": "stream",
     "text": [
      "2022-12-22 16:31:34 [root] INFO: Parse auction.... https://sale.uslugi.io/sidp/4817\n"
     ]
    },
    {
     "name": "stdout",
     "output_type": "stream",
     "text": [
      "Parse auction.... https://sale.uslugi.io/sidp/4817\n"
     ]
    },
    {
     "name": "stderr",
     "output_type": "stream",
     "text": [
      "2022-12-22 16:31:35 [root] INFO: Parse auction.... https://sale.uslugi.io/sidp/4799\n"
     ]
    },
    {
     "name": "stdout",
     "output_type": "stream",
     "text": [
      "Parse auction.... https://sale.uslugi.io/sidp/4799\n"
     ]
    },
    {
     "name": "stderr",
     "output_type": "stream",
     "text": [
      "2022-12-22 16:31:36 [root] INFO: Parse auction.... https://sale.uslugi.io/sidp/4846\n",
      "2022-12-22 16:31:36 [root] INFO: Parse auction.... https://sale.uslugi.io/sidp/4844\n",
      "2022-12-22 16:31:36 [root] INFO: Parse auction.... https://sale.uslugi.io/sidp/4850\n"
     ]
    },
    {
     "name": "stdout",
     "output_type": "stream",
     "text": [
      "Parse auction.... https://sale.uslugi.io/sidp/4846\n",
      "Parse auction.... https://sale.uslugi.io/sidp/4844\n",
      "Parse auction.... https://sale.uslugi.io/sidp/4850\n"
     ]
    },
    {
     "name": "stderr",
     "output_type": "stream",
     "text": [
      "2022-12-22 16:31:37 [root] INFO: Parse auction.... https://sale.uslugi.io/sidp/4851\n"
     ]
    },
    {
     "name": "stdout",
     "output_type": "stream",
     "text": [
      "Parse auction.... https://sale.uslugi.io/sidp/4851\n"
     ]
    },
    {
     "name": "stderr",
     "output_type": "stream",
     "text": [
      "2022-12-22 16:31:39 [root] INFO: Parse auction.... https://sale.uslugi.io/sidp/4818\n"
     ]
    },
    {
     "name": "stdout",
     "output_type": "stream",
     "text": [
      "Parse auction.... https://sale.uslugi.io/sidp/4818\n"
     ]
    },
    {
     "name": "stderr",
     "output_type": "stream",
     "text": [
      "2022-12-22 16:31:40 [root] INFO: Parse auction.... https://sale.uslugi.io/sidp/4845\n",
      "2022-12-22 16:31:40 [root] INFO: Parse auction.... https://sale.uslugi.io/sidp/4852\n"
     ]
    },
    {
     "name": "stdout",
     "output_type": "stream",
     "text": [
      "Parse auction.... https://sale.uslugi.io/sidp/4845\n",
      "Parse auction.... https://sale.uslugi.io/sidp/4852\n"
     ]
    },
    {
     "name": "stderr",
     "output_type": "stream",
     "text": [
      "2022-12-22 16:31:42 [root] INFO: Parse auction.... https://sale.uslugi.io/sidp/4853\n"
     ]
    },
    {
     "name": "stdout",
     "output_type": "stream",
     "text": [
      "Parse auction.... https://sale.uslugi.io/sidp/4853\n"
     ]
    },
    {
     "name": "stderr",
     "output_type": "stream",
     "text": [
      "2022-12-22 16:31:43 [root] INFO: Parse auction.... https://sale.uslugi.io/sidp/4854\n"
     ]
    },
    {
     "name": "stdout",
     "output_type": "stream",
     "text": [
      "Parse auction.... https://sale.uslugi.io/sidp/4854\n"
     ]
    },
    {
     "name": "stderr",
     "output_type": "stream",
     "text": [
      "2022-12-22 16:31:46 [root] INFO: Parse auction.... https://sale.uslugi.io/sidp/4855\n"
     ]
    },
    {
     "name": "stdout",
     "output_type": "stream",
     "text": [
      "Parse auction.... https://sale.uslugi.io/sidp/4855\n"
     ]
    },
    {
     "name": "stderr",
     "output_type": "stream",
     "text": [
      "2022-12-22 16:31:48 [root] INFO: Parse auction.... https://sale.uslugi.io/sidp/4856\n"
     ]
    },
    {
     "name": "stdout",
     "output_type": "stream",
     "text": [
      "Parse auction.... https://sale.uslugi.io/sidp/4856\n"
     ]
    },
    {
     "name": "stderr",
     "output_type": "stream",
     "text": [
      "2022-12-22 16:31:49 [root] INFO: Parse auction.... https://sale.uslugi.io/sidp/4865\n"
     ]
    },
    {
     "name": "stdout",
     "output_type": "stream",
     "text": [
      "Parse auction.... https://sale.uslugi.io/sidp/4865\n"
     ]
    },
    {
     "name": "stderr",
     "output_type": "stream",
     "text": [
      "2022-12-22 16:31:50 [root] INFO: Parse auction.... https://sale.uslugi.io/sidp/4857\n"
     ]
    },
    {
     "name": "stdout",
     "output_type": "stream",
     "text": [
      "Parse auction.... https://sale.uslugi.io/sidp/4857\n"
     ]
    },
    {
     "name": "stderr",
     "output_type": "stream",
     "text": [
      "2022-12-22 16:31:51 [root] INFO: Parse auction.... https://sale.uslugi.io/sidp/4866\n"
     ]
    },
    {
     "name": "stdout",
     "output_type": "stream",
     "text": [
      "Parse auction.... https://sale.uslugi.io/sidp/4866\n"
     ]
    },
    {
     "name": "stderr",
     "output_type": "stream",
     "text": [
      "2022-12-22 16:31:52 [root] INFO: Parse auction.... https://sale.uslugi.io/sidp/4867\n"
     ]
    },
    {
     "name": "stdout",
     "output_type": "stream",
     "text": [
      "Parse auction.... https://sale.uslugi.io/sidp/4867\n"
     ]
    },
    {
     "name": "stderr",
     "output_type": "stream",
     "text": [
      "2022-12-22 16:31:53 [root] INFO: Parse auction.... https://sale.uslugi.io/sidp/4878\n"
     ]
    },
    {
     "name": "stdout",
     "output_type": "stream",
     "text": [
      "Parse auction.... https://sale.uslugi.io/sidp/4878\n"
     ]
    },
    {
     "name": "stderr",
     "output_type": "stream",
     "text": [
      "2022-12-22 16:31:53 [root] INFO: Parse auction.... https://sale.uslugi.io/sidp/4885\n"
     ]
    },
    {
     "name": "stdout",
     "output_type": "stream",
     "text": [
      "Parse auction.... https://sale.uslugi.io/sidp/4885\n"
     ]
    },
    {
     "name": "stderr",
     "output_type": "stream",
     "text": [
      "2022-12-22 16:31:54 [root] INFO: Parse auction.... https://sale.uslugi.io/sidp/4879\n"
     ]
    },
    {
     "name": "stdout",
     "output_type": "stream",
     "text": [
      "Parse auction.... https://sale.uslugi.io/sidp/4879\n"
     ]
    },
    {
     "name": "stderr",
     "output_type": "stream",
     "text": [
      "2022-12-22 16:31:55 [root] INFO: Parse auction.... https://sale.uslugi.io/sidp/4880\n"
     ]
    },
    {
     "name": "stdout",
     "output_type": "stream",
     "text": [
      "Parse auction.... https://sale.uslugi.io/sidp/4880\n"
     ]
    },
    {
     "name": "stderr",
     "output_type": "stream",
     "text": [
      "2022-12-22 16:31:55 [root] INFO: Parse auction.... https://sale.uslugi.io/sidp/4886\n"
     ]
    },
    {
     "name": "stdout",
     "output_type": "stream",
     "text": [
      "Parse auction.... https://sale.uslugi.io/sidp/4886\n"
     ]
    },
    {
     "name": "stderr",
     "output_type": "stream",
     "text": [
      "2022-12-22 16:31:56 [root] INFO: Parse auction.... https://sale.uslugi.io/sidp/4887\n"
     ]
    },
    {
     "name": "stdout",
     "output_type": "stream",
     "text": [
      "Parse auction.... https://sale.uslugi.io/sidp/4887\n"
     ]
    },
    {
     "name": "stderr",
     "output_type": "stream",
     "text": [
      "2022-12-22 16:31:57 [root] INFO: Parse auction.... https://sale.uslugi.io/sidp/5010\n",
      "2022-12-22 16:31:57 [root] INFO: Parse auction.... https://sale.uslugi.io/sidp/5012\n",
      "2022-12-22 16:31:57 [root] INFO: Parse auction.... https://sale.uslugi.io/sidp/5011\n",
      "2022-12-22 16:31:57 [root] INFO: Parse auction.... https://sale.uslugi.io/sidp/5015\n",
      "2022-12-22 16:31:57 [root] INFO: Parse auction.... https://sale.uslugi.io/sidp/5013\n",
      "2022-12-22 16:31:57 [root] INFO: Parse auction.... https://sale.uslugi.io/sidp/5014\n",
      "2022-12-22 16:31:57 [root] INFO: Parse auction.... https://sale.uslugi.io/sidp/5024\n"
     ]
    },
    {
     "name": "stdout",
     "output_type": "stream",
     "text": [
      "Parse auction.... https://sale.uslugi.io/sidp/5010\n",
      "Parse auction.... https://sale.uslugi.io/sidp/5012\n",
      "Parse auction.... https://sale.uslugi.io/sidp/5011\n",
      "Parse auction.... https://sale.uslugi.io/sidp/5015\n",
      "Parse auction.... https://sale.uslugi.io/sidp/5013\n",
      "Parse auction.... https://sale.uslugi.io/sidp/5014\n",
      "Parse auction.... https://sale.uslugi.io/sidp/5024\n"
     ]
    },
    {
     "name": "stderr",
     "output_type": "stream",
     "text": [
      "2022-12-22 16:31:58 [root] INFO: Parse auction.... https://sale.uslugi.io/sidp/5018\n",
      "2022-12-22 16:31:58 [root] INFO: Parse auction.... https://sale.uslugi.io/sidp/5019\n",
      "2022-12-22 16:31:58 [root] INFO: Parse auction.... https://sale.uslugi.io/sidp/5008\n",
      "2022-12-22 16:31:58 [root] INFO: Parse auction.... https://sale.uslugi.io/sidp/5020\n",
      "2022-12-22 16:31:58 [root] INFO: Parse auction.... https://sale.uslugi.io/sidp/5016\n",
      "2022-12-22 16:31:58 [root] INFO: Parse auction.... https://sale.uslugi.io/sidp/5017\n",
      "2022-12-22 16:31:58 [root] INFO: Parse auction.... https://sale.uslugi.io/sidp/5073\n",
      "2022-12-22 16:31:58 [root] INFO: Parse auction.... https://sale.uslugi.io/sidp/5074\n",
      "2022-12-22 16:31:58 [root] INFO: Parse auction.... https://sale.uslugi.io/sidp/5023\n",
      "2022-12-22 16:31:58 [root] INFO: Parse auction.... https://sale.uslugi.io/sidp/5009\n",
      "2022-12-22 16:31:58 [root] INFO: Parse auction.... https://sale.uslugi.io/sidp/5022\n",
      "2022-12-22 16:31:58 [root] INFO: Parse auction.... https://sale.uslugi.io/sidp/5021\n",
      "2022-12-22 16:31:58 [root] INFO: Parse auction.... https://sale.uslugi.io/sidp/5075\n",
      "2022-12-22 16:31:58 [root] INFO: Parse auction.... https://sale.uslugi.io/sidp/5076\n",
      "2022-12-22 16:31:58 [root] INFO: Parse auction.... https://sale.uslugi.io/sidp/5077\n",
      "2022-12-22 16:31:58 [root] INFO: Parse auction.... https://sale.uslugi.io/sidp/5078\n",
      "2022-12-22 16:31:58 [root] INFO: Parse auction.... https://sale.uslugi.io/sidp/5079\n",
      "2022-12-22 16:31:58 [root] INFO: Parse auction.... https://sale.uslugi.io/sidp/5082\n"
     ]
    },
    {
     "name": "stdout",
     "output_type": "stream",
     "text": [
      "Parse auction.... https://sale.uslugi.io/sidp/5018\n",
      "Parse auction.... https://sale.uslugi.io/sidp/5019\n",
      "Parse auction.... https://sale.uslugi.io/sidp/5008\n",
      "Parse auction.... https://sale.uslugi.io/sidp/5020\n",
      "Parse auction.... https://sale.uslugi.io/sidp/5016\n",
      "Parse auction.... https://sale.uslugi.io/sidp/5017\n",
      "Parse auction.... https://sale.uslugi.io/sidp/5073\n",
      "Parse auction.... https://sale.uslugi.io/sidp/5074\n",
      "Parse auction.... https://sale.uslugi.io/sidp/5023\n",
      "Parse auction.... https://sale.uslugi.io/sidp/5009\n",
      "Parse auction.... https://sale.uslugi.io/sidp/5022\n",
      "Parse auction.... https://sale.uslugi.io/sidp/5021\n",
      "Parse auction.... https://sale.uslugi.io/sidp/5075\n",
      "Parse auction.... https://sale.uslugi.io/sidp/5076\n",
      "Parse auction.... https://sale.uslugi.io/sidp/5077\n",
      "Parse auction.... https://sale.uslugi.io/sidp/5078\n",
      "Parse auction.... https://sale.uslugi.io/sidp/5079\n",
      "Parse auction.... https://sale.uslugi.io/sidp/5082\n"
     ]
    },
    {
     "name": "stderr",
     "output_type": "stream",
     "text": [
      "2022-12-22 16:31:58 [root] INFO: Parse auction.... https://sale.uslugi.io/sidp/5085\n",
      "2022-12-22 16:31:58 [root] INFO: Parse auction.... https://sale.uslugi.io/sidp/5088\n",
      "2022-12-22 16:31:58 [root] INFO: Parse auction.... https://sale.uslugi.io/sidp/5220\n",
      "2022-12-22 16:31:58 [root] INFO: Parse auction.... https://sale.uslugi.io/sidp/5092\n",
      "2022-12-22 16:31:58 [root] INFO: Parse auction.... https://sale.uslugi.io/sidp/5093\n",
      "2022-12-22 16:31:58 [root] INFO: Parse auction.... https://sale.uslugi.io/sidp/5222\n"
     ]
    },
    {
     "name": "stdout",
     "output_type": "stream",
     "text": [
      "Parse auction.... https://sale.uslugi.io/sidp/5085\n",
      "Parse auction.... https://sale.uslugi.io/sidp/5088\n",
      "Parse auction.... https://sale.uslugi.io/sidp/5220\n",
      "Parse auction.... https://sale.uslugi.io/sidp/5092\n",
      "Parse auction.... https://sale.uslugi.io/sidp/5093\n",
      "Parse auction.... https://sale.uslugi.io/sidp/5222\n"
     ]
    },
    {
     "name": "stderr",
     "output_type": "stream",
     "text": [
      "2022-12-22 16:31:59 [root] INFO: Parse auction.... https://sale.uslugi.io/sidp/5221\n"
     ]
    },
    {
     "name": "stdout",
     "output_type": "stream",
     "text": [
      "Parse auction.... https://sale.uslugi.io/sidp/5221\n"
     ]
    },
    {
     "name": "stderr",
     "output_type": "stream",
     "text": [
      "2022-12-22 16:32:00 [scrapy.extensions.feedexport] INFO: Stored json feed (978 items) in: exports/archive/export_detailed_SIDP-SHUMEN_2022-12-22 16:03:17.741684.json\n",
      "2022-12-22 16:32:00 [scrapy.statscollectors] INFO: Dumping Scrapy stats:\n",
      "{'downloader/request_bytes': 304304,\n",
      " 'downloader/request_count': 979,\n",
      " 'downloader/request_method_count/GET': 979,\n",
      " 'downloader/response_bytes': 2628073,\n",
      " 'downloader/response_count': 979,\n",
      " 'downloader/response_status_count/200': 979,\n",
      " 'elapsed_time_seconds': 638.608819,\n",
      " 'feedexport/success_count/FileFeedStorage': 1,\n",
      " 'finish_reason': 'finished',\n",
      " 'finish_time': datetime.datetime(2022, 12, 22, 14, 32, 0, 38470),\n",
      " 'httpcompression/response_bytes': 9261483,\n",
      " 'httpcompression/response_count': 979,\n",
      " 'item_scraped_count': 978,\n",
      " 'log_count/DEBUG': 2,\n",
      " 'log_count/INFO': 996,\n",
      " 'log_count/WARNING': 2551,\n",
      " 'memusage/max': 356409344,\n",
      " 'memusage/startup': 207982592,\n",
      " 'request_depth_max': 1,\n",
      " 'response_received_count': 979,\n",
      " 'scheduler/dequeued': 979,\n",
      " 'scheduler/dequeued/memory': 979,\n",
      " 'scheduler/enqueued': 979,\n",
      " 'scheduler/enqueued/memory': 979,\n",
      " 'start_time': datetime.datetime(2022, 12, 22, 14, 21, 21, 429651)}\n",
      "2022-12-22 16:32:00 [numexpr.utils] INFO: Note: NumExpr detected 10 cores but \"NUMEXPR_MAX_THREADS\" not set, so enforcing safe limit of 8.\n",
      "2022-12-22 16:32:00 [numexpr.utils] INFO: NumExpr defaulting to 8 threads.\n"
     ]
    }
   ],
   "source": [
    "crawl_page=True\n",
    "load_all=True\n",
    "crawl_individual_url=True\n",
    "\n",
    "if crawl_page is True:\n",
    "    list_all = crawler_table_page(url=start_urls_dict[dp_name], load_all=load_all)\n",
    "else: \n",
    "    pass\n",
    "\n",
    "if crawl_individual_url == True:\n",
    "    latest_file, data =get_latest_file(PATH=os.path.join(os.getcwd(),'exports/archive'),type_='json',aux=f'export_{GLOBAL_NAME}')\n",
    "    extracted_urls = [k['url'] for k in data]\n",
    "    \n",
    "    process = CrawlerProcess()\n",
    "    process.crawl(WoodSpider)\n",
    "    process.start()\n",
    "    \n",
    "    data = combine_all_table_data(PATH=os.path.join(os.getcwd(),'exports/archive')\n",
    "                                        ,type_='json'\n",
    "                                        ,GLOBAL_NAME=GLOBAL_NAME)\n",
    "    \n",
    "    clean_data = transform_clean_data(data, GLOBAL_NAME=GLOBAL_NAME)\n",
    "    \n"
   ]
  },
  {
   "cell_type": "code",
   "execution_count": 14,
   "id": "0b4ea8ba",
   "metadata": {},
   "outputs": [
    {
     "name": "stdout",
     "output_type": "stream",
     "text": [
      "Extreme values for  [%увеличение]: 7\n"
     ]
    }
   ],
   "source": [
    "class TestsCleanData(object):\n",
    "    \n",
    "    def __init__(self,data_frame):\n",
    "        self.clean_data=data_frame\n",
    "    \n",
    "    def to_zero(self, value):\n",
    "        if isinstance(value,str):\n",
    "            return 0\n",
    "        else: \n",
    "            return value\n",
    "    \n",
    "    def run(self):\n",
    "        clean_data = self.clean_data.copy()\n",
    "        if len(clean_data['url'])!= len(clean_data['url'].unique()):\n",
    "            print('Repeating entries for [url]')\n",
    "\n",
    "        if np.max(clean_data['%увеличение'])>=2:\n",
    "            print(f'Extreme values for  [%увеличение]: {len(clean_data[clean_data[\"%увеличение\"]>=2])}')    \n",
    "\n",
    "        if np.sum(clean_data.apply(lambda x: 1 if x['Договорена цена (лв.)'] < x['Втора цена'] else 0,axis=1)) != 0:\n",
    "            print('Instances where [Договорена цена (лв.)] < [Втора цена]')  \n",
    "\n",
    "        if np.sum(clean_data.apply(lambda x: 1 if x['Договорена цена (лв.)'] < x['Начална цена'] else 0,axis=1)) != 0:\n",
    "            print('Instances where [Договорена цена (лв.)] < [Начална цена]')  \n",
    "\n",
    "        if np.sum(clean_data.apply(lambda x: 1 if (np.isnan(self.to_zero(x['Първо място']))==False \\\n",
    "                                          and np.isnan(self.to_zero(x['Договорена цена (лв.)']))==True) \\\n",
    "                                   or (np.isnan(self.to_zero(x['Първо място']))==True \\\n",
    "                                       and np.isnan(self.to_zero(x['Договорена цена (лв.)']))==False) else 0,axis=1)):\n",
    "            print('Instances with issues in [Първо място] ~ [Договорена цена (лв.)]')          \n",
    "\n",
    "cd = TestsCleanData(data_frame=clean_data)\n",
    "cd.run()\n",
    "    \n"
   ]
  },
  {
   "cell_type": "code",
   "execution_count": null,
   "id": "25a37ddb",
   "metadata": {},
   "outputs": [],
   "source": []
  }
 ],
 "metadata": {
  "kernelspec": {
   "display_name": "Python 3",
   "language": "python",
   "name": "python3"
  },
  "language_info": {
   "codemirror_mode": {
    "name": "ipython",
    "version": 3
   },
   "file_extension": ".py",
   "mimetype": "text/x-python",
   "name": "python",
   "nbconvert_exporter": "python",
   "pygments_lexer": "ipython3",
   "version": "3.8.8"
  }
 },
 "nbformat": 4,
 "nbformat_minor": 5
}
